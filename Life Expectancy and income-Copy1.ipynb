{
 "cells": [
  {
   "cell_type": "markdown",
   "id": "6bf67671",
   "metadata": {},
   "source": [
    "## The Life Expectancy and Income\n",
    "_by Mohammad Fazlan bin Harun_\n",
    "\n",
    "About the dataset:\n",
    "\n",
    "Data source : https://databank.worldbank.org/source/world-development-indicators\n",
    "\n",
    "Database: World Development Indicators  \n",
    "Countries: check all \"Countries\" (not All or Aggregates)  \n",
    "Series: Life expectancy at birth, total (years) [SP.DYN.LE00.IN]    \n",
    "          Population, total [SP.POP.TOTL]    \n",
    "        GDP per capita, PPP (current international $)(NY.GDP.PCAP.PP.CD)      \n",
    "Time:   check all years\n",
    "\n",
    "layout > orientation > popular > Orientation 4 ( Series on page, Time on Column, Country on Row)\n",
    "\n",
    "Life expectancy at birth, total (years)   \n",
    "-indicates the number of years a newborn infant would live if prevailing patterns of mortality at the time of its birth were to stay the same throughout its life.  \n",
    "-life expectancy at birth used here is the average number of years a newborn is expected to live if mortality patterns at the time of its birth remain constant in the future. It reflects the overall mortality level of a population, and summarizes the mortality pattern that prevails across all age groups in a given year.\n",
    "\n",
    "Population   \n",
    "-total is based on the de facto definition of population, which counts all residents regardless of legal status or citizenship. The values shown are mid-year estimates.\t\n",
    "\n",
    "GDP per capita, PPP (current international $)\t\n",
    "-this indicator provides per capita values for gross domestic product (GDP) expressed in current international dollars converted by purchasing power parity (PPP) conversion factor. \n",
    "GDP is the sum of gross value added by all resident producers in the country plus any product taxes and minus any subsidies not included in the value of the products."
   ]
  },
  {
   "cell_type": "code",
   "execution_count": 1,
   "id": "da52ea6a",
   "metadata": {},
   "outputs": [
    {
     "data": {
      "text/html": [
       "        <script type=\"text/javascript\">\n",
       "        window.PlotlyConfig = {MathJaxConfig: 'local'};\n",
       "        if (window.MathJax) {MathJax.Hub.Config({SVG: {font: \"STIX-Web\"}});}\n",
       "        if (typeof require !== 'undefined') {\n",
       "        require.undef(\"plotly\");\n",
       "        requirejs.config({\n",
       "            paths: {\n",
       "                'plotly': ['https://cdn.plot.ly/plotly-2.4.1.min']\n",
       "            }\n",
       "        });\n",
       "        require(['plotly'], function(Plotly) {\n",
       "            window._Plotly = Plotly;\n",
       "        });\n",
       "        }\n",
       "        </script>\n",
       "        "
      ]
     },
     "metadata": {},
     "output_type": "display_data"
    }
   ],
   "source": [
    "#importing libraries\n",
    "\n",
    "import pandas as pd\n",
    "import numpy as np\n",
    "import matplotlib.pyplot as plt\n",
    "import seaborn as sns\n",
    "import warnings\n",
    "import pprint as pp\n",
    "\n",
    "import cufflinks as cf\n",
    "import plotly.offline\n",
    "cf.go_offline()\n",
    "cf.set_config_file(offline=False,\n",
    "world_readable=True)\n",
    "\n",
    "warnings.filterwarnings(\"ignore\")\n",
    "%matplotlib inline\n",
    "sns.set()"
   ]
  },
  {
   "cell_type": "code",
   "execution_count": 2,
   "id": "ca87b18d",
   "metadata": {
    "scrolled": true
   },
   "outputs": [
    {
     "data": {
      "text/html": [
       "<div>\n",
       "<style scoped>\n",
       "    .dataframe tbody tr th:only-of-type {\n",
       "        vertical-align: middle;\n",
       "    }\n",
       "\n",
       "    .dataframe tbody tr th {\n",
       "        vertical-align: top;\n",
       "    }\n",
       "\n",
       "    .dataframe thead th {\n",
       "        text-align: right;\n",
       "    }\n",
       "</style>\n",
       "<table border=\"1\" class=\"dataframe\">\n",
       "  <thead>\n",
       "    <tr style=\"text-align: right;\">\n",
       "      <th></th>\n",
       "      <th>Time</th>\n",
       "      <th>Time Code</th>\n",
       "      <th>Country Name</th>\n",
       "      <th>Country Code</th>\n",
       "      <th>Life expectancy at birth, total (years) [SP.DYN.LE00.IN]</th>\n",
       "      <th>Population, total [SP.POP.TOTL]</th>\n",
       "      <th>GDP per capita, PPP (current international $) [NY.GDP.PCAP.PP.CD]</th>\n",
       "    </tr>\n",
       "  </thead>\n",
       "  <tbody>\n",
       "    <tr>\n",
       "      <th>0</th>\n",
       "      <td>1960</td>\n",
       "      <td>YR1960</td>\n",
       "      <td>Afghanistan</td>\n",
       "      <td>AFG</td>\n",
       "      <td>32.446</td>\n",
       "      <td>8996967</td>\n",
       "      <td>..</td>\n",
       "    </tr>\n",
       "    <tr>\n",
       "      <th>1</th>\n",
       "      <td>1960</td>\n",
       "      <td>YR1960</td>\n",
       "      <td>Albania</td>\n",
       "      <td>ALB</td>\n",
       "      <td>62.283</td>\n",
       "      <td>1608800</td>\n",
       "      <td>..</td>\n",
       "    </tr>\n",
       "    <tr>\n",
       "      <th>2</th>\n",
       "      <td>1960</td>\n",
       "      <td>YR1960</td>\n",
       "      <td>Algeria</td>\n",
       "      <td>DZA</td>\n",
       "      <td>46.141</td>\n",
       "      <td>11057864</td>\n",
       "      <td>..</td>\n",
       "    </tr>\n",
       "    <tr>\n",
       "      <th>3</th>\n",
       "      <td>1960</td>\n",
       "      <td>YR1960</td>\n",
       "      <td>American Samoa</td>\n",
       "      <td>ASM</td>\n",
       "      <td>..</td>\n",
       "      <td>20127</td>\n",
       "      <td>..</td>\n",
       "    </tr>\n",
       "    <tr>\n",
       "      <th>4</th>\n",
       "      <td>1960</td>\n",
       "      <td>YR1960</td>\n",
       "      <td>Andorra</td>\n",
       "      <td>AND</td>\n",
       "      <td>..</td>\n",
       "      <td>13410</td>\n",
       "      <td>..</td>\n",
       "    </tr>\n",
       "    <tr>\n",
       "      <th>5</th>\n",
       "      <td>1960</td>\n",
       "      <td>YR1960</td>\n",
       "      <td>Angola</td>\n",
       "      <td>AGO</td>\n",
       "      <td>37.524</td>\n",
       "      <td>5454938</td>\n",
       "      <td>..</td>\n",
       "    </tr>\n",
       "    <tr>\n",
       "      <th>6</th>\n",
       "      <td>1960</td>\n",
       "      <td>YR1960</td>\n",
       "      <td>Antigua and Barbuda</td>\n",
       "      <td>ATG</td>\n",
       "      <td>61.968</td>\n",
       "      <td>54132</td>\n",
       "      <td>..</td>\n",
       "    </tr>\n",
       "    <tr>\n",
       "      <th>7</th>\n",
       "      <td>1960</td>\n",
       "      <td>YR1960</td>\n",
       "      <td>Argentina</td>\n",
       "      <td>ARG</td>\n",
       "      <td>65.055</td>\n",
       "      <td>20481781</td>\n",
       "      <td>..</td>\n",
       "    </tr>\n",
       "    <tr>\n",
       "      <th>8</th>\n",
       "      <td>1960</td>\n",
       "      <td>YR1960</td>\n",
       "      <td>Armenia</td>\n",
       "      <td>ARM</td>\n",
       "      <td>65.972</td>\n",
       "      <td>1874119</td>\n",
       "      <td>..</td>\n",
       "    </tr>\n",
       "    <tr>\n",
       "      <th>9</th>\n",
       "      <td>1960</td>\n",
       "      <td>YR1960</td>\n",
       "      <td>Aruba</td>\n",
       "      <td>ABW</td>\n",
       "      <td>65.662</td>\n",
       "      <td>54208</td>\n",
       "      <td>..</td>\n",
       "    </tr>\n",
       "  </tbody>\n",
       "</table>\n",
       "</div>"
      ],
      "text/plain": [
       "   Time Time Code         Country Name Country Code  \\\n",
       "0  1960    YR1960          Afghanistan          AFG   \n",
       "1  1960    YR1960              Albania          ALB   \n",
       "2  1960    YR1960              Algeria          DZA   \n",
       "3  1960    YR1960       American Samoa          ASM   \n",
       "4  1960    YR1960              Andorra          AND   \n",
       "5  1960    YR1960               Angola          AGO   \n",
       "6  1960    YR1960  Antigua and Barbuda          ATG   \n",
       "7  1960    YR1960            Argentina          ARG   \n",
       "8  1960    YR1960              Armenia          ARM   \n",
       "9  1960    YR1960                Aruba          ABW   \n",
       "\n",
       "  Life expectancy at birth, total (years) [SP.DYN.LE00.IN]  \\\n",
       "0                                             32.446         \n",
       "1                                             62.283         \n",
       "2                                             46.141         \n",
       "3                                                 ..         \n",
       "4                                                 ..         \n",
       "5                                             37.524         \n",
       "6                                             61.968         \n",
       "7                                             65.055         \n",
       "8                                             65.972         \n",
       "9                                             65.662         \n",
       "\n",
       "  Population, total [SP.POP.TOTL]  \\\n",
       "0                         8996967   \n",
       "1                         1608800   \n",
       "2                        11057864   \n",
       "3                           20127   \n",
       "4                           13410   \n",
       "5                         5454938   \n",
       "6                           54132   \n",
       "7                        20481781   \n",
       "8                         1874119   \n",
       "9                           54208   \n",
       "\n",
       "  GDP per capita, PPP (current international $) [NY.GDP.PCAP.PP.CD]  \n",
       "0                                                 ..                 \n",
       "1                                                 ..                 \n",
       "2                                                 ..                 \n",
       "3                                                 ..                 \n",
       "4                                                 ..                 \n",
       "5                                                 ..                 \n",
       "6                                                 ..                 \n",
       "7                                                 ..                 \n",
       "8                                                 ..                 \n",
       "9                                                 ..                 "
      ]
     },
     "execution_count": 2,
     "metadata": {},
     "output_type": "execute_result"
    }
   ],
   "source": [
    "#loading data\n",
    "\n",
    "data = pd.read_csv('Data_WB_Life_Expectancy.csv')\n",
    "data.head(10)"
   ]
  },
  {
   "cell_type": "markdown",
   "id": "8198ae7a",
   "metadata": {},
   "source": [
    "We can see the GDP per capita column has a null values which we should handle later on."
   ]
  },
  {
   "cell_type": "code",
   "execution_count": 3,
   "id": "fab080fe",
   "metadata": {},
   "outputs": [
    {
     "name": "stdout",
     "output_type": "stream",
     "text": [
      "List of columns :\n"
     ]
    },
    {
     "data": {
      "text/plain": [
       "['Time',\n",
       " 'Time Code',\n",
       " 'Country Name',\n",
       " 'Country Code',\n",
       " 'Life expectancy at birth, total (years) [SP.DYN.LE00.IN]',\n",
       " 'Population, total [SP.POP.TOTL]',\n",
       " 'GDP per capita, PPP (current international $) [NY.GDP.PCAP.PP.CD]']"
      ]
     },
     "execution_count": 3,
     "metadata": {},
     "output_type": "execute_result"
    }
   ],
   "source": [
    "print('List of columns :')\n",
    "data.columns.to_list()"
   ]
  },
  {
   "cell_type": "code",
   "execution_count": 4,
   "id": "bfe53d66",
   "metadata": {},
   "outputs": [
    {
     "name": "stdout",
     "output_type": "stream",
     "text": [
      "There are 13454 rows and 7 columns in this dataset.\n"
     ]
    }
   ],
   "source": [
    "print(f'There are {data.shape[0]} rows and {data.shape[1]} columns in this dataset.')"
   ]
  },
  {
   "cell_type": "code",
   "execution_count": 5,
   "id": "8f7a2f6d",
   "metadata": {},
   "outputs": [
    {
     "data": {
      "text/html": [
       "<div>\n",
       "<style scoped>\n",
       "    .dataframe tbody tr th:only-of-type {\n",
       "        vertical-align: middle;\n",
       "    }\n",
       "\n",
       "    .dataframe tbody tr th {\n",
       "        vertical-align: top;\n",
       "    }\n",
       "\n",
       "    .dataframe thead th {\n",
       "        text-align: right;\n",
       "    }\n",
       "</style>\n",
       "<table border=\"1\" class=\"dataframe\">\n",
       "  <thead>\n",
       "    <tr style=\"text-align: right;\">\n",
       "      <th></th>\n",
       "      <th>Year</th>\n",
       "      <th>Time Code</th>\n",
       "      <th>Country Name</th>\n",
       "      <th>Country Code</th>\n",
       "      <th>Life_expectancy</th>\n",
       "      <th>Population</th>\n",
       "      <th>GDP_per_capita</th>\n",
       "    </tr>\n",
       "  </thead>\n",
       "  <tbody>\n",
       "    <tr>\n",
       "      <th>0</th>\n",
       "      <td>1960</td>\n",
       "      <td>YR1960</td>\n",
       "      <td>Afghanistan</td>\n",
       "      <td>AFG</td>\n",
       "      <td>32.446</td>\n",
       "      <td>8996967</td>\n",
       "      <td>..</td>\n",
       "    </tr>\n",
       "    <tr>\n",
       "      <th>1</th>\n",
       "      <td>1960</td>\n",
       "      <td>YR1960</td>\n",
       "      <td>Albania</td>\n",
       "      <td>ALB</td>\n",
       "      <td>62.283</td>\n",
       "      <td>1608800</td>\n",
       "      <td>..</td>\n",
       "    </tr>\n",
       "  </tbody>\n",
       "</table>\n",
       "</div>"
      ],
      "text/plain": [
       "   Year Time Code Country Name Country Code Life_expectancy Population  \\\n",
       "0  1960    YR1960  Afghanistan          AFG          32.446    8996967   \n",
       "1  1960    YR1960      Albania          ALB          62.283    1608800   \n",
       "\n",
       "  GDP_per_capita  \n",
       "0             ..  \n",
       "1             ..  "
      ]
     },
     "execution_count": 5,
     "metadata": {},
     "output_type": "execute_result"
    }
   ],
   "source": [
    "#renaming column \n",
    "\n",
    "data.rename(\n",
    "    columns={\n",
    "        'Time':'Year',\n",
    "        'GDP per capita, PPP (current international $) [NY.GDP.PCAP.PP.CD]':'GDP_per_capita',\n",
    "        'Population, total [SP.POP.TOTL]':'Population',\n",
    "        'Life expectancy at birth, total (years) [SP.DYN.LE00.IN]':'Life_expectancy'\n",
    "    },inplace=True)\n",
    "\n",
    "data.head(2)"
   ]
  },
  {
   "cell_type": "code",
   "execution_count": 6,
   "id": "415c3ef1",
   "metadata": {},
   "outputs": [
    {
     "name": "stdout",
     "output_type": "stream",
     "text": [
      "<class 'pandas.core.frame.DataFrame'>\n",
      "RangeIndex: 13454 entries, 0 to 13453\n",
      "Data columns (total 7 columns):\n",
      " #   Column           Non-Null Count  Dtype \n",
      "---  ------           --------------  ----- \n",
      " 0   Year             13454 non-null  int64 \n",
      " 1   Time Code        13454 non-null  object\n",
      " 2   Country Name     13454 non-null  object\n",
      " 3   Country Code     13454 non-null  object\n",
      " 4   Life_expectancy  13454 non-null  object\n",
      " 5   Population       13454 non-null  object\n",
      " 6   GDP_per_capita   13454 non-null  object\n",
      "dtypes: int64(1), object(6)\n",
      "memory usage: 735.9+ KB\n"
     ]
    }
   ],
   "source": [
    "data.info()"
   ]
  },
  {
   "cell_type": "markdown",
   "id": "6415cdfe",
   "metadata": {},
   "source": [
    "The life expectancy, population and GDP per capita column should have a numeric type of data instead of object. We need to change it to numeric data type later."
   ]
  },
  {
   "cell_type": "code",
   "execution_count": 7,
   "id": "13869059",
   "metadata": {},
   "outputs": [
    {
     "data": {
      "text/plain": [
       "Year               0\n",
       "Time Code          0\n",
       "Country Name       0\n",
       "Country Code       0\n",
       "Life_expectancy    0\n",
       "Population         0\n",
       "GDP_per_capita     0\n",
       "dtype: int64"
      ]
     },
     "execution_count": 7,
     "metadata": {},
     "output_type": "execute_result"
    }
   ],
   "source": [
    "#check for missing values\n",
    "\n",
    "data.isna().sum()"
   ]
  },
  {
   "cell_type": "markdown",
   "id": "4bb15a03",
   "metadata": {},
   "source": [
    "It is weird to see no missing values when we certainly know GDP per capita column has a missing values maybe the mising values is denotd by '..' ,let's check."
   ]
  },
  {
   "cell_type": "code",
   "execution_count": 8,
   "id": "3e2b9205",
   "metadata": {},
   "outputs": [
    {
     "data": {
      "text/plain": [
       "7684"
      ]
     },
     "execution_count": 8,
     "metadata": {},
     "output_type": "execute_result"
    }
   ],
   "source": [
    "((data['GDP_per_capita'])=='..').sum()"
   ]
  },
  {
   "cell_type": "code",
   "execution_count": 9,
   "id": "77e55b67",
   "metadata": {},
   "outputs": [
    {
     "data": {
      "text/plain": [
       "Year                  0\n",
       "Time Code             0\n",
       "Country Name          0\n",
       "Country Code          0\n",
       "Life_expectancy    1524\n",
       "Population          259\n",
       "GDP_per_capita     7684\n",
       "dtype: int64"
      ]
     },
     "execution_count": 9,
     "metadata": {},
     "output_type": "execute_result"
    }
   ],
   "source": [
    "(data=='..').sum()"
   ]
  },
  {
   "cell_type": "code",
   "execution_count": 10,
   "id": "df8faf1a",
   "metadata": {},
   "outputs": [
    {
     "data": {
      "text/plain": [
       "Year               0\n",
       "Time Code          0\n",
       "Country Name       0\n",
       "Country Code       0\n",
       "Life_expectancy    0\n",
       "Population         0\n",
       "GDP_per_capita     0\n",
       "dtype: int64"
      ]
     },
     "execution_count": 10,
     "metadata": {},
     "output_type": "execute_result"
    }
   ],
   "source": [
    "#now we know missing values is represented by '..', let delete them.\n",
    "\n",
    "data= data.replace(\"..\", np.nan)\n",
    "(data=='..').sum()"
   ]
  },
  {
   "cell_type": "code",
   "execution_count": 11,
   "id": "db09f3e0",
   "metadata": {},
   "outputs": [
    {
     "name": "stdout",
     "output_type": "stream",
     "text": [
      "<class 'pandas.core.frame.DataFrame'>\n",
      "RangeIndex: 13454 entries, 0 to 13453\n",
      "Data columns (total 7 columns):\n",
      " #   Column           Non-Null Count  Dtype  \n",
      "---  ------           --------------  -----  \n",
      " 0   Year             13454 non-null  int64  \n",
      " 1   Time Code        13454 non-null  object \n",
      " 2   Country Name     13454 non-null  object \n",
      " 3   Country Code     13454 non-null  object \n",
      " 4   Life_expectancy  11930 non-null  float64\n",
      " 5   Population       13195 non-null  float64\n",
      " 6   GDP_per_capita   5770 non-null   float64\n",
      "dtypes: float64(3), int64(1), object(3)\n",
      "memory usage: 735.9+ KB\n",
      "None\n"
     ]
    }
   ],
   "source": [
    "#change object datatype to numeric\n",
    "\n",
    "data= data.assign(\n",
    "    Population = pd.to_numeric(data.Population),\n",
    "    GDP_per_capita = pd.to_numeric(data.GDP_per_capita),\n",
    "    Life_expectancy = pd.to_numeric(data.Life_expectancy)\n",
    ")\n",
    "print(data.info())"
   ]
  },
  {
   "cell_type": "code",
   "execution_count": 12,
   "id": "9290786c",
   "metadata": {
    "scrolled": true
   },
   "outputs": [
    {
     "data": {
      "text/plain": [
       "Year                  0\n",
       "Time Code             0\n",
       "Country Name          0\n",
       "Country Code          0\n",
       "Life_expectancy    1524\n",
       "Population          259\n",
       "GDP_per_capita     7684\n",
       "dtype: int64"
      ]
     },
     "execution_count": 12,
     "metadata": {},
     "output_type": "execute_result"
    }
   ],
   "source": [
    "data.isnull().sum()"
   ]
  },
  {
   "cell_type": "code",
   "execution_count": 13,
   "id": "9bd4d09f",
   "metadata": {
    "scrolled": true
   },
   "outputs": [
    {
     "data": {
      "text/plain": [
       "Year               0\n",
       "Time Code          0\n",
       "Country Name       0\n",
       "Country Code       0\n",
       "Life_expectancy    0\n",
       "Population         0\n",
       "GDP_per_capita     0\n",
       "dtype: int64"
      ]
     },
     "execution_count": 13,
     "metadata": {},
     "output_type": "execute_result"
    }
   ],
   "source": [
    "data.dropna(inplace=True)\n",
    "data.isnull().sum()"
   ]
  },
  {
   "cell_type": "code",
   "execution_count": 14,
   "id": "2ac7bd6c",
   "metadata": {},
   "outputs": [
    {
     "data": {
      "text/html": [
       "<div>\n",
       "<style scoped>\n",
       "    .dataframe tbody tr th:only-of-type {\n",
       "        vertical-align: middle;\n",
       "    }\n",
       "\n",
       "    .dataframe tbody tr th {\n",
       "        vertical-align: top;\n",
       "    }\n",
       "\n",
       "    .dataframe thead th {\n",
       "        text-align: right;\n",
       "    }\n",
       "</style>\n",
       "<table border=\"1\" class=\"dataframe\">\n",
       "  <thead>\n",
       "    <tr style=\"text-align: right;\">\n",
       "      <th></th>\n",
       "      <th>Year</th>\n",
       "      <th>Country Name</th>\n",
       "      <th>Life_expectancy</th>\n",
       "      <th>Population (million)</th>\n",
       "      <th>GDP_per_capita (thousand)</th>\n",
       "    </tr>\n",
       "    <tr>\n",
       "      <th>Country Code</th>\n",
       "      <th></th>\n",
       "      <th></th>\n",
       "      <th></th>\n",
       "      <th></th>\n",
       "      <th></th>\n",
       "    </tr>\n",
       "  </thead>\n",
       "  <tbody>\n",
       "    <tr>\n",
       "      <th>ALB</th>\n",
       "      <td>1990</td>\n",
       "      <td>Albania</td>\n",
       "      <td>72.0</td>\n",
       "      <td>3.29</td>\n",
       "      <td>2.55</td>\n",
       "    </tr>\n",
       "    <tr>\n",
       "      <th>DZA</th>\n",
       "      <td>1990</td>\n",
       "      <td>Algeria</td>\n",
       "      <td>67.0</td>\n",
       "      <td>25.76</td>\n",
       "      <td>6.91</td>\n",
       "    </tr>\n",
       "    <tr>\n",
       "      <th>AGO</th>\n",
       "      <td>1990</td>\n",
       "      <td>Angola</td>\n",
       "      <td>45.0</td>\n",
       "      <td>11.85</td>\n",
       "      <td>3.28</td>\n",
       "    </tr>\n",
       "    <tr>\n",
       "      <th>ATG</th>\n",
       "      <td>1990</td>\n",
       "      <td>Antigua and Barbuda</td>\n",
       "      <td>72.0</td>\n",
       "      <td>0.06</td>\n",
       "      <td>11.59</td>\n",
       "    </tr>\n",
       "    <tr>\n",
       "      <th>ARG</th>\n",
       "      <td>1990</td>\n",
       "      <td>Argentina</td>\n",
       "      <td>72.0</td>\n",
       "      <td>32.62</td>\n",
       "      <td>7.19</td>\n",
       "    </tr>\n",
       "  </tbody>\n",
       "</table>\n",
       "</div>"
      ],
      "text/plain": [
       "              Year         Country Name  Life_expectancy  \\\n",
       "Country Code                                               \n",
       "ALB           1990              Albania             72.0   \n",
       "DZA           1990              Algeria             67.0   \n",
       "AGO           1990               Angola             45.0   \n",
       "ATG           1990  Antigua and Barbuda             72.0   \n",
       "ARG           1990            Argentina             72.0   \n",
       "\n",
       "              Population (million)  GDP_per_capita (thousand)  \n",
       "Country Code                                                   \n",
       "ALB                           3.29                       2.55  \n",
       "DZA                          25.76                       6.91  \n",
       "AGO                          11.85                       3.28  \n",
       "ATG                           0.06                      11.59  \n",
       "ARG                          32.62                       7.19  "
      ]
     },
     "execution_count": 14,
     "metadata": {},
     "output_type": "execute_result"
    }
   ],
   "source": [
    "data['Population (million)'] = round(data['Population']/1000000,2)\n",
    "data['GDP_per_capita (thousand)'] = round(data['GDP_per_capita']/1000,2)\n",
    "data['Life_expectancy'] = round((data['Life_expectancy']),0)\n",
    "data.drop(columns=['GDP_per_capita','Population','Time Code'],inplace=True)\n",
    "data.set_index('Country Code',inplace = True)\n",
    "data.head()"
   ]
  },
  {
   "cell_type": "code",
   "execution_count": 15,
   "id": "1de94b37",
   "metadata": {},
   "outputs": [
    {
     "data": {
      "text/html": [
       "<div>\n",
       "<style scoped>\n",
       "    .dataframe tbody tr th:only-of-type {\n",
       "        vertical-align: middle;\n",
       "    }\n",
       "\n",
       "    .dataframe tbody tr th {\n",
       "        vertical-align: top;\n",
       "    }\n",
       "\n",
       "    .dataframe thead th {\n",
       "        text-align: right;\n",
       "    }\n",
       "</style>\n",
       "<table border=\"1\" class=\"dataframe\">\n",
       "  <thead>\n",
       "    <tr style=\"text-align: right;\">\n",
       "      <th></th>\n",
       "      <th>Year</th>\n",
       "      <th>Country Name</th>\n",
       "      <th>Life_expectancy</th>\n",
       "      <th>Population (million)</th>\n",
       "      <th>GDP_per_capita (thousand)</th>\n",
       "    </tr>\n",
       "    <tr>\n",
       "      <th>Country Code</th>\n",
       "      <th></th>\n",
       "      <th></th>\n",
       "      <th></th>\n",
       "      <th></th>\n",
       "      <th></th>\n",
       "    </tr>\n",
       "  </thead>\n",
       "  <tbody>\n",
       "    <tr>\n",
       "      <th>AFG</th>\n",
       "      <td>2017</td>\n",
       "      <td>Afghanistan</td>\n",
       "      <td>64.0</td>\n",
       "      <td>36.30</td>\n",
       "      <td>2.06</td>\n",
       "    </tr>\n",
       "    <tr>\n",
       "      <th>ALB</th>\n",
       "      <td>2017</td>\n",
       "      <td>Albania</td>\n",
       "      <td>78.0</td>\n",
       "      <td>2.87</td>\n",
       "      <td>12.77</td>\n",
       "    </tr>\n",
       "    <tr>\n",
       "      <th>DZA</th>\n",
       "      <td>2017</td>\n",
       "      <td>Algeria</td>\n",
       "      <td>76.0</td>\n",
       "      <td>41.39</td>\n",
       "      <td>11.74</td>\n",
       "    </tr>\n",
       "    <tr>\n",
       "      <th>AGO</th>\n",
       "      <td>2017</td>\n",
       "      <td>Angola</td>\n",
       "      <td>60.0</td>\n",
       "      <td>29.82</td>\n",
       "      <td>7.31</td>\n",
       "    </tr>\n",
       "    <tr>\n",
       "      <th>ATG</th>\n",
       "      <td>2017</td>\n",
       "      <td>Antigua and Barbuda</td>\n",
       "      <td>77.0</td>\n",
       "      <td>0.10</td>\n",
       "      <td>19.84</td>\n",
       "    </tr>\n",
       "  </tbody>\n",
       "</table>\n",
       "</div>"
      ],
      "text/plain": [
       "              Year         Country Name  Life_expectancy  \\\n",
       "Country Code                                               \n",
       "AFG           2017          Afghanistan             64.0   \n",
       "ALB           2017              Albania             78.0   \n",
       "DZA           2017              Algeria             76.0   \n",
       "AGO           2017               Angola             60.0   \n",
       "ATG           2017  Antigua and Barbuda             77.0   \n",
       "\n",
       "              Population (million)  GDP_per_capita (thousand)  \n",
       "Country Code                                                   \n",
       "AFG                          36.30                       2.06  \n",
       "ALB                           2.87                      12.77  \n",
       "DZA                          41.39                      11.74  \n",
       "AGO                          29.82                       7.31  \n",
       "ATG                           0.10                      19.84  "
      ]
     },
     "execution_count": 15,
     "metadata": {},
     "output_type": "execute_result"
    }
   ],
   "source": [
    "# let select latest year data to analyze\n",
    "\n",
    "df = data[(data['Year'] == 2017)]\n",
    "df.head()"
   ]
  },
  {
   "cell_type": "code",
   "execution_count": 16,
   "id": "0d8e2cb0",
   "metadata": {},
   "outputs": [
    {
     "name": "stdout",
     "output_type": "stream",
     "text": [
      "<class 'pandas.core.frame.DataFrame'>\n",
      "Index: 184 entries, AFG to ZWE\n",
      "Data columns (total 5 columns):\n",
      " #   Column                     Non-Null Count  Dtype  \n",
      "---  ------                     --------------  -----  \n",
      " 0   Year                       184 non-null    int64  \n",
      " 1   Country Name               184 non-null    object \n",
      " 2   Life_expectancy            184 non-null    float64\n",
      " 3   Population (million)       184 non-null    float64\n",
      " 4   GDP_per_capita (thousand)  184 non-null    float64\n",
      "dtypes: float64(3), int64(1), object(1)\n",
      "memory usage: 8.6+ KB\n"
     ]
    }
   ],
   "source": [
    "df.info()"
   ]
  },
  {
   "cell_type": "code",
   "execution_count": 17,
   "id": "5ee8ce0b",
   "metadata": {},
   "outputs": [
    {
     "data": {
      "text/html": [
       "<div>\n",
       "<style scoped>\n",
       "    .dataframe tbody tr th:only-of-type {\n",
       "        vertical-align: middle;\n",
       "    }\n",
       "\n",
       "    .dataframe tbody tr th {\n",
       "        vertical-align: top;\n",
       "    }\n",
       "\n",
       "    .dataframe thead th {\n",
       "        text-align: right;\n",
       "    }\n",
       "</style>\n",
       "<table border=\"1\" class=\"dataframe\">\n",
       "  <thead>\n",
       "    <tr style=\"text-align: right;\">\n",
       "      <th></th>\n",
       "      <th>Year</th>\n",
       "      <th>Country Name</th>\n",
       "      <th>Life_expectancy</th>\n",
       "      <th>Population (million)</th>\n",
       "      <th>GDP_per_capita (thousand)</th>\n",
       "      <th>log_gdp</th>\n",
       "    </tr>\n",
       "    <tr>\n",
       "      <th>Country Code</th>\n",
       "      <th></th>\n",
       "      <th></th>\n",
       "      <th></th>\n",
       "      <th></th>\n",
       "      <th></th>\n",
       "      <th></th>\n",
       "    </tr>\n",
       "  </thead>\n",
       "  <tbody>\n",
       "    <tr>\n",
       "      <th>AFG</th>\n",
       "      <td>2017</td>\n",
       "      <td>Afghanistan</td>\n",
       "      <td>64.0</td>\n",
       "      <td>36.30</td>\n",
       "      <td>2.06</td>\n",
       "      <td>0.72</td>\n",
       "    </tr>\n",
       "    <tr>\n",
       "      <th>ALB</th>\n",
       "      <td>2017</td>\n",
       "      <td>Albania</td>\n",
       "      <td>78.0</td>\n",
       "      <td>2.87</td>\n",
       "      <td>12.77</td>\n",
       "      <td>2.55</td>\n",
       "    </tr>\n",
       "    <tr>\n",
       "      <th>DZA</th>\n",
       "      <td>2017</td>\n",
       "      <td>Algeria</td>\n",
       "      <td>76.0</td>\n",
       "      <td>41.39</td>\n",
       "      <td>11.74</td>\n",
       "      <td>2.46</td>\n",
       "    </tr>\n",
       "    <tr>\n",
       "      <th>AGO</th>\n",
       "      <td>2017</td>\n",
       "      <td>Angola</td>\n",
       "      <td>60.0</td>\n",
       "      <td>29.82</td>\n",
       "      <td>7.31</td>\n",
       "      <td>1.99</td>\n",
       "    </tr>\n",
       "    <tr>\n",
       "      <th>ATG</th>\n",
       "      <td>2017</td>\n",
       "      <td>Antigua and Barbuda</td>\n",
       "      <td>77.0</td>\n",
       "      <td>0.10</td>\n",
       "      <td>19.84</td>\n",
       "      <td>2.99</td>\n",
       "    </tr>\n",
       "    <tr>\n",
       "      <th>ARG</th>\n",
       "      <td>2017</td>\n",
       "      <td>Argentina</td>\n",
       "      <td>76.0</td>\n",
       "      <td>44.04</td>\n",
       "      <td>23.60</td>\n",
       "      <td>3.16</td>\n",
       "    </tr>\n",
       "    <tr>\n",
       "      <th>ARM</th>\n",
       "      <td>2017</td>\n",
       "      <td>Armenia</td>\n",
       "      <td>75.0</td>\n",
       "      <td>2.94</td>\n",
       "      <td>12.12</td>\n",
       "      <td>2.49</td>\n",
       "    </tr>\n",
       "    <tr>\n",
       "      <th>ABW</th>\n",
       "      <td>2017</td>\n",
       "      <td>Aruba</td>\n",
       "      <td>76.0</td>\n",
       "      <td>0.11</td>\n",
       "      <td>38.90</td>\n",
       "      <td>3.66</td>\n",
       "    </tr>\n",
       "    <tr>\n",
       "      <th>AUS</th>\n",
       "      <td>2017</td>\n",
       "      <td>Australia</td>\n",
       "      <td>82.0</td>\n",
       "      <td>24.60</td>\n",
       "      <td>48.40</td>\n",
       "      <td>3.88</td>\n",
       "    </tr>\n",
       "    <tr>\n",
       "      <th>AUT</th>\n",
       "      <td>2017</td>\n",
       "      <td>Austria</td>\n",
       "      <td>82.0</td>\n",
       "      <td>8.80</td>\n",
       "      <td>54.17</td>\n",
       "      <td>3.99</td>\n",
       "    </tr>\n",
       "  </tbody>\n",
       "</table>\n",
       "</div>"
      ],
      "text/plain": [
       "              Year         Country Name  Life_expectancy  \\\n",
       "Country Code                                               \n",
       "AFG           2017          Afghanistan             64.0   \n",
       "ALB           2017              Albania             78.0   \n",
       "DZA           2017              Algeria             76.0   \n",
       "AGO           2017               Angola             60.0   \n",
       "ATG           2017  Antigua and Barbuda             77.0   \n",
       "ARG           2017            Argentina             76.0   \n",
       "ARM           2017              Armenia             75.0   \n",
       "ABW           2017                Aruba             76.0   \n",
       "AUS           2017            Australia             82.0   \n",
       "AUT           2017              Austria             82.0   \n",
       "\n",
       "              Population (million)  GDP_per_capita (thousand)  log_gdp  \n",
       "Country Code                                                            \n",
       "AFG                          36.30                       2.06     0.72  \n",
       "ALB                           2.87                      12.77     2.55  \n",
       "DZA                          41.39                      11.74     2.46  \n",
       "AGO                          29.82                       7.31     1.99  \n",
       "ATG                           0.10                      19.84     2.99  \n",
       "ARG                          44.04                      23.60     3.16  \n",
       "ARM                           2.94                      12.12     2.49  \n",
       "ABW                           0.11                      38.90     3.66  \n",
       "AUS                          24.60                      48.40     3.88  \n",
       "AUT                           8.80                      54.17     3.99  "
      ]
     },
     "execution_count": 17,
     "metadata": {},
     "output_type": "execute_result"
    }
   ],
   "source": [
    "# Data transformed by taking the natural logarithm, differences in natural logs show percentage differences.\n",
    "df[\"log_gdp\"] = round(np.log(df[\"GDP_per_capita (thousand)\"]),2)\n",
    "df.head(10)"
   ]
  },
  {
   "cell_type": "code",
   "execution_count": 18,
   "id": "cb32f33c",
   "metadata": {},
   "outputs": [
    {
     "data": {
      "text/html": [
       "<div>\n",
       "<style scoped>\n",
       "    .dataframe tbody tr th:only-of-type {\n",
       "        vertical-align: middle;\n",
       "    }\n",
       "\n",
       "    .dataframe tbody tr th {\n",
       "        vertical-align: top;\n",
       "    }\n",
       "\n",
       "    .dataframe thead th {\n",
       "        text-align: right;\n",
       "    }\n",
       "</style>\n",
       "<table border=\"1\" class=\"dataframe\">\n",
       "  <thead>\n",
       "    <tr style=\"text-align: right;\">\n",
       "      <th></th>\n",
       "      <th>Year</th>\n",
       "      <th>Life_expectancy</th>\n",
       "      <th>Population (million)</th>\n",
       "      <th>GDP_per_capita (thousand)</th>\n",
       "      <th>log_gdp</th>\n",
       "    </tr>\n",
       "  </thead>\n",
       "  <tbody>\n",
       "    <tr>\n",
       "      <th>count</th>\n",
       "      <td>184.0</td>\n",
       "      <td>184.00</td>\n",
       "      <td>184.00</td>\n",
       "      <td>184.00</td>\n",
       "      <td>184.00</td>\n",
       "    </tr>\n",
       "    <tr>\n",
       "      <th>mean</th>\n",
       "      <td>2017.0</td>\n",
       "      <td>72.34</td>\n",
       "      <td>40.04</td>\n",
       "      <td>21.16</td>\n",
       "      <td>2.48</td>\n",
       "    </tr>\n",
       "    <tr>\n",
       "      <th>std</th>\n",
       "      <td>0.0</td>\n",
       "      <td>7.67</td>\n",
       "      <td>147.12</td>\n",
       "      <td>22.24</td>\n",
       "      <td>1.17</td>\n",
       "    </tr>\n",
       "    <tr>\n",
       "      <th>min</th>\n",
       "      <td>2017.0</td>\n",
       "      <td>52.00</td>\n",
       "      <td>0.06</td>\n",
       "      <td>0.77</td>\n",
       "      <td>-0.26</td>\n",
       "    </tr>\n",
       "    <tr>\n",
       "      <th>25%</th>\n",
       "      <td>2017.0</td>\n",
       "      <td>67.00</td>\n",
       "      <td>2.08</td>\n",
       "      <td>4.77</td>\n",
       "      <td>1.56</td>\n",
       "    </tr>\n",
       "    <tr>\n",
       "      <th>50%</th>\n",
       "      <td>2017.0</td>\n",
       "      <td>74.00</td>\n",
       "      <td>8.44</td>\n",
       "      <td>13.34</td>\n",
       "      <td>2.59</td>\n",
       "    </tr>\n",
       "    <tr>\n",
       "      <th>75%</th>\n",
       "      <td>2017.0</td>\n",
       "      <td>78.00</td>\n",
       "      <td>28.77</td>\n",
       "      <td>30.06</td>\n",
       "      <td>3.40</td>\n",
       "    </tr>\n",
       "    <tr>\n",
       "      <th>max</th>\n",
       "      <td>2017.0</td>\n",
       "      <td>85.00</td>\n",
       "      <td>1396.22</td>\n",
       "      <td>126.14</td>\n",
       "      <td>4.84</td>\n",
       "    </tr>\n",
       "  </tbody>\n",
       "</table>\n",
       "</div>"
      ],
      "text/plain": [
       "         Year  Life_expectancy  Population (million)  \\\n",
       "count   184.0           184.00                184.00   \n",
       "mean   2017.0            72.34                 40.04   \n",
       "std       0.0             7.67                147.12   \n",
       "min    2017.0            52.00                  0.06   \n",
       "25%    2017.0            67.00                  2.08   \n",
       "50%    2017.0            74.00                  8.44   \n",
       "75%    2017.0            78.00                 28.77   \n",
       "max    2017.0            85.00               1396.22   \n",
       "\n",
       "       GDP_per_capita (thousand)  log_gdp  \n",
       "count                     184.00   184.00  \n",
       "mean                       21.16     2.48  \n",
       "std                        22.24     1.17  \n",
       "min                         0.77    -0.26  \n",
       "25%                         4.77     1.56  \n",
       "50%                        13.34     2.59  \n",
       "75%                        30.06     3.40  \n",
       "max                       126.14     4.84  "
      ]
     },
     "execution_count": 18,
     "metadata": {},
     "output_type": "execute_result"
    }
   ],
   "source": [
    "#let see descriptive statistics of the dataset\n",
    "\n",
    "round(df.describe(),2)"
   ]
  },
  {
   "cell_type": "code",
   "execution_count": 19,
   "id": "1811e7a6",
   "metadata": {},
   "outputs": [
    {
     "data": {
      "text/html": [
       "<div>\n",
       "<style scoped>\n",
       "    .dataframe tbody tr th:only-of-type {\n",
       "        vertical-align: middle;\n",
       "    }\n",
       "\n",
       "    .dataframe tbody tr th {\n",
       "        vertical-align: top;\n",
       "    }\n",
       "\n",
       "    .dataframe thead th {\n",
       "        text-align: right;\n",
       "    }\n",
       "</style>\n",
       "<table border=\"1\" class=\"dataframe\">\n",
       "  <thead>\n",
       "    <tr style=\"text-align: right;\">\n",
       "      <th></th>\n",
       "      <th>Year</th>\n",
       "      <th>Country Name</th>\n",
       "      <th>Life_expectancy</th>\n",
       "      <th>Population (million)</th>\n",
       "      <th>GDP_per_capita (thousand)</th>\n",
       "      <th>log_gdp</th>\n",
       "    </tr>\n",
       "    <tr>\n",
       "      <th>Country Code</th>\n",
       "      <th></th>\n",
       "      <th></th>\n",
       "      <th></th>\n",
       "      <th></th>\n",
       "      <th></th>\n",
       "      <th></th>\n",
       "    </tr>\n",
       "  </thead>\n",
       "  <tbody>\n",
       "    <tr>\n",
       "      <th>MYS</th>\n",
       "      <td>2017</td>\n",
       "      <td>Malaysia</td>\n",
       "      <td>76.0</td>\n",
       "      <td>31.1</td>\n",
       "      <td>26.66</td>\n",
       "      <td>3.28</td>\n",
       "    </tr>\n",
       "  </tbody>\n",
       "</table>\n",
       "</div>"
      ],
      "text/plain": [
       "              Year Country Name  Life_expectancy  Population (million)  \\\n",
       "Country Code                                                             \n",
       "MYS           2017     Malaysia             76.0                  31.1   \n",
       "\n",
       "              GDP_per_capita (thousand)  log_gdp  \n",
       "Country Code                                      \n",
       "MYS                               26.66     3.28  "
      ]
     },
     "execution_count": 19,
     "metadata": {},
     "output_type": "execute_result"
    }
   ],
   "source": [
    "life_expectancy_Malaysia2020 = df[(df['Country Name'] == 'Malaysia')]\n",
    "life_expectancy_Malaysia2020"
   ]
  },
  {
   "cell_type": "markdown",
   "id": "78100198",
   "metadata": {},
   "source": [
    "<div class=\"alert alert-block alert-info\">\n",
    "    <b>Average life expectancy across the 181 countries in 2020 is 73 years, with a range of 54 to 85 years old. Thus, there is substantial variation in the average length of life across countries. For a comparison to Malaysia (my country), Malaysia is at the upper half of the range where Malaysian residents expected to live around 76-years-old.</b>\n",
    "    </div>\n",
    "    "
   ]
  },
  {
   "cell_type": "code",
   "execution_count": 20,
   "id": "ee89b200",
   "metadata": {},
   "outputs": [
    {
     "name": "stdout",
     "output_type": "stream",
     "text": [
      "Countries with the lowest life expectancy are from :\n"
     ]
    },
    {
     "data": {
      "text/html": [
       "<div>\n",
       "<style scoped>\n",
       "    .dataframe tbody tr th:only-of-type {\n",
       "        vertical-align: middle;\n",
       "    }\n",
       "\n",
       "    .dataframe tbody tr th {\n",
       "        vertical-align: top;\n",
       "    }\n",
       "\n",
       "    .dataframe thead th {\n",
       "        text-align: right;\n",
       "    }\n",
       "</style>\n",
       "<table border=\"1\" class=\"dataframe\">\n",
       "  <thead>\n",
       "    <tr style=\"text-align: right;\">\n",
       "      <th></th>\n",
       "      <th>Country Name</th>\n",
       "      <th>Life_expectancy</th>\n",
       "    </tr>\n",
       "    <tr>\n",
       "      <th>Country Code</th>\n",
       "      <th></th>\n",
       "      <th></th>\n",
       "    </tr>\n",
       "  </thead>\n",
       "  <tbody>\n",
       "    <tr>\n",
       "      <th>CAF</th>\n",
       "      <td>Central African Republic</td>\n",
       "      <td>52.0</td>\n",
       "    </tr>\n",
       "    <tr>\n",
       "      <th>LSO</th>\n",
       "      <td>Lesotho</td>\n",
       "      <td>53.0</td>\n",
       "    </tr>\n",
       "    <tr>\n",
       "      <th>TCD</th>\n",
       "      <td>Chad</td>\n",
       "      <td>54.0</td>\n",
       "    </tr>\n",
       "    <tr>\n",
       "      <th>SLE</th>\n",
       "      <td>Sierra Leone</td>\n",
       "      <td>54.0</td>\n",
       "    </tr>\n",
       "    <tr>\n",
       "      <th>NGA</th>\n",
       "      <td>Nigeria</td>\n",
       "      <td>54.0</td>\n",
       "    </tr>\n",
       "  </tbody>\n",
       "</table>\n",
       "</div>"
      ],
      "text/plain": [
       "                          Country Name  Life_expectancy\n",
       "Country Code                                           \n",
       "CAF           Central African Republic             52.0\n",
       "LSO                            Lesotho             53.0\n",
       "TCD                               Chad             54.0\n",
       "SLE                       Sierra Leone             54.0\n",
       "NGA                            Nigeria             54.0"
      ]
     },
     "execution_count": 20,
     "metadata": {},
     "output_type": "execute_result"
    }
   ],
   "source": [
    "sorted_by_life_expectancy = df.sort_values(by=['Life_expectancy'])\n",
    "\n",
    "print('Countries with the lowest life expectancy are from :')\n",
    "(sorted_by_life_expectancy [['Country Name','Life_expectancy']]).head()"
   ]
  },
  {
   "cell_type": "code",
   "execution_count": 21,
   "id": "5fdf7ceb",
   "metadata": {},
   "outputs": [
    {
     "name": "stdout",
     "output_type": "stream",
     "text": [
      "Countries with the highest life expectancy are from East Asian countries and South East Asian (Singapore)\n"
     ]
    },
    {
     "data": {
      "text/html": [
       "<div>\n",
       "<style scoped>\n",
       "    .dataframe tbody tr th:only-of-type {\n",
       "        vertical-align: middle;\n",
       "    }\n",
       "\n",
       "    .dataframe tbody tr th {\n",
       "        vertical-align: top;\n",
       "    }\n",
       "\n",
       "    .dataframe thead th {\n",
       "        text-align: right;\n",
       "    }\n",
       "</style>\n",
       "<table border=\"1\" class=\"dataframe\">\n",
       "  <thead>\n",
       "    <tr style=\"text-align: right;\">\n",
       "      <th></th>\n",
       "      <th>Country Name</th>\n",
       "      <th>Life_expectancy</th>\n",
       "    </tr>\n",
       "    <tr>\n",
       "      <th>Country Code</th>\n",
       "      <th></th>\n",
       "      <th></th>\n",
       "    </tr>\n",
       "  </thead>\n",
       "  <tbody>\n",
       "    <tr>\n",
       "      <th>SGP</th>\n",
       "      <td>Singapore</td>\n",
       "      <td>83.0</td>\n",
       "    </tr>\n",
       "    <tr>\n",
       "      <th>CHE</th>\n",
       "      <td>Switzerland</td>\n",
       "      <td>84.0</td>\n",
       "    </tr>\n",
       "    <tr>\n",
       "      <th>MAC</th>\n",
       "      <td>Macao SAR, China</td>\n",
       "      <td>84.0</td>\n",
       "    </tr>\n",
       "    <tr>\n",
       "      <th>JPN</th>\n",
       "      <td>Japan</td>\n",
       "      <td>84.0</td>\n",
       "    </tr>\n",
       "    <tr>\n",
       "      <th>HKG</th>\n",
       "      <td>Hong Kong SAR, China</td>\n",
       "      <td>85.0</td>\n",
       "    </tr>\n",
       "  </tbody>\n",
       "</table>\n",
       "</div>"
      ],
      "text/plain": [
       "                      Country Name  Life_expectancy\n",
       "Country Code                                       \n",
       "SGP                      Singapore             83.0\n",
       "CHE                    Switzerland             84.0\n",
       "MAC               Macao SAR, China             84.0\n",
       "JPN                          Japan             84.0\n",
       "HKG           Hong Kong SAR, China             85.0"
      ]
     },
     "execution_count": 21,
     "metadata": {},
     "output_type": "execute_result"
    }
   ],
   "source": [
    "print('''Countries with the highest life expectancy are from East Asian countries and South East Asian (Singapore)''')\n",
    "sorted_by_life_expectancy [['Country Name','Life_expectancy']].tail()"
   ]
  },
  {
   "cell_type": "markdown",
   "id": "17860f98",
   "metadata": {},
   "source": [
    "### Figure 1: The distribution of GDP per capita"
   ]
  },
  {
   "cell_type": "markdown",
   "id": "1d00acd1",
   "metadata": {},
   "source": [
    "(a) Histogram of GDP per capita"
   ]
  },
  {
   "cell_type": "code",
   "execution_count": 22,
   "id": "3b20754e",
   "metadata": {},
   "outputs": [
    {
     "data": {
      "text/plain": [
       "Text(0, 0.5, 'Frequency')"
      ]
     },
     "execution_count": 22,
     "metadata": {},
     "output_type": "execute_result"
    },
    {
     "data": {
      "image/png": "[encoded data removed]",
      "text/plain": [
       "<Figure size 720x360 with 1 Axes>"
      ]
     },
     "metadata": {},
     "output_type": "display_data"
    }
   ],
   "source": [
    "df['GDP_per_capita (thousand)'].hist(figsize=(10,5),bins=42,)\n",
    "plt.title(\"Figure 1a: The distribution of GDP per capita\", fontsize=15) \n",
    "plt.xlabel(\"GDP per capita (thousand)\", fontsize=12) \n",
    "plt.ylabel(\"Frequency\", fontsize=12)  "
   ]
  },
  {
   "cell_type": "markdown",
   "id": "92feaf48",
   "metadata": {},
   "source": [
    "<div class=\"alert alert-block alert-info\">\n",
    "    <b>The distribution of GDP per capita is skewed with a long right tail, Figure 1a shows its histogram. There are 6 countries with extremely high GDP per capita values. Let's see which countries are they.\n",
    "</b>\n",
    "    </div>"
   ]
  },
  {
   "cell_type": "code",
   "execution_count": 23,
   "id": "a290fbd8",
   "metadata": {
    "scrolled": true
   },
   "outputs": [
    {
     "data": {
      "text/html": [
       "<div>\n",
       "<style scoped>\n",
       "    .dataframe tbody tr th:only-of-type {\n",
       "        vertical-align: middle;\n",
       "    }\n",
       "\n",
       "    .dataframe tbody tr th {\n",
       "        vertical-align: top;\n",
       "    }\n",
       "\n",
       "    .dataframe thead th {\n",
       "        text-align: right;\n",
       "    }\n",
       "</style>\n",
       "<table border=\"1\" class=\"dataframe\">\n",
       "  <thead>\n",
       "    <tr style=\"text-align: right;\">\n",
       "      <th></th>\n",
       "      <th>Year</th>\n",
       "      <th>Country Name</th>\n",
       "      <th>Life_expectancy</th>\n",
       "      <th>Population (million)</th>\n",
       "      <th>GDP_per_capita (thousand)</th>\n",
       "      <th>log_gdp</th>\n",
       "    </tr>\n",
       "    <tr>\n",
       "      <th>Country Code</th>\n",
       "      <th></th>\n",
       "      <th></th>\n",
       "      <th></th>\n",
       "      <th></th>\n",
       "      <th></th>\n",
       "      <th></th>\n",
       "    </tr>\n",
       "  </thead>\n",
       "  <tbody>\n",
       "    <tr>\n",
       "      <th>MAC</th>\n",
       "      <td>2017</td>\n",
       "      <td>Macao SAR, China</td>\n",
       "      <td>84.0</td>\n",
       "      <td>0.62</td>\n",
       "      <td>126.14</td>\n",
       "      <td>4.84</td>\n",
       "    </tr>\n",
       "    <tr>\n",
       "      <th>LUX</th>\n",
       "      <td>2017</td>\n",
       "      <td>Luxembourg</td>\n",
       "      <td>82.0</td>\n",
       "      <td>0.60</td>\n",
       "      <td>114.99</td>\n",
       "      <td>4.74</td>\n",
       "    </tr>\n",
       "    <tr>\n",
       "      <th>SGP</th>\n",
       "      <td>2017</td>\n",
       "      <td>Singapore</td>\n",
       "      <td>83.0</td>\n",
       "      <td>5.61</td>\n",
       "      <td>95.35</td>\n",
       "      <td>4.56</td>\n",
       "    </tr>\n",
       "    <tr>\n",
       "      <th>QAT</th>\n",
       "      <td>2017</td>\n",
       "      <td>Qatar</td>\n",
       "      <td>80.0</td>\n",
       "      <td>2.72</td>\n",
       "      <td>91.74</td>\n",
       "      <td>4.52</td>\n",
       "    </tr>\n",
       "    <tr>\n",
       "      <th>BMU</th>\n",
       "      <td>2017</td>\n",
       "      <td>Bermuda</td>\n",
       "      <td>81.0</td>\n",
       "      <td>0.06</td>\n",
       "      <td>81.83</td>\n",
       "      <td>4.40</td>\n",
       "    </tr>\n",
       "    <tr>\n",
       "      <th>IRL</th>\n",
       "      <td>2017</td>\n",
       "      <td>Ireland</td>\n",
       "      <td>82.0</td>\n",
       "      <td>4.81</td>\n",
       "      <td>77.75</td>\n",
       "      <td>4.35</td>\n",
       "    </tr>\n",
       "  </tbody>\n",
       "</table>\n",
       "</div>"
      ],
      "text/plain": [
       "              Year      Country Name  Life_expectancy  Population (million)  \\\n",
       "Country Code                                                                  \n",
       "MAC           2017  Macao SAR, China             84.0                  0.62   \n",
       "LUX           2017        Luxembourg             82.0                  0.60   \n",
       "SGP           2017         Singapore             83.0                  5.61   \n",
       "QAT           2017             Qatar             80.0                  2.72   \n",
       "BMU           2017           Bermuda             81.0                  0.06   \n",
       "IRL           2017           Ireland             82.0                  4.81   \n",
       "\n",
       "              GDP_per_capita (thousand)  log_gdp  \n",
       "Country Code                                      \n",
       "MAC                              126.14     4.84  \n",
       "LUX                              114.99     4.74  \n",
       "SGP                               95.35     4.56  \n",
       "QAT                               91.74     4.52  \n",
       "BMU                               81.83     4.40  \n",
       "IRL                               77.75     4.35  "
      ]
     },
     "execution_count": 23,
     "metadata": {},
     "output_type": "execute_result"
    }
   ],
   "source": [
    "sorted_by_gdppc = df.sort_values(by=['GDP_per_capita (thousand)'],ascending=False)\n",
    "sorted_by_gdppc.head(6)"
   ]
  },
  {
   "cell_type": "markdown",
   "id": "da8cdcb7",
   "metadata": {},
   "source": [
    "\n",
    "<div class=\"alert alert-block alert-info\">\n",
    "    <b>There are 6 countries with extremely high GDP per capita: Luxembourg, Singapore, Ireland, Qatar,Bermuda and Switzerland.</b> \n",
    "    </div>"
   ]
  },
  {
   "cell_type": "code",
   "execution_count": 24,
   "id": "6786b75c",
   "metadata": {},
   "outputs": [
    {
     "data": {
      "text/html": [
       "<div>\n",
       "<style scoped>\n",
       "    .dataframe tbody tr th:only-of-type {\n",
       "        vertical-align: middle;\n",
       "    }\n",
       "\n",
       "    .dataframe tbody tr th {\n",
       "        vertical-align: top;\n",
       "    }\n",
       "\n",
       "    .dataframe thead th {\n",
       "        text-align: right;\n",
       "    }\n",
       "</style>\n",
       "<table border=\"1\" class=\"dataframe\">\n",
       "  <thead>\n",
       "    <tr style=\"text-align: right;\">\n",
       "      <th></th>\n",
       "      <th>Year</th>\n",
       "      <th>Life_expectancy</th>\n",
       "      <th>Population (million)</th>\n",
       "      <th>GDP_per_capita (thousand)</th>\n",
       "      <th>log_gdp</th>\n",
       "    </tr>\n",
       "  </thead>\n",
       "  <tbody>\n",
       "    <tr>\n",
       "      <th>count</th>\n",
       "      <td>184.0</td>\n",
       "      <td>184.00</td>\n",
       "      <td>184.00</td>\n",
       "      <td>184.00</td>\n",
       "      <td>184.00</td>\n",
       "    </tr>\n",
       "    <tr>\n",
       "      <th>mean</th>\n",
       "      <td>2017.0</td>\n",
       "      <td>72.34</td>\n",
       "      <td>40.04</td>\n",
       "      <td>21.16</td>\n",
       "      <td>2.48</td>\n",
       "    </tr>\n",
       "    <tr>\n",
       "      <th>std</th>\n",
       "      <td>0.0</td>\n",
       "      <td>7.67</td>\n",
       "      <td>147.12</td>\n",
       "      <td>22.24</td>\n",
       "      <td>1.17</td>\n",
       "    </tr>\n",
       "    <tr>\n",
       "      <th>min</th>\n",
       "      <td>2017.0</td>\n",
       "      <td>52.00</td>\n",
       "      <td>0.06</td>\n",
       "      <td>0.77</td>\n",
       "      <td>-0.26</td>\n",
       "    </tr>\n",
       "    <tr>\n",
       "      <th>25%</th>\n",
       "      <td>2017.0</td>\n",
       "      <td>67.00</td>\n",
       "      <td>2.08</td>\n",
       "      <td>4.77</td>\n",
       "      <td>1.56</td>\n",
       "    </tr>\n",
       "    <tr>\n",
       "      <th>50%</th>\n",
       "      <td>2017.0</td>\n",
       "      <td>74.00</td>\n",
       "      <td>8.44</td>\n",
       "      <td>13.34</td>\n",
       "      <td>2.59</td>\n",
       "    </tr>\n",
       "    <tr>\n",
       "      <th>75%</th>\n",
       "      <td>2017.0</td>\n",
       "      <td>78.00</td>\n",
       "      <td>28.77</td>\n",
       "      <td>30.06</td>\n",
       "      <td>3.40</td>\n",
       "    </tr>\n",
       "    <tr>\n",
       "      <th>max</th>\n",
       "      <td>2017.0</td>\n",
       "      <td>85.00</td>\n",
       "      <td>1396.22</td>\n",
       "      <td>126.14</td>\n",
       "      <td>4.84</td>\n",
       "    </tr>\n",
       "  </tbody>\n",
       "</table>\n",
       "</div>"
      ],
      "text/plain": [
       "         Year  Life_expectancy  Population (million)  \\\n",
       "count   184.0           184.00                184.00   \n",
       "mean   2017.0            72.34                 40.04   \n",
       "std       0.0             7.67                147.12   \n",
       "min    2017.0            52.00                  0.06   \n",
       "25%    2017.0            67.00                  2.08   \n",
       "50%    2017.0            74.00                  8.44   \n",
       "75%    2017.0            78.00                 28.77   \n",
       "max    2017.0            85.00               1396.22   \n",
       "\n",
       "       GDP_per_capita (thousand)  log_gdp  \n",
       "count                     184.00   184.00  \n",
       "mean                       21.16     2.48  \n",
       "std                        22.24     1.17  \n",
       "min                         0.77    -0.26  \n",
       "25%                         4.77     1.56  \n",
       "50%                        13.34     2.59  \n",
       "75%                        30.06     3.40  \n",
       "max                       126.14     4.84  "
      ]
     },
     "execution_count": 24,
     "metadata": {},
     "output_type": "execute_result"
    }
   ],
   "source": [
    "round(sorted_by_gdppc.describe(),2)"
   ]
  },
  {
   "cell_type": "markdown",
   "id": "7ec23a29",
   "metadata": {},
   "source": [
    "<div class=\"alert alert-block alert-info\">\n",
    "    <b>Average GDP per capita is 21k US dollars in this data, the median is 13k US dollars, which also shows the skewness of the distribution. The standard deviation is 22k US dollars, suggesting substantial spread.</b> \n",
    "    </div>"
   ]
  },
  {
   "cell_type": "markdown",
   "id": "cfb3f683",
   "metadata": {},
   "source": [
    "(b) Histogram of log (GDP per capita)"
   ]
  },
  {
   "cell_type": "code",
   "execution_count": 25,
   "id": "e37338ac",
   "metadata": {},
   "outputs": [
    {
     "data": {
      "text/plain": [
       "Text(0, 0.5, 'Frequency')"
      ]
     },
     "execution_count": 25,
     "metadata": {},
     "output_type": "execute_result"
    },
    {
     "data": {
      "image/png": "[encoded data removed]",
      "text/plain": [
       "<Figure size 720x360 with 1 Axes>"
      ]
     },
     "metadata": {},
     "output_type": "display_data"
    }
   ],
   "source": [
    "df['log_gdp'].hist(figsize=(10,5),bins=30)\n",
    "plt.title(\"Figure 1b: The distribution of GDP per capita in log 10\", fontsize=15) \n",
    "plt.xlabel(\"ln GDP per capita (thousand)\", fontsize=12) \n",
    "plt.ylabel(\"Frequency\", fontsize=12)"
   ]
  },
  {
   "cell_type": "markdown",
   "id": "993023ca",
   "metadata": {},
   "source": [
    "<div class=\"alert alert-block alert-info\">\n",
    "    <b>When we take the natural log of GDP per capita, the distribution is close to symmetric (Figure 1b). There are two countries with less than one thousand dollars of GDP per capita (Burundi and the Central African Republic), their log GDP per capita value is less than zero. The average of log GDP per capita is 2.49 in this data, its median is 2.57, suggesting a fairly symmetric distribution. The standard deviation is 1.15.</b>\n",
    "    </div>"
   ]
  },
  {
   "cell_type": "code",
   "execution_count": 26,
   "id": "36576b49",
   "metadata": {},
   "outputs": [
    {
     "data": {
      "text/html": [
       "<div>\n",
       "<style scoped>\n",
       "    .dataframe tbody tr th:only-of-type {\n",
       "        vertical-align: middle;\n",
       "    }\n",
       "\n",
       "    .dataframe tbody tr th {\n",
       "        vertical-align: top;\n",
       "    }\n",
       "\n",
       "    .dataframe thead th {\n",
       "        text-align: right;\n",
       "    }\n",
       "</style>\n",
       "<table border=\"1\" class=\"dataframe\">\n",
       "  <thead>\n",
       "    <tr style=\"text-align: right;\">\n",
       "      <th></th>\n",
       "      <th>Year</th>\n",
       "      <th>Country Name</th>\n",
       "      <th>Life_expectancy</th>\n",
       "      <th>Population (million)</th>\n",
       "      <th>GDP_per_capita (thousand)</th>\n",
       "      <th>log_gdp</th>\n",
       "    </tr>\n",
       "    <tr>\n",
       "      <th>Country Code</th>\n",
       "      <th></th>\n",
       "      <th></th>\n",
       "      <th></th>\n",
       "      <th></th>\n",
       "      <th></th>\n",
       "      <th></th>\n",
       "    </tr>\n",
       "  </thead>\n",
       "  <tbody>\n",
       "    <tr>\n",
       "      <th>NER</th>\n",
       "      <td>2017</td>\n",
       "      <td>Niger</td>\n",
       "      <td>62.0</td>\n",
       "      <td>21.60</td>\n",
       "      <td>1.16</td>\n",
       "      <td>0.15</td>\n",
       "    </tr>\n",
       "    <tr>\n",
       "      <th>SOM</th>\n",
       "      <td>2017</td>\n",
       "      <td>Somalia</td>\n",
       "      <td>57.0</td>\n",
       "      <td>14.59</td>\n",
       "      <td>1.08</td>\n",
       "      <td>0.08</td>\n",
       "    </tr>\n",
       "    <tr>\n",
       "      <th>COD</th>\n",
       "      <td>2017</td>\n",
       "      <td>Congo, Dem. Rep.</td>\n",
       "      <td>60.0</td>\n",
       "      <td>81.40</td>\n",
       "      <td>1.06</td>\n",
       "      <td>0.06</td>\n",
       "    </tr>\n",
       "    <tr>\n",
       "      <th>CAF</th>\n",
       "      <td>2017</td>\n",
       "      <td>Central African Republic</td>\n",
       "      <td>52.0</td>\n",
       "      <td>4.60</td>\n",
       "      <td>0.91</td>\n",
       "      <td>-0.09</td>\n",
       "    </tr>\n",
       "    <tr>\n",
       "      <th>BDI</th>\n",
       "      <td>2017</td>\n",
       "      <td>Burundi</td>\n",
       "      <td>61.0</td>\n",
       "      <td>10.83</td>\n",
       "      <td>0.77</td>\n",
       "      <td>-0.26</td>\n",
       "    </tr>\n",
       "  </tbody>\n",
       "</table>\n",
       "</div>"
      ],
      "text/plain": [
       "              Year              Country Name  Life_expectancy  \\\n",
       "Country Code                                                    \n",
       "NER           2017                     Niger             62.0   \n",
       "SOM           2017                   Somalia             57.0   \n",
       "COD           2017          Congo, Dem. Rep.             60.0   \n",
       "CAF           2017  Central African Republic             52.0   \n",
       "BDI           2017                   Burundi             61.0   \n",
       "\n",
       "              Population (million)  GDP_per_capita (thousand)  log_gdp  \n",
       "Country Code                                                            \n",
       "NER                          21.60                       1.16     0.15  \n",
       "SOM                          14.59                       1.08     0.08  \n",
       "COD                          81.40                       1.06     0.06  \n",
       "CAF                           4.60                       0.91    -0.09  \n",
       "BDI                          10.83                       0.77    -0.26  "
      ]
     },
     "execution_count": 26,
     "metadata": {},
     "output_type": "execute_result"
    }
   ],
   "source": [
    "sorted_by_gdppc.tail()"
   ]
  },
  {
   "cell_type": "markdown",
   "id": "548fae02",
   "metadata": {},
   "source": [
    "### Figure 2 Life expectancy and GDP per capita"
   ]
  },
  {
   "cell_type": "markdown",
   "id": "d8db02e9",
   "metadata": {},
   "source": [
    "(a) Life expectancy and (GDP per capita)"
   ]
  },
  {
   "cell_type": "code",
   "execution_count": 27,
   "id": "5e45f0ee",
   "metadata": {},
   "outputs": [
    {
     "data": {
      "text/plain": [
       "'The preceding screenshot shows a strong correlation between these two variables. However, there are some outliers that we can easily spot from the graph'"
      ]
     },
     "execution_count": 27,
     "metadata": {},
     "output_type": "execute_result"
    },
    {
     "data": {
      "image/png": "[encoded data removed]",
      "text/plain": [
       "<Figure size 504x360 with 1 Axes>"
      ]
     },
     "metadata": {},
     "output_type": "display_data"
    }
   ],
   "source": [
    "plt.figure(figsize=(7, 5))\n",
    "sns.regplot(df['GDP_per_capita (thousand)'], df['Life_expectancy'])\n",
    "plt.xlabel(\"GDP per capita (thousands dollar)\", fontsize=15) \n",
    "plt.ylabel(\"Life expectancy (years)\", fontsize=15) \n",
    "plt.axis([0, 120, 50, 100])\n",
    "\n",
    "\"The preceding screenshot shows a strong correlation between these two variables. However, there are some outliers that we can easily spot from the graph\""
   ]
  },
  {
   "cell_type": "markdown",
   "id": "01fd86e9",
   "metadata": {},
   "source": [
    "<div class=\"alert alert-block alert-info\">\n",
    "    <b>Figure 2a shows the results of a linear regression with life expectancy as the y variable, and GDP per capita as the x variable. This regression shows a positive slope, but the scatterplot implies that there are strong nonlinearities in the association that the linear regression doesn’t capture. In particular, the slope appears a lot steeper at lower levels of GDP per capita and a lot flatter at higher levels. Thus, the linear regression does not capture the shape of the pattern, and because of the skewed distribution of the x variable, it is not a very good approximation of the average of that nonlinear pattern either.</b> \n",
    "    </div>"
   ]
  },
  {
   "cell_type": "markdown",
   "id": "2caeecc9",
   "metadata": {},
   "source": [
    "(b) Life expectancy and ln (GDP per capita)"
   ]
  },
  {
   "cell_type": "code",
   "execution_count": 28,
   "id": "d08e402a",
   "metadata": {},
   "outputs": [
    {
     "data": {
      "text/plain": [
       "(-0.5, 5.0, 50.0, 85.0)"
      ]
     },
     "execution_count": 28,
     "metadata": {},
     "output_type": "execute_result"
    },
    {
     "data": {
      "image/png": "[encoded data removed]",
      "text/plain": [
       "<Figure size 576x360 with 1 Axes>"
      ]
     },
     "metadata": {},
     "output_type": "display_data"
    }
   ],
   "source": [
    "plt.figure(figsize=(8, 5))\n",
    "sns.regplot(df['log_gdp'],df['Life_expectancy'])\n",
    "plt.xlabel(\"log GDP per capita (thousands dollar)\", fontsize=15) \n",
    "plt.ylabel(\"Life expectancy (years)\", fontsize=15) \n",
    "plt.axis([-0.5, 5, 50, 85])"
   ]
  },
  {
   "cell_type": "markdown",
   "id": "5da7d318",
   "metadata": {},
   "source": [
    "<div class=\"alert alert-block alert-info\">\n",
    "    <b>Figure 8.5a shows the same regression with the natural log of GDP per capita as the x variable. In contrast with the \n",
    "regression without taking logs, the scatterplot with log GDP per capita suggests a remarkably linear pattern.\n",
    "For most of the range of log GDP per capita, the linear fit appears to be a good approximation\n",
    "of the conditional expectation.</b>\n",
    "    </div>"
   ]
  },
  {
   "cell_type": "code",
   "execution_count": 40,
   "id": "4c85ccd4",
   "metadata": {},
   "outputs": [
    {
     "data": {
      "text/html": [
       "<div>\n",
       "<style scoped>\n",
       "    .dataframe tbody tr th:only-of-type {\n",
       "        vertical-align: middle;\n",
       "    }\n",
       "\n",
       "    .dataframe tbody tr th {\n",
       "        vertical-align: top;\n",
       "    }\n",
       "\n",
       "    .dataframe thead th {\n",
       "        text-align: right;\n",
       "    }\n",
       "</style>\n",
       "<table border=\"1\" class=\"dataframe\">\n",
       "  <thead>\n",
       "    <tr style=\"text-align: right;\">\n",
       "      <th></th>\n",
       "      <th>Year</th>\n",
       "      <th>Country Name</th>\n",
       "      <th>Life_expectancy</th>\n",
       "      <th>Population (million)</th>\n",
       "      <th>GDP_per_capita (thousand)</th>\n",
       "      <th>log_gdp</th>\n",
       "      <th>regression_line</th>\n",
       "      <th>result</th>\n",
       "      <th>country_result</th>\n",
       "    </tr>\n",
       "    <tr>\n",
       "      <th>Country Code</th>\n",
       "      <th></th>\n",
       "      <th></th>\n",
       "      <th></th>\n",
       "      <th></th>\n",
       "      <th></th>\n",
       "      <th></th>\n",
       "      <th></th>\n",
       "      <th></th>\n",
       "      <th></th>\n",
       "    </tr>\n",
       "  </thead>\n",
       "  <tbody>\n",
       "    <tr>\n",
       "      <th>MAC</th>\n",
       "      <td>2017</td>\n",
       "      <td>Macao SAR, China</td>\n",
       "      <td>84.0</td>\n",
       "      <td>0.62</td>\n",
       "      <td>126.14</td>\n",
       "      <td>4.84</td>\n",
       "      <td>85.48</td>\n",
       "      <td>-1.48</td>\n",
       "      <td>Macao SAR, China : -1.48</td>\n",
       "    </tr>\n",
       "    <tr>\n",
       "      <th>LUX</th>\n",
       "      <td>2017</td>\n",
       "      <td>Luxembourg</td>\n",
       "      <td>82.0</td>\n",
       "      <td>0.60</td>\n",
       "      <td>114.99</td>\n",
       "      <td>4.74</td>\n",
       "      <td>84.92</td>\n",
       "      <td>-2.92</td>\n",
       "      <td>Luxembourg : -2.92</td>\n",
       "    </tr>\n",
       "    <tr>\n",
       "      <th>SGP</th>\n",
       "      <td>2017</td>\n",
       "      <td>Singapore</td>\n",
       "      <td>83.0</td>\n",
       "      <td>5.61</td>\n",
       "      <td>95.35</td>\n",
       "      <td>4.56</td>\n",
       "      <td>83.92</td>\n",
       "      <td>-0.92</td>\n",
       "      <td>Singapore : -0.92</td>\n",
       "    </tr>\n",
       "    <tr>\n",
       "      <th>QAT</th>\n",
       "      <td>2017</td>\n",
       "      <td>Qatar</td>\n",
       "      <td>80.0</td>\n",
       "      <td>2.72</td>\n",
       "      <td>91.74</td>\n",
       "      <td>4.52</td>\n",
       "      <td>83.70</td>\n",
       "      <td>-3.70</td>\n",
       "      <td>Qatar : -3.7</td>\n",
       "    </tr>\n",
       "    <tr>\n",
       "      <th>BMU</th>\n",
       "      <td>2017</td>\n",
       "      <td>Bermuda</td>\n",
       "      <td>81.0</td>\n",
       "      <td>0.06</td>\n",
       "      <td>81.83</td>\n",
       "      <td>4.40</td>\n",
       "      <td>83.03</td>\n",
       "      <td>-2.03</td>\n",
       "      <td>Bermuda : -2.03</td>\n",
       "    </tr>\n",
       "    <tr>\n",
       "      <th>...</th>\n",
       "      <td>...</td>\n",
       "      <td>...</td>\n",
       "      <td>...</td>\n",
       "      <td>...</td>\n",
       "      <td>...</td>\n",
       "      <td>...</td>\n",
       "      <td>...</td>\n",
       "      <td>...</td>\n",
       "      <td>...</td>\n",
       "    </tr>\n",
       "    <tr>\n",
       "      <th>NER</th>\n",
       "      <td>2017</td>\n",
       "      <td>Niger</td>\n",
       "      <td>62.0</td>\n",
       "      <td>21.60</td>\n",
       "      <td>1.16</td>\n",
       "      <td>0.15</td>\n",
       "      <td>59.40</td>\n",
       "      <td>2.60</td>\n",
       "      <td>Niger : 2.6</td>\n",
       "    </tr>\n",
       "    <tr>\n",
       "      <th>SOM</th>\n",
       "      <td>2017</td>\n",
       "      <td>Somalia</td>\n",
       "      <td>57.0</td>\n",
       "      <td>14.59</td>\n",
       "      <td>1.08</td>\n",
       "      <td>0.08</td>\n",
       "      <td>59.01</td>\n",
       "      <td>-2.01</td>\n",
       "      <td>Somalia : -2.01</td>\n",
       "    </tr>\n",
       "    <tr>\n",
       "      <th>COD</th>\n",
       "      <td>2017</td>\n",
       "      <td>Congo, Dem. Rep.</td>\n",
       "      <td>60.0</td>\n",
       "      <td>81.40</td>\n",
       "      <td>1.06</td>\n",
       "      <td>0.06</td>\n",
       "      <td>58.90</td>\n",
       "      <td>1.10</td>\n",
       "      <td>Congo, Dem. Rep. : 1.1</td>\n",
       "    </tr>\n",
       "    <tr>\n",
       "      <th>CAF</th>\n",
       "      <td>2017</td>\n",
       "      <td>Central African Republic</td>\n",
       "      <td>52.0</td>\n",
       "      <td>4.60</td>\n",
       "      <td>0.91</td>\n",
       "      <td>-0.09</td>\n",
       "      <td>58.07</td>\n",
       "      <td>-6.07</td>\n",
       "      <td>Central African Republic : -6.07</td>\n",
       "    </tr>\n",
       "    <tr>\n",
       "      <th>BDI</th>\n",
       "      <td>2017</td>\n",
       "      <td>Burundi</td>\n",
       "      <td>61.0</td>\n",
       "      <td>10.83</td>\n",
       "      <td>0.77</td>\n",
       "      <td>-0.26</td>\n",
       "      <td>57.12</td>\n",
       "      <td>3.88</td>\n",
       "      <td>Burundi : 3.88</td>\n",
       "    </tr>\n",
       "  </tbody>\n",
       "</table>\n",
       "<p>184 rows × 9 columns</p>\n",
       "</div>"
      ],
      "text/plain": [
       "              Year              Country Name  Life_expectancy  \\\n",
       "Country Code                                                    \n",
       "MAC           2017          Macao SAR, China             84.0   \n",
       "LUX           2017                Luxembourg             82.0   \n",
       "SGP           2017                 Singapore             83.0   \n",
       "QAT           2017                     Qatar             80.0   \n",
       "BMU           2017                   Bermuda             81.0   \n",
       "...            ...                       ...              ...   \n",
       "NER           2017                     Niger             62.0   \n",
       "SOM           2017                   Somalia             57.0   \n",
       "COD           2017          Congo, Dem. Rep.             60.0   \n",
       "CAF           2017  Central African Republic             52.0   \n",
       "BDI           2017                   Burundi             61.0   \n",
       "\n",
       "              Population (million)  GDP_per_capita (thousand)  log_gdp  \\\n",
       "Country Code                                                             \n",
       "MAC                           0.62                     126.14     4.84   \n",
       "LUX                           0.60                     114.99     4.74   \n",
       "SGP                           5.61                      95.35     4.56   \n",
       "QAT                           2.72                      91.74     4.52   \n",
       "BMU                           0.06                      81.83     4.40   \n",
       "...                            ...                        ...      ...   \n",
       "NER                          21.60                       1.16     0.15   \n",
       "SOM                          14.59                       1.08     0.08   \n",
       "COD                          81.40                       1.06     0.06   \n",
       "CAF                           4.60                       0.91    -0.09   \n",
       "BDI                          10.83                       0.77    -0.26   \n",
       "\n",
       "              regression_line  result                    country_result  \n",
       "Country Code                                                             \n",
       "MAC                     85.48   -1.48          Macao SAR, China : -1.48  \n",
       "LUX                     84.92   -2.92                Luxembourg : -2.92  \n",
       "SGP                     83.92   -0.92                 Singapore : -0.92  \n",
       "QAT                     83.70   -3.70                      Qatar : -3.7  \n",
       "BMU                     83.03   -2.03                   Bermuda : -2.03  \n",
       "...                       ...     ...                               ...  \n",
       "NER                     59.40    2.60                       Niger : 2.6  \n",
       "SOM                     59.01   -2.01                   Somalia : -2.01  \n",
       "COD                     58.90    1.10            Congo, Dem. Rep. : 1.1  \n",
       "CAF                     58.07   -6.07  Central African Republic : -6.07  \n",
       "BDI                     57.12    3.88                    Burundi : 3.88  \n",
       "\n",
       "[184 rows x 9 columns]"
      ]
     },
     "execution_count": 40,
     "metadata": {},
     "output_type": "execute_result"
    }
   ],
   "source": [
    "df['regression_line'] =round( 5.56 * (df['log_gdp'])+58.57 ,2)\n",
    "df['result'] =(round(df['Life_expectancy'] - df['regression_line'],2))\n",
    "(df['result'])\n",
    "##df['country_result'] = df['Country Name'] + df['result']\n",
    "a=df.sort_values(by=['GDP_per_capita (thousand)'],ascending=False)\n",
    "a"
   ]
  },
  {
   "cell_type": "code",
   "execution_count": 39,
   "id": "81f5ff41",
   "metadata": {
    "scrolled": false
   },
   "outputs": [
    {
     "data": {
      "application/vnd.plotly.v1+json": {
       "config": {
        "linkText": "Export to plot.ly",
        "plotlyServerURL": "https://plot.ly",
        "showLink": true
       },
       "data": [
        {
         "line": {
          "color": "rgba(55, 128, 191, 1.0)",
          "dash": "solid",
          "shape": "linear",
          "width": 1.3
         },
         "marker": {
          "size": 8,
          "symbol": "circle-dot"
         },
         "mode": "markers",
         "name": "Life_expectancy",
         "text": [
          "Afghanistan : 1.43",
          "Albania : 5.25",
          "Algeria : 3.75",
          "Angola : -9.63",
          "Antigua and Barbuda : 1.81",
          "Argentina : -0.14",
          "Armenia : 2.59",
          "Aruba : -2.92",
          "Australia : 1.86",
          "Austria : 1.25",
          "Azerbaijan : -0.3",
          "Bahamas, The : -4.47",
          "Bahrain : -3.09",
          "Bangladesh : 5.48",
          "Barbados : 5.08",
          "Belarus : -0.75",
          "Belgium : 0.63",
          "Belize : 4.48",
          "Benin : -3.74",
          "Bermuda : -2.03",
          "Bhutan : -0.97",
          "Bolivia : 0.59",
          "Bosnia and Herzegovina : 3.86",
          "Botswana : -4.97",
          "Brazil : 1.53",
          "Brunei Darussalam : -5.42",
          "Bulgaria : -0.64",
          "Burkina Faso : -1.52",
          "Burundi : 3.88",
          "Cabo Verde : 3.92",
          "Cambodia : 2.81",
          "Cameroon : -6.8",
          "Canada : 1.86",
          "Central African Republic : -6.07",
          "Chad : -7.13",
          "Chile : 3.64",
          "China : 2.64",
          "Colombia : 3.7",
          "Comoros : -0.74",
          "Congo, Dem. Rep. : 1.1",
          "Congo, Rep. : -2.58",
          "Costa Rica : 4.69",
          "Cote d'Ivoire : -10.3",
          "Croatia : 1.08",
          "Curacao : 1.42",
          "Cyprus : 2.14",
          "Czech Republic : 0.08",
          "Denmark : 0.13",
          "Djibouti : -1.41",
          "Dominican Republic : -0.25",
          "Ecuador : 4.81",
          "Egypt, Arab Rep. : 0.09",
          "El Salvador : 2.59",
          "Equatorial Guinea : -17.92",
          "Estonia : -0.14",
          "Eswatini : -12.41",
          "Ethiopia : 3.54",
          "Fiji : -6.03",
          "Finland : 1.97",
          "France : 3.3",
          "Gabon : -7.64",
          "Gambia, The : -1.63",
          "Georgia : -0.08",
          "Germany : 0.36",
          "Ghana : -4.63",
          "Greece : 3.8",
          "Grenada : -2.08",
          "Guatemala : 3.64",
          "Guinea : -2.46",
          "Guinea-Bissau : -4.24",
          "Guyana : -2.41",
          "Haiti : -1.96",
          "Honduras : 6.87",
          "Hong Kong SAR, China : 3.69",
          "Hungary : -1.36",
          "Iceland : 2.08",
          "India : 0.31",
          "Indonesia : -0.86",
          "Iran, Islamic Rep. : 2.53",
          "Iraq : -1.64",
          "Ireland : -0.76",
          "Israel : 4.02",
          "Italy : 3.69",
          "Jamaica : 2.86",
          "Japan : 4.69",
          "Jordan : 2.64",
          "Kazakhstan : -3.42",
          "Kenya : -0.58",
          "Kiribati : 4.93",
          "Korea, Rep. : 3.8",
          "Kosovo : 0.36",
          "Kuwait : -5.42",
          "Kyrgyz Republic : 3.42",
          "Lao PDR : -2.58",
          "Latvia : -2.25",
          "Lebanon : 4.97",
          "Lesotho : -11.02",
          "Liberia : 1.98",
          "Libya : 0.09",
          "Lithuania : -3.14",
          "Luxembourg : -2.92",
          "Macao SAR, China : -1.48",
          "Madagascar : 4.87",
          "Malawi : 2.26",
          "Malaysia : -0.81",
          "Maldives : 3.36",
          "Mali : -5.07",
          "Malta : 2.58",
          "Mauritania : -3.63",
          "Mauritius : -0.58",
          "Mexico : -0.14",
          "Micronesia, Fed. Sts. : 2.48",
          "Moldova : -0.25",
          "Mongolia : -2.08",
          "Montenegro : 0.86",
          "Morocco : 6.37",
          "Mozambique : -0.96",
          "Myanmar : 0.42",
          "Namibia : -8.47",
          "Nepal : 4.37",
          "Netherlands : 1.13",
          "New Zealand : 2.64",
          "Nicaragua : 5.48",
          "Niger : 2.6",
          "Nigeria : -13.74",
          "North Macedonia : 2.14",
          "Norway : 1.3",
          "Oman : -1.09",
          "Pakistan : -0.02",
          "Panama : 0.41",
          "Papua New Guinea : -2.69",
          "Paraguay : 1.36",
          "Peru : 3.36",
          "Philippines : 0.81",
          "Poland : 0.53",
          "Portugal : 2.97",
          "Puerto Rico : 1.75",
          "Qatar : -3.7",
          "Romania : -1.92",
          "Russian Federation : -4.7",
          "Rwanda : 5.65",
          "Samoa : 4.03",
          "Sao Tome and Principe : 3.81",
          "Saudi Arabia : -5.03",
          "Senegal : 1.98",
          "Serbia : 1.81",
          "Seychelles : -2.97",
          "Sierra Leone : -7.29",
          "Singapore : -0.92",
          "Slovak Republic : -0.47",
          "Slovenia : 2.41",
          "Solomon Islands : 8.98",
          "Somalia : -2.01",
          "South Africa : -9.19",
          "Spain : 3.97",
          "Sri Lanka : 4.36",
          "St. Lucia : 2.42",
          "St. Vincent and the Grenadines : -0.53",
          "Sudan : -2.08",
          "Suriname : -3.75",
          "Sweden : 1.47",
          "Switzerland : 1.86",
          "Tajikistan : 5.87",
          "Tanzania : 0.26",
          "Thailand : 2.53",
          "Timor-Leste : 3.98",
          "Togo : -2.46",
          "Tonga : 2.03",
          "Trinidad and Tobago : -3.75",
          "Tunisia : 3.97",
          "Turkey : -0.08",
          "Turkmenistan : -5.3",
          "Uganda : 0.37",
          "Ukraine : -0.3",
          "United Arab Emirates : -3.98",
          "United Kingdom : 1.08",
          "United States : -2.37",
          "Uruguay : 1.97",
          "Uzbekistan : 1.75",
          "Vanuatu : 5.2",
          "Vietnam : 5.48",
          "West Bank and Gaza : 5.09",
          "Zambia : -2.52",
          "Zimbabwe : -5.02"
         ],
         "type": "scatter",
         "x": [
          0.72,
          2.55,
          2.46,
          1.99,
          2.99,
          3.16,
          2.49,
          3.66,
          3.88,
          3.99,
          2.65,
          3.58,
          3.87,
          1.43,
          2.76,
          2.91,
          3.92,
          1.97,
          1.11,
          4.4,
          2.41,
          2.13,
          2.62,
          2.77,
          2.68,
          4.11,
          3.07,
          0.71,
          -0.26,
          1.89,
          1.37,
          1.3,
          3.88,
          -0.09,
          0.46,
          3.2,
          2.66,
          2.65,
          1.11,
          0.06,
          1.44,
          3.01,
          1.57,
          3.3,
          3.24,
          3.65,
          3.66,
          4.01,
          1.59,
          2.82,
          2.45,
          2.4,
          2.13,
          3.12,
          3.52,
          2.13,
          0.7,
          2.6,
          3.86,
          3.8,
          2.71,
          0.73,
          2.61,
          3.97,
          1.63,
          3.35,
          2.79,
          2.12,
          0.88,
          0.66,
          2.49,
          1.15,
          1.72,
          4.09,
          3.38,
          4.02,
          1.82,
          2.39,
          2.68,
          2.35,
          4.35,
          3.67,
          3.73,
          2.26,
          3.73,
          2.3,
          3.21,
          1.44,
          0.81,
          3.71,
          2.35,
          3.93,
          1.62,
          1.98,
          3.36,
          2.78,
          0.98,
          0.44,
          2.58,
          3.52,
          4.74,
          4.84,
          0.46,
          0.39,
          3.28,
          2.89,
          0.81,
          3.75,
          1.63,
          3.06,
          2.98,
          1.25,
          2.46,
          2.43,
          2.98,
          1.99,
          0.25,
          1.44,
          2.32,
          1.27,
          4.01,
          3.74,
          1.79,
          0.15,
          1.65,
          2.75,
          4.16,
          3.51,
          1.52,
          3.42,
          1.46,
          2.53,
          2.53,
          2.09,
          3.4,
          3.5,
          3.54,
          4.52,
          3.3,
          3.26,
          0.68,
          1.87,
          1.37,
          3.86,
          1.16,
          2.81,
          3.31,
          0.49,
          4.56,
          3.4,
          3.6,
          0.98,
          0.08,
          2.63,
          3.68,
          2.53,
          2.7,
          2.51,
          1.53,
          2.91,
          3.95,
          4.24,
          1.18,
          0.93,
          2.86,
          1.16,
          0.7,
          1.87,
          3.27,
          2.42,
          3.33,
          2.65,
          0.73,
          2.47,
          4.21,
          3.84,
          4.1,
          3.14,
          1.92,
          1.12,
          1.97,
          1.86,
          1.25,
          1.34
         ],
         "y": [
          64,
          78,
          76,
          60,
          77,
          76,
          75,
          76,
          82,
          82,
          73,
          74,
          77,
          72,
          79,
          74,
          81,
          74,
          61,
          81,
          71,
          71,
          77,
          69,
          75,
          76,
          75,
          61,
          61,
          73,
          69,
          59,
          82,
          52,
          54,
          80,
          76,
          77,
          64,
          60,
          64,
          80,
          57,
          78,
          78,
          81,
          79,
          81,
          66,
          74,
          77,
          72,
          73,
          58,
          78,
          58,
          66,
          67,
          82,
          83,
          66,
          61,
          73,
          81,
          63,
          81,
          72,
          74,
          61,
          58,
          70,
          63,
          75,
          85,
          76,
          83,
          69,
          71,
          76,
          70,
          82,
          83,
          83,
          74,
          84,
          74,
          73,
          66,
          68,
          83,
          72,
          75,
          71,
          67,
          75,
          79,
          53,
          63,
          73,
          75,
          82,
          84,
          66,
          63,
          76,
          78,
          58,
          82,
          64,
          75,
          75,
          68,
          72,
          70,
          76,
          76,
          59,
          67,
          63,
          70,
          82,
          82,
          74,
          62,
          54,
          76,
          83,
          77,
          67,
          78,
          64,
          74,
          76,
          71,
          78,
          81,
          80,
          80,
          75,
          72,
          68,
          73,
          70,
          75,
          67,
          76,
          74,
          54,
          83,
          77,
          81,
          73,
          57,
          64,
          83,
          77,
          76,
          72,
          65,
          71,
          82,
          84,
          71,
          64,
          77,
          69,
          60,
          71,
          73,
          76,
          77,
          68,
          63,
          72,
          78,
          81,
          79,
          78,
          71,
          70,
          75,
          74,
          63,
          61
         ]
        },
        {
         "line": {
          "color": "rgba(0, 0, 0, 1.0)",
          "dash": "dash",
          "shape": "linear",
          "width": 3
         },
         "mode": "lines",
         "name": "5.56*x+58.57",
         "type": "scatter",
         "x": [
          0.72,
          2.55,
          2.46,
          1.99,
          2.99,
          3.16,
          2.49,
          3.66,
          3.88,
          3.99,
          2.65,
          3.58,
          3.87,
          1.43,
          2.76,
          2.91,
          3.92,
          1.97,
          1.11,
          4.4,
          2.41,
          2.13,
          2.62,
          2.77,
          2.68,
          4.11,
          3.07,
          0.71,
          -0.26,
          1.89,
          1.37,
          1.3,
          3.88,
          -0.09,
          0.46,
          3.2,
          2.66,
          2.65,
          1.11,
          0.06,
          1.44,
          3.01,
          1.57,
          3.3,
          3.24,
          3.65,
          3.66,
          4.01,
          1.59,
          2.82,
          2.45,
          2.4,
          2.13,
          3.12,
          3.52,
          2.13,
          0.7,
          2.6,
          3.86,
          3.8,
          2.71,
          0.73,
          2.61,
          3.97,
          1.63,
          3.35,
          2.79,
          2.12,
          0.88,
          0.66,
          2.49,
          1.15,
          1.72,
          4.09,
          3.38,
          4.02,
          1.82,
          2.39,
          2.68,
          2.35,
          4.35,
          3.67,
          3.73,
          2.26,
          3.73,
          2.3,
          3.21,
          1.44,
          0.81,
          3.71,
          2.35,
          3.93,
          1.62,
          1.98,
          3.36,
          2.78,
          0.98,
          0.44,
          2.58,
          3.52,
          4.74,
          4.84,
          0.46,
          0.39,
          3.28,
          2.89,
          0.81,
          3.75,
          1.63,
          3.06,
          2.98,
          1.25,
          2.46,
          2.43,
          2.98,
          1.99,
          0.25,
          1.44,
          2.32,
          1.27,
          4.01,
          3.74,
          1.79,
          0.15,
          1.65,
          2.75,
          4.16,
          3.51,
          1.52,
          3.42,
          1.46,
          2.53,
          2.53,
          2.09,
          3.4,
          3.5,
          3.54,
          4.52,
          3.3,
          3.26,
          0.68,
          1.87,
          1.37,
          3.86,
          1.16,
          2.81,
          3.31,
          0.49,
          4.56,
          3.4,
          3.6,
          0.98,
          0.08,
          2.63,
          3.68,
          2.53,
          2.7,
          2.51,
          1.53,
          2.91,
          3.95,
          4.24,
          1.18,
          0.93,
          2.86,
          1.16,
          0.7,
          1.87,
          3.27,
          2.42,
          3.33,
          2.65,
          0.73,
          2.47,
          4.21,
          3.84,
          4.1,
          3.14,
          1.92,
          1.12,
          1.97,
          1.86,
          1.25,
          1.34
         ],
         "y": [
          62.56855042798738,
          72.7440112165043,
          72.24357871870839,
          69.63020900799638,
          75.19057009461766,
          76.13583147934327,
          72.41038955130702,
          78.9160120226539,
          80.13929146171058,
          80.75093118123893,
          73.30004732516642,
          78.4711831357242,
          80.08368785084437,
          66.51640679948848,
          73.91168704469476,
          74.74574120768796,
          80.36170590517543,
          69.51900178626397,
          64.73709125176967,
          83.03067922675365,
          71.96556066437732,
          70.40865956012337,
          73.13323649256779,
          73.96729065556097,
          73.46685815776506,
          81.41817451163348,
          75.63539898154735,
          62.51294681712117,
          57.11939656309854,
          69.07417289933426,
          66.18278513429121,
          65.79355985822772,
          80.13929146171058,
          58.06465794782416,
          61.12285654546585,
          76.35824592280812,
          73.35565093603265,
          73.30004732516642,
          64.73709125176967,
          58.89871211081735,
          66.5720104103547,
          75.30177731635008,
          67.29485735161546,
          76.91428203147025,
          76.58066036627298,
          78.86040841178769,
          78.9160120226539,
          80.86213840297134,
          67.40606457334789,
          74.24530870989204,
          72.18797510784218,
          71.9099570535111,
          70.40865956012337,
          75.91341703587842,
          78.13756147052692,
          70.40865956012337,
          62.457343206254954,
          73.02202927083536,
          80.02808423997816,
          79.69446257478089,
          73.6336689903637,
          62.6241540388536,
          73.07763288170158,
          80.6397239595065,
          67.62847901681273,
          77.1923000858013,
          74.0784978772934,
          70.35305594925715,
          63.45820820184679,
          62.234928762790105,
          72.41038955130702,
          64.95950569523453,
          68.12891151460865,
          81.30696728990105,
          77.35911091839995,
          80.91774201383755,
          68.68494762327077,
          71.85435344264489,
          73.46685815776506,
          71.63193899918005,
          82.75266117242258,
          78.97161563352012,
          79.30523729871739,
          71.13150650138414,
          79.30523729871739,
          71.35392094484898,
          76.41384953367434,
          66.5720104103547,
          63.068982925783295,
          79.19403007698497,
          71.63193899918005,
          80.41730951604164,
          67.57287540594652,
          69.57460539713017,
          77.24790369666752,
          74.02289426642719,
          64.01424431050891,
          61.01164932373343,
          72.91082204910293,
          78.13756147052692,
          84.92120199620487,
          85.477238104867,
          61.12285654546585,
          60.733631269402366,
          76.80307480973782,
          74.63453398595553,
          63.068982925783295,
          79.41644452044982,
          67.62847901681273,
          75.57979537068114,
          75.13496648375144,
          65.51554180389665,
          72.24357871870839,
          72.07676788610975,
          75.13496648375144,
          69.63020900799638,
          59.95518071727539,
          66.5720104103547,
          71.46512816658141,
          65.62674902562908,
          80.86213840297134,
          79.3608409095836,
          68.51813679067214,
          59.39914460861326,
          67.73968623854516,
          73.85608343382856,
          81.69619256596454,
          78.08195785966072,
          67.01683929728439,
          77.5815253618648,
          66.68321763208712,
          72.63280399477188,
          72.63280399477188,
          70.18624511665851,
          77.47031814013238,
          78.0263542487945,
          78.24876869225935,
          83.69792255714819,
          76.91428203147025,
          76.6918675880054,
          62.34613598452253,
          68.96296567760184,
          66.18278513429121,
          80.02808423997816,
          65.01510930610074,
          74.18970509902583,
          76.96988564233646,
          61.28966737806449,
          83.92033700061305,
          77.47031814013238,
          78.58239035745663,
          64.01424431050891,
          59.00991933254977,
          73.188840103434,
          79.02721924438633,
          72.63280399477188,
          73.57806537949749,
          72.52159677303945,
          67.0724429081506,
          74.74574120768796,
          80.52851673777407,
          82.14102145289424,
          65.12631652783317,
          63.73622625617785,
          74.46772315335689,
          65.01510930610074,
          62.457343206254954,
          68.96296567760184,
          76.74747119887161,
          72.02116427524354,
          77.08109286406889,
          73.30004732516642,
          62.6241540388536,
          72.29918232957459,
          81.9742106202956,
          79.91687701824573,
          81.36257090076725,
          76.02462425761084,
          69.2409837319329,
          64.79269486263588,
          69.51900178626397,
          68.90736206673563,
          65.51554180389665,
          66.01597430169257
         ]
        }
       ],
       "layout": {
        "legend": {
         "bgcolor": "#F5F6F9",
         "font": {
          "color": "#4D5663"
         }
        },
        "paper_bgcolor": "#F5F6F9",
        "plot_bgcolor": "#F5F6F9",
        "template": {
         "data": {
          "bar": [
           {
            "error_x": {
             "color": "#2a3f5f"
            },
            "error_y": {
             "color": "#2a3f5f"
            },
            "marker": {
             "line": {
              "color": "#E5ECF6",
              "width": 0.5
             },
             "pattern": {
              "fillmode": "overlay",
              "size": 10,
              "solidity": 0.2
             }
            },
            "type": "bar"
           }
          ],
          "barpolar": [
           {
            "marker": {
             "line": {
              "color": "#E5ECF6",
              "width": 0.5
             },
             "pattern": {
              "fillmode": "overlay",
              "size": 10,
              "solidity": 0.2
             }
            },
            "type": "barpolar"
           }
          ],
          "carpet": [
           {
            "aaxis": {
             "endlinecolor": "#2a3f5f",
             "gridcolor": "white",
             "linecolor": "white",
             "minorgridcolor": "white",
             "startlinecolor": "#2a3f5f"
            },
            "baxis": {
             "endlinecolor": "#2a3f5f",
             "gridcolor": "white",
             "linecolor": "white",
             "minorgridcolor": "white",
             "startlinecolor": "#2a3f5f"
            },
            "type": "carpet"
           }
          ],
          "choropleth": [
           {
            "colorbar": {
             "outlinewidth": 0,
             "ticks": ""
            },
            "type": "choropleth"
           }
          ],
          "contour": [
           {
            "colorbar": {
             "outlinewidth": 0,
             "ticks": ""
            },
            "colorscale": [
             [
              0,
              "#0d0887"
             ],
             [
              0.1111111111111111,
              "#46039f"
             ],
             [
              0.2222222222222222,
              "#7201a8"
             ],
             [
              0.3333333333333333,
              "#9c179e"
             ],
             [
              0.4444444444444444,
              "#bd3786"
             ],
             [
              0.5555555555555556,
              "#d8576b"
             ],
             [
              0.6666666666666666,
              "#ed7953"
             ],
             [
              0.7777777777777778,
              "#fb9f3a"
             ],
             [
              0.8888888888888888,
              "#fdca26"
             ],
             [
              1,
              "#f0f921"
             ]
            ],
            "type": "contour"
           }
          ],
          "contourcarpet": [
           {
            "colorbar": {
             "outlinewidth": 0,
             "ticks": ""
            },
            "type": "contourcarpet"
           }
          ],
          "heatmap": [
           {
            "colorbar": {
             "outlinewidth": 0,
             "ticks": ""
            },
            "colorscale": [
             [
              0,
              "#0d0887"
             ],
             [
              0.1111111111111111,
              "#46039f"
             ],
             [
              0.2222222222222222,
              "#7201a8"
             ],
             [
              0.3333333333333333,
              "#9c179e"
             ],
             [
              0.4444444444444444,
              "#bd3786"
             ],
             [
              0.5555555555555556,
              "#d8576b"
             ],
             [
              0.6666666666666666,
              "#ed7953"
             ],
             [
              0.7777777777777778,
              "#fb9f3a"
             ],
             [
              0.8888888888888888,
              "#fdca26"
             ],
             [
              1,
              "#f0f921"
             ]
            ],
            "type": "heatmap"
           }
          ],
          "heatmapgl": [
           {
            "colorbar": {
             "outlinewidth": 0,
             "ticks": ""
            },
            "colorscale": [
             [
              0,
              "#0d0887"
             ],
             [
              0.1111111111111111,
              "#46039f"
             ],
             [
              0.2222222222222222,
              "#7201a8"
             ],
             [
              0.3333333333333333,
              "#9c179e"
             ],
             [
              0.4444444444444444,
              "#bd3786"
             ],
             [
              0.5555555555555556,
              "#d8576b"
             ],
             [
              0.6666666666666666,
              "#ed7953"
             ],
             [
              0.7777777777777778,
              "#fb9f3a"
             ],
             [
              0.8888888888888888,
              "#fdca26"
             ],
             [
              1,
              "#f0f921"
             ]
            ],
            "type": "heatmapgl"
           }
          ],
          "histogram": [
           {
            "marker": {
             "pattern": {
              "fillmode": "overlay",
              "size": 10,
              "solidity": 0.2
             }
            },
            "type": "histogram"
           }
          ],
          "histogram2d": [
           {
            "colorbar": {
             "outlinewidth": 0,
             "ticks": ""
            },
            "colorscale": [
             [
              0,
              "#0d0887"
             ],
             [
              0.1111111111111111,
              "#46039f"
             ],
             [
              0.2222222222222222,
              "#7201a8"
             ],
             [
              0.3333333333333333,
              "#9c179e"
             ],
             [
              0.4444444444444444,
              "#bd3786"
             ],
             [
              0.5555555555555556,
              "#d8576b"
             ],
             [
              0.6666666666666666,
              "#ed7953"
             ],
             [
              0.7777777777777778,
              "#fb9f3a"
             ],
             [
              0.8888888888888888,
              "#fdca26"
             ],
             [
              1,
              "#f0f921"
             ]
            ],
            "type": "histogram2d"
           }
          ],
          "histogram2dcontour": [
           {
            "colorbar": {
             "outlinewidth": 0,
             "ticks": ""
            },
            "colorscale": [
             [
              0,
              "#0d0887"
             ],
             [
              0.1111111111111111,
              "#46039f"
             ],
             [
              0.2222222222222222,
              "#7201a8"
             ],
             [
              0.3333333333333333,
              "#9c179e"
             ],
             [
              0.4444444444444444,
              "#bd3786"
             ],
             [
              0.5555555555555556,
              "#d8576b"
             ],
             [
              0.6666666666666666,
              "#ed7953"
             ],
             [
              0.7777777777777778,
              "#fb9f3a"
             ],
             [
              0.8888888888888888,
              "#fdca26"
             ],
             [
              1,
              "#f0f921"
             ]
            ],
            "type": "histogram2dcontour"
           }
          ],
          "mesh3d": [
           {
            "colorbar": {
             "outlinewidth": 0,
             "ticks": ""
            },
            "type": "mesh3d"
           }
          ],
          "parcoords": [
           {
            "line": {
             "colorbar": {
              "outlinewidth": 0,
              "ticks": ""
             }
            },
            "type": "parcoords"
           }
          ],
          "pie": [
           {
            "automargin": true,
            "type": "pie"
           }
          ],
          "scatter": [
           {
            "marker": {
             "colorbar": {
              "outlinewidth": 0,
              "ticks": ""
             }
            },
            "type": "scatter"
           }
          ],
          "scatter3d": [
           {
            "line": {
             "colorbar": {
              "outlinewidth": 0,
              "ticks": ""
             }
            },
            "marker": {
             "colorbar": {
              "outlinewidth": 0,
              "ticks": ""
             }
            },
            "type": "scatter3d"
           }
          ],
          "scattercarpet": [
           {
            "marker": {
             "colorbar": {
              "outlinewidth": 0,
              "ticks": ""
             }
            },
            "type": "scattercarpet"
           }
          ],
          "scattergeo": [
           {
            "marker": {
             "colorbar": {
              "outlinewidth": 0,
              "ticks": ""
             }
            },
            "type": "scattergeo"
           }
          ],
          "scattergl": [
           {
            "marker": {
             "colorbar": {
              "outlinewidth": 0,
              "ticks": ""
             }
            },
            "type": "scattergl"
           }
          ],
          "scattermapbox": [
           {
            "marker": {
             "colorbar": {
              "outlinewidth": 0,
              "ticks": ""
             }
            },
            "type": "scattermapbox"
           }
          ],
          "scatterpolar": [
           {
            "marker": {
             "colorbar": {
              "outlinewidth": 0,
              "ticks": ""
             }
            },
            "type": "scatterpolar"
           }
          ],
          "scatterpolargl": [
           {
            "marker": {
             "colorbar": {
              "outlinewidth": 0,
              "ticks": ""
             }
            },
            "type": "scatterpolargl"
           }
          ],
          "scatterternary": [
           {
            "marker": {
             "colorbar": {
              "outlinewidth": 0,
              "ticks": ""
             }
            },
            "type": "scatterternary"
           }
          ],
          "surface": [
           {
            "colorbar": {
             "outlinewidth": 0,
             "ticks": ""
            },
            "colorscale": [
             [
              0,
              "#0d0887"
             ],
             [
              0.1111111111111111,
              "#46039f"
             ],
             [
              0.2222222222222222,
              "#7201a8"
             ],
             [
              0.3333333333333333,
              "#9c179e"
             ],
             [
              0.4444444444444444,
              "#bd3786"
             ],
             [
              0.5555555555555556,
              "#d8576b"
             ],
             [
              0.6666666666666666,
              "#ed7953"
             ],
             [
              0.7777777777777778,
              "#fb9f3a"
             ],
             [
              0.8888888888888888,
              "#fdca26"
             ],
             [
              1,
              "#f0f921"
             ]
            ],
            "type": "surface"
           }
          ],
          "table": [
           {
            "cells": {
             "fill": {
              "color": "#EBF0F8"
             },
             "line": {
              "color": "white"
             }
            },
            "header": {
             "fill": {
              "color": "#C8D4E3"
             },
             "line": {
              "color": "white"
             }
            },
            "type": "table"
           }
          ]
         },
         "layout": {
          "annotationdefaults": {
           "arrowcolor": "#2a3f5f",
           "arrowhead": 0,
           "arrowwidth": 1
          },
          "autotypenumbers": "strict",
          "coloraxis": {
           "colorbar": {
            "outlinewidth": 0,
            "ticks": ""
           }
          },
          "colorscale": {
           "diverging": [
            [
             0,
             "#8e0152"
            ],
            [
             0.1,
             "#c51b7d"
            ],
            [
             0.2,
             "#de77ae"
            ],
            [
             0.3,
             "#f1b6da"
            ],
            [
             0.4,
             "#fde0ef"
            ],
            [
             0.5,
             "#f7f7f7"
            ],
            [
             0.6,
             "#e6f5d0"
            ],
            [
             0.7,
             "#b8e186"
            ],
            [
             0.8,
             "#7fbc41"
            ],
            [
             0.9,
             "#4d9221"
            ],
            [
             1,
             "#276419"
            ]
           ],
           "sequential": [
            [
             0,
             "#0d0887"
            ],
            [
             0.1111111111111111,
             "#46039f"
            ],
            [
             0.2222222222222222,
             "#7201a8"
            ],
            [
             0.3333333333333333,
             "#9c179e"
            ],
            [
             0.4444444444444444,
             "#bd3786"
            ],
            [
             0.5555555555555556,
             "#d8576b"
            ],
            [
             0.6666666666666666,
             "#ed7953"
            ],
            [
             0.7777777777777778,
             "#fb9f3a"
            ],
            [
             0.8888888888888888,
             "#fdca26"
            ],
            [
             1,
             "#f0f921"
            ]
           ],
           "sequentialminus": [
            [
             0,
             "#0d0887"
            ],
            [
             0.1111111111111111,
             "#46039f"
            ],
            [
             0.2222222222222222,
             "#7201a8"
            ],
            [
             0.3333333333333333,
             "#9c179e"
            ],
            [
             0.4444444444444444,
             "#bd3786"
            ],
            [
             0.5555555555555556,
             "#d8576b"
            ],
            [
             0.6666666666666666,
             "#ed7953"
            ],
            [
             0.7777777777777778,
             "#fb9f3a"
            ],
            [
             0.8888888888888888,
             "#fdca26"
            ],
            [
             1,
             "#f0f921"
            ]
           ]
          },
          "colorway": [
           "#636efa",
           "#EF553B",
           "#00cc96",
           "#ab63fa",
           "#FFA15A",
           "#19d3f3",
           "#FF6692",
           "#B6E880",
           "#FF97FF",
           "#FECB52"
          ],
          "font": {
           "color": "#2a3f5f"
          },
          "geo": {
           "bgcolor": "white",
           "lakecolor": "white",
           "landcolor": "#E5ECF6",
           "showlakes": true,
           "showland": true,
           "subunitcolor": "white"
          },
          "hoverlabel": {
           "align": "left"
          },
          "hovermode": "closest",
          "mapbox": {
           "style": "light"
          },
          "paper_bgcolor": "white",
          "plot_bgcolor": "#E5ECF6",
          "polar": {
           "angularaxis": {
            "gridcolor": "white",
            "linecolor": "white",
            "ticks": ""
           },
           "bgcolor": "#E5ECF6",
           "radialaxis": {
            "gridcolor": "white",
            "linecolor": "white",
            "ticks": ""
           }
          },
          "scene": {
           "xaxis": {
            "backgroundcolor": "#E5ECF6",
            "gridcolor": "white",
            "gridwidth": 2,
            "linecolor": "white",
            "showbackground": true,
            "ticks": "",
            "zerolinecolor": "white"
           },
           "yaxis": {
            "backgroundcolor": "#E5ECF6",
            "gridcolor": "white",
            "gridwidth": 2,
            "linecolor": "white",
            "showbackground": true,
            "ticks": "",
            "zerolinecolor": "white"
           },
           "zaxis": {
            "backgroundcolor": "#E5ECF6",
            "gridcolor": "white",
            "gridwidth": 2,
            "linecolor": "white",
            "showbackground": true,
            "ticks": "",
            "zerolinecolor": "white"
           }
          },
          "shapedefaults": {
           "line": {
            "color": "#2a3f5f"
           }
          },
          "ternary": {
           "aaxis": {
            "gridcolor": "white",
            "linecolor": "white",
            "ticks": ""
           },
           "baxis": {
            "gridcolor": "white",
            "linecolor": "white",
            "ticks": ""
           },
           "bgcolor": "#E5ECF6",
           "caxis": {
            "gridcolor": "white",
            "linecolor": "white",
            "ticks": ""
           }
          },
          "title": {
           "x": 0.05
          },
          "xaxis": {
           "automargin": true,
           "gridcolor": "white",
           "linecolor": "white",
           "ticks": "",
           "title": {
            "standoff": 15
           },
           "zerolinecolor": "white",
           "zerolinewidth": 2
          },
          "yaxis": {
           "automargin": true,
           "gridcolor": "white",
           "linecolor": "white",
           "ticks": "",
           "title": {
            "standoff": 15
           },
           "zerolinecolor": "white",
           "zerolinewidth": 2
          }
         }
        },
        "title": {
         "font": {
          "color": "#4D5663"
         },
         "text": "the relationship between the expected value of y and different values of x"
        },
        "xaxis": {
         "gridcolor": "#E1E5ED",
         "range": [
          -0.5,
          5
         ],
         "showgrid": true,
         "tickfont": {
          "color": "#4D5663"
         },
         "title": {
          "font": {
           "color": "#4D5663"
          },
          "text": "ln scale GDP per capita (thousands dollar)"
         },
         "zerolinecolor": "#E1E5ED"
        },
        "yaxis": {
         "gridcolor": "#E1E5ED",
         "range": [
          50,
          90
         ],
         "showgrid": true,
         "tickfont": {
          "color": "#4D5663"
         },
         "title": {
          "font": {
           "color": "#4D5663"
          },
          "text": "Life expectancy (years)"
         },
         "zerolinecolor": "#E1E5ED"
        }
       }
      },
      "text/html": [
       "<div>                            <div id=\"db3a43e7-4f7f-4c39-bc47-6dad527165c4\" class=\"plotly-graph-div\" style=\"height:525px; width:100%;\"></div>            <script type=\"text/javascript\">                require([\"plotly\"], function(Plotly) {                    window.PLOTLYENV=window.PLOTLYENV || {};\n",
       "                    window.PLOTLYENV.BASE_URL='https://plot.ly';                                    if (document.getElementById(\"db3a43e7-4f7f-4c39-bc47-6dad527165c4\")) {                    Plotly.newPlot(                        \"db3a43e7-4f7f-4c39-bc47-6dad527165c4\",                        [{\"line\":{\"color\":\"rgba(55, 128, 191, 1.0)\",\"dash\":\"solid\",\"shape\":\"linear\",\"width\":1.3},\"marker\":{\"size\":8,\"symbol\":\"circle-dot\"},\"mode\":\"markers\",\"name\":\"Life_expectancy\",\"text\":[\"Afghanistan : 1.43\",\"Albania : 5.25\",\"Algeria : 3.75\",\"Angola : -9.63\",\"Antigua and Barbuda : 1.81\",\"Argentina : -0.14\",\"Armenia : 2.59\",\"Aruba : -2.92\",\"Australia : 1.86\",\"Austria : 1.25\",\"Azerbaijan : -0.3\",\"Bahamas, The : -4.47\",\"Bahrain : -3.09\",\"Bangladesh : 5.48\",\"Barbados : 5.08\",\"Belarus : -0.75\",\"Belgium : 0.63\",\"Belize : 4.48\",\"Benin : -3.74\",\"Bermuda : -2.03\",\"Bhutan : -0.97\",\"Bolivia : 0.59\",\"Bosnia and Herzegovina : 3.86\",\"Botswana : -4.97\",\"Brazil : 1.53\",\"Brunei Darussalam : -5.42\",\"Bulgaria : -0.64\",\"Burkina Faso : -1.52\",\"Burundi : 3.88\",\"Cabo Verde : 3.92\",\"Cambodia : 2.81\",\"Cameroon : -6.8\",\"Canada : 1.86\",\"Central African Republic : -6.07\",\"Chad : -7.13\",\"Chile : 3.64\",\"China : 2.64\",\"Colombia : 3.7\",\"Comoros : -0.74\",\"Congo, Dem. Rep. : 1.1\",\"Congo, Rep. : -2.58\",\"Costa Rica : 4.69\",\"Cote d'Ivoire : -10.3\",\"Croatia : 1.08\",\"Curacao : 1.42\",\"Cyprus : 2.14\",\"Czech Republic : 0.08\",\"Denmark : 0.13\",\"Djibouti : -1.41\",\"Dominican Republic : -0.25\",\"Ecuador : 4.81\",\"Egypt, Arab Rep. : 0.09\",\"El Salvador : 2.59\",\"Equatorial Guinea : -17.92\",\"Estonia : -0.14\",\"Eswatini : -12.41\",\"Ethiopia : 3.54\",\"Fiji : -6.03\",\"Finland : 1.97\",\"France : 3.3\",\"Gabon : -7.64\",\"Gambia, The : -1.63\",\"Georgia : -0.08\",\"Germany : 0.36\",\"Ghana : -4.63\",\"Greece : 3.8\",\"Grenada : -2.08\",\"Guatemala : 3.64\",\"Guinea : -2.46\",\"Guinea-Bissau : -4.24\",\"Guyana : -2.41\",\"Haiti : -1.96\",\"Honduras : 6.87\",\"Hong Kong SAR, China : 3.69\",\"Hungary : -1.36\",\"Iceland : 2.08\",\"India : 0.31\",\"Indonesia : -0.86\",\"Iran, Islamic Rep. : 2.53\",\"Iraq : -1.64\",\"Ireland : -0.76\",\"Israel : 4.02\",\"Italy : 3.69\",\"Jamaica : 2.86\",\"Japan : 4.69\",\"Jordan : 2.64\",\"Kazakhstan : -3.42\",\"Kenya : -0.58\",\"Kiribati : 4.93\",\"Korea, Rep. : 3.8\",\"Kosovo : 0.36\",\"Kuwait : -5.42\",\"Kyrgyz Republic : 3.42\",\"Lao PDR : -2.58\",\"Latvia : -2.25\",\"Lebanon : 4.97\",\"Lesotho : -11.02\",\"Liberia : 1.98\",\"Libya : 0.09\",\"Lithuania : -3.14\",\"Luxembourg : -2.92\",\"Macao SAR, China : -1.48\",\"Madagascar : 4.87\",\"Malawi : 2.26\",\"Malaysia : -0.81\",\"Maldives : 3.36\",\"Mali : -5.07\",\"Malta : 2.58\",\"Mauritania : -3.63\",\"Mauritius : -0.58\",\"Mexico : -0.14\",\"Micronesia, Fed. Sts. : 2.48\",\"Moldova : -0.25\",\"Mongolia : -2.08\",\"Montenegro : 0.86\",\"Morocco : 6.37\",\"Mozambique : -0.96\",\"Myanmar : 0.42\",\"Namibia : -8.47\",\"Nepal : 4.37\",\"Netherlands : 1.13\",\"New Zealand : 2.64\",\"Nicaragua : 5.48\",\"Niger : 2.6\",\"Nigeria : -13.74\",\"North Macedonia : 2.14\",\"Norway : 1.3\",\"Oman : -1.09\",\"Pakistan : -0.02\",\"Panama : 0.41\",\"Papua New Guinea : -2.69\",\"Paraguay : 1.36\",\"Peru : 3.36\",\"Philippines : 0.81\",\"Poland : 0.53\",\"Portugal : 2.97\",\"Puerto Rico : 1.75\",\"Qatar : -3.7\",\"Romania : -1.92\",\"Russian Federation : -4.7\",\"Rwanda : 5.65\",\"Samoa : 4.03\",\"Sao Tome and Principe : 3.81\",\"Saudi Arabia : -5.03\",\"Senegal : 1.98\",\"Serbia : 1.81\",\"Seychelles : -2.97\",\"Sierra Leone : -7.29\",\"Singapore : -0.92\",\"Slovak Republic : -0.47\",\"Slovenia : 2.41\",\"Solomon Islands : 8.98\",\"Somalia : -2.01\",\"South Africa : -9.19\",\"Spain : 3.97\",\"Sri Lanka : 4.36\",\"St. Lucia : 2.42\",\"St. Vincent and the Grenadines : -0.53\",\"Sudan : -2.08\",\"Suriname : -3.75\",\"Sweden : 1.47\",\"Switzerland : 1.86\",\"Tajikistan : 5.87\",\"Tanzania : 0.26\",\"Thailand : 2.53\",\"Timor-Leste : 3.98\",\"Togo : -2.46\",\"Tonga : 2.03\",\"Trinidad and Tobago : -3.75\",\"Tunisia : 3.97\",\"Turkey : -0.08\",\"Turkmenistan : -5.3\",\"Uganda : 0.37\",\"Ukraine : -0.3\",\"United Arab Emirates : -3.98\",\"United Kingdom : 1.08\",\"United States : -2.37\",\"Uruguay : 1.97\",\"Uzbekistan : 1.75\",\"Vanuatu : 5.2\",\"Vietnam : 5.48\",\"West Bank and Gaza : 5.09\",\"Zambia : -2.52\",\"Zimbabwe : -5.02\"],\"type\":\"scatter\",\"x\":[0.72,2.55,2.46,1.99,2.99,3.16,2.49,3.66,3.88,3.99,2.65,3.58,3.87,1.43,2.76,2.91,3.92,1.97,1.11,4.4,2.41,2.13,2.62,2.77,2.68,4.11,3.07,0.71,-0.26,1.89,1.37,1.3,3.88,-0.09,0.46,3.2,2.66,2.65,1.11,0.06,1.44,3.01,1.57,3.3,3.24,3.65,3.66,4.01,1.59,2.82,2.45,2.4,2.13,3.12,3.52,2.13,0.7,2.6,3.86,3.8,2.71,0.73,2.61,3.97,1.63,3.35,2.79,2.12,0.88,0.66,2.49,1.15,1.72,4.09,3.38,4.02,1.82,2.39,2.68,2.35,4.35,3.67,3.73,2.26,3.73,2.3,3.21,1.44,0.81,3.71,2.35,3.93,1.62,1.98,3.36,2.78,0.98,0.44,2.58,3.52,4.74,4.84,0.46,0.39,3.28,2.89,0.81,3.75,1.63,3.06,2.98,1.25,2.46,2.43,2.98,1.99,0.25,1.44,2.32,1.27,4.01,3.74,1.79,0.15,1.65,2.75,4.16,3.51,1.52,3.42,1.46,2.53,2.53,2.09,3.4,3.5,3.54,4.52,3.3,3.26,0.68,1.87,1.37,3.86,1.16,2.81,3.31,0.49,4.56,3.4,3.6,0.98,0.08,2.63,3.68,2.53,2.7,2.51,1.53,2.91,3.95,4.24,1.18,0.93,2.86,1.16,0.7,1.87,3.27,2.42,3.33,2.65,0.73,2.47,4.21,3.84,4.1,3.14,1.92,1.12,1.97,1.86,1.25,1.34],\"y\":[64.0,78.0,76.0,60.0,77.0,76.0,75.0,76.0,82.0,82.0,73.0,74.0,77.0,72.0,79.0,74.0,81.0,74.0,61.0,81.0,71.0,71.0,77.0,69.0,75.0,76.0,75.0,61.0,61.0,73.0,69.0,59.0,82.0,52.0,54.0,80.0,76.0,77.0,64.0,60.0,64.0,80.0,57.0,78.0,78.0,81.0,79.0,81.0,66.0,74.0,77.0,72.0,73.0,58.0,78.0,58.0,66.0,67.0,82.0,83.0,66.0,61.0,73.0,81.0,63.0,81.0,72.0,74.0,61.0,58.0,70.0,63.0,75.0,85.0,76.0,83.0,69.0,71.0,76.0,70.0,82.0,83.0,83.0,74.0,84.0,74.0,73.0,66.0,68.0,83.0,72.0,75.0,71.0,67.0,75.0,79.0,53.0,63.0,73.0,75.0,82.0,84.0,66.0,63.0,76.0,78.0,58.0,82.0,64.0,75.0,75.0,68.0,72.0,70.0,76.0,76.0,59.0,67.0,63.0,70.0,82.0,82.0,74.0,62.0,54.0,76.0,83.0,77.0,67.0,78.0,64.0,74.0,76.0,71.0,78.0,81.0,80.0,80.0,75.0,72.0,68.0,73.0,70.0,75.0,67.0,76.0,74.0,54.0,83.0,77.0,81.0,73.0,57.0,64.0,83.0,77.0,76.0,72.0,65.0,71.0,82.0,84.0,71.0,64.0,77.0,69.0,60.0,71.0,73.0,76.0,77.0,68.0,63.0,72.0,78.0,81.0,79.0,78.0,71.0,70.0,75.0,74.0,63.0,61.0]},{\"line\":{\"color\":\"rgba(0, 0, 0, 1.0)\",\"dash\":\"dash\",\"shape\":\"linear\",\"width\":3},\"mode\":\"lines\",\"name\":\"5.56*x+58.57\",\"type\":\"scatter\",\"x\":[0.72,2.55,2.46,1.99,2.99,3.16,2.49,3.66,3.88,3.99,2.65,3.58,3.87,1.43,2.76,2.91,3.92,1.97,1.11,4.4,2.41,2.13,2.62,2.77,2.68,4.11,3.07,0.71,-0.26,1.89,1.37,1.3,3.88,-0.09,0.46,3.2,2.66,2.65,1.11,0.06,1.44,3.01,1.57,3.3,3.24,3.65,3.66,4.01,1.59,2.82,2.45,2.4,2.13,3.12,3.52,2.13,0.7,2.6,3.86,3.8,2.71,0.73,2.61,3.97,1.63,3.35,2.79,2.12,0.88,0.66,2.49,1.15,1.72,4.09,3.38,4.02,1.82,2.39,2.68,2.35,4.35,3.67,3.73,2.26,3.73,2.3,3.21,1.44,0.81,3.71,2.35,3.93,1.62,1.98,3.36,2.78,0.98,0.44,2.58,3.52,4.74,4.84,0.46,0.39,3.28,2.89,0.81,3.75,1.63,3.06,2.98,1.25,2.46,2.43,2.98,1.99,0.25,1.44,2.32,1.27,4.01,3.74,1.79,0.15,1.65,2.75,4.16,3.51,1.52,3.42,1.46,2.53,2.53,2.09,3.4,3.5,3.54,4.52,3.3,3.26,0.68,1.87,1.37,3.86,1.16,2.81,3.31,0.49,4.56,3.4,3.6,0.98,0.08,2.63,3.68,2.53,2.7,2.51,1.53,2.91,3.95,4.24,1.18,0.93,2.86,1.16,0.7,1.87,3.27,2.42,3.33,2.65,0.73,2.47,4.21,3.84,4.1,3.14,1.92,1.12,1.97,1.86,1.25,1.34],\"y\":[62.56855042798738,72.7440112165043,72.24357871870839,69.63020900799638,75.19057009461766,76.13583147934327,72.41038955130702,78.9160120226539,80.13929146171058,80.75093118123893,73.30004732516642,78.4711831357242,80.08368785084437,66.51640679948848,73.91168704469476,74.74574120768796,80.36170590517543,69.51900178626397,64.73709125176967,83.03067922675365,71.96556066437732,70.40865956012337,73.13323649256779,73.96729065556097,73.46685815776506,81.41817451163348,75.63539898154735,62.51294681712117,57.11939656309854,69.07417289933426,66.18278513429121,65.79355985822772,80.13929146171058,58.06465794782416,61.12285654546585,76.35824592280812,73.35565093603265,73.30004732516642,64.73709125176967,58.89871211081735,66.5720104103547,75.30177731635008,67.29485735161546,76.91428203147025,76.58066036627298,78.86040841178769,78.9160120226539,80.86213840297134,67.40606457334789,74.24530870989204,72.18797510784218,71.9099570535111,70.40865956012337,75.91341703587842,78.13756147052692,70.40865956012337,62.457343206254954,73.02202927083536,80.02808423997816,79.69446257478089,73.6336689903637,62.6241540388536,73.07763288170158,80.6397239595065,67.62847901681273,77.1923000858013,74.0784978772934,70.35305594925715,63.45820820184679,62.234928762790105,72.41038955130702,64.95950569523453,68.12891151460865,81.30696728990105,77.35911091839995,80.91774201383755,68.68494762327077,71.85435344264489,73.46685815776506,71.63193899918005,82.75266117242258,78.97161563352012,79.30523729871739,71.13150650138414,79.30523729871739,71.35392094484898,76.41384953367434,66.5720104103547,63.068982925783295,79.19403007698497,71.63193899918005,80.41730951604164,67.57287540594652,69.57460539713017,77.24790369666752,74.02289426642719,64.01424431050891,61.01164932373343,72.91082204910293,78.13756147052692,84.92120199620487,85.477238104867,61.12285654546585,60.733631269402366,76.80307480973782,74.63453398595553,63.068982925783295,79.41644452044982,67.62847901681273,75.57979537068114,75.13496648375144,65.51554180389665,72.24357871870839,72.07676788610975,75.13496648375144,69.63020900799638,59.95518071727539,66.5720104103547,71.46512816658141,65.62674902562908,80.86213840297134,79.3608409095836,68.51813679067214,59.39914460861326,67.73968623854516,73.85608343382856,81.69619256596454,78.08195785966072,67.01683929728439,77.5815253618648,66.68321763208712,72.63280399477188,72.63280399477188,70.18624511665851,77.47031814013238,78.0263542487945,78.24876869225935,83.69792255714819,76.91428203147025,76.6918675880054,62.34613598452253,68.96296567760184,66.18278513429121,80.02808423997816,65.01510930610074,74.18970509902583,76.96988564233646,61.28966737806449,83.92033700061305,77.47031814013238,78.58239035745663,64.01424431050891,59.00991933254977,73.188840103434,79.02721924438633,72.63280399477188,73.57806537949749,72.52159677303945,67.0724429081506,74.74574120768796,80.52851673777407,82.14102145289424,65.12631652783317,63.73622625617785,74.46772315335689,65.01510930610074,62.457343206254954,68.96296567760184,76.74747119887161,72.02116427524354,77.08109286406889,73.30004732516642,62.6241540388536,72.29918232957459,81.9742106202956,79.91687701824573,81.36257090076725,76.02462425761084,69.2409837319329,64.79269486263588,69.51900178626397,68.90736206673563,65.51554180389665,66.01597430169257]}],                        {\"legend\":{\"bgcolor\":\"#F5F6F9\",\"font\":{\"color\":\"#4D5663\"}},\"paper_bgcolor\":\"#F5F6F9\",\"plot_bgcolor\":\"#F5F6F9\",\"template\":{\"data\":{\"bar\":[{\"error_x\":{\"color\":\"#2a3f5f\"},\"error_y\":{\"color\":\"#2a3f5f\"},\"marker\":{\"line\":{\"color\":\"#E5ECF6\",\"width\":0.5},\"pattern\":{\"fillmode\":\"overlay\",\"size\":10,\"solidity\":0.2}},\"type\":\"bar\"}],\"barpolar\":[{\"marker\":{\"line\":{\"color\":\"#E5ECF6\",\"width\":0.5},\"pattern\":{\"fillmode\":\"overlay\",\"size\":10,\"solidity\":0.2}},\"type\":\"barpolar\"}],\"carpet\":[{\"aaxis\":{\"endlinecolor\":\"#2a3f5f\",\"gridcolor\":\"white\",\"linecolor\":\"white\",\"minorgridcolor\":\"white\",\"startlinecolor\":\"#2a3f5f\"},\"baxis\":{\"endlinecolor\":\"#2a3f5f\",\"gridcolor\":\"white\",\"linecolor\":\"white\",\"minorgridcolor\":\"white\",\"startlinecolor\":\"#2a3f5f\"},\"type\":\"carpet\"}],\"choropleth\":[{\"colorbar\":{\"outlinewidth\":0,\"ticks\":\"\"},\"type\":\"choropleth\"}],\"contour\":[{\"colorbar\":{\"outlinewidth\":0,\"ticks\":\"\"},\"colorscale\":[[0.0,\"#0d0887\"],[0.1111111111111111,\"#46039f\"],[0.2222222222222222,\"#7201a8\"],[0.3333333333333333,\"#9c179e\"],[0.4444444444444444,\"#bd3786\"],[0.5555555555555556,\"#d8576b\"],[0.6666666666666666,\"#ed7953\"],[0.7777777777777778,\"#fb9f3a\"],[0.8888888888888888,\"#fdca26\"],[1.0,\"#f0f921\"]],\"type\":\"contour\"}],\"contourcarpet\":[{\"colorbar\":{\"outlinewidth\":0,\"ticks\":\"\"},\"type\":\"contourcarpet\"}],\"heatmap\":[{\"colorbar\":{\"outlinewidth\":0,\"ticks\":\"\"},\"colorscale\":[[0.0,\"#0d0887\"],[0.1111111111111111,\"#46039f\"],[0.2222222222222222,\"#7201a8\"],[0.3333333333333333,\"#9c179e\"],[0.4444444444444444,\"#bd3786\"],[0.5555555555555556,\"#d8576b\"],[0.6666666666666666,\"#ed7953\"],[0.7777777777777778,\"#fb9f3a\"],[0.8888888888888888,\"#fdca26\"],[1.0,\"#f0f921\"]],\"type\":\"heatmap\"}],\"heatmapgl\":[{\"colorbar\":{\"outlinewidth\":0,\"ticks\":\"\"},\"colorscale\":[[0.0,\"#0d0887\"],[0.1111111111111111,\"#46039f\"],[0.2222222222222222,\"#7201a8\"],[0.3333333333333333,\"#9c179e\"],[0.4444444444444444,\"#bd3786\"],[0.5555555555555556,\"#d8576b\"],[0.6666666666666666,\"#ed7953\"],[0.7777777777777778,\"#fb9f3a\"],[0.8888888888888888,\"#fdca26\"],[1.0,\"#f0f921\"]],\"type\":\"heatmapgl\"}],\"histogram\":[{\"marker\":{\"pattern\":{\"fillmode\":\"overlay\",\"size\":10,\"solidity\":0.2}},\"type\":\"histogram\"}],\"histogram2d\":[{\"colorbar\":{\"outlinewidth\":0,\"ticks\":\"\"},\"colorscale\":[[0.0,\"#0d0887\"],[0.1111111111111111,\"#46039f\"],[0.2222222222222222,\"#7201a8\"],[0.3333333333333333,\"#9c179e\"],[0.4444444444444444,\"#bd3786\"],[0.5555555555555556,\"#d8576b\"],[0.6666666666666666,\"#ed7953\"],[0.7777777777777778,\"#fb9f3a\"],[0.8888888888888888,\"#fdca26\"],[1.0,\"#f0f921\"]],\"type\":\"histogram2d\"}],\"histogram2dcontour\":[{\"colorbar\":{\"outlinewidth\":0,\"ticks\":\"\"},\"colorscale\":[[0.0,\"#0d0887\"],[0.1111111111111111,\"#46039f\"],[0.2222222222222222,\"#7201a8\"],[0.3333333333333333,\"#9c179e\"],[0.4444444444444444,\"#bd3786\"],[0.5555555555555556,\"#d8576b\"],[0.6666666666666666,\"#ed7953\"],[0.7777777777777778,\"#fb9f3a\"],[0.8888888888888888,\"#fdca26\"],[1.0,\"#f0f921\"]],\"type\":\"histogram2dcontour\"}],\"mesh3d\":[{\"colorbar\":{\"outlinewidth\":0,\"ticks\":\"\"},\"type\":\"mesh3d\"}],\"parcoords\":[{\"line\":{\"colorbar\":{\"outlinewidth\":0,\"ticks\":\"\"}},\"type\":\"parcoords\"}],\"pie\":[{\"automargin\":true,\"type\":\"pie\"}],\"scatter\":[{\"marker\":{\"colorbar\":{\"outlinewidth\":0,\"ticks\":\"\"}},\"type\":\"scatter\"}],\"scatter3d\":[{\"line\":{\"colorbar\":{\"outlinewidth\":0,\"ticks\":\"\"}},\"marker\":{\"colorbar\":{\"outlinewidth\":0,\"ticks\":\"\"}},\"type\":\"scatter3d\"}],\"scattercarpet\":[{\"marker\":{\"colorbar\":{\"outlinewidth\":0,\"ticks\":\"\"}},\"type\":\"scattercarpet\"}],\"scattergeo\":[{\"marker\":{\"colorbar\":{\"outlinewidth\":0,\"ticks\":\"\"}},\"type\":\"scattergeo\"}],\"scattergl\":[{\"marker\":{\"colorbar\":{\"outlinewidth\":0,\"ticks\":\"\"}},\"type\":\"scattergl\"}],\"scattermapbox\":[{\"marker\":{\"colorbar\":{\"outlinewidth\":0,\"ticks\":\"\"}},\"type\":\"scattermapbox\"}],\"scatterpolar\":[{\"marker\":{\"colorbar\":{\"outlinewidth\":0,\"ticks\":\"\"}},\"type\":\"scatterpolar\"}],\"scatterpolargl\":[{\"marker\":{\"colorbar\":{\"outlinewidth\":0,\"ticks\":\"\"}},\"type\":\"scatterpolargl\"}],\"scatterternary\":[{\"marker\":{\"colorbar\":{\"outlinewidth\":0,\"ticks\":\"\"}},\"type\":\"scatterternary\"}],\"surface\":[{\"colorbar\":{\"outlinewidth\":0,\"ticks\":\"\"},\"colorscale\":[[0.0,\"#0d0887\"],[0.1111111111111111,\"#46039f\"],[0.2222222222222222,\"#7201a8\"],[0.3333333333333333,\"#9c179e\"],[0.4444444444444444,\"#bd3786\"],[0.5555555555555556,\"#d8576b\"],[0.6666666666666666,\"#ed7953\"],[0.7777777777777778,\"#fb9f3a\"],[0.8888888888888888,\"#fdca26\"],[1.0,\"#f0f921\"]],\"type\":\"surface\"}],\"table\":[{\"cells\":{\"fill\":{\"color\":\"#EBF0F8\"},\"line\":{\"color\":\"white\"}},\"header\":{\"fill\":{\"color\":\"#C8D4E3\"},\"line\":{\"color\":\"white\"}},\"type\":\"table\"}]},\"layout\":{\"annotationdefaults\":{\"arrowcolor\":\"#2a3f5f\",\"arrowhead\":0,\"arrowwidth\":1},\"autotypenumbers\":\"strict\",\"coloraxis\":{\"colorbar\":{\"outlinewidth\":0,\"ticks\":\"\"}},\"colorscale\":{\"diverging\":[[0,\"#8e0152\"],[0.1,\"#c51b7d\"],[0.2,\"#de77ae\"],[0.3,\"#f1b6da\"],[0.4,\"#fde0ef\"],[0.5,\"#f7f7f7\"],[0.6,\"#e6f5d0\"],[0.7,\"#b8e186\"],[0.8,\"#7fbc41\"],[0.9,\"#4d9221\"],[1,\"#276419\"]],\"sequential\":[[0.0,\"#0d0887\"],[0.1111111111111111,\"#46039f\"],[0.2222222222222222,\"#7201a8\"],[0.3333333333333333,\"#9c179e\"],[0.4444444444444444,\"#bd3786\"],[0.5555555555555556,\"#d8576b\"],[0.6666666666666666,\"#ed7953\"],[0.7777777777777778,\"#fb9f3a\"],[0.8888888888888888,\"#fdca26\"],[1.0,\"#f0f921\"]],\"sequentialminus\":[[0.0,\"#0d0887\"],[0.1111111111111111,\"#46039f\"],[0.2222222222222222,\"#7201a8\"],[0.3333333333333333,\"#9c179e\"],[0.4444444444444444,\"#bd3786\"],[0.5555555555555556,\"#d8576b\"],[0.6666666666666666,\"#ed7953\"],[0.7777777777777778,\"#fb9f3a\"],[0.8888888888888888,\"#fdca26\"],[1.0,\"#f0f921\"]]},\"colorway\":[\"#636efa\",\"#EF553B\",\"#00cc96\",\"#ab63fa\",\"#FFA15A\",\"#19d3f3\",\"#FF6692\",\"#B6E880\",\"#FF97FF\",\"#FECB52\"],\"font\":{\"color\":\"#2a3f5f\"},\"geo\":{\"bgcolor\":\"white\",\"lakecolor\":\"white\",\"landcolor\":\"#E5ECF6\",\"showlakes\":true,\"showland\":true,\"subunitcolor\":\"white\"},\"hoverlabel\":{\"align\":\"left\"},\"hovermode\":\"closest\",\"mapbox\":{\"style\":\"light\"},\"paper_bgcolor\":\"white\",\"plot_bgcolor\":\"#E5ECF6\",\"polar\":{\"angularaxis\":{\"gridcolor\":\"white\",\"linecolor\":\"white\",\"ticks\":\"\"},\"bgcolor\":\"#E5ECF6\",\"radialaxis\":{\"gridcolor\":\"white\",\"linecolor\":\"white\",\"ticks\":\"\"}},\"scene\":{\"xaxis\":{\"backgroundcolor\":\"#E5ECF6\",\"gridcolor\":\"white\",\"gridwidth\":2,\"linecolor\":\"white\",\"showbackground\":true,\"ticks\":\"\",\"zerolinecolor\":\"white\"},\"yaxis\":{\"backgroundcolor\":\"#E5ECF6\",\"gridcolor\":\"white\",\"gridwidth\":2,\"linecolor\":\"white\",\"showbackground\":true,\"ticks\":\"\",\"zerolinecolor\":\"white\"},\"zaxis\":{\"backgroundcolor\":\"#E5ECF6\",\"gridcolor\":\"white\",\"gridwidth\":2,\"linecolor\":\"white\",\"showbackground\":true,\"ticks\":\"\",\"zerolinecolor\":\"white\"}},\"shapedefaults\":{\"line\":{\"color\":\"#2a3f5f\"}},\"ternary\":{\"aaxis\":{\"gridcolor\":\"white\",\"linecolor\":\"white\",\"ticks\":\"\"},\"baxis\":{\"gridcolor\":\"white\",\"linecolor\":\"white\",\"ticks\":\"\"},\"bgcolor\":\"#E5ECF6\",\"caxis\":{\"gridcolor\":\"white\",\"linecolor\":\"white\",\"ticks\":\"\"}},\"title\":{\"x\":0.05},\"xaxis\":{\"automargin\":true,\"gridcolor\":\"white\",\"linecolor\":\"white\",\"ticks\":\"\",\"title\":{\"standoff\":15},\"zerolinecolor\":\"white\",\"zerolinewidth\":2},\"yaxis\":{\"automargin\":true,\"gridcolor\":\"white\",\"linecolor\":\"white\",\"ticks\":\"\",\"title\":{\"standoff\":15},\"zerolinecolor\":\"white\",\"zerolinewidth\":2}}},\"title\":{\"font\":{\"color\":\"#4D5663\"},\"text\":\"the relationship between the expected value of y and different values of x\"},\"xaxis\":{\"gridcolor\":\"#E1E5ED\",\"range\":[-0.5,5],\"showgrid\":true,\"tickfont\":{\"color\":\"#4D5663\"},\"title\":{\"font\":{\"color\":\"#4D5663\"},\"text\":\"ln scale GDP per capita (thousands dollar)\"},\"zerolinecolor\":\"#E1E5ED\"},\"yaxis\":{\"gridcolor\":\"#E1E5ED\",\"range\":[50,90],\"showgrid\":true,\"tickfont\":{\"color\":\"#4D5663\"},\"title\":{\"font\":{\"color\":\"#4D5663\"},\"text\":\"Life expectancy (years)\"},\"zerolinecolor\":\"#E1E5ED\"}},                        {\"showLink\": true, \"linkText\": \"Export to plot.ly\", \"plotlyServerURL\": \"https://plot.ly\", \"responsive\": true}                    ).then(function(){\n",
       "                            \n",
       "var gd = document.getElementById('db3a43e7-4f7f-4c39-bc47-6dad527165c4');\n",
       "var x = new MutationObserver(function (mutations, observer) {{\n",
       "        var display = window.getComputedStyle(gd).display;\n",
       "        if (!display || display === 'none') {{\n",
       "            console.log([gd, 'removed!']);\n",
       "            Plotly.purge(gd);\n",
       "            observer.disconnect();\n",
       "        }}\n",
       "}});\n",
       "\n",
       "// Listen for the removal of the full notebook cells\n",
       "var notebookContainer = gd.closest('#notebook-container');\n",
       "if (notebookContainer) {{\n",
       "    x.observe(notebookContainer, {childList: true});\n",
       "}}\n",
       "\n",
       "// Listen for the clearing of the current output cell\n",
       "var outputEl = gd.closest('.output');\n",
       "if (outputEl) {{\n",
       "    x.observe(outputEl, {childList: true});\n",
       "}}\n",
       "\n",
       "                        })                };                });            </script>        </div>"
      ]
     },
     "metadata": {},
     "output_type": "display_data"
    }
   ],
   "source": [
    "df.iplot(x='log_gdp',\n",
    "         y='Life_expectancy',\n",
    "         text='country_result',\n",
    "         bestfit=True,\n",
    "         bestfit_colors=['black'],\n",
    "         mode='markers',\n",
    "         title='the relationship between the expected value of y and different values of x',\n",
    "         xTitle='ln scale GDP per capita (thousands dollar)',\n",
    "         yTitle='Life expectancy (years)',\n",
    "         colors = 'blue',\n",
    "         xrange=[-0.5, 5],\n",
    "         yrange=[ 50, 90],\n",
    "         dash='solid',\n",
    "         interpolation='linear',\n",
    "         symbol='circle-dot',\n",
    "         size=8,\n",
    "         asFrame=True)"
   ]
  },
  {
   "cell_type": "markdown",
   "id": "1e01c0cb",
   "metadata": {},
   "source": [
    "lines\n",
    "                               markers\n",
    "                               lines+markers\n",
    "                               lines+text\n",
    "                               markers+text\n",
    "                               lines+markers+text\n",
    "\n",
    "level–log regression: yE = α + β ln x\n",
    "β: y is β/100 units higher on average for observations having one percent higher x.\n",
    "\n",
    "One purpose of the exercise is identifying countries where people live especially long or especially\n",
    "short lives for their average income. With the level–log linear regression, the countries with\n",
    "the shortest lives given their average income include Equatorial Guinea, Nigeria, and Cote d’Ivoire,\n",
    "where the average age at death is 18, 15, and 12 years shorter than what we could expect given\n",
    "their GDP per capita. The countries with the longest lives given their income include Vietnam,\n",
    "Nicaragua, and Lebanon where the average age at death is a little more than seven years longer\n",
    "than what we could expect given their GDP per capita. Other interesting results include that lives\n",
    "are more than two years shorter than expected in the USA, two years longer than expected in\n",
    "China, and five years longer than expected in Japan. Looking at the richest countries, lives are six\n",
    "years shorter than expected in Qatar, 0.5 years shorter than expected in Macao and Singapore,\n",
    "and one year shorter than expected in Luxembourg.\n",
    "In fact, the eight countries with the highest levels of GDP per capita have lower life expectancy\n",
    "than predicted by the linear regression. These countries are a mix of city-states (Macao, Singapore),\n",
    "oil-rich countries (Brunei, United Arab Emirates, Qatar), and well-off small Western European\n",
    "countries (Ireland, Luxembourg). This may mean that these particular countries have specific reasons\n",
    "for falling behind what’s expected, maybe including mismeasurement of income due to GDP\n",
    "accounted for that does not enrich local people. But, maybe, this result shows that we just can’t\n",
    "expect life expectancy to be proportionately higher with higher (log) GDP per capita among countries\n",
    "with the highest levels of GDP per capita.\n",
    "\n",
    "It\n",
    "shows that countries with a 1 percent higher GDP per capita have life expectancy higher by 0.053\n",
    "years, on average.\n",
    "\n",
    "We can conclude, therefore, that the association between life expectancy and average GDP is\n",
    "best captured with a regression that has log GDP per capita as the x variable. The slope of this\n",
    "regression is 5.56. This is a level–log regression, so the interpretation of the slope is a bit tricky. It\n",
    "shows that countries with a 1 percent higher GDP per capita have life expectancy higher by 0.053\n",
    "years, on average. Note that 1-percent differences in GDP per capita are very small. Recall that the\n",
    "standard deviation of log GDP per capita is more than 1 so that typical cross-country differences\n",
    "are in the order of hundred percents not one percents. At the same time, the log approximation\n",
    "becomes quite bad at such high levels. As a middle ground, let’s interpret the slope coefficient by\n",
    "looking at 10-percent differences. Countries with a 10 percent higher GDP per capita have a half\n",
    "(0.53) year higher life expectancy on average."
   ]
  },
  {
   "cell_type": "code",
   "execution_count": 31,
   "id": "6a511b29",
   "metadata": {},
   "outputs": [],
   "source": [
    "#!jupyter nbconvert --to html Life_expectancy_and_Income.ipynb"
   ]
  },
  {
   "cell_type": "code",
   "execution_count": 32,
   "id": "896fca02",
   "metadata": {},
   "outputs": [
    {
     "data": {
      "text/plain": [
       "['ggplot', 'pearl', 'solar', 'space', 'white', 'polar', 'henanigans']"
      ]
     },
     "execution_count": 32,
     "metadata": {},
     "output_type": "execute_result"
    }
   ],
   "source": [
    "cf.getThemes()"
   ]
  },
  {
   "cell_type": "code",
   "execution_count": 38,
   "id": "ebd9147b",
   "metadata": {},
   "outputs": [
    {
     "data": {
      "text/html": [
       "<div>\n",
       "<style scoped>\n",
       "    .dataframe tbody tr th:only-of-type {\n",
       "        vertical-align: middle;\n",
       "    }\n",
       "\n",
       "    .dataframe tbody tr th {\n",
       "        vertical-align: top;\n",
       "    }\n",
       "\n",
       "    .dataframe thead th {\n",
       "        text-align: right;\n",
       "    }\n",
       "</style>\n",
       "<table border=\"1\" class=\"dataframe\">\n",
       "  <thead>\n",
       "    <tr style=\"text-align: right;\">\n",
       "      <th></th>\n",
       "      <th>Year</th>\n",
       "      <th>Country Name</th>\n",
       "      <th>Life_expectancy</th>\n",
       "      <th>Population (million)</th>\n",
       "      <th>GDP_per_capita (thousand)</th>\n",
       "      <th>log_gdp</th>\n",
       "      <th>regression_line</th>\n",
       "      <th>result</th>\n",
       "      <th>country_result</th>\n",
       "    </tr>\n",
       "    <tr>\n",
       "      <th>Country Code</th>\n",
       "      <th></th>\n",
       "      <th></th>\n",
       "      <th></th>\n",
       "      <th></th>\n",
       "      <th></th>\n",
       "      <th></th>\n",
       "      <th></th>\n",
       "      <th></th>\n",
       "      <th></th>\n",
       "    </tr>\n",
       "  </thead>\n",
       "  <tbody>\n",
       "    <tr>\n",
       "      <th>AFG</th>\n",
       "      <td>2017</td>\n",
       "      <td>Afghanistan</td>\n",
       "      <td>64.0</td>\n",
       "      <td>36.30</td>\n",
       "      <td>2.06</td>\n",
       "      <td>0.72</td>\n",
       "      <td>62.57</td>\n",
       "      <td>1.43</td>\n",
       "      <td>Afghanistan : 1.43</td>\n",
       "    </tr>\n",
       "    <tr>\n",
       "      <th>ALB</th>\n",
       "      <td>2017</td>\n",
       "      <td>Albania</td>\n",
       "      <td>78.0</td>\n",
       "      <td>2.87</td>\n",
       "      <td>12.77</td>\n",
       "      <td>2.55</td>\n",
       "      <td>72.75</td>\n",
       "      <td>5.25</td>\n",
       "      <td>Albania : 5.25</td>\n",
       "    </tr>\n",
       "    <tr>\n",
       "      <th>DZA</th>\n",
       "      <td>2017</td>\n",
       "      <td>Algeria</td>\n",
       "      <td>76.0</td>\n",
       "      <td>41.39</td>\n",
       "      <td>11.74</td>\n",
       "      <td>2.46</td>\n",
       "      <td>72.25</td>\n",
       "      <td>3.75</td>\n",
       "      <td>Algeria : 3.75</td>\n",
       "    </tr>\n",
       "    <tr>\n",
       "      <th>AGO</th>\n",
       "      <td>2017</td>\n",
       "      <td>Angola</td>\n",
       "      <td>60.0</td>\n",
       "      <td>29.82</td>\n",
       "      <td>7.31</td>\n",
       "      <td>1.99</td>\n",
       "      <td>69.63</td>\n",
       "      <td>-9.63</td>\n",
       "      <td>Angola : -9.63</td>\n",
       "    </tr>\n",
       "    <tr>\n",
       "      <th>ATG</th>\n",
       "      <td>2017</td>\n",
       "      <td>Antigua and Barbuda</td>\n",
       "      <td>77.0</td>\n",
       "      <td>0.10</td>\n",
       "      <td>19.84</td>\n",
       "      <td>2.99</td>\n",
       "      <td>75.19</td>\n",
       "      <td>1.81</td>\n",
       "      <td>Antigua and Barbuda : 1.81</td>\n",
       "    </tr>\n",
       "    <tr>\n",
       "      <th>...</th>\n",
       "      <td>...</td>\n",
       "      <td>...</td>\n",
       "      <td>...</td>\n",
       "      <td>...</td>\n",
       "      <td>...</td>\n",
       "      <td>...</td>\n",
       "      <td>...</td>\n",
       "      <td>...</td>\n",
       "      <td>...</td>\n",
       "    </tr>\n",
       "    <tr>\n",
       "      <th>VUT</th>\n",
       "      <td>2017</td>\n",
       "      <td>Vanuatu</td>\n",
       "      <td>70.0</td>\n",
       "      <td>0.29</td>\n",
       "      <td>3.08</td>\n",
       "      <td>1.12</td>\n",
       "      <td>64.80</td>\n",
       "      <td>5.20</td>\n",
       "      <td>Vanuatu : 5.2</td>\n",
       "    </tr>\n",
       "    <tr>\n",
       "      <th>VNM</th>\n",
       "      <td>2017</td>\n",
       "      <td>Vietnam</td>\n",
       "      <td>75.0</td>\n",
       "      <td>94.60</td>\n",
       "      <td>7.16</td>\n",
       "      <td>1.97</td>\n",
       "      <td>69.52</td>\n",
       "      <td>5.48</td>\n",
       "      <td>Vietnam : 5.48</td>\n",
       "    </tr>\n",
       "    <tr>\n",
       "      <th>PSE</th>\n",
       "      <td>2017</td>\n",
       "      <td>West Bank and Gaza</td>\n",
       "      <td>74.0</td>\n",
       "      <td>4.45</td>\n",
       "      <td>6.40</td>\n",
       "      <td>1.86</td>\n",
       "      <td>68.91</td>\n",
       "      <td>5.09</td>\n",
       "      <td>West Bank and Gaza : 5.09</td>\n",
       "    </tr>\n",
       "    <tr>\n",
       "      <th>ZMB</th>\n",
       "      <td>2017</td>\n",
       "      <td>Zambia</td>\n",
       "      <td>63.0</td>\n",
       "      <td>16.85</td>\n",
       "      <td>3.49</td>\n",
       "      <td>1.25</td>\n",
       "      <td>65.52</td>\n",
       "      <td>-2.52</td>\n",
       "      <td>Zambia : -2.52</td>\n",
       "    </tr>\n",
       "    <tr>\n",
       "      <th>ZWE</th>\n",
       "      <td>2017</td>\n",
       "      <td>Zimbabwe</td>\n",
       "      <td>61.0</td>\n",
       "      <td>14.24</td>\n",
       "      <td>3.80</td>\n",
       "      <td>1.34</td>\n",
       "      <td>66.02</td>\n",
       "      <td>-5.02</td>\n",
       "      <td>Zimbabwe : -5.02</td>\n",
       "    </tr>\n",
       "  </tbody>\n",
       "</table>\n",
       "<p>184 rows × 9 columns</p>\n",
       "</div>"
      ],
      "text/plain": [
       "              Year         Country Name  Life_expectancy  \\\n",
       "Country Code                                               \n",
       "AFG           2017          Afghanistan             64.0   \n",
       "ALB           2017              Albania             78.0   \n",
       "DZA           2017              Algeria             76.0   \n",
       "AGO           2017               Angola             60.0   \n",
       "ATG           2017  Antigua and Barbuda             77.0   \n",
       "...            ...                  ...              ...   \n",
       "VUT           2017              Vanuatu             70.0   \n",
       "VNM           2017              Vietnam             75.0   \n",
       "PSE           2017   West Bank and Gaza             74.0   \n",
       "ZMB           2017               Zambia             63.0   \n",
       "ZWE           2017             Zimbabwe             61.0   \n",
       "\n",
       "              Population (million)  GDP_per_capita (thousand)  log_gdp  \\\n",
       "Country Code                                                             \n",
       "AFG                          36.30                       2.06     0.72   \n",
       "ALB                           2.87                      12.77     2.55   \n",
       "DZA                          41.39                      11.74     2.46   \n",
       "AGO                          29.82                       7.31     1.99   \n",
       "ATG                           0.10                      19.84     2.99   \n",
       "...                            ...                        ...      ...   \n",
       "VUT                           0.29                       3.08     1.12   \n",
       "VNM                          94.60                       7.16     1.97   \n",
       "PSE                           4.45                       6.40     1.86   \n",
       "ZMB                          16.85                       3.49     1.25   \n",
       "ZWE                          14.24                       3.80     1.34   \n",
       "\n",
       "              regression_line  result              country_result  \n",
       "Country Code                                                       \n",
       "AFG                     62.57    1.43          Afghanistan : 1.43  \n",
       "ALB                     72.75    5.25              Albania : 5.25  \n",
       "DZA                     72.25    3.75              Algeria : 3.75  \n",
       "AGO                     69.63   -9.63              Angola : -9.63  \n",
       "ATG                     75.19    1.81  Antigua and Barbuda : 1.81  \n",
       "...                       ...     ...                         ...  \n",
       "VUT                     64.80    5.20               Vanuatu : 5.2  \n",
       "VNM                     69.52    5.48              Vietnam : 5.48  \n",
       "PSE                     68.91    5.09   West Bank and Gaza : 5.09  \n",
       "ZMB                     65.52   -2.52              Zambia : -2.52  \n",
       "ZWE                     66.02   -5.02            Zimbabwe : -5.02  \n",
       "\n",
       "[184 rows x 9 columns]"
      ]
     },
     "execution_count": 38,
     "metadata": {},
     "output_type": "execute_result"
    }
   ],
   "source": [
    "'''colname_indexes = df['colname'].value_counts().index.tolist()\n",
    "colname_count= df['colname'].value_counts().values.tolist()\t,bole tambah sort_values(ascending=True)\n",
    "plt.barh(colname_indexes, colname_count)'''\n",
    "\n",
    "#df['country_result'] = df[['Country Name']] +str ( (df[['result']]).values.tolist() )\n",
    "df['country_result'] = df['Country Name'] + ' : ' + df['result'].astype(str)\n",
    "df"
   ]
  },
  {
   "cell_type": "code",
   "execution_count": null,
   "id": "616bb46a",
   "metadata": {},
   "outputs": [],
   "source": []
  }
 ],
 "metadata": {
  "kernelspec": {
   "display_name": "Python 3 (ipykernel)",
   "language": "python",
   "name": "python3"
  },
  "language_info": {
   "codemirror_mode": {
    "name": "ipython",
    "version": 3
   },
   "file_extension": ".py",
   "mimetype": "text/x-python",
   "name": "python",
   "nbconvert_exporter": "python",
   "pygments_lexer": "ipython3",
   "version": "3.9.7"
  },
  "varInspector": {
   "cols": {
    "lenName": 16,
    "lenType": 16,
    "lenVar": 40
   },
   "kernels_config": {
    "python": {
     "delete_cmd_postfix": "",
     "delete_cmd_prefix": "del ",
     "library": "var_list.py",
     "varRefreshCmd": "print(var_dic_list())"
    },
    "r": {
     "delete_cmd_postfix": ") ",
     "delete_cmd_prefix": "rm(",
     "library": "var_list.r",
     "varRefreshCmd": "cat(var_dic_list()) "
    }
   },
   "types_to_exclude": [
    "module",
    "function",
    "builtin_function_or_method",
    "instance",
    "_Feature"
   ],
   "window_display": false
  }
 },
 "nbformat": 4,
 "nbformat_minor": 5
}
