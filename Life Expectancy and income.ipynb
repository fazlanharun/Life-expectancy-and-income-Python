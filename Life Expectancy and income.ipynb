{
 "cells": [
  {
   "cell_type": "markdown",
   "id": "6bf67671",
   "metadata": {},
   "source": [
    "## The Life Expectancy and Income\n",
    "_by Mohammad Fazlan bin Harun_\n",
    "\n",
    "About the dataset:\n",
    "\n",
    "Data source : https://databank.worldbank.org/source/world-development-indicators\n",
    "\n",
    "Database: World Development Indicators  \n",
    "Countries: check all \"Countries\" (not All or Aggregates)  \n",
    "Series: Life expectancy at birth, total (years) [SP.DYN.LE00.IN]    \n",
    "          Population, total [SP.POP.TOTL]    \n",
    "        GDP per capita, PPP (current international $)(NY.GDP.PCAP.PP.CD)      \n",
    "Time:   check all years\n",
    "\n",
    "layout > orientation > popular > Orientation 4 ( Series on page, Time on Column, Country on Row)\n",
    "\n",
    "Life expectancy at birth, total (years)   \n",
    "-indicates the number of years a newborn infant would live if prevailing patterns of mortality at the time of its birth were to stay the same throughout its life.  \n",
    "-Life expectancy at birth used here is the average number of years a newborn is expected to live if mortality patterns at the time of its birth remain constant in the future. It reflects the overall mortality level of a population, and summarizes the mortality pattern that prevails across all age groups in a given year.\n",
    "\n",
    "Population   \n",
    "-total is based on the de facto definition of population, which counts all residents regardless of legal status or citizenship. The values shown are mid-year estimates.\t\n",
    "\n",
    "GDP per capita, PPP (current international $)\t\n",
    "-This indicator provides per capita values for gross domestic product (GDP) expressed in current international dollars converted by purchasing power parity (PPP) conversion factor. \n",
    "GDP is the sum of gross value added by all resident producers in the country plus any product taxes and minus any subsidies not included in the value of the products."
   ]
  },
  {
   "cell_type": "code",
   "execution_count": 1,
   "id": "da52ea6a",
   "metadata": {},
   "outputs": [],
   "source": [
    "import pandas as pd\n",
    "import numpy as np\n",
    "import matplotlib.pyplot as plt\n",
    "import seaborn as sns\n",
    "import warnings\n",
    "\n",
    "warnings.filterwarnings(\"ignore\")\n",
    "%matplotlib inline\n",
    "sns.set()"
   ]
  },
  {
   "cell_type": "code",
   "execution_count": 2,
   "id": "ca87b18d",
   "metadata": {},
   "outputs": [
    {
     "data": {
      "text/html": [
       "<div>\n",
       "<style scoped>\n",
       "    .dataframe tbody tr th:only-of-type {\n",
       "        vertical-align: middle;\n",
       "    }\n",
       "\n",
       "    .dataframe tbody tr th {\n",
       "        vertical-align: top;\n",
       "    }\n",
       "\n",
       "    .dataframe thead th {\n",
       "        text-align: right;\n",
       "    }\n",
       "</style>\n",
       "<table border=\"1\" class=\"dataframe\">\n",
       "  <thead>\n",
       "    <tr style=\"text-align: right;\">\n",
       "      <th></th>\n",
       "      <th>Time</th>\n",
       "      <th>Time Code</th>\n",
       "      <th>Country Name</th>\n",
       "      <th>Country Code</th>\n",
       "      <th>Life expectancy at birth, total (years) [SP.DYN.LE00.IN]</th>\n",
       "      <th>Population, total [SP.POP.TOTL]</th>\n",
       "      <th>GDP per capita, PPP (current international $) [NY.GDP.PCAP.PP.CD]</th>\n",
       "    </tr>\n",
       "  </thead>\n",
       "  <tbody>\n",
       "    <tr>\n",
       "      <th>0</th>\n",
       "      <td>1960</td>\n",
       "      <td>YR1960</td>\n",
       "      <td>Afghanistan</td>\n",
       "      <td>AFG</td>\n",
       "      <td>32.446</td>\n",
       "      <td>8996967</td>\n",
       "      <td>..</td>\n",
       "    </tr>\n",
       "    <tr>\n",
       "      <th>1</th>\n",
       "      <td>1960</td>\n",
       "      <td>YR1960</td>\n",
       "      <td>Albania</td>\n",
       "      <td>ALB</td>\n",
       "      <td>62.283</td>\n",
       "      <td>1608800</td>\n",
       "      <td>..</td>\n",
       "    </tr>\n",
       "    <tr>\n",
       "      <th>2</th>\n",
       "      <td>1960</td>\n",
       "      <td>YR1960</td>\n",
       "      <td>Algeria</td>\n",
       "      <td>DZA</td>\n",
       "      <td>46.141</td>\n",
       "      <td>11057864</td>\n",
       "      <td>..</td>\n",
       "    </tr>\n",
       "    <tr>\n",
       "      <th>3</th>\n",
       "      <td>1960</td>\n",
       "      <td>YR1960</td>\n",
       "      <td>American Samoa</td>\n",
       "      <td>ASM</td>\n",
       "      <td>..</td>\n",
       "      <td>20127</td>\n",
       "      <td>..</td>\n",
       "    </tr>\n",
       "    <tr>\n",
       "      <th>4</th>\n",
       "      <td>1960</td>\n",
       "      <td>YR1960</td>\n",
       "      <td>Andorra</td>\n",
       "      <td>AND</td>\n",
       "      <td>..</td>\n",
       "      <td>13410</td>\n",
       "      <td>..</td>\n",
       "    </tr>\n",
       "    <tr>\n",
       "      <th>5</th>\n",
       "      <td>1960</td>\n",
       "      <td>YR1960</td>\n",
       "      <td>Angola</td>\n",
       "      <td>AGO</td>\n",
       "      <td>37.524</td>\n",
       "      <td>5454938</td>\n",
       "      <td>..</td>\n",
       "    </tr>\n",
       "    <tr>\n",
       "      <th>6</th>\n",
       "      <td>1960</td>\n",
       "      <td>YR1960</td>\n",
       "      <td>Antigua and Barbuda</td>\n",
       "      <td>ATG</td>\n",
       "      <td>61.968</td>\n",
       "      <td>54132</td>\n",
       "      <td>..</td>\n",
       "    </tr>\n",
       "    <tr>\n",
       "      <th>7</th>\n",
       "      <td>1960</td>\n",
       "      <td>YR1960</td>\n",
       "      <td>Argentina</td>\n",
       "      <td>ARG</td>\n",
       "      <td>65.055</td>\n",
       "      <td>20481781</td>\n",
       "      <td>..</td>\n",
       "    </tr>\n",
       "    <tr>\n",
       "      <th>8</th>\n",
       "      <td>1960</td>\n",
       "      <td>YR1960</td>\n",
       "      <td>Armenia</td>\n",
       "      <td>ARM</td>\n",
       "      <td>65.972</td>\n",
       "      <td>1874119</td>\n",
       "      <td>..</td>\n",
       "    </tr>\n",
       "    <tr>\n",
       "      <th>9</th>\n",
       "      <td>1960</td>\n",
       "      <td>YR1960</td>\n",
       "      <td>Aruba</td>\n",
       "      <td>ABW</td>\n",
       "      <td>65.662</td>\n",
       "      <td>54208</td>\n",
       "      <td>..</td>\n",
       "    </tr>\n",
       "  </tbody>\n",
       "</table>\n",
       "</div>"
      ],
      "text/plain": [
       "   Time Time Code         Country Name Country Code  \\\n",
       "0  1960    YR1960          Afghanistan          AFG   \n",
       "1  1960    YR1960              Albania          ALB   \n",
       "2  1960    YR1960              Algeria          DZA   \n",
       "3  1960    YR1960       American Samoa          ASM   \n",
       "4  1960    YR1960              Andorra          AND   \n",
       "5  1960    YR1960               Angola          AGO   \n",
       "6  1960    YR1960  Antigua and Barbuda          ATG   \n",
       "7  1960    YR1960            Argentina          ARG   \n",
       "8  1960    YR1960              Armenia          ARM   \n",
       "9  1960    YR1960                Aruba          ABW   \n",
       "\n",
       "  Life expectancy at birth, total (years) [SP.DYN.LE00.IN]  \\\n",
       "0                                             32.446         \n",
       "1                                             62.283         \n",
       "2                                             46.141         \n",
       "3                                                 ..         \n",
       "4                                                 ..         \n",
       "5                                             37.524         \n",
       "6                                             61.968         \n",
       "7                                             65.055         \n",
       "8                                             65.972         \n",
       "9                                             65.662         \n",
       "\n",
       "  Population, total [SP.POP.TOTL]  \\\n",
       "0                         8996967   \n",
       "1                         1608800   \n",
       "2                        11057864   \n",
       "3                           20127   \n",
       "4                           13410   \n",
       "5                         5454938   \n",
       "6                           54132   \n",
       "7                        20481781   \n",
       "8                         1874119   \n",
       "9                           54208   \n",
       "\n",
       "  GDP per capita, PPP (current international $) [NY.GDP.PCAP.PP.CD]  \n",
       "0                                                 ..                 \n",
       "1                                                 ..                 \n",
       "2                                                 ..                 \n",
       "3                                                 ..                 \n",
       "4                                                 ..                 \n",
       "5                                                 ..                 \n",
       "6                                                 ..                 \n",
       "7                                                 ..                 \n",
       "8                                                 ..                 \n",
       "9                                                 ..                 "
      ]
     },
     "execution_count": 2,
     "metadata": {},
     "output_type": "execute_result"
    }
   ],
   "source": [
    "data = pd.read_csv(r'C:\\Users\\User\\Desktop\\Python Project Jupyter\\Life expectancy and income\\Data_WB_Life_Expectancy.csv')\n",
    "data.head(10)"
   ]
  },
  {
   "cell_type": "code",
   "execution_count": 3,
   "id": "fab080fe",
   "metadata": {},
   "outputs": [
    {
     "data": {
      "text/plain": [
       "Index(['Time', 'Time Code', 'Country Name', 'Country Code',\n",
       "       'Life expectancy at birth, total (years) [SP.DYN.LE00.IN]',\n",
       "       'Population, total [SP.POP.TOTL]',\n",
       "       'GDP per capita, PPP (current international $) [NY.GDP.PCAP.PP.CD]'],\n",
       "      dtype='object')"
      ]
     },
     "execution_count": 3,
     "metadata": {},
     "output_type": "execute_result"
    }
   ],
   "source": [
    "data.columns"
   ]
  },
  {
   "cell_type": "code",
   "execution_count": 4,
   "id": "bfe53d66",
   "metadata": {},
   "outputs": [
    {
     "data": {
      "text/plain": [
       "(13454, 7)"
      ]
     },
     "execution_count": 4,
     "metadata": {},
     "output_type": "execute_result"
    }
   ],
   "source": [
    "data.shape"
   ]
  },
  {
   "cell_type": "code",
   "execution_count": 5,
   "id": "8f7a2f6d",
   "metadata": {},
   "outputs": [
    {
     "data": {
      "text/html": [
       "<div>\n",
       "<style scoped>\n",
       "    .dataframe tbody tr th:only-of-type {\n",
       "        vertical-align: middle;\n",
       "    }\n",
       "\n",
       "    .dataframe tbody tr th {\n",
       "        vertical-align: top;\n",
       "    }\n",
       "\n",
       "    .dataframe thead th {\n",
       "        text-align: right;\n",
       "    }\n",
       "</style>\n",
       "<table border=\"1\" class=\"dataframe\">\n",
       "  <thead>\n",
       "    <tr style=\"text-align: right;\">\n",
       "      <th></th>\n",
       "      <th>Year</th>\n",
       "      <th>Time Code</th>\n",
       "      <th>Country Name</th>\n",
       "      <th>Country Code</th>\n",
       "      <th>Life_expectancy</th>\n",
       "      <th>Population</th>\n",
       "      <th>GDP_per_capita</th>\n",
       "    </tr>\n",
       "  </thead>\n",
       "  <tbody>\n",
       "    <tr>\n",
       "      <th>0</th>\n",
       "      <td>1960</td>\n",
       "      <td>YR1960</td>\n",
       "      <td>Afghanistan</td>\n",
       "      <td>AFG</td>\n",
       "      <td>32.446</td>\n",
       "      <td>8996967</td>\n",
       "      <td>..</td>\n",
       "    </tr>\n",
       "    <tr>\n",
       "      <th>1</th>\n",
       "      <td>1960</td>\n",
       "      <td>YR1960</td>\n",
       "      <td>Albania</td>\n",
       "      <td>ALB</td>\n",
       "      <td>62.283</td>\n",
       "      <td>1608800</td>\n",
       "      <td>..</td>\n",
       "    </tr>\n",
       "  </tbody>\n",
       "</table>\n",
       "</div>"
      ],
      "text/plain": [
       "   Year Time Code Country Name Country Code Life_expectancy Population  \\\n",
       "0  1960    YR1960  Afghanistan          AFG          32.446    8996967   \n",
       "1  1960    YR1960      Albania          ALB          62.283    1608800   \n",
       "\n",
       "  GDP_per_capita  \n",
       "0             ..  \n",
       "1             ..  "
      ]
     },
     "execution_count": 5,
     "metadata": {},
     "output_type": "execute_result"
    }
   ],
   "source": [
    "data.rename(\n",
    "    columns={\n",
    "        'Time':'Year',\n",
    "        'GDP per capita, PPP (current international $) [NY.GDP.PCAP.PP.CD]':'GDP_per_capita',\n",
    "        'Population, total [SP.POP.TOTL]':'Population',\n",
    "        'Life expectancy at birth, total (years) [SP.DYN.LE00.IN]':'Life_expectancy'\n",
    "    },inplace=True)\n",
    "\n",
    "data.head(2)"
   ]
  },
  {
   "cell_type": "code",
   "execution_count": 6,
   "id": "415c3ef1",
   "metadata": {},
   "outputs": [
    {
     "name": "stdout",
     "output_type": "stream",
     "text": [
      "<class 'pandas.core.frame.DataFrame'>\n",
      "RangeIndex: 13454 entries, 0 to 13453\n",
      "Data columns (total 7 columns):\n",
      " #   Column           Non-Null Count  Dtype \n",
      "---  ------           --------------  ----- \n",
      " 0   Year             13454 non-null  int64 \n",
      " 1   Time Code        13454 non-null  object\n",
      " 2   Country Name     13454 non-null  object\n",
      " 3   Country Code     13454 non-null  object\n",
      " 4   Life_expectancy  13454 non-null  object\n",
      " 5   Population       13454 non-null  object\n",
      " 6   GDP_per_capita   13454 non-null  object\n",
      "dtypes: int64(1), object(6)\n",
      "memory usage: 735.9+ KB\n"
     ]
    }
   ],
   "source": [
    "data.info()"
   ]
  },
  {
   "cell_type": "code",
   "execution_count": 7,
   "id": "13869059",
   "metadata": {},
   "outputs": [
    {
     "data": {
      "text/plain": [
       "Year               0\n",
       "Time Code          0\n",
       "Country Name       0\n",
       "Country Code       0\n",
       "Life_expectancy    0\n",
       "Population         0\n",
       "GDP_per_capita     0\n",
       "dtype: int64"
      ]
     },
     "execution_count": 7,
     "metadata": {},
     "output_type": "execute_result"
    }
   ],
   "source": [
    "data.isna().sum()"
   ]
  },
  {
   "cell_type": "code",
   "execution_count": 8,
   "id": "3e2b9205",
   "metadata": {},
   "outputs": [
    {
     "data": {
      "text/plain": [
       "7684"
      ]
     },
     "execution_count": 8,
     "metadata": {},
     "output_type": "execute_result"
    }
   ],
   "source": [
    "((data['GDP_per_capita'])=='..').sum()"
   ]
  },
  {
   "cell_type": "code",
   "execution_count": 9,
   "id": "77e55b67",
   "metadata": {},
   "outputs": [
    {
     "data": {
      "text/plain": [
       "Year                  0\n",
       "Time Code             0\n",
       "Country Name          0\n",
       "Country Code          0\n",
       "Life_expectancy    1524\n",
       "Population          259\n",
       "GDP_per_capita     7684\n",
       "dtype: int64"
      ]
     },
     "execution_count": 9,
     "metadata": {},
     "output_type": "execute_result"
    }
   ],
   "source": [
    "(data=='..').sum()"
   ]
  },
  {
   "cell_type": "code",
   "execution_count": 10,
   "id": "df8faf1a",
   "metadata": {},
   "outputs": [
    {
     "data": {
      "text/plain": [
       "Year               0\n",
       "Time Code          0\n",
       "Country Name       0\n",
       "Country Code       0\n",
       "Life_expectancy    0\n",
       "Population         0\n",
       "GDP_per_capita     0\n",
       "dtype: int64"
      ]
     },
     "execution_count": 10,
     "metadata": {},
     "output_type": "execute_result"
    }
   ],
   "source": [
    "data= data.replace(\"..\", np.nan)\n",
    "(data=='..').sum()"
   ]
  },
  {
   "cell_type": "code",
   "execution_count": 11,
   "id": "db09f3e0",
   "metadata": {},
   "outputs": [
    {
     "name": "stdout",
     "output_type": "stream",
     "text": [
      "<class 'pandas.core.frame.DataFrame'>\n",
      "RangeIndex: 13454 entries, 0 to 13453\n",
      "Data columns (total 7 columns):\n",
      " #   Column           Non-Null Count  Dtype  \n",
      "---  ------           --------------  -----  \n",
      " 0   Year             13454 non-null  int64  \n",
      " 1   Time Code        13454 non-null  object \n",
      " 2   Country Name     13454 non-null  object \n",
      " 3   Country Code     13454 non-null  object \n",
      " 4   Life_expectancy  11930 non-null  float64\n",
      " 5   Population       13195 non-null  float64\n",
      " 6   GDP_per_capita   5770 non-null   float64\n",
      "dtypes: float64(3), int64(1), object(3)\n",
      "memory usage: 735.9+ KB\n"
     ]
    }
   ],
   "source": [
    "data= data.assign(\n",
    "    Population = pd.to_numeric(data.Population),\n",
    "    GDP_per_capita = pd.to_numeric(data.GDP_per_capita),\n",
    "    Life_expectancy = pd.to_numeric(data.Life_expectancy)\n",
    ")\n",
    "data.info()"
   ]
  },
  {
   "cell_type": "code",
   "execution_count": 12,
   "id": "9290786c",
   "metadata": {},
   "outputs": [
    {
     "data": {
      "text/plain": [
       "Year                  0\n",
       "Time Code             0\n",
       "Country Name          0\n",
       "Country Code          0\n",
       "Life_expectancy    1524\n",
       "Population          259\n",
       "GDP_per_capita     7684\n",
       "dtype: int64"
      ]
     },
     "execution_count": 12,
     "metadata": {},
     "output_type": "execute_result"
    }
   ],
   "source": [
    "data.isnull().sum()"
   ]
  },
  {
   "cell_type": "code",
   "execution_count": 13,
   "id": "74faf0b9",
   "metadata": {},
   "outputs": [
    {
     "data": {
      "text/plain": [
       "True"
      ]
     },
     "execution_count": 13,
     "metadata": {},
     "output_type": "execute_result"
    }
   ],
   "source": [
    "'Malaysia' in (data['Country Name']).values"
   ]
  },
  {
   "cell_type": "code",
   "execution_count": 14,
   "id": "9bd4d09f",
   "metadata": {
    "scrolled": true
   },
   "outputs": [
    {
     "data": {
      "text/plain": [
       "Year               0\n",
       "Time Code          0\n",
       "Country Name       0\n",
       "Country Code       0\n",
       "Life_expectancy    0\n",
       "Population         0\n",
       "GDP_per_capita     0\n",
       "dtype: int64"
      ]
     },
     "execution_count": 14,
     "metadata": {},
     "output_type": "execute_result"
    }
   ],
   "source": [
    "data.dropna(inplace=True)\n",
    "data.isnull().sum()"
   ]
  },
  {
   "cell_type": "code",
   "execution_count": 15,
   "id": "2ac7bd6c",
   "metadata": {},
   "outputs": [
    {
     "data": {
      "text/html": [
       "<div>\n",
       "<style scoped>\n",
       "    .dataframe tbody tr th:only-of-type {\n",
       "        vertical-align: middle;\n",
       "    }\n",
       "\n",
       "    .dataframe tbody tr th {\n",
       "        vertical-align: top;\n",
       "    }\n",
       "\n",
       "    .dataframe thead th {\n",
       "        text-align: right;\n",
       "    }\n",
       "</style>\n",
       "<table border=\"1\" class=\"dataframe\">\n",
       "  <thead>\n",
       "    <tr style=\"text-align: right;\">\n",
       "      <th></th>\n",
       "      <th>Year</th>\n",
       "      <th>Country Name</th>\n",
       "      <th>Life_expectancy</th>\n",
       "      <th>Population (million)</th>\n",
       "      <th>GDP_per_capita (thousand)</th>\n",
       "    </tr>\n",
       "    <tr>\n",
       "      <th>Country Code</th>\n",
       "      <th></th>\n",
       "      <th></th>\n",
       "      <th></th>\n",
       "      <th></th>\n",
       "      <th></th>\n",
       "    </tr>\n",
       "  </thead>\n",
       "  <tbody>\n",
       "    <tr>\n",
       "      <th>ALB</th>\n",
       "      <td>1990</td>\n",
       "      <td>Albania</td>\n",
       "      <td>71.836</td>\n",
       "      <td>3.286542</td>\n",
       "      <td>2.548112</td>\n",
       "    </tr>\n",
       "    <tr>\n",
       "      <th>DZA</th>\n",
       "      <td>1990</td>\n",
       "      <td>Algeria</td>\n",
       "      <td>66.938</td>\n",
       "      <td>25.758872</td>\n",
       "      <td>6.912087</td>\n",
       "    </tr>\n",
       "    <tr>\n",
       "      <th>AGO</th>\n",
       "      <td>1990</td>\n",
       "      <td>Angola</td>\n",
       "      <td>45.306</td>\n",
       "      <td>11.848385</td>\n",
       "      <td>3.279222</td>\n",
       "    </tr>\n",
       "    <tr>\n",
       "      <th>ATG</th>\n",
       "      <td>1990</td>\n",
       "      <td>Antigua and Barbuda</td>\n",
       "      <td>71.520</td>\n",
       "      <td>0.062533</td>\n",
       "      <td>11.586780</td>\n",
       "    </tr>\n",
       "    <tr>\n",
       "      <th>ARG</th>\n",
       "      <td>1990</td>\n",
       "      <td>Argentina</td>\n",
       "      <td>71.594</td>\n",
       "      <td>32.618648</td>\n",
       "      <td>7.191105</td>\n",
       "    </tr>\n",
       "  </tbody>\n",
       "</table>\n",
       "</div>"
      ],
      "text/plain": [
       "              Year         Country Name  Life_expectancy  \\\n",
       "Country Code                                               \n",
       "ALB           1990              Albania           71.836   \n",
       "DZA           1990              Algeria           66.938   \n",
       "AGO           1990               Angola           45.306   \n",
       "ATG           1990  Antigua and Barbuda           71.520   \n",
       "ARG           1990            Argentina           71.594   \n",
       "\n",
       "              Population (million)  GDP_per_capita (thousand)  \n",
       "Country Code                                                   \n",
       "ALB                       3.286542                   2.548112  \n",
       "DZA                      25.758872                   6.912087  \n",
       "AGO                      11.848385                   3.279222  \n",
       "ATG                       0.062533                  11.586780  \n",
       "ARG                      32.618648                   7.191105  "
      ]
     },
     "execution_count": 15,
     "metadata": {},
     "output_type": "execute_result"
    }
   ],
   "source": [
    "data['Population (million)'] = data['Population']/1000000\n",
    "data['GDP_per_capita (thousand)'] = data['GDP_per_capita']/1000\n",
    "data.drop(columns=['GDP_per_capita','Population','Time Code'],inplace=True)\n",
    "data.set_index('Country Code',inplace = True)\n",
    "data.head()"
   ]
  },
  {
   "cell_type": "code",
   "execution_count": 16,
   "id": "1de94b37",
   "metadata": {},
   "outputs": [
    {
     "data": {
      "text/html": [
       "<div>\n",
       "<style scoped>\n",
       "    .dataframe tbody tr th:only-of-type {\n",
       "        vertical-align: middle;\n",
       "    }\n",
       "\n",
       "    .dataframe tbody tr th {\n",
       "        vertical-align: top;\n",
       "    }\n",
       "\n",
       "    .dataframe thead th {\n",
       "        text-align: right;\n",
       "    }\n",
       "</style>\n",
       "<table border=\"1\" class=\"dataframe\">\n",
       "  <thead>\n",
       "    <tr style=\"text-align: right;\">\n",
       "      <th></th>\n",
       "      <th>Year</th>\n",
       "      <th>Country Name</th>\n",
       "      <th>Life_expectancy</th>\n",
       "      <th>Population (million)</th>\n",
       "      <th>GDP_per_capita (thousand)</th>\n",
       "    </tr>\n",
       "    <tr>\n",
       "      <th>Country Code</th>\n",
       "      <th></th>\n",
       "      <th></th>\n",
       "      <th></th>\n",
       "      <th></th>\n",
       "      <th></th>\n",
       "    </tr>\n",
       "  </thead>\n",
       "  <tbody>\n",
       "    <tr>\n",
       "      <th>AFG</th>\n",
       "      <td>2020</td>\n",
       "      <td>Afghanistan</td>\n",
       "      <td>65.173</td>\n",
       "      <td>38.928341</td>\n",
       "      <td>2.078649</td>\n",
       "    </tr>\n",
       "    <tr>\n",
       "      <th>ALB</th>\n",
       "      <td>2020</td>\n",
       "      <td>Albania</td>\n",
       "      <td>78.686</td>\n",
       "      <td>2.837849</td>\n",
       "      <td>13.412097</td>\n",
       "    </tr>\n",
       "    <tr>\n",
       "      <th>DZA</th>\n",
       "      <td>2020</td>\n",
       "      <td>Algeria</td>\n",
       "      <td>77.063</td>\n",
       "      <td>43.851043</td>\n",
       "      <td>11.324236</td>\n",
       "    </tr>\n",
       "    <tr>\n",
       "      <th>AGO</th>\n",
       "      <td>2020</td>\n",
       "      <td>Angola</td>\n",
       "      <td>61.487</td>\n",
       "      <td>32.866268</td>\n",
       "      <td>6.445433</td>\n",
       "    </tr>\n",
       "    <tr>\n",
       "      <th>ATG</th>\n",
       "      <td>2020</td>\n",
       "      <td>Antigua and Barbuda</td>\n",
       "      <td>77.146</td>\n",
       "      <td>0.097928</td>\n",
       "      <td>18.241868</td>\n",
       "    </tr>\n",
       "  </tbody>\n",
       "</table>\n",
       "</div>"
      ],
      "text/plain": [
       "              Year         Country Name  Life_expectancy  \\\n",
       "Country Code                                               \n",
       "AFG           2020          Afghanistan           65.173   \n",
       "ALB           2020              Albania           78.686   \n",
       "DZA           2020              Algeria           77.063   \n",
       "AGO           2020               Angola           61.487   \n",
       "ATG           2020  Antigua and Barbuda           77.146   \n",
       "\n",
       "              Population (million)  GDP_per_capita (thousand)  \n",
       "Country Code                                                   \n",
       "AFG                      38.928341                   2.078649  \n",
       "ALB                       2.837849                  13.412097  \n",
       "DZA                      43.851043                  11.324236  \n",
       "AGO                      32.866268                   6.445433  \n",
       "ATG                       0.097928                  18.241868  "
      ]
     },
     "execution_count": 16,
     "metadata": {},
     "output_type": "execute_result"
    }
   ],
   "source": [
    "# select year\n",
    "df = data[(data['Year'] == 2020)]\n",
    "df.head()"
   ]
  },
  {
   "cell_type": "code",
   "execution_count": 17,
   "id": "0d8e2cb0",
   "metadata": {},
   "outputs": [
    {
     "name": "stdout",
     "output_type": "stream",
     "text": [
      "<class 'pandas.core.frame.DataFrame'>\n",
      "Index: 181 entries, AFG to ZWE\n",
      "Data columns (total 5 columns):\n",
      " #   Column                     Non-Null Count  Dtype  \n",
      "---  ------                     --------------  -----  \n",
      " 0   Year                       181 non-null    int64  \n",
      " 1   Country Name               181 non-null    object \n",
      " 2   Life_expectancy            181 non-null    float64\n",
      " 3   Population (million)       181 non-null    float64\n",
      " 4   GDP_per_capita (thousand)  181 non-null    float64\n",
      "dtypes: float64(3), int64(1), object(1)\n",
      "memory usage: 8.5+ KB\n"
     ]
    }
   ],
   "source": [
    "df.info()"
   ]
  },
  {
   "cell_type": "code",
   "execution_count": 18,
   "id": "5ee8ce0b",
   "metadata": {},
   "outputs": [
    {
     "data": {
      "text/html": [
       "<div>\n",
       "<style scoped>\n",
       "    .dataframe tbody tr th:only-of-type {\n",
       "        vertical-align: middle;\n",
       "    }\n",
       "\n",
       "    .dataframe tbody tr th {\n",
       "        vertical-align: top;\n",
       "    }\n",
       "\n",
       "    .dataframe thead th {\n",
       "        text-align: right;\n",
       "    }\n",
       "</style>\n",
       "<table border=\"1\" class=\"dataframe\">\n",
       "  <thead>\n",
       "    <tr style=\"text-align: right;\">\n",
       "      <th></th>\n",
       "      <th>Year</th>\n",
       "      <th>Country Name</th>\n",
       "      <th>Life_expectancy</th>\n",
       "      <th>Population (million)</th>\n",
       "      <th>GDP_per_capita (thousand)</th>\n",
       "      <th>gdp_total</th>\n",
       "      <th>log_gdp</th>\n",
       "      <th>log_gdp_total</th>\n",
       "    </tr>\n",
       "    <tr>\n",
       "      <th>Country Code</th>\n",
       "      <th></th>\n",
       "      <th></th>\n",
       "      <th></th>\n",
       "      <th></th>\n",
       "      <th></th>\n",
       "      <th></th>\n",
       "      <th></th>\n",
       "      <th></th>\n",
       "    </tr>\n",
       "  </thead>\n",
       "  <tbody>\n",
       "    <tr>\n",
       "      <th>AFG</th>\n",
       "      <td>2020</td>\n",
       "      <td>Afghanistan</td>\n",
       "      <td>65.173000</td>\n",
       "      <td>38.928341</td>\n",
       "      <td>2.078649</td>\n",
       "      <td>80.918342</td>\n",
       "      <td>0.731718</td>\n",
       "      <td>4.393441</td>\n",
       "    </tr>\n",
       "    <tr>\n",
       "      <th>ALB</th>\n",
       "      <td>2020</td>\n",
       "      <td>Albania</td>\n",
       "      <td>78.686000</td>\n",
       "      <td>2.837849</td>\n",
       "      <td>13.412097</td>\n",
       "      <td>38.061507</td>\n",
       "      <td>2.596157</td>\n",
       "      <td>3.639203</td>\n",
       "    </tr>\n",
       "    <tr>\n",
       "      <th>DZA</th>\n",
       "      <td>2020</td>\n",
       "      <td>Algeria</td>\n",
       "      <td>77.063000</td>\n",
       "      <td>43.851043</td>\n",
       "      <td>11.324236</td>\n",
       "      <td>496.579551</td>\n",
       "      <td>2.426945</td>\n",
       "      <td>6.207744</td>\n",
       "    </tr>\n",
       "    <tr>\n",
       "      <th>AGO</th>\n",
       "      <td>2020</td>\n",
       "      <td>Angola</td>\n",
       "      <td>61.487000</td>\n",
       "      <td>32.866268</td>\n",
       "      <td>6.445433</td>\n",
       "      <td>211.837324</td>\n",
       "      <td>1.863372</td>\n",
       "      <td>5.355819</td>\n",
       "    </tr>\n",
       "    <tr>\n",
       "      <th>ATG</th>\n",
       "      <td>2020</td>\n",
       "      <td>Antigua and Barbuda</td>\n",
       "      <td>77.146000</td>\n",
       "      <td>0.097928</td>\n",
       "      <td>18.241868</td>\n",
       "      <td>1.786390</td>\n",
       "      <td>2.903719</td>\n",
       "      <td>0.580197</td>\n",
       "    </tr>\n",
       "    <tr>\n",
       "      <th>ARG</th>\n",
       "      <td>2020</td>\n",
       "      <td>Argentina</td>\n",
       "      <td>76.813000</td>\n",
       "      <td>45.376763</td>\n",
       "      <td>20.770726</td>\n",
       "      <td>942.508330</td>\n",
       "      <td>3.033545</td>\n",
       "      <td>6.848545</td>\n",
       "    </tr>\n",
       "    <tr>\n",
       "      <th>ARM</th>\n",
       "      <td>2020</td>\n",
       "      <td>Armenia</td>\n",
       "      <td>75.224000</td>\n",
       "      <td>2.963234</td>\n",
       "      <td>13.312114</td>\n",
       "      <td>39.446908</td>\n",
       "      <td>2.588674</td>\n",
       "      <td>3.674956</td>\n",
       "    </tr>\n",
       "    <tr>\n",
       "      <th>AUS</th>\n",
       "      <td>2020</td>\n",
       "      <td>Australia</td>\n",
       "      <td>83.200000</td>\n",
       "      <td>25.693267</td>\n",
       "      <td>53.316885</td>\n",
       "      <td>1369.884973</td>\n",
       "      <td>3.976253</td>\n",
       "      <td>7.222482</td>\n",
       "    </tr>\n",
       "    <tr>\n",
       "      <th>AUT</th>\n",
       "      <td>2020</td>\n",
       "      <td>Austria</td>\n",
       "      <td>81.192683</td>\n",
       "      <td>8.916864</td>\n",
       "      <td>55.685970</td>\n",
       "      <td>496.544224</td>\n",
       "      <td>4.019728</td>\n",
       "      <td>6.207673</td>\n",
       "    </tr>\n",
       "    <tr>\n",
       "      <th>AZE</th>\n",
       "      <td>2020</td>\n",
       "      <td>Azerbaijan</td>\n",
       "      <td>73.123000</td>\n",
       "      <td>10.093121</td>\n",
       "      <td>14.479705</td>\n",
       "      <td>146.145419</td>\n",
       "      <td>2.672748</td>\n",
       "      <td>4.984602</td>\n",
       "    </tr>\n",
       "  </tbody>\n",
       "</table>\n",
       "</div>"
      ],
      "text/plain": [
       "              Year         Country Name  Life_expectancy  \\\n",
       "Country Code                                               \n",
       "AFG           2020          Afghanistan        65.173000   \n",
       "ALB           2020              Albania        78.686000   \n",
       "DZA           2020              Algeria        77.063000   \n",
       "AGO           2020               Angola        61.487000   \n",
       "ATG           2020  Antigua and Barbuda        77.146000   \n",
       "ARG           2020            Argentina        76.813000   \n",
       "ARM           2020              Armenia        75.224000   \n",
       "AUS           2020            Australia        83.200000   \n",
       "AUT           2020              Austria        81.192683   \n",
       "AZE           2020           Azerbaijan        73.123000   \n",
       "\n",
       "              Population (million)  GDP_per_capita (thousand)    gdp_total  \\\n",
       "Country Code                                                                 \n",
       "AFG                      38.928341                   2.078649    80.918342   \n",
       "ALB                       2.837849                  13.412097    38.061507   \n",
       "DZA                      43.851043                  11.324236   496.579551   \n",
       "AGO                      32.866268                   6.445433   211.837324   \n",
       "ATG                       0.097928                  18.241868     1.786390   \n",
       "ARG                      45.376763                  20.770726   942.508330   \n",
       "ARM                       2.963234                  13.312114    39.446908   \n",
       "AUS                      25.693267                  53.316885  1369.884973   \n",
       "AUT                       8.916864                  55.685970   496.544224   \n",
       "AZE                      10.093121                  14.479705   146.145419   \n",
       "\n",
       "               log_gdp  log_gdp_total  \n",
       "Country Code                           \n",
       "AFG           0.731718       4.393441  \n",
       "ALB           2.596157       3.639203  \n",
       "DZA           2.426945       6.207744  \n",
       "AGO           1.863372       5.355819  \n",
       "ATG           2.903719       0.580197  \n",
       "ARG           3.033545       6.848545  \n",
       "ARM           2.588674       3.674956  \n",
       "AUS           3.976253       7.222482  \n",
       "AUT           4.019728       6.207673  \n",
       "AZE           2.672748       4.984602  "
      ]
     },
     "execution_count": 18,
     "metadata": {},
     "output_type": "execute_result"
    }
   ],
   "source": [
    "# GDP total, log\n",
    "df[\"gdp_total\"] = df[\"GDP_per_capita (thousand)\"] * df[\"Population (million)\"]\n",
    "df[\"log_gdp\"] = np.log(df[\"GDP_per_capita (thousand)\"])\n",
    "df[\"log_gdp_total\"] = np.log(df[\"gdp_total\"])\n",
    "df.head(10)"
   ]
  },
  {
   "cell_type": "code",
   "execution_count": 19,
   "id": "cb32f33c",
   "metadata": {},
   "outputs": [
    {
     "data": {
      "text/html": [
       "<div>\n",
       "<style scoped>\n",
       "    .dataframe tbody tr th:only-of-type {\n",
       "        vertical-align: middle;\n",
       "    }\n",
       "\n",
       "    .dataframe tbody tr th {\n",
       "        vertical-align: top;\n",
       "    }\n",
       "\n",
       "    .dataframe thead th {\n",
       "        text-align: right;\n",
       "    }\n",
       "</style>\n",
       "<table border=\"1\" class=\"dataframe\">\n",
       "  <thead>\n",
       "    <tr style=\"text-align: right;\">\n",
       "      <th></th>\n",
       "      <th>Year</th>\n",
       "      <th>Life_expectancy</th>\n",
       "      <th>Population (million)</th>\n",
       "      <th>GDP_per_capita (thousand)</th>\n",
       "      <th>gdp_total</th>\n",
       "      <th>log_gdp</th>\n",
       "      <th>log_gdp_total</th>\n",
       "    </tr>\n",
       "  </thead>\n",
       "  <tbody>\n",
       "    <tr>\n",
       "      <th>count</th>\n",
       "      <td>181.0</td>\n",
       "      <td>181.000000</td>\n",
       "      <td>181.000000</td>\n",
       "      <td>181.000000</td>\n",
       "      <td>181.000000</td>\n",
       "      <td>181.000000</td>\n",
       "      <td>181.000000</td>\n",
       "    </tr>\n",
       "    <tr>\n",
       "      <th>mean</th>\n",
       "      <td>2020.0</td>\n",
       "      <td>72.790470</td>\n",
       "      <td>42.011304</td>\n",
       "      <td>21.229429</td>\n",
       "      <td>722.201572</td>\n",
       "      <td>2.488824</td>\n",
       "      <td>4.510836</td>\n",
       "    </tr>\n",
       "    <tr>\n",
       "      <th>std</th>\n",
       "      <td>0.0</td>\n",
       "      <td>7.335254</td>\n",
       "      <td>151.433769</td>\n",
       "      <td>21.837967</td>\n",
       "      <td>2558.150869</td>\n",
       "      <td>1.154214</td>\n",
       "      <td>2.175755</td>\n",
       "    </tr>\n",
       "    <tr>\n",
       "      <th>min</th>\n",
       "      <td>2020.0</td>\n",
       "      <td>53.679000</td>\n",
       "      <td>0.063903</td>\n",
       "      <td>0.771163</td>\n",
       "      <td>0.284692</td>\n",
       "      <td>-0.259855</td>\n",
       "      <td>-1.256348</td>\n",
       "    </tr>\n",
       "    <tr>\n",
       "      <th>25%</th>\n",
       "      <td>2020.0</td>\n",
       "      <td>67.561000</td>\n",
       "      <td>2.351625</td>\n",
       "      <td>5.123826</td>\n",
       "      <td>27.330338</td>\n",
       "      <td>1.633901</td>\n",
       "      <td>3.307997</td>\n",
       "    </tr>\n",
       "    <tr>\n",
       "      <th>50%</th>\n",
       "      <td>2020.0</td>\n",
       "      <td>74.213000</td>\n",
       "      <td>8.947027</td>\n",
       "      <td>13.069176</td>\n",
       "      <td>93.216291</td>\n",
       "      <td>2.570256</td>\n",
       "      <td>4.534922</td>\n",
       "    </tr>\n",
       "    <tr>\n",
       "      <th>75%</th>\n",
       "      <td>2020.0</td>\n",
       "      <td>77.928000</td>\n",
       "      <td>31.255435</td>\n",
       "      <td>31.482680</td>\n",
       "      <td>443.177754</td>\n",
       "      <td>3.449438</td>\n",
       "      <td>6.093971</td>\n",
       "    </tr>\n",
       "    <tr>\n",
       "      <th>max</th>\n",
       "      <td>2020.0</td>\n",
       "      <td>85.387805</td>\n",
       "      <td>1410.929362</td>\n",
       "      <td>117.846137</td>\n",
       "      <td>24283.173526</td>\n",
       "      <td>4.769380</td>\n",
       "      <td>10.097539</td>\n",
       "    </tr>\n",
       "  </tbody>\n",
       "</table>\n",
       "</div>"
      ],
      "text/plain": [
       "         Year  Life_expectancy  Population (million)  \\\n",
       "count   181.0       181.000000            181.000000   \n",
       "mean   2020.0        72.790470             42.011304   \n",
       "std       0.0         7.335254            151.433769   \n",
       "min    2020.0        53.679000              0.063903   \n",
       "25%    2020.0        67.561000              2.351625   \n",
       "50%    2020.0        74.213000              8.947027   \n",
       "75%    2020.0        77.928000             31.255435   \n",
       "max    2020.0        85.387805           1410.929362   \n",
       "\n",
       "       GDP_per_capita (thousand)     gdp_total     log_gdp  log_gdp_total  \n",
       "count                 181.000000    181.000000  181.000000     181.000000  \n",
       "mean                   21.229429    722.201572    2.488824       4.510836  \n",
       "std                    21.837967   2558.150869    1.154214       2.175755  \n",
       "min                     0.771163      0.284692   -0.259855      -1.256348  \n",
       "25%                     5.123826     27.330338    1.633901       3.307997  \n",
       "50%                    13.069176     93.216291    2.570256       4.534922  \n",
       "75%                    31.482680    443.177754    3.449438       6.093971  \n",
       "max                   117.846137  24283.173526    4.769380      10.097539  "
      ]
     },
     "execution_count": 19,
     "metadata": {},
     "output_type": "execute_result"
    }
   ],
   "source": [
    "df.describe()"
   ]
  },
  {
   "cell_type": "code",
   "execution_count": 20,
   "id": "1811e7a6",
   "metadata": {},
   "outputs": [
    {
     "data": {
      "text/html": [
       "<div>\n",
       "<style scoped>\n",
       "    .dataframe tbody tr th:only-of-type {\n",
       "        vertical-align: middle;\n",
       "    }\n",
       "\n",
       "    .dataframe tbody tr th {\n",
       "        vertical-align: top;\n",
       "    }\n",
       "\n",
       "    .dataframe thead th {\n",
       "        text-align: right;\n",
       "    }\n",
       "</style>\n",
       "<table border=\"1\" class=\"dataframe\">\n",
       "  <thead>\n",
       "    <tr style=\"text-align: right;\">\n",
       "      <th></th>\n",
       "      <th>Year</th>\n",
       "      <th>Country Name</th>\n",
       "      <th>Life_expectancy</th>\n",
       "      <th>Population (million)</th>\n",
       "      <th>GDP_per_capita (thousand)</th>\n",
       "      <th>gdp_total</th>\n",
       "      <th>log_gdp</th>\n",
       "      <th>log_gdp_total</th>\n",
       "    </tr>\n",
       "    <tr>\n",
       "      <th>Country Code</th>\n",
       "      <th></th>\n",
       "      <th></th>\n",
       "      <th></th>\n",
       "      <th></th>\n",
       "      <th></th>\n",
       "      <th></th>\n",
       "      <th></th>\n",
       "      <th></th>\n",
       "    </tr>\n",
       "  </thead>\n",
       "  <tbody>\n",
       "    <tr>\n",
       "      <th>MYS</th>\n",
       "      <td>2020</td>\n",
       "      <td>Malaysia</td>\n",
       "      <td>76.306</td>\n",
       "      <td>32.365998</td>\n",
       "      <td>27.923688</td>\n",
       "      <td>903.77802</td>\n",
       "      <td>3.329475</td>\n",
       "      <td>6.806584</td>\n",
       "    </tr>\n",
       "  </tbody>\n",
       "</table>\n",
       "</div>"
      ],
      "text/plain": [
       "              Year Country Name  Life_expectancy  Population (million)  \\\n",
       "Country Code                                                             \n",
       "MYS           2020     Malaysia           76.306             32.365998   \n",
       "\n",
       "              GDP_per_capita (thousand)  gdp_total   log_gdp  log_gdp_total  \n",
       "Country Code                                                                 \n",
       "MYS                           27.923688  903.77802  3.329475       6.806584  "
      ]
     },
     "execution_count": 20,
     "metadata": {},
     "output_type": "execute_result"
    }
   ],
   "source": [
    "life_expectancy_Malaysia2020 = df[(df['Country Name'] == 'Malaysia')]\n",
    "life_expectancy_Malaysia2020"
   ]
  },
  {
   "cell_type": "markdown",
   "id": "78100198",
   "metadata": {},
   "source": [
    "Average life expectancy across the 181 countries in 2020 is 72 years, with a range of 54 to 86. Thus, there is substantial variation in the average length of life across countries. For a comparison to Malaysia (my country), Malaysia is at the upper half of the range where Malaysian citizen expected to live around 76-years-old and 3 months."
   ]
  },
  {
   "cell_type": "code",
   "execution_count": 21,
   "id": "39807932",
   "metadata": {},
   "outputs": [
    {
     "data": {
      "text/plain": [
       "\"life_expectancy_Malaysia =  data[(data['Country Name'] == 'Malaysia')]\\nlife_expectancy_Malaysia\""
      ]
     },
     "execution_count": 21,
     "metadata": {},
     "output_type": "execute_result"
    }
   ],
   "source": [
    "'''life_expectancy_Malaysia =  data[(data['Country Name'] == 'Malaysia')]\n",
    "life_expectancy_Malaysia'''"
   ]
  },
  {
   "cell_type": "code",
   "execution_count": 22,
   "id": "ee89b200",
   "metadata": {},
   "outputs": [
    {
     "name": "stdout",
     "output_type": "stream",
     "text": [
      "Countries with the lowest life expectancy are from :\n"
     ]
    },
    {
     "data": {
      "text/html": [
       "<div>\n",
       "<style scoped>\n",
       "    .dataframe tbody tr th:only-of-type {\n",
       "        vertical-align: middle;\n",
       "    }\n",
       "\n",
       "    .dataframe tbody tr th {\n",
       "        vertical-align: top;\n",
       "    }\n",
       "\n",
       "    .dataframe thead th {\n",
       "        text-align: right;\n",
       "    }\n",
       "</style>\n",
       "<table border=\"1\" class=\"dataframe\">\n",
       "  <thead>\n",
       "    <tr style=\"text-align: right;\">\n",
       "      <th></th>\n",
       "      <th>Country Name</th>\n",
       "    </tr>\n",
       "    <tr>\n",
       "      <th>Country Code</th>\n",
       "      <th></th>\n",
       "    </tr>\n",
       "  </thead>\n",
       "  <tbody>\n",
       "    <tr>\n",
       "      <th>CAF</th>\n",
       "      <td>Central African Republic</td>\n",
       "    </tr>\n",
       "    <tr>\n",
       "      <th>TCD</th>\n",
       "      <td>Chad</td>\n",
       "    </tr>\n",
       "    <tr>\n",
       "      <th>LSO</th>\n",
       "      <td>Lesotho</td>\n",
       "    </tr>\n",
       "    <tr>\n",
       "      <th>NGA</th>\n",
       "      <td>Nigeria</td>\n",
       "    </tr>\n",
       "    <tr>\n",
       "      <th>SLE</th>\n",
       "      <td>Sierra Leone</td>\n",
       "    </tr>\n",
       "  </tbody>\n",
       "</table>\n",
       "</div>"
      ],
      "text/plain": [
       "                          Country Name\n",
       "Country Code                          \n",
       "CAF           Central African Republic\n",
       "TCD                               Chad\n",
       "LSO                            Lesotho\n",
       "NGA                            Nigeria\n",
       "SLE                       Sierra Leone"
      ]
     },
     "execution_count": 22,
     "metadata": {},
     "output_type": "execute_result"
    }
   ],
   "source": [
    "sorted_by_life_expectancy = df.sort_values(by=['Life_expectancy'])\n",
    "\n",
    "print('Countries with the lowest life expectancy are from :')\n",
    "(sorted_by_life_expectancy [['Country Name']].head())"
   ]
  },
  {
   "cell_type": "code",
   "execution_count": 23,
   "id": "5fdf7ceb",
   "metadata": {},
   "outputs": [
    {
     "name": "stdout",
     "output_type": "stream",
     "text": [
      "Countries with the highest life expectancy are from East Asian countries and South East Asian (Singapore)\n"
     ]
    },
    {
     "data": {
      "text/html": [
       "<div>\n",
       "<style scoped>\n",
       "    .dataframe tbody tr th:only-of-type {\n",
       "        vertical-align: middle;\n",
       "    }\n",
       "\n",
       "    .dataframe tbody tr th {\n",
       "        vertical-align: top;\n",
       "    }\n",
       "\n",
       "    .dataframe thead th {\n",
       "        text-align: right;\n",
       "    }\n",
       "</style>\n",
       "<table border=\"1\" class=\"dataframe\">\n",
       "  <thead>\n",
       "    <tr style=\"text-align: right;\">\n",
       "      <th></th>\n",
       "      <th>Country Name</th>\n",
       "    </tr>\n",
       "    <tr>\n",
       "      <th>Country Code</th>\n",
       "      <th></th>\n",
       "    </tr>\n",
       "  </thead>\n",
       "  <tbody>\n",
       "    <tr>\n",
       "      <th>KOR</th>\n",
       "      <td>Korea, Rep.</td>\n",
       "    </tr>\n",
       "    <tr>\n",
       "      <th>SGP</th>\n",
       "      <td>Singapore</td>\n",
       "    </tr>\n",
       "    <tr>\n",
       "      <th>MAC</th>\n",
       "      <td>Macao SAR, China</td>\n",
       "    </tr>\n",
       "    <tr>\n",
       "      <th>JPN</th>\n",
       "      <td>Japan</td>\n",
       "    </tr>\n",
       "    <tr>\n",
       "      <th>HKG</th>\n",
       "      <td>Hong Kong SAR, China</td>\n",
       "    </tr>\n",
       "  </tbody>\n",
       "</table>\n",
       "</div>"
      ],
      "text/plain": [
       "                      Country Name\n",
       "Country Code                      \n",
       "KOR                    Korea, Rep.\n",
       "SGP                      Singapore\n",
       "MAC               Macao SAR, China\n",
       "JPN                          Japan\n",
       "HKG           Hong Kong SAR, China"
      ]
     },
     "execution_count": 23,
     "metadata": {},
     "output_type": "execute_result"
    }
   ],
   "source": [
    "print('''Countries with the highest life expectancy are from East Asian countries and South East Asian (Singapore)''')\n",
    "sorted_by_life_expectancy [['Country Name']].tail()"
   ]
  },
  {
   "cell_type": "markdown",
   "id": "17860f98",
   "metadata": {},
   "source": [
    "### Figure 1: The distribution of GDP per capita"
   ]
  },
  {
   "cell_type": "markdown",
   "id": "1d00acd1",
   "metadata": {},
   "source": [
    "(a) Histogram of GDP per capita"
   ]
  },
  {
   "cell_type": "code",
   "execution_count": 24,
   "id": "3b20754e",
   "metadata": {},
   "outputs": [
    {
     "data": {
      "text/plain": [
       "Text(0, 0.5, 'Frequency')"
      ]
     },
     "execution_count": 24,
     "metadata": {},
     "output_type": "execute_result"
    },
    {
     "data": {
      "image/png": "[encoded data removed]",
      "text/plain": [
       "<Figure size 720x360 with 1 Axes>"
      ]
     },
     "metadata": {},
     "output_type": "display_data"
    }
   ],
   "source": [
    "df['GDP_per_capita (thousand)'].hist(figsize=(10,5),bins=30,)\n",
    "plt.title(\"Figure 1a: The distribution of GDP per capita\", fontsize=15) \n",
    "plt.xlabel(\"GDP per capita (thousand)\", fontsize=12) \n",
    "plt.ylabel(\"Frequency\", fontsize=12)  "
   ]
  },
  {
   "cell_type": "markdown",
   "id": "cfb3f683",
   "metadata": {},
   "source": [
    "(b) Histogram of log (GDP per capita)"
   ]
  },
  {
   "cell_type": "code",
   "execution_count": 25,
   "id": "e37338ac",
   "metadata": {},
   "outputs": [
    {
     "data": {
      "text/plain": [
       "Text(0, 0.5, 'Frequency')"
      ]
     },
     "execution_count": 25,
     "metadata": {},
     "output_type": "execute_result"
    },
    {
     "data": {
      "image/png": "[encoded data removed]",
      "text/plain": [
       "<Figure size 720x360 with 1 Axes>"
      ]
     },
     "metadata": {},
     "output_type": "display_data"
    }
   ],
   "source": [
    "df['log_gdp'].hist(figsize=(10,5),bins=30)\n",
    "plt.title(\"Figure 1b: The distribution of GDP per capita in log 10\", fontsize=15) \n",
    "plt.xlabel(\"GDP per capita (thousand)\", fontsize=12) \n",
    "plt.ylabel(\"Frequency\", fontsize=12)"
   ]
  },
  {
   "cell_type": "markdown",
   "id": "548fae02",
   "metadata": {},
   "source": [
    "### Figure 2 Life expectancy and GDP per capita"
   ]
  },
  {
   "cell_type": "markdown",
   "id": "d8db02e9",
   "metadata": {},
   "source": [
    "(a) Life expectancy and (GDP per capita)"
   ]
  },
  {
   "cell_type": "code",
   "execution_count": 26,
   "id": "5e45f0ee",
   "metadata": {},
   "outputs": [
    {
     "data": {
      "text/plain": [
       "'The preceding screenshot shows a strong correlation between these two variables. However, there are some outliers that we can easily spot from the graph.'"
      ]
     },
     "execution_count": 26,
     "metadata": {},
     "output_type": "execute_result"
    },
    {
     "data": {
      "image/png": "[encoded data removed]",
      "text/plain": [
       "<Figure size 504x360 with 1 Axes>"
      ]
     },
     "metadata": {},
     "output_type": "display_data"
    }
   ],
   "source": [
    "plt.figure(figsize=(7, 5))\n",
    "sns.regplot(df['GDP_per_capita (thousand)'], df['Life_expectancy'])\n",
    "plt.xlabel(\"GDP per capita (thousands dollar)\", fontsize=15) \n",
    "plt.ylabel(\"Life expectancy (years)\", fontsize=15) \n",
    "plt.axis([0, 120, 50, 100])\n",
    "\n",
    "'''The preceding screenshot shows a strong correlation between these two variables. However, there are some outliers that we can easily spot from the graph.'''"
   ]
  },
  {
   "cell_type": "markdown",
   "id": "2caeecc9",
   "metadata": {},
   "source": [
    "(b) Life expectancy and ln (GDP per capita)"
   ]
  },
  {
   "cell_type": "code",
   "execution_count": 27,
   "id": "d08e402a",
   "metadata": {},
   "outputs": [
    {
     "data": {
      "text/plain": [
       "(-0.5, 5.0, 50.0, 85.0)"
      ]
     },
     "execution_count": 27,
     "metadata": {},
     "output_type": "execute_result"
    },
    {
     "data": {
      "image/png": "[encoded data removed]",
      "text/plain": [
       "<Figure size 576x360 with 1 Axes>"
      ]
     },
     "metadata": {},
     "output_type": "display_data"
    }
   ],
   "source": [
    "plt.figure(figsize=(8, 5))\n",
    "sns.regplot(df['log_gdp'],df['Life_expectancy'])\n",
    "plt.xlabel(\"log GDP per capita (thousands dollar)\", fontsize=15) \n",
    "plt.ylabel(\"Life expectancy (years)\", fontsize=15) \n",
    "plt.axis([-0.5, 5, 50, 85])"
   ]
  }
 ],
 "metadata": {
  "kernelspec": {
   "display_name": "Python 3 (ipykernel)",
   "language": "python",
   "name": "python3"
  },
  "language_info": {
   "codemirror_mode": {
    "name": "ipython",
    "version": 3
   },
   "file_extension": ".py",
   "mimetype": "text/x-python",
   "name": "python",
   "nbconvert_exporter": "python",
   "pygments_lexer": "ipython3",
   "version": "3.9.7"
  }
 },
 "nbformat": 4,
 "nbformat_minor": 5
}
