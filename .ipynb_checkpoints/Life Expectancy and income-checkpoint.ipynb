{
 "cells": [
  {
   "cell_type": "markdown",
   "id": "6bf67671",
   "metadata": {},
   "source": [
    "## The Life Expectancy and Income\n",
    "_by Mohammad Fazlan bin Harun_\n",
    "\n",
    "About the dataset:\n",
    "\n",
    "Data source : https://databank.worldbank.org/source/world-development-indicators\n",
    "\n",
    "Database: World Development Indicators  \n",
    "Countries: check all \"Countries\" (not All or Aggregates)  \n",
    "Series: Life expectancy at birth, total (years) [SP.DYN.LE00.IN]    \n",
    "          Population, total [SP.POP.TOTL]    \n",
    "        GDP per capita, PPP (current international $)(NY.GDP.PCAP.PP.CD)      \n",
    "Time:   check all years\n",
    "\n",
    "layout > orientation > popular > Orientation 4 ( Series on page, Time on Column, Country on Row)\n",
    "\n",
    "Life expectancy at birth, total (years)   \n",
    "-indicates the number of years a newborn infant would live if prevailing patterns of mortality at the time of its birth were to stay the same throughout its life.  \n",
    "-Life expectancy at birth used here is the average number of years a newborn is expected to live if mortality patterns at the time of its birth remain constant in the future. It reflects the overall mortality level of a population, and summarizes the mortality pattern that prevails across all age groups in a given year.\n",
    "\n",
    "Population   \n",
    "-total is based on the de facto definition of population, which counts all residents regardless of legal status or citizenship. The values shown are mid-year estimates.\t\n",
    "\n",
    "GDP per capita, PPP (current international $)\t\n",
    "-This indicator provides per capita values for gross domestic product (GDP) expressed in current international dollars converted by purchasing power parity (PPP) conversion factor. \n",
    "GDP is the sum of gross value added by all resident producers in the country plus any product taxes and minus any subsidies not included in the value of the products."
   ]
  },
  {
   "cell_type": "code",
   "execution_count": 1,
   "id": "da52ea6a",
   "metadata": {},
   "outputs": [
    {
     "data": {
      "text/html": [
       "        <script type=\"text/javascript\">\n",
       "        window.PlotlyConfig = {MathJaxConfig: 'local'};\n",
       "        if (window.MathJax) {MathJax.Hub.Config({SVG: {font: \"STIX-Web\"}});}\n",
       "        if (typeof require !== 'undefined') {\n",
       "        require.undef(\"plotly\");\n",
       "        requirejs.config({\n",
       "            paths: {\n",
       "                'plotly': ['https://cdn.plot.ly/plotly-2.4.1.min']\n",
       "            }\n",
       "        });\n",
       "        require(['plotly'], function(Plotly) {\n",
       "            window._Plotly = Plotly;\n",
       "        });\n",
       "        }\n",
       "        </script>\n",
       "        "
      ]
     },
     "metadata": {},
     "output_type": "display_data"
    }
   ],
   "source": [
    "#importing libraries\n",
    "\n",
    "import pandas as pd\n",
    "import numpy as np\n",
    "import matplotlib.pyplot as plt\n",
    "import seaborn as sns\n",
    "import warnings\n",
    "\n",
    "warnings.filterwarnings(\"ignore\")\n",
    "%matplotlib inline\n",
    "sns.set()"
   ]
  },
  {
   "cell_type": "code",
   "execution_count": 2,
   "id": "ca87b18d",
   "metadata": {
    "scrolled": true
   },
   "outputs": [
    {
     "data": {
      "text/html": [
       "<div>\n",
       "<style scoped>\n",
       "    .dataframe tbody tr th:only-of-type {\n",
       "        vertical-align: middle;\n",
       "    }\n",
       "\n",
       "    .dataframe tbody tr th {\n",
       "        vertical-align: top;\n",
       "    }\n",
       "\n",
       "    .dataframe thead th {\n",
       "        text-align: right;\n",
       "    }\n",
       "</style>\n",
       "<table border=\"1\" class=\"dataframe\">\n",
       "  <thead>\n",
       "    <tr style=\"text-align: right;\">\n",
       "      <th></th>\n",
       "      <th>Time</th>\n",
       "      <th>Time Code</th>\n",
       "      <th>Country Name</th>\n",
       "      <th>Country Code</th>\n",
       "      <th>Life expectancy at birth, total (years) [SP.DYN.LE00.IN]</th>\n",
       "      <th>Population, total [SP.POP.TOTL]</th>\n",
       "      <th>GDP per capita, PPP (current international $) [NY.GDP.PCAP.PP.CD]</th>\n",
       "    </tr>\n",
       "  </thead>\n",
       "  <tbody>\n",
       "    <tr>\n",
       "      <th>0</th>\n",
       "      <td>1960</td>\n",
       "      <td>YR1960</td>\n",
       "      <td>Afghanistan</td>\n",
       "      <td>AFG</td>\n",
       "      <td>32.446</td>\n",
       "      <td>8996967</td>\n",
       "      <td>..</td>\n",
       "    </tr>\n",
       "    <tr>\n",
       "      <th>1</th>\n",
       "      <td>1960</td>\n",
       "      <td>YR1960</td>\n",
       "      <td>Albania</td>\n",
       "      <td>ALB</td>\n",
       "      <td>62.283</td>\n",
       "      <td>1608800</td>\n",
       "      <td>..</td>\n",
       "    </tr>\n",
       "    <tr>\n",
       "      <th>2</th>\n",
       "      <td>1960</td>\n",
       "      <td>YR1960</td>\n",
       "      <td>Algeria</td>\n",
       "      <td>DZA</td>\n",
       "      <td>46.141</td>\n",
       "      <td>11057864</td>\n",
       "      <td>..</td>\n",
       "    </tr>\n",
       "    <tr>\n",
       "      <th>3</th>\n",
       "      <td>1960</td>\n",
       "      <td>YR1960</td>\n",
       "      <td>American Samoa</td>\n",
       "      <td>ASM</td>\n",
       "      <td>..</td>\n",
       "      <td>20127</td>\n",
       "      <td>..</td>\n",
       "    </tr>\n",
       "    <tr>\n",
       "      <th>4</th>\n",
       "      <td>1960</td>\n",
       "      <td>YR1960</td>\n",
       "      <td>Andorra</td>\n",
       "      <td>AND</td>\n",
       "      <td>..</td>\n",
       "      <td>13410</td>\n",
       "      <td>..</td>\n",
       "    </tr>\n",
       "    <tr>\n",
       "      <th>5</th>\n",
       "      <td>1960</td>\n",
       "      <td>YR1960</td>\n",
       "      <td>Angola</td>\n",
       "      <td>AGO</td>\n",
       "      <td>37.524</td>\n",
       "      <td>5454938</td>\n",
       "      <td>..</td>\n",
       "    </tr>\n",
       "    <tr>\n",
       "      <th>6</th>\n",
       "      <td>1960</td>\n",
       "      <td>YR1960</td>\n",
       "      <td>Antigua and Barbuda</td>\n",
       "      <td>ATG</td>\n",
       "      <td>61.968</td>\n",
       "      <td>54132</td>\n",
       "      <td>..</td>\n",
       "    </tr>\n",
       "    <tr>\n",
       "      <th>7</th>\n",
       "      <td>1960</td>\n",
       "      <td>YR1960</td>\n",
       "      <td>Argentina</td>\n",
       "      <td>ARG</td>\n",
       "      <td>65.055</td>\n",
       "      <td>20481781</td>\n",
       "      <td>..</td>\n",
       "    </tr>\n",
       "    <tr>\n",
       "      <th>8</th>\n",
       "      <td>1960</td>\n",
       "      <td>YR1960</td>\n",
       "      <td>Armenia</td>\n",
       "      <td>ARM</td>\n",
       "      <td>65.972</td>\n",
       "      <td>1874119</td>\n",
       "      <td>..</td>\n",
       "    </tr>\n",
       "    <tr>\n",
       "      <th>9</th>\n",
       "      <td>1960</td>\n",
       "      <td>YR1960</td>\n",
       "      <td>Aruba</td>\n",
       "      <td>ABW</td>\n",
       "      <td>65.662</td>\n",
       "      <td>54208</td>\n",
       "      <td>..</td>\n",
       "    </tr>\n",
       "  </tbody>\n",
       "</table>\n",
       "</div>"
      ],
      "text/plain": [
       "   Time Time Code         Country Name Country Code  \\\n",
       "0  1960    YR1960          Afghanistan          AFG   \n",
       "1  1960    YR1960              Albania          ALB   \n",
       "2  1960    YR1960              Algeria          DZA   \n",
       "3  1960    YR1960       American Samoa          ASM   \n",
       "4  1960    YR1960              Andorra          AND   \n",
       "5  1960    YR1960               Angola          AGO   \n",
       "6  1960    YR1960  Antigua and Barbuda          ATG   \n",
       "7  1960    YR1960            Argentina          ARG   \n",
       "8  1960    YR1960              Armenia          ARM   \n",
       "9  1960    YR1960                Aruba          ABW   \n",
       "\n",
       "  Life expectancy at birth, total (years) [SP.DYN.LE00.IN]  \\\n",
       "0                                             32.446         \n",
       "1                                             62.283         \n",
       "2                                             46.141         \n",
       "3                                                 ..         \n",
       "4                                                 ..         \n",
       "5                                             37.524         \n",
       "6                                             61.968         \n",
       "7                                             65.055         \n",
       "8                                             65.972         \n",
       "9                                             65.662         \n",
       "\n",
       "  Population, total [SP.POP.TOTL]  \\\n",
       "0                         8996967   \n",
       "1                         1608800   \n",
       "2                        11057864   \n",
       "3                           20127   \n",
       "4                           13410   \n",
       "5                         5454938   \n",
       "6                           54132   \n",
       "7                        20481781   \n",
       "8                         1874119   \n",
       "9                           54208   \n",
       "\n",
       "  GDP per capita, PPP (current international $) [NY.GDP.PCAP.PP.CD]  \n",
       "0                                                 ..                 \n",
       "1                                                 ..                 \n",
       "2                                                 ..                 \n",
       "3                                                 ..                 \n",
       "4                                                 ..                 \n",
       "5                                                 ..                 \n",
       "6                                                 ..                 \n",
       "7                                                 ..                 \n",
       "8                                                 ..                 \n",
       "9                                                 ..                 "
      ]
     },
     "execution_count": 2,
     "metadata": {},
     "output_type": "execute_result"
    }
   ],
   "source": [
    "#loading data\n",
    "\n",
    "data = pd.read_csv('Data_WB_Life_Expectancy.csv')\n",
    "data.head(10)"
   ]
  },
  {
   "cell_type": "markdown",
   "id": "8198ae7a",
   "metadata": {},
   "source": [
    "We can see the GDP per capita column has a null values which we should handle later on."
   ]
  },
  {
   "cell_type": "code",
   "execution_count": 3,
   "id": "fab080fe",
   "metadata": {},
   "outputs": [
    {
     "name": "stdout",
     "output_type": "stream",
     "text": [
      "List of columns :\n"
     ]
    },
    {
     "data": {
      "text/plain": [
       "['Time',\n",
       " 'Time Code',\n",
       " 'Country Name',\n",
       " 'Country Code',\n",
       " 'Life expectancy at birth, total (years) [SP.DYN.LE00.IN]',\n",
       " 'Population, total [SP.POP.TOTL]',\n",
       " 'GDP per capita, PPP (current international $) [NY.GDP.PCAP.PP.CD]']"
      ]
     },
     "execution_count": 3,
     "metadata": {},
     "output_type": "execute_result"
    }
   ],
   "source": [
    "print('List of columns :')\n",
    "data.columns.to_list()"
   ]
  },
  {
   "cell_type": "code",
   "execution_count": 4,
   "id": "bfe53d66",
   "metadata": {},
   "outputs": [
    {
     "name": "stdout",
     "output_type": "stream",
     "text": [
      "There are 13454 rows and 7 columns in this dataset.\n"
     ]
    }
   ],
   "source": [
    "print(f'There are {data.shape[0]} rows and {data.shape[1]} columns in this dataset.')"
   ]
  },
  {
   "cell_type": "code",
   "execution_count": 5,
   "id": "8f7a2f6d",
   "metadata": {},
   "outputs": [
    {
     "data": {
      "text/html": [
       "<div>\n",
       "<style scoped>\n",
       "    .dataframe tbody tr th:only-of-type {\n",
       "        vertical-align: middle;\n",
       "    }\n",
       "\n",
       "    .dataframe tbody tr th {\n",
       "        vertical-align: top;\n",
       "    }\n",
       "\n",
       "    .dataframe thead th {\n",
       "        text-align: right;\n",
       "    }\n",
       "</style>\n",
       "<table border=\"1\" class=\"dataframe\">\n",
       "  <thead>\n",
       "    <tr style=\"text-align: right;\">\n",
       "      <th></th>\n",
       "      <th>Year</th>\n",
       "      <th>Time Code</th>\n",
       "      <th>Country Name</th>\n",
       "      <th>Country Code</th>\n",
       "      <th>Life_expectancy</th>\n",
       "      <th>Population</th>\n",
       "      <th>GDP_per_capita</th>\n",
       "    </tr>\n",
       "  </thead>\n",
       "  <tbody>\n",
       "    <tr>\n",
       "      <th>0</th>\n",
       "      <td>1960</td>\n",
       "      <td>YR1960</td>\n",
       "      <td>Afghanistan</td>\n",
       "      <td>AFG</td>\n",
       "      <td>32.446</td>\n",
       "      <td>8996967</td>\n",
       "      <td>..</td>\n",
       "    </tr>\n",
       "    <tr>\n",
       "      <th>1</th>\n",
       "      <td>1960</td>\n",
       "      <td>YR1960</td>\n",
       "      <td>Albania</td>\n",
       "      <td>ALB</td>\n",
       "      <td>62.283</td>\n",
       "      <td>1608800</td>\n",
       "      <td>..</td>\n",
       "    </tr>\n",
       "  </tbody>\n",
       "</table>\n",
       "</div>"
      ],
      "text/plain": [
       "   Year Time Code Country Name Country Code Life_expectancy Population  \\\n",
       "0  1960    YR1960  Afghanistan          AFG          32.446    8996967   \n",
       "1  1960    YR1960      Albania          ALB          62.283    1608800   \n",
       "\n",
       "  GDP_per_capita  \n",
       "0             ..  \n",
       "1             ..  "
      ]
     },
     "execution_count": 5,
     "metadata": {},
     "output_type": "execute_result"
    }
   ],
   "source": [
    "#renaming column \n",
    "\n",
    "data.rename(\n",
    "    columns={\n",
    "        'Time':'Year',\n",
    "        'GDP per capita, PPP (current international $) [NY.GDP.PCAP.PP.CD]':'GDP_per_capita',\n",
    "        'Population, total [SP.POP.TOTL]':'Population',\n",
    "        'Life expectancy at birth, total (years) [SP.DYN.LE00.IN]':'Life_expectancy'\n",
    "    },inplace=True)\n",
    "\n",
    "data.head(2)"
   ]
  },
  {
   "cell_type": "code",
   "execution_count": 6,
   "id": "415c3ef1",
   "metadata": {},
   "outputs": [
    {
     "name": "stdout",
     "output_type": "stream",
     "text": [
      "<class 'pandas.core.frame.DataFrame'>\n",
      "RangeIndex: 13454 entries, 0 to 13453\n",
      "Data columns (total 7 columns):\n",
      " #   Column           Non-Null Count  Dtype \n",
      "---  ------           --------------  ----- \n",
      " 0   Year             13454 non-null  int64 \n",
      " 1   Time Code        13454 non-null  object\n",
      " 2   Country Name     13454 non-null  object\n",
      " 3   Country Code     13454 non-null  object\n",
      " 4   Life_expectancy  13454 non-null  object\n",
      " 5   Population       13454 non-null  object\n",
      " 6   GDP_per_capita   13454 non-null  object\n",
      "dtypes: int64(1), object(6)\n",
      "memory usage: 735.9+ KB\n"
     ]
    }
   ],
   "source": [
    "data.info()"
   ]
  },
  {
   "cell_type": "markdown",
   "id": "6415cdfe",
   "metadata": {},
   "source": [
    "The life expectancy, population and GDP per capita column should have a numeric type of data instead of object. We neeed to change it to numeric data type later."
   ]
  },
  {
   "cell_type": "code",
   "execution_count": 7,
   "id": "13869059",
   "metadata": {},
   "outputs": [
    {
     "data": {
      "text/plain": [
       "Year               0\n",
       "Time Code          0\n",
       "Country Name       0\n",
       "Country Code       0\n",
       "Life_expectancy    0\n",
       "Population         0\n",
       "GDP_per_capita     0\n",
       "dtype: int64"
      ]
     },
     "execution_count": 7,
     "metadata": {},
     "output_type": "execute_result"
    }
   ],
   "source": [
    "#check for missing values\n",
    "\n",
    "data.isna().sum()"
   ]
  },
  {
   "cell_type": "markdown",
   "id": "4bb15a03",
   "metadata": {},
   "source": [
    "It is weird to see no missing values when we certainly know GDP per capita column has a missing values maybe the mising values is denotd by '..' ,let's check."
   ]
  },
  {
   "cell_type": "code",
   "execution_count": 8,
   "id": "3e2b9205",
   "metadata": {},
   "outputs": [
    {
     "data": {
      "text/plain": [
       "7684"
      ]
     },
     "execution_count": 8,
     "metadata": {},
     "output_type": "execute_result"
    }
   ],
   "source": [
    "((data['GDP_per_capita'])=='..').sum()"
   ]
  },
  {
   "cell_type": "code",
   "execution_count": 9,
   "id": "77e55b67",
   "metadata": {},
   "outputs": [
    {
     "data": {
      "text/plain": [
       "Year                  0\n",
       "Time Code             0\n",
       "Country Name          0\n",
       "Country Code          0\n",
       "Life_expectancy    1524\n",
       "Population          259\n",
       "GDP_per_capita     7684\n",
       "dtype: int64"
      ]
     },
     "execution_count": 9,
     "metadata": {},
     "output_type": "execute_result"
    }
   ],
   "source": [
    "(data=='..').sum()"
   ]
  },
  {
   "cell_type": "code",
   "execution_count": 10,
   "id": "df8faf1a",
   "metadata": {},
   "outputs": [
    {
     "data": {
      "text/plain": [
       "Year               0\n",
       "Time Code          0\n",
       "Country Name       0\n",
       "Country Code       0\n",
       "Life_expectancy    0\n",
       "Population         0\n",
       "GDP_per_capita     0\n",
       "dtype: int64"
      ]
     },
     "execution_count": 10,
     "metadata": {},
     "output_type": "execute_result"
    }
   ],
   "source": [
    "#now we know missing values is represented by '..', let delete them.\n",
    "\n",
    "data= data.replace(\"..\", np.nan)\n",
    "(data=='..').sum()"
   ]
  },
  {
   "cell_type": "code",
   "execution_count": 11,
   "id": "db09f3e0",
   "metadata": {},
   "outputs": [
    {
     "name": "stdout",
     "output_type": "stream",
     "text": [
      "<class 'pandas.core.frame.DataFrame'>\n",
      "RangeIndex: 13454 entries, 0 to 13453\n",
      "Data columns (total 7 columns):\n",
      " #   Column           Non-Null Count  Dtype  \n",
      "---  ------           --------------  -----  \n",
      " 0   Year             13454 non-null  int64  \n",
      " 1   Time Code        13454 non-null  object \n",
      " 2   Country Name     13454 non-null  object \n",
      " 3   Country Code     13454 non-null  object \n",
      " 4   Life_expectancy  11930 non-null  float64\n",
      " 5   Population       13195 non-null  float64\n",
      " 6   GDP_per_capita   5770 non-null   float64\n",
      "dtypes: float64(3), int64(1), object(3)\n",
      "memory usage: 735.9+ KB\n"
     ]
    }
   ],
   "source": [
    "#change object datatype to numeric\n",
    "\n",
    "data= data.assign(\n",
    "    Population = pd.to_numeric(data.Population),\n",
    "    GDP_per_capita = pd.to_numeric(data.GDP_per_capita),\n",
    "    Life_expectancy = pd.to_numeric(data.Life_expectancy)\n",
    ")\n",
    "data.info()"
   ]
  },
  {
   "cell_type": "code",
   "execution_count": 12,
   "id": "9290786c",
   "metadata": {
    "scrolled": true
   },
   "outputs": [
    {
     "data": {
      "text/plain": [
       "Year                  0\n",
       "Time Code             0\n",
       "Country Name          0\n",
       "Country Code          0\n",
       "Life_expectancy    1524\n",
       "Population          259\n",
       "GDP_per_capita     7684\n",
       "dtype: int64"
      ]
     },
     "execution_count": 12,
     "metadata": {},
     "output_type": "execute_result"
    }
   ],
   "source": [
    "data.isnull().sum()"
   ]
  },
  {
   "cell_type": "code",
   "execution_count": 13,
   "id": "9bd4d09f",
   "metadata": {
    "scrolled": true
   },
   "outputs": [
    {
     "data": {
      "text/plain": [
       "Year               0\n",
       "Time Code          0\n",
       "Country Name       0\n",
       "Country Code       0\n",
       "Life_expectancy    0\n",
       "Population         0\n",
       "GDP_per_capita     0\n",
       "dtype: int64"
      ]
     },
     "execution_count": 13,
     "metadata": {},
     "output_type": "execute_result"
    }
   ],
   "source": [
    "data.dropna(inplace=True)\n",
    "data.isnull().sum()"
   ]
  },
  {
   "cell_type": "code",
   "execution_count": 14,
   "id": "2ac7bd6c",
   "metadata": {},
   "outputs": [
    {
     "data": {
      "text/html": [
       "<div>\n",
       "<style scoped>\n",
       "    .dataframe tbody tr th:only-of-type {\n",
       "        vertical-align: middle;\n",
       "    }\n",
       "\n",
       "    .dataframe tbody tr th {\n",
       "        vertical-align: top;\n",
       "    }\n",
       "\n",
       "    .dataframe thead th {\n",
       "        text-align: right;\n",
       "    }\n",
       "</style>\n",
       "<table border=\"1\" class=\"dataframe\">\n",
       "  <thead>\n",
       "    <tr style=\"text-align: right;\">\n",
       "      <th></th>\n",
       "      <th>Year</th>\n",
       "      <th>Country Name</th>\n",
       "      <th>Life_expectancy</th>\n",
       "      <th>Population (million)</th>\n",
       "      <th>GDP_per_capita (thousand)</th>\n",
       "    </tr>\n",
       "    <tr>\n",
       "      <th>Country Code</th>\n",
       "      <th></th>\n",
       "      <th></th>\n",
       "      <th></th>\n",
       "      <th></th>\n",
       "      <th></th>\n",
       "    </tr>\n",
       "  </thead>\n",
       "  <tbody>\n",
       "    <tr>\n",
       "      <th>ALB</th>\n",
       "      <td>1990</td>\n",
       "      <td>Albania</td>\n",
       "      <td>71.836</td>\n",
       "      <td>3.286542</td>\n",
       "      <td>2.548112</td>\n",
       "    </tr>\n",
       "    <tr>\n",
       "      <th>DZA</th>\n",
       "      <td>1990</td>\n",
       "      <td>Algeria</td>\n",
       "      <td>66.938</td>\n",
       "      <td>25.758872</td>\n",
       "      <td>6.912087</td>\n",
       "    </tr>\n",
       "    <tr>\n",
       "      <th>AGO</th>\n",
       "      <td>1990</td>\n",
       "      <td>Angola</td>\n",
       "      <td>45.306</td>\n",
       "      <td>11.848385</td>\n",
       "      <td>3.279222</td>\n",
       "    </tr>\n",
       "    <tr>\n",
       "      <th>ATG</th>\n",
       "      <td>1990</td>\n",
       "      <td>Antigua and Barbuda</td>\n",
       "      <td>71.520</td>\n",
       "      <td>0.062533</td>\n",
       "      <td>11.586780</td>\n",
       "    </tr>\n",
       "    <tr>\n",
       "      <th>ARG</th>\n",
       "      <td>1990</td>\n",
       "      <td>Argentina</td>\n",
       "      <td>71.594</td>\n",
       "      <td>32.618648</td>\n",
       "      <td>7.191105</td>\n",
       "    </tr>\n",
       "  </tbody>\n",
       "</table>\n",
       "</div>"
      ],
      "text/plain": [
       "              Year         Country Name  Life_expectancy  \\\n",
       "Country Code                                               \n",
       "ALB           1990              Albania           71.836   \n",
       "DZA           1990              Algeria           66.938   \n",
       "AGO           1990               Angola           45.306   \n",
       "ATG           1990  Antigua and Barbuda           71.520   \n",
       "ARG           1990            Argentina           71.594   \n",
       "\n",
       "              Population (million)  GDP_per_capita (thousand)  \n",
       "Country Code                                                   \n",
       "ALB                       3.286542                   2.548112  \n",
       "DZA                      25.758872                   6.912087  \n",
       "AGO                      11.848385                   3.279222  \n",
       "ATG                       0.062533                  11.586780  \n",
       "ARG                      32.618648                   7.191105  "
      ]
     },
     "execution_count": 14,
     "metadata": {},
     "output_type": "execute_result"
    }
   ],
   "source": [
    "data['Population (million)'] = data['Population']/1000000\n",
    "data['GDP_per_capita (thousand)'] = data['GDP_per_capita']/1000\n",
    "data.drop(columns=['GDP_per_capita','Population','Time Code'],inplace=True)\n",
    "data.set_index('Country Code',inplace = True)\n",
    "data.head()"
   ]
  },
  {
   "cell_type": "code",
   "execution_count": 15,
   "id": "1de94b37",
   "metadata": {},
   "outputs": [
    {
     "data": {
      "text/html": [
       "<div>\n",
       "<style scoped>\n",
       "    .dataframe tbody tr th:only-of-type {\n",
       "        vertical-align: middle;\n",
       "    }\n",
       "\n",
       "    .dataframe tbody tr th {\n",
       "        vertical-align: top;\n",
       "    }\n",
       "\n",
       "    .dataframe thead th {\n",
       "        text-align: right;\n",
       "    }\n",
       "</style>\n",
       "<table border=\"1\" class=\"dataframe\">\n",
       "  <thead>\n",
       "    <tr style=\"text-align: right;\">\n",
       "      <th></th>\n",
       "      <th>Year</th>\n",
       "      <th>Country Name</th>\n",
       "      <th>Life_expectancy</th>\n",
       "      <th>Population (million)</th>\n",
       "      <th>GDP_per_capita (thousand)</th>\n",
       "    </tr>\n",
       "    <tr>\n",
       "      <th>Country Code</th>\n",
       "      <th></th>\n",
       "      <th></th>\n",
       "      <th></th>\n",
       "      <th></th>\n",
       "      <th></th>\n",
       "    </tr>\n",
       "  </thead>\n",
       "  <tbody>\n",
       "    <tr>\n",
       "      <th>AFG</th>\n",
       "      <td>2020</td>\n",
       "      <td>Afghanistan</td>\n",
       "      <td>65.173</td>\n",
       "      <td>38.928341</td>\n",
       "      <td>2.078649</td>\n",
       "    </tr>\n",
       "    <tr>\n",
       "      <th>ALB</th>\n",
       "      <td>2020</td>\n",
       "      <td>Albania</td>\n",
       "      <td>78.686</td>\n",
       "      <td>2.837849</td>\n",
       "      <td>13.412097</td>\n",
       "    </tr>\n",
       "    <tr>\n",
       "      <th>DZA</th>\n",
       "      <td>2020</td>\n",
       "      <td>Algeria</td>\n",
       "      <td>77.063</td>\n",
       "      <td>43.851043</td>\n",
       "      <td>11.324236</td>\n",
       "    </tr>\n",
       "    <tr>\n",
       "      <th>AGO</th>\n",
       "      <td>2020</td>\n",
       "      <td>Angola</td>\n",
       "      <td>61.487</td>\n",
       "      <td>32.866268</td>\n",
       "      <td>6.445433</td>\n",
       "    </tr>\n",
       "    <tr>\n",
       "      <th>ATG</th>\n",
       "      <td>2020</td>\n",
       "      <td>Antigua and Barbuda</td>\n",
       "      <td>77.146</td>\n",
       "      <td>0.097928</td>\n",
       "      <td>18.241868</td>\n",
       "    </tr>\n",
       "  </tbody>\n",
       "</table>\n",
       "</div>"
      ],
      "text/plain": [
       "              Year         Country Name  Life_expectancy  \\\n",
       "Country Code                                               \n",
       "AFG           2020          Afghanistan           65.173   \n",
       "ALB           2020              Albania           78.686   \n",
       "DZA           2020              Algeria           77.063   \n",
       "AGO           2020               Angola           61.487   \n",
       "ATG           2020  Antigua and Barbuda           77.146   \n",
       "\n",
       "              Population (million)  GDP_per_capita (thousand)  \n",
       "Country Code                                                   \n",
       "AFG                      38.928341                   2.078649  \n",
       "ALB                       2.837849                  13.412097  \n",
       "DZA                      43.851043                  11.324236  \n",
       "AGO                      32.866268                   6.445433  \n",
       "ATG                       0.097928                  18.241868  "
      ]
     },
     "execution_count": 15,
     "metadata": {},
     "output_type": "execute_result"
    }
   ],
   "source": [
    "# let select latest year data to analyze\n",
    "\n",
    "df = data[(data['Year'] == 2020)]\n",
    "df.head()"
   ]
  },
  {
   "cell_type": "code",
   "execution_count": 16,
   "id": "0d8e2cb0",
   "metadata": {},
   "outputs": [
    {
     "name": "stdout",
     "output_type": "stream",
     "text": [
      "<class 'pandas.core.frame.DataFrame'>\n",
      "Index: 181 entries, AFG to ZWE\n",
      "Data columns (total 5 columns):\n",
      " #   Column                     Non-Null Count  Dtype  \n",
      "---  ------                     --------------  -----  \n",
      " 0   Year                       181 non-null    int64  \n",
      " 1   Country Name               181 non-null    object \n",
      " 2   Life_expectancy            181 non-null    float64\n",
      " 3   Population (million)       181 non-null    float64\n",
      " 4   GDP_per_capita (thousand)  181 non-null    float64\n",
      "dtypes: float64(3), int64(1), object(1)\n",
      "memory usage: 8.5+ KB\n"
     ]
    }
   ],
   "source": [
    "df.info()"
   ]
  },
  {
   "cell_type": "code",
   "execution_count": 17,
   "id": "5ee8ce0b",
   "metadata": {},
   "outputs": [
    {
     "data": {
      "text/html": [
       "<div>\n",
       "<style scoped>\n",
       "    .dataframe tbody tr th:only-of-type {\n",
       "        vertical-align: middle;\n",
       "    }\n",
       "\n",
       "    .dataframe tbody tr th {\n",
       "        vertical-align: top;\n",
       "    }\n",
       "\n",
       "    .dataframe thead th {\n",
       "        text-align: right;\n",
       "    }\n",
       "</style>\n",
       "<table border=\"1\" class=\"dataframe\">\n",
       "  <thead>\n",
       "    <tr style=\"text-align: right;\">\n",
       "      <th></th>\n",
       "      <th>Year</th>\n",
       "      <th>Country Name</th>\n",
       "      <th>Life_expectancy</th>\n",
       "      <th>Population (million)</th>\n",
       "      <th>GDP_per_capita (thousand)</th>\n",
       "      <th>log_gdp</th>\n",
       "    </tr>\n",
       "    <tr>\n",
       "      <th>Country Code</th>\n",
       "      <th></th>\n",
       "      <th></th>\n",
       "      <th></th>\n",
       "      <th></th>\n",
       "      <th></th>\n",
       "      <th></th>\n",
       "    </tr>\n",
       "  </thead>\n",
       "  <tbody>\n",
       "    <tr>\n",
       "      <th>AFG</th>\n",
       "      <td>2020</td>\n",
       "      <td>Afghanistan</td>\n",
       "      <td>65.173000</td>\n",
       "      <td>38.928341</td>\n",
       "      <td>2.078649</td>\n",
       "      <td>0.731718</td>\n",
       "    </tr>\n",
       "    <tr>\n",
       "      <th>ALB</th>\n",
       "      <td>2020</td>\n",
       "      <td>Albania</td>\n",
       "      <td>78.686000</td>\n",
       "      <td>2.837849</td>\n",
       "      <td>13.412097</td>\n",
       "      <td>2.596157</td>\n",
       "    </tr>\n",
       "    <tr>\n",
       "      <th>DZA</th>\n",
       "      <td>2020</td>\n",
       "      <td>Algeria</td>\n",
       "      <td>77.063000</td>\n",
       "      <td>43.851043</td>\n",
       "      <td>11.324236</td>\n",
       "      <td>2.426945</td>\n",
       "    </tr>\n",
       "    <tr>\n",
       "      <th>AGO</th>\n",
       "      <td>2020</td>\n",
       "      <td>Angola</td>\n",
       "      <td>61.487000</td>\n",
       "      <td>32.866268</td>\n",
       "      <td>6.445433</td>\n",
       "      <td>1.863372</td>\n",
       "    </tr>\n",
       "    <tr>\n",
       "      <th>ATG</th>\n",
       "      <td>2020</td>\n",
       "      <td>Antigua and Barbuda</td>\n",
       "      <td>77.146000</td>\n",
       "      <td>0.097928</td>\n",
       "      <td>18.241868</td>\n",
       "      <td>2.903719</td>\n",
       "    </tr>\n",
       "    <tr>\n",
       "      <th>ARG</th>\n",
       "      <td>2020</td>\n",
       "      <td>Argentina</td>\n",
       "      <td>76.813000</td>\n",
       "      <td>45.376763</td>\n",
       "      <td>20.770726</td>\n",
       "      <td>3.033545</td>\n",
       "    </tr>\n",
       "    <tr>\n",
       "      <th>ARM</th>\n",
       "      <td>2020</td>\n",
       "      <td>Armenia</td>\n",
       "      <td>75.224000</td>\n",
       "      <td>2.963234</td>\n",
       "      <td>13.312114</td>\n",
       "      <td>2.588674</td>\n",
       "    </tr>\n",
       "    <tr>\n",
       "      <th>AUS</th>\n",
       "      <td>2020</td>\n",
       "      <td>Australia</td>\n",
       "      <td>83.200000</td>\n",
       "      <td>25.693267</td>\n",
       "      <td>53.316885</td>\n",
       "      <td>3.976253</td>\n",
       "    </tr>\n",
       "    <tr>\n",
       "      <th>AUT</th>\n",
       "      <td>2020</td>\n",
       "      <td>Austria</td>\n",
       "      <td>81.192683</td>\n",
       "      <td>8.916864</td>\n",
       "      <td>55.685970</td>\n",
       "      <td>4.019728</td>\n",
       "    </tr>\n",
       "    <tr>\n",
       "      <th>AZE</th>\n",
       "      <td>2020</td>\n",
       "      <td>Azerbaijan</td>\n",
       "      <td>73.123000</td>\n",
       "      <td>10.093121</td>\n",
       "      <td>14.479705</td>\n",
       "      <td>2.672748</td>\n",
       "    </tr>\n",
       "  </tbody>\n",
       "</table>\n",
       "</div>"
      ],
      "text/plain": [
       "              Year         Country Name  Life_expectancy  \\\n",
       "Country Code                                               \n",
       "AFG           2020          Afghanistan        65.173000   \n",
       "ALB           2020              Albania        78.686000   \n",
       "DZA           2020              Algeria        77.063000   \n",
       "AGO           2020               Angola        61.487000   \n",
       "ATG           2020  Antigua and Barbuda        77.146000   \n",
       "ARG           2020            Argentina        76.813000   \n",
       "ARM           2020              Armenia        75.224000   \n",
       "AUS           2020            Australia        83.200000   \n",
       "AUT           2020              Austria        81.192683   \n",
       "AZE           2020           Azerbaijan        73.123000   \n",
       "\n",
       "              Population (million)  GDP_per_capita (thousand)   log_gdp  \n",
       "Country Code                                                             \n",
       "AFG                      38.928341                   2.078649  0.731718  \n",
       "ALB                       2.837849                  13.412097  2.596157  \n",
       "DZA                      43.851043                  11.324236  2.426945  \n",
       "AGO                      32.866268                   6.445433  1.863372  \n",
       "ATG                       0.097928                  18.241868  2.903719  \n",
       "ARG                      45.376763                  20.770726  3.033545  \n",
       "ARM                       2.963234                  13.312114  2.588674  \n",
       "AUS                      25.693267                  53.316885  3.976253  \n",
       "AUT                       8.916864                  55.685970  4.019728  \n",
       "AZE                      10.093121                  14.479705  2.672748  "
      ]
     },
     "execution_count": 17,
     "metadata": {},
     "output_type": "execute_result"
    }
   ],
   "source": [
    "# Data transformed by taking the natural logarithm, differences in natural logs show percentage differences.\n",
    "df[\"log_gdp\"] = np.log(df[\"GDP_per_capita (thousand)\"])\n",
    "df.head(10)"
   ]
  },
  {
   "cell_type": "code",
   "execution_count": 18,
   "id": "cb32f33c",
   "metadata": {},
   "outputs": [
    {
     "data": {
      "text/html": [
       "<div>\n",
       "<style scoped>\n",
       "    .dataframe tbody tr th:only-of-type {\n",
       "        vertical-align: middle;\n",
       "    }\n",
       "\n",
       "    .dataframe tbody tr th {\n",
       "        vertical-align: top;\n",
       "    }\n",
       "\n",
       "    .dataframe thead th {\n",
       "        text-align: right;\n",
       "    }\n",
       "</style>\n",
       "<table border=\"1\" class=\"dataframe\">\n",
       "  <thead>\n",
       "    <tr style=\"text-align: right;\">\n",
       "      <th></th>\n",
       "      <th>Year</th>\n",
       "      <th>Life_expectancy</th>\n",
       "      <th>Population (million)</th>\n",
       "      <th>GDP_per_capita (thousand)</th>\n",
       "      <th>log_gdp</th>\n",
       "    </tr>\n",
       "  </thead>\n",
       "  <tbody>\n",
       "    <tr>\n",
       "      <th>count</th>\n",
       "      <td>181.0</td>\n",
       "      <td>181.000000</td>\n",
       "      <td>181.000000</td>\n",
       "      <td>181.000000</td>\n",
       "      <td>181.000000</td>\n",
       "    </tr>\n",
       "    <tr>\n",
       "      <th>mean</th>\n",
       "      <td>2020.0</td>\n",
       "      <td>72.790470</td>\n",
       "      <td>42.011304</td>\n",
       "      <td>21.229429</td>\n",
       "      <td>2.488824</td>\n",
       "    </tr>\n",
       "    <tr>\n",
       "      <th>std</th>\n",
       "      <td>0.0</td>\n",
       "      <td>7.335254</td>\n",
       "      <td>151.433769</td>\n",
       "      <td>21.837967</td>\n",
       "      <td>1.154214</td>\n",
       "    </tr>\n",
       "    <tr>\n",
       "      <th>min</th>\n",
       "      <td>2020.0</td>\n",
       "      <td>53.679000</td>\n",
       "      <td>0.063903</td>\n",
       "      <td>0.771163</td>\n",
       "      <td>-0.259855</td>\n",
       "    </tr>\n",
       "    <tr>\n",
       "      <th>25%</th>\n",
       "      <td>2020.0</td>\n",
       "      <td>67.561000</td>\n",
       "      <td>2.351625</td>\n",
       "      <td>5.123826</td>\n",
       "      <td>1.633901</td>\n",
       "    </tr>\n",
       "    <tr>\n",
       "      <th>50%</th>\n",
       "      <td>2020.0</td>\n",
       "      <td>74.213000</td>\n",
       "      <td>8.947027</td>\n",
       "      <td>13.069176</td>\n",
       "      <td>2.570256</td>\n",
       "    </tr>\n",
       "    <tr>\n",
       "      <th>75%</th>\n",
       "      <td>2020.0</td>\n",
       "      <td>77.928000</td>\n",
       "      <td>31.255435</td>\n",
       "      <td>31.482680</td>\n",
       "      <td>3.449438</td>\n",
       "    </tr>\n",
       "    <tr>\n",
       "      <th>max</th>\n",
       "      <td>2020.0</td>\n",
       "      <td>85.387805</td>\n",
       "      <td>1410.929362</td>\n",
       "      <td>117.846137</td>\n",
       "      <td>4.769380</td>\n",
       "    </tr>\n",
       "  </tbody>\n",
       "</table>\n",
       "</div>"
      ],
      "text/plain": [
       "         Year  Life_expectancy  Population (million)  \\\n",
       "count   181.0       181.000000            181.000000   \n",
       "mean   2020.0        72.790470             42.011304   \n",
       "std       0.0         7.335254            151.433769   \n",
       "min    2020.0        53.679000              0.063903   \n",
       "25%    2020.0        67.561000              2.351625   \n",
       "50%    2020.0        74.213000              8.947027   \n",
       "75%    2020.0        77.928000             31.255435   \n",
       "max    2020.0        85.387805           1410.929362   \n",
       "\n",
       "       GDP_per_capita (thousand)     log_gdp  \n",
       "count                 181.000000  181.000000  \n",
       "mean                   21.229429    2.488824  \n",
       "std                    21.837967    1.154214  \n",
       "min                     0.771163   -0.259855  \n",
       "25%                     5.123826    1.633901  \n",
       "50%                    13.069176    2.570256  \n",
       "75%                    31.482680    3.449438  \n",
       "max                   117.846137    4.769380  "
      ]
     },
     "execution_count": 18,
     "metadata": {},
     "output_type": "execute_result"
    }
   ],
   "source": [
    "#let see descriptive statistics of the dataset\n",
    "\n",
    "df.describe()"
   ]
  },
  {
   "cell_type": "code",
   "execution_count": 19,
   "id": "1811e7a6",
   "metadata": {},
   "outputs": [
    {
     "data": {
      "text/html": [
       "<div>\n",
       "<style scoped>\n",
       "    .dataframe tbody tr th:only-of-type {\n",
       "        vertical-align: middle;\n",
       "    }\n",
       "\n",
       "    .dataframe tbody tr th {\n",
       "        vertical-align: top;\n",
       "    }\n",
       "\n",
       "    .dataframe thead th {\n",
       "        text-align: right;\n",
       "    }\n",
       "</style>\n",
       "<table border=\"1\" class=\"dataframe\">\n",
       "  <thead>\n",
       "    <tr style=\"text-align: right;\">\n",
       "      <th></th>\n",
       "      <th>Year</th>\n",
       "      <th>Country Name</th>\n",
       "      <th>Life_expectancy</th>\n",
       "      <th>Population (million)</th>\n",
       "      <th>GDP_per_capita (thousand)</th>\n",
       "      <th>log_gdp</th>\n",
       "    </tr>\n",
       "    <tr>\n",
       "      <th>Country Code</th>\n",
       "      <th></th>\n",
       "      <th></th>\n",
       "      <th></th>\n",
       "      <th></th>\n",
       "      <th></th>\n",
       "      <th></th>\n",
       "    </tr>\n",
       "  </thead>\n",
       "  <tbody>\n",
       "    <tr>\n",
       "      <th>MYS</th>\n",
       "      <td>2020</td>\n",
       "      <td>Malaysia</td>\n",
       "      <td>76.306</td>\n",
       "      <td>32.365998</td>\n",
       "      <td>27.923688</td>\n",
       "      <td>3.329475</td>\n",
       "    </tr>\n",
       "  </tbody>\n",
       "</table>\n",
       "</div>"
      ],
      "text/plain": [
       "              Year Country Name  Life_expectancy  Population (million)  \\\n",
       "Country Code                                                             \n",
       "MYS           2020     Malaysia           76.306             32.365998   \n",
       "\n",
       "              GDP_per_capita (thousand)   log_gdp  \n",
       "Country Code                                       \n",
       "MYS                           27.923688  3.329475  "
      ]
     },
     "execution_count": 19,
     "metadata": {},
     "output_type": "execute_result"
    }
   ],
   "source": [
    "life_expectancy_Malaysia2020 = df[(df['Country Name'] == 'Malaysia')]\n",
    "life_expectancy_Malaysia2020"
   ]
  },
  {
   "cell_type": "markdown",
   "id": "78100198",
   "metadata": {},
   "source": [
    "Average life expectancy across the 181 countries in 2020 is 73 years, with a range of 54 to 86 years old. Thus, there is substantial variation in the average length of life across countries. For a comparison to Malaysia (my country), Malaysia is at the upper half of the range where Malaysian residents expected to live around 76-years-old and 3 months."
   ]
  },
  {
   "cell_type": "code",
   "execution_count": 20,
   "id": "ee89b200",
   "metadata": {},
   "outputs": [
    {
     "name": "stdout",
     "output_type": "stream",
     "text": [
      "Countries with the lowest life expectancy are from :\n"
     ]
    },
    {
     "data": {
      "text/html": [
       "<div>\n",
       "<style scoped>\n",
       "    .dataframe tbody tr th:only-of-type {\n",
       "        vertical-align: middle;\n",
       "    }\n",
       "\n",
       "    .dataframe tbody tr th {\n",
       "        vertical-align: top;\n",
       "    }\n",
       "\n",
       "    .dataframe thead th {\n",
       "        text-align: right;\n",
       "    }\n",
       "</style>\n",
       "<table border=\"1\" class=\"dataframe\">\n",
       "  <thead>\n",
       "    <tr style=\"text-align: right;\">\n",
       "      <th></th>\n",
       "      <th>Country Name</th>\n",
       "      <th>Life_expectancy</th>\n",
       "    </tr>\n",
       "    <tr>\n",
       "      <th>Country Code</th>\n",
       "      <th></th>\n",
       "      <th></th>\n",
       "    </tr>\n",
       "  </thead>\n",
       "  <tbody>\n",
       "    <tr>\n",
       "      <th>CAF</th>\n",
       "      <td>Central African Republic</td>\n",
       "      <td>53.679</td>\n",
       "    </tr>\n",
       "    <tr>\n",
       "      <th>TCD</th>\n",
       "      <td>Chad</td>\n",
       "      <td>54.505</td>\n",
       "    </tr>\n",
       "    <tr>\n",
       "      <th>LSO</th>\n",
       "      <td>Lesotho</td>\n",
       "      <td>54.836</td>\n",
       "    </tr>\n",
       "    <tr>\n",
       "      <th>NGA</th>\n",
       "      <td>Nigeria</td>\n",
       "      <td>55.018</td>\n",
       "    </tr>\n",
       "    <tr>\n",
       "      <th>SLE</th>\n",
       "      <td>Sierra Leone</td>\n",
       "      <td>55.066</td>\n",
       "    </tr>\n",
       "  </tbody>\n",
       "</table>\n",
       "</div>"
      ],
      "text/plain": [
       "                          Country Name  Life_expectancy\n",
       "Country Code                                           \n",
       "CAF           Central African Republic           53.679\n",
       "TCD                               Chad           54.505\n",
       "LSO                            Lesotho           54.836\n",
       "NGA                            Nigeria           55.018\n",
       "SLE                       Sierra Leone           55.066"
      ]
     },
     "execution_count": 20,
     "metadata": {},
     "output_type": "execute_result"
    }
   ],
   "source": [
    "sorted_by_life_expectancy = df.sort_values(by=['Life_expectancy'])\n",
    "\n",
    "print('Countries with the lowest life expectancy are from :')\n",
    "(sorted_by_life_expectancy [['Country Name','Life_expectancy']]).head()"
   ]
  },
  {
   "cell_type": "code",
   "execution_count": 21,
   "id": "5fdf7ceb",
   "metadata": {},
   "outputs": [
    {
     "name": "stdout",
     "output_type": "stream",
     "text": [
      "Countries with the highest life expectancy are from East Asian countries and South East Asian (Singapore)\n"
     ]
    },
    {
     "data": {
      "text/html": [
       "<div>\n",
       "<style scoped>\n",
       "    .dataframe tbody tr th:only-of-type {\n",
       "        vertical-align: middle;\n",
       "    }\n",
       "\n",
       "    .dataframe tbody tr th {\n",
       "        vertical-align: top;\n",
       "    }\n",
       "\n",
       "    .dataframe thead th {\n",
       "        text-align: right;\n",
       "    }\n",
       "</style>\n",
       "<table border=\"1\" class=\"dataframe\">\n",
       "  <thead>\n",
       "    <tr style=\"text-align: right;\">\n",
       "      <th></th>\n",
       "      <th>Country Name</th>\n",
       "      <th>Life_expectancy</th>\n",
       "    </tr>\n",
       "    <tr>\n",
       "      <th>Country Code</th>\n",
       "      <th></th>\n",
       "      <th></th>\n",
       "    </tr>\n",
       "  </thead>\n",
       "  <tbody>\n",
       "    <tr>\n",
       "      <th>KOR</th>\n",
       "      <td>Korea, Rep.</td>\n",
       "      <td>83.426829</td>\n",
       "    </tr>\n",
       "    <tr>\n",
       "      <th>SGP</th>\n",
       "      <td>Singapore</td>\n",
       "      <td>83.743902</td>\n",
       "    </tr>\n",
       "    <tr>\n",
       "      <th>MAC</th>\n",
       "      <td>Macao SAR, China</td>\n",
       "      <td>84.370000</td>\n",
       "    </tr>\n",
       "    <tr>\n",
       "      <th>JPN</th>\n",
       "      <td>Japan</td>\n",
       "      <td>84.615610</td>\n",
       "    </tr>\n",
       "    <tr>\n",
       "      <th>HKG</th>\n",
       "      <td>Hong Kong SAR, China</td>\n",
       "      <td>85.387805</td>\n",
       "    </tr>\n",
       "  </tbody>\n",
       "</table>\n",
       "</div>"
      ],
      "text/plain": [
       "                      Country Name  Life_expectancy\n",
       "Country Code                                       \n",
       "KOR                    Korea, Rep.        83.426829\n",
       "SGP                      Singapore        83.743902\n",
       "MAC               Macao SAR, China        84.370000\n",
       "JPN                          Japan        84.615610\n",
       "HKG           Hong Kong SAR, China        85.387805"
      ]
     },
     "execution_count": 21,
     "metadata": {},
     "output_type": "execute_result"
    }
   ],
   "source": [
    "print('''Countries with the highest life expectancy are from East Asian countries and South East Asian (Singapore)''')\n",
    "sorted_by_life_expectancy [['Country Name','Life_expectancy']].tail()"
   ]
  },
  {
   "cell_type": "markdown",
   "id": "17860f98",
   "metadata": {},
   "source": [
    "### Figure 1: The distribution of GDP per capita"
   ]
  },
  {
   "cell_type": "markdown",
   "id": "1d00acd1",
   "metadata": {},
   "source": [
    "(a) Histogram of GDP per capita"
   ]
  },
  {
   "cell_type": "code",
   "execution_count": 22,
   "id": "3b20754e",
   "metadata": {},
   "outputs": [
    {
     "data": {
      "text/plain": [
       "Text(0, 0.5, 'Frequency')"
      ]
     },
     "execution_count": 22,
     "metadata": {},
     "output_type": "execute_result"
    },
    {
     "data": {
      "image/png": "[encoded data removed]",
      "text/plain": [
       "<Figure size 720x360 with 1 Axes>"
      ]
     },
     "metadata": {},
     "output_type": "display_data"
    }
   ],
   "source": [
    "df['GDP_per_capita (thousand)'].hist(figsize=(10,5),bins=42,)\n",
    "plt.title(\"Figure 1a: The distribution of GDP per capita\", fontsize=15) \n",
    "plt.xlabel(\"GDP per capita (thousand)\", fontsize=12) \n",
    "plt.ylabel(\"Frequency\", fontsize=12)  "
   ]
  },
  {
   "cell_type": "markdown",
   "id": "92feaf48",
   "metadata": {},
   "source": [
    "The distribution of GDP per capita is skewed with a long right tail, Figure 1a shows its histogram. There are 6 countries with extremely high GDP per capita values. Let's see which countries are they."
   ]
  },
  {
   "cell_type": "code",
   "execution_count": 23,
   "id": "a290fbd8",
   "metadata": {},
   "outputs": [
    {
     "data": {
      "text/html": [
       "<div>\n",
       "<style scoped>\n",
       "    .dataframe tbody tr th:only-of-type {\n",
       "        vertical-align: middle;\n",
       "    }\n",
       "\n",
       "    .dataframe tbody tr th {\n",
       "        vertical-align: top;\n",
       "    }\n",
       "\n",
       "    .dataframe thead th {\n",
       "        text-align: right;\n",
       "    }\n",
       "</style>\n",
       "<table border=\"1\" class=\"dataframe\">\n",
       "  <thead>\n",
       "    <tr style=\"text-align: right;\">\n",
       "      <th></th>\n",
       "      <th>Year</th>\n",
       "      <th>Country Name</th>\n",
       "      <th>Life_expectancy</th>\n",
       "      <th>Population (million)</th>\n",
       "      <th>GDP_per_capita (thousand)</th>\n",
       "      <th>log_gdp</th>\n",
       "    </tr>\n",
       "    <tr>\n",
       "      <th>Country Code</th>\n",
       "      <th></th>\n",
       "      <th></th>\n",
       "      <th></th>\n",
       "      <th></th>\n",
       "      <th></th>\n",
       "      <th></th>\n",
       "    </tr>\n",
       "  </thead>\n",
       "  <tbody>\n",
       "    <tr>\n",
       "      <th>LUX</th>\n",
       "      <td>2020</td>\n",
       "      <td>Luxembourg</td>\n",
       "      <td>81.741463</td>\n",
       "      <td>0.630419</td>\n",
       "      <td>117.846137</td>\n",
       "      <td>4.769380</td>\n",
       "    </tr>\n",
       "    <tr>\n",
       "      <th>SGP</th>\n",
       "      <td>2020</td>\n",
       "      <td>Singapore</td>\n",
       "      <td>83.743902</td>\n",
       "      <td>5.685807</td>\n",
       "      <td>98.520030</td>\n",
       "      <td>4.590260</td>\n",
       "    </tr>\n",
       "    <tr>\n",
       "      <th>IRL</th>\n",
       "      <td>2020</td>\n",
       "      <td>Ireland</td>\n",
       "      <td>82.204878</td>\n",
       "      <td>4.985674</td>\n",
       "      <td>93.350088</td>\n",
       "      <td>4.536357</td>\n",
       "    </tr>\n",
       "    <tr>\n",
       "      <th>QAT</th>\n",
       "      <td>2020</td>\n",
       "      <td>Qatar</td>\n",
       "      <td>80.363000</td>\n",
       "      <td>2.881060</td>\n",
       "      <td>89.968771</td>\n",
       "      <td>4.499463</td>\n",
       "    </tr>\n",
       "    <tr>\n",
       "      <th>BMU</th>\n",
       "      <td>2020</td>\n",
       "      <td>Bermuda</td>\n",
       "      <td>82.056098</td>\n",
       "      <td>0.063903</td>\n",
       "      <td>80.829617</td>\n",
       "      <td>4.392343</td>\n",
       "    </tr>\n",
       "    <tr>\n",
       "      <th>CHE</th>\n",
       "      <td>2020</td>\n",
       "      <td>Switzerland</td>\n",
       "      <td>83.100000</td>\n",
       "      <td>8.636561</td>\n",
       "      <td>71.745299</td>\n",
       "      <td>4.273122</td>\n",
       "    </tr>\n",
       "  </tbody>\n",
       "</table>\n",
       "</div>"
      ],
      "text/plain": [
       "              Year Country Name  Life_expectancy  Population (million)  \\\n",
       "Country Code                                                             \n",
       "LUX           2020   Luxembourg        81.741463              0.630419   \n",
       "SGP           2020    Singapore        83.743902              5.685807   \n",
       "IRL           2020      Ireland        82.204878              4.985674   \n",
       "QAT           2020        Qatar        80.363000              2.881060   \n",
       "BMU           2020      Bermuda        82.056098              0.063903   \n",
       "CHE           2020  Switzerland        83.100000              8.636561   \n",
       "\n",
       "              GDP_per_capita (thousand)   log_gdp  \n",
       "Country Code                                       \n",
       "LUX                          117.846137  4.769380  \n",
       "SGP                           98.520030  4.590260  \n",
       "IRL                           93.350088  4.536357  \n",
       "QAT                           89.968771  4.499463  \n",
       "BMU                           80.829617  4.392343  \n",
       "CHE                           71.745299  4.273122  "
      ]
     },
     "execution_count": 23,
     "metadata": {},
     "output_type": "execute_result"
    }
   ],
   "source": [
    "sorted_by_gdppc = df.sort_values(by=['GDP_per_capita (thousand)'],ascending=False)\n",
    "sorted_by_gdppc.head(6)"
   ]
  },
  {
   "cell_type": "markdown",
   "id": "da8cdcb7",
   "metadata": {},
   "source": [
    "There are 6 countries with extremely high GDP per capita: Luxembourg, Singapore, Ireland, Qatar,Bermuda and Switzerland."
   ]
  },
  {
   "cell_type": "code",
   "execution_count": 24,
   "id": "6786b75c",
   "metadata": {},
   "outputs": [
    {
     "data": {
      "text/html": [
       "<div>\n",
       "<style scoped>\n",
       "    .dataframe tbody tr th:only-of-type {\n",
       "        vertical-align: middle;\n",
       "    }\n",
       "\n",
       "    .dataframe tbody tr th {\n",
       "        vertical-align: top;\n",
       "    }\n",
       "\n",
       "    .dataframe thead th {\n",
       "        text-align: right;\n",
       "    }\n",
       "</style>\n",
       "<table border=\"1\" class=\"dataframe\">\n",
       "  <thead>\n",
       "    <tr style=\"text-align: right;\">\n",
       "      <th></th>\n",
       "      <th>Year</th>\n",
       "      <th>Life_expectancy</th>\n",
       "      <th>Population (million)</th>\n",
       "      <th>GDP_per_capita (thousand)</th>\n",
       "      <th>log_gdp</th>\n",
       "    </tr>\n",
       "  </thead>\n",
       "  <tbody>\n",
       "    <tr>\n",
       "      <th>count</th>\n",
       "      <td>181.0</td>\n",
       "      <td>181.000000</td>\n",
       "      <td>181.000000</td>\n",
       "      <td>181.000000</td>\n",
       "      <td>181.000000</td>\n",
       "    </tr>\n",
       "    <tr>\n",
       "      <th>mean</th>\n",
       "      <td>2020.0</td>\n",
       "      <td>72.790470</td>\n",
       "      <td>42.011304</td>\n",
       "      <td>21.229429</td>\n",
       "      <td>2.488824</td>\n",
       "    </tr>\n",
       "    <tr>\n",
       "      <th>std</th>\n",
       "      <td>0.0</td>\n",
       "      <td>7.335254</td>\n",
       "      <td>151.433769</td>\n",
       "      <td>21.837967</td>\n",
       "      <td>1.154214</td>\n",
       "    </tr>\n",
       "    <tr>\n",
       "      <th>min</th>\n",
       "      <td>2020.0</td>\n",
       "      <td>53.679000</td>\n",
       "      <td>0.063903</td>\n",
       "      <td>0.771163</td>\n",
       "      <td>-0.259855</td>\n",
       "    </tr>\n",
       "    <tr>\n",
       "      <th>25%</th>\n",
       "      <td>2020.0</td>\n",
       "      <td>67.561000</td>\n",
       "      <td>2.351625</td>\n",
       "      <td>5.123826</td>\n",
       "      <td>1.633901</td>\n",
       "    </tr>\n",
       "    <tr>\n",
       "      <th>50%</th>\n",
       "      <td>2020.0</td>\n",
       "      <td>74.213000</td>\n",
       "      <td>8.947027</td>\n",
       "      <td>13.069176</td>\n",
       "      <td>2.570256</td>\n",
       "    </tr>\n",
       "    <tr>\n",
       "      <th>75%</th>\n",
       "      <td>2020.0</td>\n",
       "      <td>77.928000</td>\n",
       "      <td>31.255435</td>\n",
       "      <td>31.482680</td>\n",
       "      <td>3.449438</td>\n",
       "    </tr>\n",
       "    <tr>\n",
       "      <th>max</th>\n",
       "      <td>2020.0</td>\n",
       "      <td>85.387805</td>\n",
       "      <td>1410.929362</td>\n",
       "      <td>117.846137</td>\n",
       "      <td>4.769380</td>\n",
       "    </tr>\n",
       "  </tbody>\n",
       "</table>\n",
       "</div>"
      ],
      "text/plain": [
       "         Year  Life_expectancy  Population (million)  \\\n",
       "count   181.0       181.000000            181.000000   \n",
       "mean   2020.0        72.790470             42.011304   \n",
       "std       0.0         7.335254            151.433769   \n",
       "min    2020.0        53.679000              0.063903   \n",
       "25%    2020.0        67.561000              2.351625   \n",
       "50%    2020.0        74.213000              8.947027   \n",
       "75%    2020.0        77.928000             31.255435   \n",
       "max    2020.0        85.387805           1410.929362   \n",
       "\n",
       "       GDP_per_capita (thousand)     log_gdp  \n",
       "count                 181.000000  181.000000  \n",
       "mean                   21.229429    2.488824  \n",
       "std                    21.837967    1.154214  \n",
       "min                     0.771163   -0.259855  \n",
       "25%                     5.123826    1.633901  \n",
       "50%                    13.069176    2.570256  \n",
       "75%                    31.482680    3.449438  \n",
       "max                   117.846137    4.769380  "
      ]
     },
     "execution_count": 24,
     "metadata": {},
     "output_type": "execute_result"
    }
   ],
   "source": [
    "sorted_by_gdppc.describe()"
   ]
  },
  {
   "cell_type": "markdown",
   "id": "7ec23a29",
   "metadata": {},
   "source": [
    "Average GDP per capita is 21k US dollars in this data, the median is 13k US dollars, which also shows the skewness of the distribution. The standard deviation is 21k US dollars, suggesting substantial spread."
   ]
  },
  {
   "cell_type": "markdown",
   "id": "cfb3f683",
   "metadata": {},
   "source": [
    "(b) Histogram of log (GDP per capita)"
   ]
  },
  {
   "cell_type": "code",
   "execution_count": 25,
   "id": "e37338ac",
   "metadata": {},
   "outputs": [
    {
     "data": {
      "text/plain": [
       "Text(0, 0.5, 'Frequency')"
      ]
     },
     "execution_count": 25,
     "metadata": {},
     "output_type": "execute_result"
    },
    {
     "data": {
      "image/png": "[encoded data removed]",
      "text/plain": [
       "<Figure size 720x360 with 1 Axes>"
      ]
     },
     "metadata": {},
     "output_type": "display_data"
    }
   ],
   "source": [
    "df['log_gdp'].hist(figsize=(10,5),bins=30)\n",
    "plt.title(\"Figure 1b: The distribution of GDP per capita in log 10\", fontsize=15) \n",
    "plt.xlabel(\"ln GDP per capita (thousand)\", fontsize=12) \n",
    "plt.ylabel(\"Frequency\", fontsize=12)"
   ]
  },
  {
   "cell_type": "markdown",
   "id": "993023ca",
   "metadata": {},
   "source": [
    "When we take the natural log of GDP per capita, the distribution is close to symmetric (Figure 1b). There are two countries with less than one thousand dollars of GDP per capita (Burundi and the Central African Republic), their log GDP per capita value is less than zero. The average of log GDP per capita is 2.49 in this data, its median is 2.57, suggesting a fairly symmetric distribution. The standard deviation is 1.15."
   ]
  },
  {
   "cell_type": "code",
   "execution_count": 26,
   "id": "36576b49",
   "metadata": {},
   "outputs": [
    {
     "data": {
      "text/html": [
       "<div>\n",
       "<style scoped>\n",
       "    .dataframe tbody tr th:only-of-type {\n",
       "        vertical-align: middle;\n",
       "    }\n",
       "\n",
       "    .dataframe tbody tr th {\n",
       "        vertical-align: top;\n",
       "    }\n",
       "\n",
       "    .dataframe thead th {\n",
       "        text-align: right;\n",
       "    }\n",
       "</style>\n",
       "<table border=\"1\" class=\"dataframe\">\n",
       "  <thead>\n",
       "    <tr style=\"text-align: right;\">\n",
       "      <th></th>\n",
       "      <th>Year</th>\n",
       "      <th>Country Name</th>\n",
       "      <th>Life_expectancy</th>\n",
       "      <th>Population (million)</th>\n",
       "      <th>GDP_per_capita (thousand)</th>\n",
       "      <th>log_gdp</th>\n",
       "    </tr>\n",
       "    <tr>\n",
       "      <th>Country Code</th>\n",
       "      <th></th>\n",
       "      <th></th>\n",
       "      <th></th>\n",
       "      <th></th>\n",
       "      <th></th>\n",
       "      <th></th>\n",
       "    </tr>\n",
       "  </thead>\n",
       "  <tbody>\n",
       "    <tr>\n",
       "      <th>NER</th>\n",
       "      <td>2020</td>\n",
       "      <td>Niger</td>\n",
       "      <td>62.792</td>\n",
       "      <td>24.206636</td>\n",
       "      <td>1.288259</td>\n",
       "      <td>0.253291</td>\n",
       "    </tr>\n",
       "    <tr>\n",
       "      <th>SOM</th>\n",
       "      <td>2020</td>\n",
       "      <td>Somalia</td>\n",
       "      <td>57.697</td>\n",
       "      <td>15.893219</td>\n",
       "      <td>1.245744</td>\n",
       "      <td>0.219733</td>\n",
       "    </tr>\n",
       "    <tr>\n",
       "      <th>COD</th>\n",
       "      <td>2020</td>\n",
       "      <td>Congo, Dem. Rep.</td>\n",
       "      <td>60.971</td>\n",
       "      <td>89.561404</td>\n",
       "      <td>1.141819</td>\n",
       "      <td>0.132623</td>\n",
       "    </tr>\n",
       "    <tr>\n",
       "      <th>CAF</th>\n",
       "      <td>2020</td>\n",
       "      <td>Central African Republic</td>\n",
       "      <td>53.679</td>\n",
       "      <td>4.829764</td>\n",
       "      <td>0.987645</td>\n",
       "      <td>-0.012432</td>\n",
       "    </tr>\n",
       "    <tr>\n",
       "      <th>BDI</th>\n",
       "      <td>2020</td>\n",
       "      <td>Burundi</td>\n",
       "      <td>61.916</td>\n",
       "      <td>11.890781</td>\n",
       "      <td>0.771163</td>\n",
       "      <td>-0.259855</td>\n",
       "    </tr>\n",
       "  </tbody>\n",
       "</table>\n",
       "</div>"
      ],
      "text/plain": [
       "              Year              Country Name  Life_expectancy  \\\n",
       "Country Code                                                    \n",
       "NER           2020                     Niger           62.792   \n",
       "SOM           2020                   Somalia           57.697   \n",
       "COD           2020          Congo, Dem. Rep.           60.971   \n",
       "CAF           2020  Central African Republic           53.679   \n",
       "BDI           2020                   Burundi           61.916   \n",
       "\n",
       "              Population (million)  GDP_per_capita (thousand)   log_gdp  \n",
       "Country Code                                                             \n",
       "NER                      24.206636                   1.288259  0.253291  \n",
       "SOM                      15.893219                   1.245744  0.219733  \n",
       "COD                      89.561404                   1.141819  0.132623  \n",
       "CAF                       4.829764                   0.987645 -0.012432  \n",
       "BDI                      11.890781                   0.771163 -0.259855  "
      ]
     },
     "execution_count": 26,
     "metadata": {},
     "output_type": "execute_result"
    }
   ],
   "source": [
    "sorted_by_gdppc.tail()"
   ]
  },
  {
   "cell_type": "markdown",
   "id": "548fae02",
   "metadata": {},
   "source": [
    "### Figure 2 Life expectancy and GDP per capita"
   ]
  },
  {
   "cell_type": "markdown",
   "id": "d8db02e9",
   "metadata": {},
   "source": [
    "(a) Life expectancy and (GDP per capita)"
   ]
  },
  {
   "cell_type": "code",
   "execution_count": 27,
   "id": "5e45f0ee",
   "metadata": {},
   "outputs": [
    {
     "data": {
      "text/plain": [
       "'The preceding screenshot shows a strong correlation between these two variables. However, there are some outliers that we can easily spot from the graph'"
      ]
     },
     "execution_count": 27,
     "metadata": {},
     "output_type": "execute_result"
    },
    {
     "data": {
      "image/png": "[encoded data removed]",
      "text/plain": [
       "<Figure size 504x360 with 1 Axes>"
      ]
     },
     "metadata": {},
     "output_type": "display_data"
    }
   ],
   "source": [
    "plt.figure(figsize=(7, 5))\n",
    "sns.regplot(df['GDP_per_capita (thousand)'], df['Life_expectancy'])\n",
    "plt.xlabel(\"GDP per capita (thousands dollar)\", fontsize=15) \n",
    "plt.ylabel(\"Life expectancy (years)\", fontsize=15) \n",
    "plt.axis([0, 120, 50, 100])\n",
    "\n",
    "\"The preceding screenshot shows a strong correlation between these two variables. However, there are some outliers that we can easily spot from the graph\""
   ]
  },
  {
   "cell_type": "markdown",
   "id": "01fd86e9",
   "metadata": {},
   "source": [
    "Figure 2a shows the results of a linear regression with life expectancy as the y variable, and GDP per capita as the x variable. This regression shows a positive slope, but the scatterplot implies that there are strong nonlinearities in the association that the linear regression doesn’t capture. In particular, the slope appears a lot steeper at lower levels of GDP per capita and a lot flatter at higher levels. Thus, the linear regression does not capture the shape of the pattern, and because of the skewed distribution of the x variable, it is not a very good approximation of the average of that nonlinear pattern either."
   ]
  },
  {
   "cell_type": "markdown",
   "id": "2caeecc9",
   "metadata": {},
   "source": [
    "(b) Life expectancy and ln (GDP per capita)"
   ]
  },
  {
   "cell_type": "code",
   "execution_count": 28,
   "id": "d08e402a",
   "metadata": {},
   "outputs": [
    {
     "data": {
      "text/plain": [
       "(-0.5, 5.0, 50.0, 85.0)"
      ]
     },
     "execution_count": 28,
     "metadata": {},
     "output_type": "execute_result"
    },
    {
     "data": {
      "image/png": "[encoded data removed]",
      "text/plain": [
       "<Figure size 576x360 with 1 Axes>"
      ]
     },
     "metadata": {},
     "output_type": "display_data"
    }
   ],
   "source": [
    "plt.figure(figsize=(8, 5))\n",
    "sns.regplot(df['log_gdp'],df['Life_expectancy'])\n",
    "plt.xlabel(\"log GDP per capita (thousands dollar)\", fontsize=15) \n",
    "plt.ylabel(\"Life expectancy (years)\", fontsize=15) \n",
    "plt.axis([-0.5, 5, 50, 85])"
   ]
  },
  {
   "cell_type": "markdown",
   "id": "5da7d318",
   "metadata": {},
   "source": [
    "Figure 8.5a shows the same regression with the natural log of GDP per capita as the x variable. In contrast with the \n",
    "regression without taking logs, the scatterplot with log GDP per capita suggests a remarkably linear pattern.\n",
    "For most of the range of log GDP per capita, the linear fit appears to be a good approximation\n",
    "of the conditional expectation."
   ]
  }
 ],
 "metadata": {
  "kernelspec": {
   "display_name": "Python 3 (ipykernel)",
   "language": "python",
   "name": "python3"
  },
  "language_info": {
   "codemirror_mode": {
    "name": "ipython",
    "version": 3
   },
   "file_extension": ".py",
   "mimetype": "text/x-python",
   "name": "python",
   "nbconvert_exporter": "python",
   "pygments_lexer": "ipython3",
   "version": "3.9.7"
  },
  "varInspector": {
   "cols": {
    "lenName": 16,
    "lenType": 16,
    "lenVar": 40
   },
   "kernels_config": {
    "python": {
     "delete_cmd_postfix": "",
     "delete_cmd_prefix": "del ",
     "library": "var_list.py",
     "varRefreshCmd": "print(var_dic_list())"
    },
    "r": {
     "delete_cmd_postfix": ") ",
     "delete_cmd_prefix": "rm(",
     "library": "var_list.r",
     "varRefreshCmd": "cat(var_dic_list()) "
    }
   },
   "types_to_exclude": [
    "module",
    "function",
    "builtin_function_or_method",
    "instance",
    "_Feature"
   ],
   "window_display": false
  }
 },
 "nbformat": 4,
 "nbformat_minor": 5
}
