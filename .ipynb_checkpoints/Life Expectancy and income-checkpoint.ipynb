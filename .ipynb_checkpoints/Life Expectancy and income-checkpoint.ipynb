{
 "cells": [
  {
   "cell_type": "markdown",
   "id": "6bf67671",
   "metadata": {},
   "source": [
    "## The Life Expectancy and Income\n",
    "_by Mohammad Fazlan bin Harun_\n",
    "\n",
    "About the dataset:\n",
    "\n",
    "Data source : https://databank.worldbank.org/source/world-development-indicators\n",
    "\n",
    "Database: World Development Indicators  \n",
    "Countries: check all \"Countries\" (not All or Aggregates)  \n",
    "Series: Life expectancy at birth, total (years) [SP.DYN.LE00.IN]    \n",
    "          Population, total [SP.POP.TOTL]    \n",
    "        GDP per capita, PPP (current international $)(NY.GDP.PCAP.PP.CD)      \n",
    "Time:   check all years\n",
    "\n",
    "layout > orientation > popular > Orientation 4 ( Series on page, Time on Column, Country on Row)\n",
    "\n",
    "\n",
    "Let examines the pattern of association between how long people live in a country and how rich people in that country are, on average.  This enables us to identify countries where people live longer than what we would expect based on their average income, or countries where people live shorter lives.\n",
    "\n",
    "Life expectancy at birth, total (years)   \n",
    "-indicates the number of years a newborn infant would live if prevailing patterns of mortality at the time of its birth were to stay the same throughout its life.  \n",
    "-life expectancy at birth used here is the average number of years a newborn is expected to live if mortality patterns at the time of its birth remain constant in the future. It reflects the overall mortality level of a population, and summarizes the mortality pattern that prevails across all age groups in a given year.\n",
    "\n",
    "Population   \n",
    "-total is based on the de facto definition of population, which counts all residents regardless of legal status or citizenship. The values shown are mid-year estimates.\t\n",
    "\n",
    "GDP per capita, PPP (current international $)\t\n",
    "-this indicator provides per capita values for gross domestic product (GDP) expressed in current international dollars converted by purchasing power parity (PPP) conversion factor. \n",
    "GDP is the sum of gross value added by all resident producers in the country plus any product taxes and minus any subsidies not included in the value of the products."
   ]
  },
  {
   "cell_type": "code",
   "execution_count": 1,
   "id": "da52ea6a",
   "metadata": {},
   "outputs": [
    {
     "data": {
      "text/html": [
       "        <script type=\"text/javascript\">\n",
       "        window.PlotlyConfig = {MathJaxConfig: 'local'};\n",
       "        if (window.MathJax) {MathJax.Hub.Config({SVG: {font: \"STIX-Web\"}});}\n",
       "        if (typeof require !== 'undefined') {\n",
       "        require.undef(\"plotly\");\n",
       "        requirejs.config({\n",
       "            paths: {\n",
       "                'plotly': ['https://cdn.plot.ly/plotly-2.4.1.min']\n",
       "            }\n",
       "        });\n",
       "        require(['plotly'], function(Plotly) {\n",
       "            window._Plotly = Plotly;\n",
       "        });\n",
       "        }\n",
       "        </script>\n",
       "        "
      ]
     },
     "metadata": {},
     "output_type": "display_data"
    }
   ],
   "source": [
    "#importing libraries\n",
    "\n",
    "import pandas as pd\n",
    "import numpy as np\n",
    "import matplotlib.pyplot as plt\n",
    "import seaborn as sns\n",
    "import warnings\n",
    "import pprint as pp\n",
    "\n",
    "import cufflinks as cf\n",
    "import plotly.offline\n",
    "cf.go_offline()\n",
    "cf.set_config_file(offline=False,\n",
    "world_readable=True)\n",
    "\n",
    "warnings.filterwarnings(\"ignore\")\n",
    "%matplotlib inline\n",
    "sns.set()"
   ]
  },
  {
   "cell_type": "code",
   "execution_count": 2,
   "id": "ca87b18d",
   "metadata": {
    "scrolled": true
   },
   "outputs": [
    {
     "data": {
      "text/html": [
       "<div>\n",
       "<style scoped>\n",
       "    .dataframe tbody tr th:only-of-type {\n",
       "        vertical-align: middle;\n",
       "    }\n",
       "\n",
       "    .dataframe tbody tr th {\n",
       "        vertical-align: top;\n",
       "    }\n",
       "\n",
       "    .dataframe thead th {\n",
       "        text-align: right;\n",
       "    }\n",
       "</style>\n",
       "<table border=\"1\" class=\"dataframe\">\n",
       "  <thead>\n",
       "    <tr style=\"text-align: right;\">\n",
       "      <th></th>\n",
       "      <th>Time</th>\n",
       "      <th>Time Code</th>\n",
       "      <th>Country Name</th>\n",
       "      <th>Country Code</th>\n",
       "      <th>Life expectancy at birth, total (years) [SP.DYN.LE00.IN]</th>\n",
       "      <th>Population, total [SP.POP.TOTL]</th>\n",
       "      <th>GDP per capita, PPP (current international $) [NY.GDP.PCAP.PP.CD]</th>\n",
       "    </tr>\n",
       "  </thead>\n",
       "  <tbody>\n",
       "    <tr>\n",
       "      <th>0</th>\n",
       "      <td>1960</td>\n",
       "      <td>YR1960</td>\n",
       "      <td>Afghanistan</td>\n",
       "      <td>AFG</td>\n",
       "      <td>32.446</td>\n",
       "      <td>8996967</td>\n",
       "      <td>..</td>\n",
       "    </tr>\n",
       "    <tr>\n",
       "      <th>1</th>\n",
       "      <td>1960</td>\n",
       "      <td>YR1960</td>\n",
       "      <td>Albania</td>\n",
       "      <td>ALB</td>\n",
       "      <td>62.283</td>\n",
       "      <td>1608800</td>\n",
       "      <td>..</td>\n",
       "    </tr>\n",
       "    <tr>\n",
       "      <th>2</th>\n",
       "      <td>1960</td>\n",
       "      <td>YR1960</td>\n",
       "      <td>Algeria</td>\n",
       "      <td>DZA</td>\n",
       "      <td>46.141</td>\n",
       "      <td>11057864</td>\n",
       "      <td>..</td>\n",
       "    </tr>\n",
       "    <tr>\n",
       "      <th>3</th>\n",
       "      <td>1960</td>\n",
       "      <td>YR1960</td>\n",
       "      <td>American Samoa</td>\n",
       "      <td>ASM</td>\n",
       "      <td>..</td>\n",
       "      <td>20127</td>\n",
       "      <td>..</td>\n",
       "    </tr>\n",
       "    <tr>\n",
       "      <th>4</th>\n",
       "      <td>1960</td>\n",
       "      <td>YR1960</td>\n",
       "      <td>Andorra</td>\n",
       "      <td>AND</td>\n",
       "      <td>..</td>\n",
       "      <td>13410</td>\n",
       "      <td>..</td>\n",
       "    </tr>\n",
       "    <tr>\n",
       "      <th>5</th>\n",
       "      <td>1960</td>\n",
       "      <td>YR1960</td>\n",
       "      <td>Angola</td>\n",
       "      <td>AGO</td>\n",
       "      <td>37.524</td>\n",
       "      <td>5454938</td>\n",
       "      <td>..</td>\n",
       "    </tr>\n",
       "    <tr>\n",
       "      <th>6</th>\n",
       "      <td>1960</td>\n",
       "      <td>YR1960</td>\n",
       "      <td>Antigua and Barbuda</td>\n",
       "      <td>ATG</td>\n",
       "      <td>61.968</td>\n",
       "      <td>54132</td>\n",
       "      <td>..</td>\n",
       "    </tr>\n",
       "    <tr>\n",
       "      <th>7</th>\n",
       "      <td>1960</td>\n",
       "      <td>YR1960</td>\n",
       "      <td>Argentina</td>\n",
       "      <td>ARG</td>\n",
       "      <td>65.055</td>\n",
       "      <td>20481781</td>\n",
       "      <td>..</td>\n",
       "    </tr>\n",
       "    <tr>\n",
       "      <th>8</th>\n",
       "      <td>1960</td>\n",
       "      <td>YR1960</td>\n",
       "      <td>Armenia</td>\n",
       "      <td>ARM</td>\n",
       "      <td>65.972</td>\n",
       "      <td>1874119</td>\n",
       "      <td>..</td>\n",
       "    </tr>\n",
       "    <tr>\n",
       "      <th>9</th>\n",
       "      <td>1960</td>\n",
       "      <td>YR1960</td>\n",
       "      <td>Aruba</td>\n",
       "      <td>ABW</td>\n",
       "      <td>65.662</td>\n",
       "      <td>54208</td>\n",
       "      <td>..</td>\n",
       "    </tr>\n",
       "  </tbody>\n",
       "</table>\n",
       "</div>"
      ],
      "text/plain": [
       "   Time Time Code         Country Name Country Code  \\\n",
       "0  1960    YR1960          Afghanistan          AFG   \n",
       "1  1960    YR1960              Albania          ALB   \n",
       "2  1960    YR1960              Algeria          DZA   \n",
       "3  1960    YR1960       American Samoa          ASM   \n",
       "4  1960    YR1960              Andorra          AND   \n",
       "5  1960    YR1960               Angola          AGO   \n",
       "6  1960    YR1960  Antigua and Barbuda          ATG   \n",
       "7  1960    YR1960            Argentina          ARG   \n",
       "8  1960    YR1960              Armenia          ARM   \n",
       "9  1960    YR1960                Aruba          ABW   \n",
       "\n",
       "  Life expectancy at birth, total (years) [SP.DYN.LE00.IN]  \\\n",
       "0                                             32.446         \n",
       "1                                             62.283         \n",
       "2                                             46.141         \n",
       "3                                                 ..         \n",
       "4                                                 ..         \n",
       "5                                             37.524         \n",
       "6                                             61.968         \n",
       "7                                             65.055         \n",
       "8                                             65.972         \n",
       "9                                             65.662         \n",
       "\n",
       "  Population, total [SP.POP.TOTL]  \\\n",
       "0                         8996967   \n",
       "1                         1608800   \n",
       "2                        11057864   \n",
       "3                           20127   \n",
       "4                           13410   \n",
       "5                         5454938   \n",
       "6                           54132   \n",
       "7                        20481781   \n",
       "8                         1874119   \n",
       "9                           54208   \n",
       "\n",
       "  GDP per capita, PPP (current international $) [NY.GDP.PCAP.PP.CD]  \n",
       "0                                                 ..                 \n",
       "1                                                 ..                 \n",
       "2                                                 ..                 \n",
       "3                                                 ..                 \n",
       "4                                                 ..                 \n",
       "5                                                 ..                 \n",
       "6                                                 ..                 \n",
       "7                                                 ..                 \n",
       "8                                                 ..                 \n",
       "9                                                 ..                 "
      ]
     },
     "execution_count": 2,
     "metadata": {},
     "output_type": "execute_result"
    }
   ],
   "source": [
    "#loading data\n",
    "\n",
    "data = pd.read_csv('Data_WB_Life_Expectancy.csv')\n",
    "data.head(10)"
   ]
  },
  {
   "cell_type": "markdown",
   "id": "8198ae7a",
   "metadata": {},
   "source": [
    "We can see the GDP per capita column has a null values which we should handle later on."
   ]
  },
  {
   "cell_type": "code",
   "execution_count": 3,
   "id": "fab080fe",
   "metadata": {},
   "outputs": [
    {
     "name": "stdout",
     "output_type": "stream",
     "text": [
      "List of columns :\n"
     ]
    },
    {
     "data": {
      "text/plain": [
       "['Time',\n",
       " 'Time Code',\n",
       " 'Country Name',\n",
       " 'Country Code',\n",
       " 'Life expectancy at birth, total (years) [SP.DYN.LE00.IN]',\n",
       " 'Population, total [SP.POP.TOTL]',\n",
       " 'GDP per capita, PPP (current international $) [NY.GDP.PCAP.PP.CD]']"
      ]
     },
     "execution_count": 3,
     "metadata": {},
     "output_type": "execute_result"
    }
   ],
   "source": [
    "print('List of columns :')\n",
    "data.columns.to_list()"
   ]
  },
  {
   "cell_type": "code",
   "execution_count": 4,
   "id": "bfe53d66",
   "metadata": {},
   "outputs": [
    {
     "name": "stdout",
     "output_type": "stream",
     "text": [
      "There are 13454 rows and 7 columns in this dataset.\n"
     ]
    }
   ],
   "source": [
    "print(f'There are {data.shape[0]} rows and {data.shape[1]} columns in this dataset.')"
   ]
  },
  {
   "cell_type": "code",
   "execution_count": 5,
   "id": "8f7a2f6d",
   "metadata": {},
   "outputs": [
    {
     "data": {
      "text/html": [
       "<div>\n",
       "<style scoped>\n",
       "    .dataframe tbody tr th:only-of-type {\n",
       "        vertical-align: middle;\n",
       "    }\n",
       "\n",
       "    .dataframe tbody tr th {\n",
       "        vertical-align: top;\n",
       "    }\n",
       "\n",
       "    .dataframe thead th {\n",
       "        text-align: right;\n",
       "    }\n",
       "</style>\n",
       "<table border=\"1\" class=\"dataframe\">\n",
       "  <thead>\n",
       "    <tr style=\"text-align: right;\">\n",
       "      <th></th>\n",
       "      <th>Year</th>\n",
       "      <th>Time Code</th>\n",
       "      <th>Country_Name</th>\n",
       "      <th>Country_Code</th>\n",
       "      <th>Life_Expectancy</th>\n",
       "      <th>Population</th>\n",
       "      <th>GDP_per_Capita</th>\n",
       "    </tr>\n",
       "  </thead>\n",
       "  <tbody>\n",
       "    <tr>\n",
       "      <th>0</th>\n",
       "      <td>1960</td>\n",
       "      <td>YR1960</td>\n",
       "      <td>Afghanistan</td>\n",
       "      <td>AFG</td>\n",
       "      <td>32.446</td>\n",
       "      <td>8996967</td>\n",
       "      <td>..</td>\n",
       "    </tr>\n",
       "    <tr>\n",
       "      <th>1</th>\n",
       "      <td>1960</td>\n",
       "      <td>YR1960</td>\n",
       "      <td>Albania</td>\n",
       "      <td>ALB</td>\n",
       "      <td>62.283</td>\n",
       "      <td>1608800</td>\n",
       "      <td>..</td>\n",
       "    </tr>\n",
       "  </tbody>\n",
       "</table>\n",
       "</div>"
      ],
      "text/plain": [
       "   Year Time Code Country_Name Country_Code Life_Expectancy Population  \\\n",
       "0  1960    YR1960  Afghanistan          AFG          32.446    8996967   \n",
       "1  1960    YR1960      Albania          ALB          62.283    1608800   \n",
       "\n",
       "  GDP_per_Capita  \n",
       "0             ..  \n",
       "1             ..  "
      ]
     },
     "execution_count": 5,
     "metadata": {},
     "output_type": "execute_result"
    }
   ],
   "source": [
    "#renaming column \n",
    "\n",
    "data.rename(\n",
    "    columns={\n",
    "        'Time':'Year',\n",
    "        'GDP per capita, PPP (current international $) [NY.GDP.PCAP.PP.CD]':'GDP_per_Capita',\n",
    "        'Population, total [SP.POP.TOTL]':'Population',\n",
    "        'Life expectancy at birth, total (years) [SP.DYN.LE00.IN]':'Life_Expectancy',\n",
    "        'Country Code' : 'Country_Code',\n",
    "        'Country Name' : 'Country_Name'\n",
    "    },inplace=True)\n",
    "\n",
    "data.head(2)"
   ]
  },
  {
   "cell_type": "code",
   "execution_count": 6,
   "id": "415c3ef1",
   "metadata": {},
   "outputs": [
    {
     "name": "stdout",
     "output_type": "stream",
     "text": [
      "<class 'pandas.core.frame.DataFrame'>\n",
      "RangeIndex: 13454 entries, 0 to 13453\n",
      "Data columns (total 7 columns):\n",
      " #   Column           Non-Null Count  Dtype \n",
      "---  ------           --------------  ----- \n",
      " 0   Year             13454 non-null  int64 \n",
      " 1   Time Code        13454 non-null  object\n",
      " 2   Country_Name     13454 non-null  object\n",
      " 3   Country_Code     13454 non-null  object\n",
      " 4   Life_Expectancy  13454 non-null  object\n",
      " 5   Population       13454 non-null  object\n",
      " 6   GDP_per_Capita   13454 non-null  object\n",
      "dtypes: int64(1), object(6)\n",
      "memory usage: 735.9+ KB\n"
     ]
    }
   ],
   "source": [
    "data.info()"
   ]
  },
  {
   "cell_type": "markdown",
   "id": "6415cdfe",
   "metadata": {},
   "source": [
    "The life expectancy, population and GDP per capita column should have a numeric type of data instead of object. We need to change it to numeric data type later."
   ]
  },
  {
   "cell_type": "code",
   "execution_count": 7,
   "id": "13869059",
   "metadata": {},
   "outputs": [
    {
     "data": {
      "text/plain": [
       "Year               0\n",
       "Time Code          0\n",
       "Country_Name       0\n",
       "Country_Code       0\n",
       "Life_Expectancy    0\n",
       "Population         0\n",
       "GDP_per_Capita     0\n",
       "dtype: int64"
      ]
     },
     "execution_count": 7,
     "metadata": {},
     "output_type": "execute_result"
    }
   ],
   "source": [
    "#check for missing values\n",
    "\n",
    "data.isna().sum()"
   ]
  },
  {
   "cell_type": "markdown",
   "id": "4bb15a03",
   "metadata": {},
   "source": [
    "It is weird to see no missing values when we certainly know GDP per capita column has a missing values maybe the mising values is denotd by '..' ,let's check."
   ]
  },
  {
   "cell_type": "code",
   "execution_count": 8,
   "id": "3e2b9205",
   "metadata": {},
   "outputs": [
    {
     "data": {
      "text/plain": [
       "7684"
      ]
     },
     "execution_count": 8,
     "metadata": {},
     "output_type": "execute_result"
    }
   ],
   "source": [
    "((data['GDP_per_Capita'])=='..').sum()"
   ]
  },
  {
   "cell_type": "code",
   "execution_count": 9,
   "id": "77e55b67",
   "metadata": {},
   "outputs": [
    {
     "data": {
      "text/plain": [
       "Year                  0\n",
       "Time Code             0\n",
       "Country_Name          0\n",
       "Country_Code          0\n",
       "Life_Expectancy    1524\n",
       "Population          259\n",
       "GDP_per_Capita     7684\n",
       "dtype: int64"
      ]
     },
     "execution_count": 9,
     "metadata": {},
     "output_type": "execute_result"
    }
   ],
   "source": [
    "(data=='..').sum()"
   ]
  },
  {
   "cell_type": "code",
   "execution_count": 10,
   "id": "df8faf1a",
   "metadata": {},
   "outputs": [
    {
     "data": {
      "text/plain": [
       "Year               0\n",
       "Time Code          0\n",
       "Country_Name       0\n",
       "Country_Code       0\n",
       "Life_Expectancy    0\n",
       "Population         0\n",
       "GDP_per_Capita     0\n",
       "dtype: int64"
      ]
     },
     "execution_count": 10,
     "metadata": {},
     "output_type": "execute_result"
    }
   ],
   "source": [
    "#now we know missing values is represented by '..', let delete them.\n",
    "\n",
    "data= data.replace(\"..\", np.nan)\n",
    "(data=='..').sum()"
   ]
  },
  {
   "cell_type": "code",
   "execution_count": 11,
   "id": "db09f3e0",
   "metadata": {},
   "outputs": [
    {
     "name": "stdout",
     "output_type": "stream",
     "text": [
      "<class 'pandas.core.frame.DataFrame'>\n",
      "RangeIndex: 13454 entries, 0 to 13453\n",
      "Data columns (total 7 columns):\n",
      " #   Column           Non-Null Count  Dtype  \n",
      "---  ------           --------------  -----  \n",
      " 0   Year             13454 non-null  int64  \n",
      " 1   Time Code        13454 non-null  object \n",
      " 2   Country_Name     13454 non-null  object \n",
      " 3   Country_Code     13454 non-null  object \n",
      " 4   Life_Expectancy  11930 non-null  float64\n",
      " 5   Population       13195 non-null  float64\n",
      " 6   GDP_per_Capita   5770 non-null   float64\n",
      "dtypes: float64(3), int64(1), object(3)\n",
      "memory usage: 735.9+ KB\n",
      "None\n"
     ]
    }
   ],
   "source": [
    "#change object datatype to numeric\n",
    "\n",
    "data= data.assign(\n",
    "    Population = pd.to_numeric(data.Population),\n",
    "    GDP_per_Capita = pd.to_numeric(data.GDP_per_Capita),\n",
    "    Life_Expectancy = pd.to_numeric(data.Life_Expectancy)\n",
    ")\n",
    "print(data.info())"
   ]
  },
  {
   "cell_type": "code",
   "execution_count": 12,
   "id": "9290786c",
   "metadata": {
    "scrolled": true
   },
   "outputs": [
    {
     "data": {
      "text/plain": [
       "Year                  0\n",
       "Time Code             0\n",
       "Country_Name          0\n",
       "Country_Code          0\n",
       "Life_Expectancy    1524\n",
       "Population          259\n",
       "GDP_per_Capita     7684\n",
       "dtype: int64"
      ]
     },
     "execution_count": 12,
     "metadata": {},
     "output_type": "execute_result"
    }
   ],
   "source": [
    "data.isnull().sum()"
   ]
  },
  {
   "cell_type": "code",
   "execution_count": 13,
   "id": "9bd4d09f",
   "metadata": {
    "scrolled": true
   },
   "outputs": [
    {
     "data": {
      "text/plain": [
       "Year               0\n",
       "Time Code          0\n",
       "Country_Name       0\n",
       "Country_Code       0\n",
       "Life_Expectancy    0\n",
       "Population         0\n",
       "GDP_per_Capita     0\n",
       "dtype: int64"
      ]
     },
     "execution_count": 13,
     "metadata": {},
     "output_type": "execute_result"
    }
   ],
   "source": [
    "data.dropna(inplace=True)\n",
    "data.isnull().sum()"
   ]
  },
  {
   "cell_type": "code",
   "execution_count": 14,
   "id": "2ac7bd6c",
   "metadata": {},
   "outputs": [
    {
     "data": {
      "text/html": [
       "<div>\n",
       "<style scoped>\n",
       "    .dataframe tbody tr th:only-of-type {\n",
       "        vertical-align: middle;\n",
       "    }\n",
       "\n",
       "    .dataframe tbody tr th {\n",
       "        vertical-align: top;\n",
       "    }\n",
       "\n",
       "    .dataframe thead th {\n",
       "        text-align: right;\n",
       "    }\n",
       "</style>\n",
       "<table border=\"1\" class=\"dataframe\">\n",
       "  <thead>\n",
       "    <tr style=\"text-align: right;\">\n",
       "      <th></th>\n",
       "      <th>Year</th>\n",
       "      <th>Country_Name</th>\n",
       "      <th>Life_Expectancy</th>\n",
       "      <th>Population (million)</th>\n",
       "      <th>GDP_per_Capita (thousand)</th>\n",
       "    </tr>\n",
       "    <tr>\n",
       "      <th>Country_Code</th>\n",
       "      <th></th>\n",
       "      <th></th>\n",
       "      <th></th>\n",
       "      <th></th>\n",
       "      <th></th>\n",
       "    </tr>\n",
       "  </thead>\n",
       "  <tbody>\n",
       "    <tr>\n",
       "      <th>ALB</th>\n",
       "      <td>1990</td>\n",
       "      <td>Albania</td>\n",
       "      <td>72.0</td>\n",
       "      <td>3.29</td>\n",
       "      <td>2.55</td>\n",
       "    </tr>\n",
       "    <tr>\n",
       "      <th>DZA</th>\n",
       "      <td>1990</td>\n",
       "      <td>Algeria</td>\n",
       "      <td>67.0</td>\n",
       "      <td>25.76</td>\n",
       "      <td>6.91</td>\n",
       "    </tr>\n",
       "    <tr>\n",
       "      <th>AGO</th>\n",
       "      <td>1990</td>\n",
       "      <td>Angola</td>\n",
       "      <td>45.0</td>\n",
       "      <td>11.85</td>\n",
       "      <td>3.28</td>\n",
       "    </tr>\n",
       "    <tr>\n",
       "      <th>ATG</th>\n",
       "      <td>1990</td>\n",
       "      <td>Antigua and Barbuda</td>\n",
       "      <td>72.0</td>\n",
       "      <td>0.06</td>\n",
       "      <td>11.59</td>\n",
       "    </tr>\n",
       "    <tr>\n",
       "      <th>ARG</th>\n",
       "      <td>1990</td>\n",
       "      <td>Argentina</td>\n",
       "      <td>72.0</td>\n",
       "      <td>32.62</td>\n",
       "      <td>7.19</td>\n",
       "    </tr>\n",
       "  </tbody>\n",
       "</table>\n",
       "</div>"
      ],
      "text/plain": [
       "              Year         Country_Name  Life_Expectancy  \\\n",
       "Country_Code                                               \n",
       "ALB           1990              Albania             72.0   \n",
       "DZA           1990              Algeria             67.0   \n",
       "AGO           1990               Angola             45.0   \n",
       "ATG           1990  Antigua and Barbuda             72.0   \n",
       "ARG           1990            Argentina             72.0   \n",
       "\n",
       "              Population (million)  GDP_per_Capita (thousand)  \n",
       "Country_Code                                                   \n",
       "ALB                           3.29                       2.55  \n",
       "DZA                          25.76                       6.91  \n",
       "AGO                          11.85                       3.28  \n",
       "ATG                           0.06                      11.59  \n",
       "ARG                          32.62                       7.19  "
      ]
     },
     "execution_count": 14,
     "metadata": {},
     "output_type": "execute_result"
    }
   ],
   "source": [
    "data['Population (million)'] = round(data['Population']/1000000,2)\n",
    "data['GDP_per_Capita (thousand)'] = round(data['GDP_per_Capita']/1000,2)\n",
    "data['Life_Expectancy'] = round((data['Life_Expectancy']),0)\n",
    "data.drop(columns=['GDP_per_Capita','Population','Time Code'],inplace=True)\n",
    "data.set_index('Country_Code',inplace = True)\n",
    "data.head()"
   ]
  },
  {
   "cell_type": "code",
   "execution_count": 15,
   "id": "1de94b37",
   "metadata": {},
   "outputs": [
    {
     "data": {
      "text/html": [
       "<div>\n",
       "<style scoped>\n",
       "    .dataframe tbody tr th:only-of-type {\n",
       "        vertical-align: middle;\n",
       "    }\n",
       "\n",
       "    .dataframe tbody tr th {\n",
       "        vertical-align: top;\n",
       "    }\n",
       "\n",
       "    .dataframe thead th {\n",
       "        text-align: right;\n",
       "    }\n",
       "</style>\n",
       "<table border=\"1\" class=\"dataframe\">\n",
       "  <thead>\n",
       "    <tr style=\"text-align: right;\">\n",
       "      <th></th>\n",
       "      <th>Year</th>\n",
       "      <th>Country_Name</th>\n",
       "      <th>Life_Expectancy</th>\n",
       "      <th>Population (million)</th>\n",
       "      <th>GDP_per_Capita (thousand)</th>\n",
       "    </tr>\n",
       "    <tr>\n",
       "      <th>Country_Code</th>\n",
       "      <th></th>\n",
       "      <th></th>\n",
       "      <th></th>\n",
       "      <th></th>\n",
       "      <th></th>\n",
       "    </tr>\n",
       "  </thead>\n",
       "  <tbody>\n",
       "    <tr>\n",
       "      <th>AFG</th>\n",
       "      <td>2020</td>\n",
       "      <td>Afghanistan</td>\n",
       "      <td>65.0</td>\n",
       "      <td>38.93</td>\n",
       "      <td>2.08</td>\n",
       "    </tr>\n",
       "    <tr>\n",
       "      <th>ALB</th>\n",
       "      <td>2020</td>\n",
       "      <td>Albania</td>\n",
       "      <td>79.0</td>\n",
       "      <td>2.84</td>\n",
       "      <td>13.41</td>\n",
       "    </tr>\n",
       "    <tr>\n",
       "      <th>DZA</th>\n",
       "      <td>2020</td>\n",
       "      <td>Algeria</td>\n",
       "      <td>77.0</td>\n",
       "      <td>43.85</td>\n",
       "      <td>11.32</td>\n",
       "    </tr>\n",
       "    <tr>\n",
       "      <th>AGO</th>\n",
       "      <td>2020</td>\n",
       "      <td>Angola</td>\n",
       "      <td>61.0</td>\n",
       "      <td>32.87</td>\n",
       "      <td>6.45</td>\n",
       "    </tr>\n",
       "    <tr>\n",
       "      <th>ATG</th>\n",
       "      <td>2020</td>\n",
       "      <td>Antigua and Barbuda</td>\n",
       "      <td>77.0</td>\n",
       "      <td>0.10</td>\n",
       "      <td>18.24</td>\n",
       "    </tr>\n",
       "  </tbody>\n",
       "</table>\n",
       "</div>"
      ],
      "text/plain": [
       "              Year         Country_Name  Life_Expectancy  \\\n",
       "Country_Code                                               \n",
       "AFG           2020          Afghanistan             65.0   \n",
       "ALB           2020              Albania             79.0   \n",
       "DZA           2020              Algeria             77.0   \n",
       "AGO           2020               Angola             61.0   \n",
       "ATG           2020  Antigua and Barbuda             77.0   \n",
       "\n",
       "              Population (million)  GDP_per_Capita (thousand)  \n",
       "Country_Code                                                   \n",
       "AFG                          38.93                       2.08  \n",
       "ALB                           2.84                      13.41  \n",
       "DZA                          43.85                      11.32  \n",
       "AGO                          32.87                       6.45  \n",
       "ATG                           0.10                      18.24  "
      ]
     },
     "execution_count": 15,
     "metadata": {},
     "output_type": "execute_result"
    }
   ],
   "source": [
    "# let select latest year data to analyze\n",
    "\n",
    "df = data[(data['Year'] == 2020)]\n",
    "df.head()"
   ]
  },
  {
   "cell_type": "code",
   "execution_count": 16,
   "id": "0d8e2cb0",
   "metadata": {},
   "outputs": [
    {
     "name": "stdout",
     "output_type": "stream",
     "text": [
      "<class 'pandas.core.frame.DataFrame'>\n",
      "Index: 181 entries, AFG to ZWE\n",
      "Data columns (total 5 columns):\n",
      " #   Column                     Non-Null Count  Dtype  \n",
      "---  ------                     --------------  -----  \n",
      " 0   Year                       181 non-null    int64  \n",
      " 1   Country_Name               181 non-null    object \n",
      " 2   Life_Expectancy            181 non-null    float64\n",
      " 3   Population (million)       181 non-null    float64\n",
      " 4   GDP_per_Capita (thousand)  181 non-null    float64\n",
      "dtypes: float64(3), int64(1), object(1)\n",
      "memory usage: 8.5+ KB\n"
     ]
    }
   ],
   "source": [
    "df.info()"
   ]
  },
  {
   "cell_type": "code",
   "execution_count": 17,
   "id": "5ee8ce0b",
   "metadata": {},
   "outputs": [
    {
     "data": {
      "text/html": [
       "<div>\n",
       "<style scoped>\n",
       "    .dataframe tbody tr th:only-of-type {\n",
       "        vertical-align: middle;\n",
       "    }\n",
       "\n",
       "    .dataframe tbody tr th {\n",
       "        vertical-align: top;\n",
       "    }\n",
       "\n",
       "    .dataframe thead th {\n",
       "        text-align: right;\n",
       "    }\n",
       "</style>\n",
       "<table border=\"1\" class=\"dataframe\">\n",
       "  <thead>\n",
       "    <tr style=\"text-align: right;\">\n",
       "      <th></th>\n",
       "      <th>Year</th>\n",
       "      <th>Country_Name</th>\n",
       "      <th>Life_Expectancy</th>\n",
       "      <th>Population (million)</th>\n",
       "      <th>GDP_per_Capita (thousand)</th>\n",
       "      <th>Log_GDP</th>\n",
       "    </tr>\n",
       "    <tr>\n",
       "      <th>Country_Code</th>\n",
       "      <th></th>\n",
       "      <th></th>\n",
       "      <th></th>\n",
       "      <th></th>\n",
       "      <th></th>\n",
       "      <th></th>\n",
       "    </tr>\n",
       "  </thead>\n",
       "  <tbody>\n",
       "    <tr>\n",
       "      <th>AFG</th>\n",
       "      <td>2020</td>\n",
       "      <td>Afghanistan</td>\n",
       "      <td>65.0</td>\n",
       "      <td>38.93</td>\n",
       "      <td>2.08</td>\n",
       "      <td>0.73</td>\n",
       "    </tr>\n",
       "    <tr>\n",
       "      <th>ALB</th>\n",
       "      <td>2020</td>\n",
       "      <td>Albania</td>\n",
       "      <td>79.0</td>\n",
       "      <td>2.84</td>\n",
       "      <td>13.41</td>\n",
       "      <td>2.60</td>\n",
       "    </tr>\n",
       "    <tr>\n",
       "      <th>DZA</th>\n",
       "      <td>2020</td>\n",
       "      <td>Algeria</td>\n",
       "      <td>77.0</td>\n",
       "      <td>43.85</td>\n",
       "      <td>11.32</td>\n",
       "      <td>2.43</td>\n",
       "    </tr>\n",
       "    <tr>\n",
       "      <th>AGO</th>\n",
       "      <td>2020</td>\n",
       "      <td>Angola</td>\n",
       "      <td>61.0</td>\n",
       "      <td>32.87</td>\n",
       "      <td>6.45</td>\n",
       "      <td>1.86</td>\n",
       "    </tr>\n",
       "    <tr>\n",
       "      <th>ATG</th>\n",
       "      <td>2020</td>\n",
       "      <td>Antigua and Barbuda</td>\n",
       "      <td>77.0</td>\n",
       "      <td>0.10</td>\n",
       "      <td>18.24</td>\n",
       "      <td>2.90</td>\n",
       "    </tr>\n",
       "    <tr>\n",
       "      <th>ARG</th>\n",
       "      <td>2020</td>\n",
       "      <td>Argentina</td>\n",
       "      <td>77.0</td>\n",
       "      <td>45.38</td>\n",
       "      <td>20.77</td>\n",
       "      <td>3.03</td>\n",
       "    </tr>\n",
       "    <tr>\n",
       "      <th>ARM</th>\n",
       "      <td>2020</td>\n",
       "      <td>Armenia</td>\n",
       "      <td>75.0</td>\n",
       "      <td>2.96</td>\n",
       "      <td>13.31</td>\n",
       "      <td>2.59</td>\n",
       "    </tr>\n",
       "    <tr>\n",
       "      <th>AUS</th>\n",
       "      <td>2020</td>\n",
       "      <td>Australia</td>\n",
       "      <td>83.0</td>\n",
       "      <td>25.69</td>\n",
       "      <td>53.32</td>\n",
       "      <td>3.98</td>\n",
       "    </tr>\n",
       "    <tr>\n",
       "      <th>AUT</th>\n",
       "      <td>2020</td>\n",
       "      <td>Austria</td>\n",
       "      <td>81.0</td>\n",
       "      <td>8.92</td>\n",
       "      <td>55.69</td>\n",
       "      <td>4.02</td>\n",
       "    </tr>\n",
       "    <tr>\n",
       "      <th>AZE</th>\n",
       "      <td>2020</td>\n",
       "      <td>Azerbaijan</td>\n",
       "      <td>73.0</td>\n",
       "      <td>10.09</td>\n",
       "      <td>14.48</td>\n",
       "      <td>2.67</td>\n",
       "    </tr>\n",
       "  </tbody>\n",
       "</table>\n",
       "</div>"
      ],
      "text/plain": [
       "              Year         Country_Name  Life_Expectancy  \\\n",
       "Country_Code                                               \n",
       "AFG           2020          Afghanistan             65.0   \n",
       "ALB           2020              Albania             79.0   \n",
       "DZA           2020              Algeria             77.0   \n",
       "AGO           2020               Angola             61.0   \n",
       "ATG           2020  Antigua and Barbuda             77.0   \n",
       "ARG           2020            Argentina             77.0   \n",
       "ARM           2020              Armenia             75.0   \n",
       "AUS           2020            Australia             83.0   \n",
       "AUT           2020              Austria             81.0   \n",
       "AZE           2020           Azerbaijan             73.0   \n",
       "\n",
       "              Population (million)  GDP_per_Capita (thousand)  Log_GDP  \n",
       "Country_Code                                                            \n",
       "AFG                          38.93                       2.08     0.73  \n",
       "ALB                           2.84                      13.41     2.60  \n",
       "DZA                          43.85                      11.32     2.43  \n",
       "AGO                          32.87                       6.45     1.86  \n",
       "ATG                           0.10                      18.24     2.90  \n",
       "ARG                          45.38                      20.77     3.03  \n",
       "ARM                           2.96                      13.31     2.59  \n",
       "AUS                          25.69                      53.32     3.98  \n",
       "AUT                           8.92                      55.69     4.02  \n",
       "AZE                          10.09                      14.48     2.67  "
      ]
     },
     "execution_count": 17,
     "metadata": {},
     "output_type": "execute_result"
    }
   ],
   "source": [
    "# Data transformed by taking the natural logarithm, differences in natural logs show percentage differences.\n",
    "df[\"Log_GDP\"] = round(np.log(df[\"GDP_per_Capita (thousand)\"]),2)\n",
    "df.head(10)"
   ]
  },
  {
   "cell_type": "code",
   "execution_count": 18,
   "id": "cb32f33c",
   "metadata": {},
   "outputs": [
    {
     "data": {
      "text/html": [
       "<div>\n",
       "<style scoped>\n",
       "    .dataframe tbody tr th:only-of-type {\n",
       "        vertical-align: middle;\n",
       "    }\n",
       "\n",
       "    .dataframe tbody tr th {\n",
       "        vertical-align: top;\n",
       "    }\n",
       "\n",
       "    .dataframe thead th {\n",
       "        text-align: right;\n",
       "    }\n",
       "</style>\n",
       "<table border=\"1\" class=\"dataframe\">\n",
       "  <thead>\n",
       "    <tr style=\"text-align: right;\">\n",
       "      <th></th>\n",
       "      <th>Year</th>\n",
       "      <th>Life_Expectancy</th>\n",
       "      <th>Population (million)</th>\n",
       "      <th>GDP_per_Capita (thousand)</th>\n",
       "      <th>Log_GDP</th>\n",
       "    </tr>\n",
       "  </thead>\n",
       "  <tbody>\n",
       "    <tr>\n",
       "      <th>count</th>\n",
       "      <td>181.0</td>\n",
       "      <td>181.00</td>\n",
       "      <td>181.00</td>\n",
       "      <td>181.00</td>\n",
       "      <td>181.00</td>\n",
       "    </tr>\n",
       "    <tr>\n",
       "      <th>mean</th>\n",
       "      <td>2020.0</td>\n",
       "      <td>72.77</td>\n",
       "      <td>42.01</td>\n",
       "      <td>21.23</td>\n",
       "      <td>2.49</td>\n",
       "    </tr>\n",
       "    <tr>\n",
       "      <th>std</th>\n",
       "      <td>0.0</td>\n",
       "      <td>7.30</td>\n",
       "      <td>151.43</td>\n",
       "      <td>21.84</td>\n",
       "      <td>1.15</td>\n",
       "    </tr>\n",
       "    <tr>\n",
       "      <th>min</th>\n",
       "      <td>2020.0</td>\n",
       "      <td>54.00</td>\n",
       "      <td>0.06</td>\n",
       "      <td>0.77</td>\n",
       "      <td>-0.26</td>\n",
       "    </tr>\n",
       "    <tr>\n",
       "      <th>25%</th>\n",
       "      <td>2020.0</td>\n",
       "      <td>68.00</td>\n",
       "      <td>2.35</td>\n",
       "      <td>5.12</td>\n",
       "      <td>1.63</td>\n",
       "    </tr>\n",
       "    <tr>\n",
       "      <th>50%</th>\n",
       "      <td>2020.0</td>\n",
       "      <td>74.00</td>\n",
       "      <td>8.95</td>\n",
       "      <td>13.07</td>\n",
       "      <td>2.57</td>\n",
       "    </tr>\n",
       "    <tr>\n",
       "      <th>75%</th>\n",
       "      <td>2020.0</td>\n",
       "      <td>78.00</td>\n",
       "      <td>31.26</td>\n",
       "      <td>31.48</td>\n",
       "      <td>3.45</td>\n",
       "    </tr>\n",
       "    <tr>\n",
       "      <th>max</th>\n",
       "      <td>2020.0</td>\n",
       "      <td>85.00</td>\n",
       "      <td>1410.93</td>\n",
       "      <td>117.85</td>\n",
       "      <td>4.77</td>\n",
       "    </tr>\n",
       "  </tbody>\n",
       "</table>\n",
       "</div>"
      ],
      "text/plain": [
       "         Year  Life_Expectancy  Population (million)  \\\n",
       "count   181.0           181.00                181.00   \n",
       "mean   2020.0            72.77                 42.01   \n",
       "std       0.0             7.30                151.43   \n",
       "min    2020.0            54.00                  0.06   \n",
       "25%    2020.0            68.00                  2.35   \n",
       "50%    2020.0            74.00                  8.95   \n",
       "75%    2020.0            78.00                 31.26   \n",
       "max    2020.0            85.00               1410.93   \n",
       "\n",
       "       GDP_per_Capita (thousand)  Log_GDP  \n",
       "count                     181.00   181.00  \n",
       "mean                       21.23     2.49  \n",
       "std                        21.84     1.15  \n",
       "min                         0.77    -0.26  \n",
       "25%                         5.12     1.63  \n",
       "50%                        13.07     2.57  \n",
       "75%                        31.48     3.45  \n",
       "max                       117.85     4.77  "
      ]
     },
     "execution_count": 18,
     "metadata": {},
     "output_type": "execute_result"
    }
   ],
   "source": [
    "#let see descriptive statistics of the dataset\n",
    "\n",
    "round(df.describe(),2)"
   ]
  },
  {
   "cell_type": "code",
   "execution_count": 19,
   "id": "1811e7a6",
   "metadata": {},
   "outputs": [
    {
     "data": {
      "text/html": [
       "<div>\n",
       "<style scoped>\n",
       "    .dataframe tbody tr th:only-of-type {\n",
       "        vertical-align: middle;\n",
       "    }\n",
       "\n",
       "    .dataframe tbody tr th {\n",
       "        vertical-align: top;\n",
       "    }\n",
       "\n",
       "    .dataframe thead th {\n",
       "        text-align: right;\n",
       "    }\n",
       "</style>\n",
       "<table border=\"1\" class=\"dataframe\">\n",
       "  <thead>\n",
       "    <tr style=\"text-align: right;\">\n",
       "      <th></th>\n",
       "      <th>Year</th>\n",
       "      <th>Country_Name</th>\n",
       "      <th>Life_Expectancy</th>\n",
       "      <th>Population (million)</th>\n",
       "      <th>GDP_per_Capita (thousand)</th>\n",
       "      <th>Log_GDP</th>\n",
       "    </tr>\n",
       "    <tr>\n",
       "      <th>Country_Code</th>\n",
       "      <th></th>\n",
       "      <th></th>\n",
       "      <th></th>\n",
       "      <th></th>\n",
       "      <th></th>\n",
       "      <th></th>\n",
       "    </tr>\n",
       "  </thead>\n",
       "  <tbody>\n",
       "    <tr>\n",
       "      <th>MYS</th>\n",
       "      <td>2020</td>\n",
       "      <td>Malaysia</td>\n",
       "      <td>76.0</td>\n",
       "      <td>32.37</td>\n",
       "      <td>27.92</td>\n",
       "      <td>3.33</td>\n",
       "    </tr>\n",
       "  </tbody>\n",
       "</table>\n",
       "</div>"
      ],
      "text/plain": [
       "              Year Country_Name  Life_Expectancy  Population (million)  \\\n",
       "Country_Code                                                             \n",
       "MYS           2020     Malaysia             76.0                 32.37   \n",
       "\n",
       "              GDP_per_Capita (thousand)  Log_GDP  \n",
       "Country_Code                                      \n",
       "MYS                               27.92     3.33  "
      ]
     },
     "execution_count": 19,
     "metadata": {},
     "output_type": "execute_result"
    }
   ],
   "source": [
    "life_expectancy_Malaysia2020 = df[(df['Country_Name'] == 'Malaysia')]\n",
    "life_expectancy_Malaysia2020"
   ]
  },
  {
   "cell_type": "markdown",
   "id": "78100198",
   "metadata": {},
   "source": [
    "<div class=\"alert alert-block alert-info\">\n",
    "    <b>Average life expectancy across the 181 countries in 2020 is 73 years, with a range of 54 to 85 years old. Thus, there is substantial variation in the average length of life across countries. For a comparison to Malaysia (my country), Malaysia is at the upper half of the range where Malaysian residents expected to live around 76-years-old.</b>\n",
    "    </div>\n",
    "    "
   ]
  },
  {
   "cell_type": "code",
   "execution_count": 20,
   "id": "ee89b200",
   "metadata": {},
   "outputs": [
    {
     "name": "stdout",
     "output_type": "stream",
     "text": [
      "Countries with the lowest life expectancy are from :\n"
     ]
    },
    {
     "data": {
      "text/html": [
       "<div>\n",
       "<style scoped>\n",
       "    .dataframe tbody tr th:only-of-type {\n",
       "        vertical-align: middle;\n",
       "    }\n",
       "\n",
       "    .dataframe tbody tr th {\n",
       "        vertical-align: top;\n",
       "    }\n",
       "\n",
       "    .dataframe thead th {\n",
       "        text-align: right;\n",
       "    }\n",
       "</style>\n",
       "<table border=\"1\" class=\"dataframe\">\n",
       "  <thead>\n",
       "    <tr style=\"text-align: right;\">\n",
       "      <th></th>\n",
       "      <th>Country_Name</th>\n",
       "      <th>Life_Expectancy</th>\n",
       "    </tr>\n",
       "    <tr>\n",
       "      <th>Country_Code</th>\n",
       "      <th></th>\n",
       "      <th></th>\n",
       "    </tr>\n",
       "  </thead>\n",
       "  <tbody>\n",
       "    <tr>\n",
       "      <th>CAF</th>\n",
       "      <td>Central African Republic</td>\n",
       "      <td>54.0</td>\n",
       "    </tr>\n",
       "    <tr>\n",
       "      <th>NGA</th>\n",
       "      <td>Nigeria</td>\n",
       "      <td>55.0</td>\n",
       "    </tr>\n",
       "    <tr>\n",
       "      <th>TCD</th>\n",
       "      <td>Chad</td>\n",
       "      <td>55.0</td>\n",
       "    </tr>\n",
       "    <tr>\n",
       "      <th>SLE</th>\n",
       "      <td>Sierra Leone</td>\n",
       "      <td>55.0</td>\n",
       "    </tr>\n",
       "    <tr>\n",
       "      <th>LSO</th>\n",
       "      <td>Lesotho</td>\n",
       "      <td>55.0</td>\n",
       "    </tr>\n",
       "  </tbody>\n",
       "</table>\n",
       "</div>"
      ],
      "text/plain": [
       "                          Country_Name  Life_Expectancy\n",
       "Country_Code                                           \n",
       "CAF           Central African Republic             54.0\n",
       "NGA                            Nigeria             55.0\n",
       "TCD                               Chad             55.0\n",
       "SLE                       Sierra Leone             55.0\n",
       "LSO                            Lesotho             55.0"
      ]
     },
     "execution_count": 20,
     "metadata": {},
     "output_type": "execute_result"
    }
   ],
   "source": [
    "sorted_by_life_expectancy = df.sort_values(by=['Life_Expectancy'])\n",
    "\n",
    "print('Countries with the lowest life expectancy are from :')\n",
    "(sorted_by_life_expectancy [['Country_Name','Life_Expectancy']]).head()"
   ]
  },
  {
   "cell_type": "code",
   "execution_count": 21,
   "id": "5fdf7ceb",
   "metadata": {},
   "outputs": [
    {
     "name": "stdout",
     "output_type": "stream",
     "text": [
      "Countries with the highest life expectancy are from East Asian countries and South East Asian (Singapore)\n"
     ]
    },
    {
     "data": {
      "text/html": [
       "<div>\n",
       "<style scoped>\n",
       "    .dataframe tbody tr th:only-of-type {\n",
       "        vertical-align: middle;\n",
       "    }\n",
       "\n",
       "    .dataframe tbody tr th {\n",
       "        vertical-align: top;\n",
       "    }\n",
       "\n",
       "    .dataframe thead th {\n",
       "        text-align: right;\n",
       "    }\n",
       "</style>\n",
       "<table border=\"1\" class=\"dataframe\">\n",
       "  <thead>\n",
       "    <tr style=\"text-align: right;\">\n",
       "      <th></th>\n",
       "      <th>Country_Name</th>\n",
       "      <th>Life_Expectancy</th>\n",
       "    </tr>\n",
       "    <tr>\n",
       "      <th>Country_Code</th>\n",
       "      <th></th>\n",
       "      <th></th>\n",
       "    </tr>\n",
       "  </thead>\n",
       "  <tbody>\n",
       "    <tr>\n",
       "      <th>MLT</th>\n",
       "      <td>Malta</td>\n",
       "      <td>83.0</td>\n",
       "    </tr>\n",
       "    <tr>\n",
       "      <th>MAC</th>\n",
       "      <td>Macao SAR, China</td>\n",
       "      <td>84.0</td>\n",
       "    </tr>\n",
       "    <tr>\n",
       "      <th>SGP</th>\n",
       "      <td>Singapore</td>\n",
       "      <td>84.0</td>\n",
       "    </tr>\n",
       "    <tr>\n",
       "      <th>JPN</th>\n",
       "      <td>Japan</td>\n",
       "      <td>85.0</td>\n",
       "    </tr>\n",
       "    <tr>\n",
       "      <th>HKG</th>\n",
       "      <td>Hong Kong SAR, China</td>\n",
       "      <td>85.0</td>\n",
       "    </tr>\n",
       "  </tbody>\n",
       "</table>\n",
       "</div>"
      ],
      "text/plain": [
       "                      Country_Name  Life_Expectancy\n",
       "Country_Code                                       \n",
       "MLT                          Malta             83.0\n",
       "MAC               Macao SAR, China             84.0\n",
       "SGP                      Singapore             84.0\n",
       "JPN                          Japan             85.0\n",
       "HKG           Hong Kong SAR, China             85.0"
      ]
     },
     "execution_count": 21,
     "metadata": {},
     "output_type": "execute_result"
    }
   ],
   "source": [
    "print('''Countries with the highest life expectancy are from East Asian countries and South East Asian (Singapore)''')\n",
    "sorted_by_life_expectancy [['Country_Name','Life_Expectancy']].tail()"
   ]
  },
  {
   "cell_type": "markdown",
   "id": "17860f98",
   "metadata": {},
   "source": [
    "### Figure 1: The distribution of GDP per capita"
   ]
  },
  {
   "cell_type": "markdown",
   "id": "1d00acd1",
   "metadata": {},
   "source": [
    "(a) Histogram of GDP per capita"
   ]
  },
  {
   "cell_type": "code",
   "execution_count": 22,
   "id": "3b20754e",
   "metadata": {},
   "outputs": [
    {
     "data": {
      "text/plain": [
       "Text(0, 0.5, 'Frequency')"
      ]
     },
     "execution_count": 22,
     "metadata": {},
     "output_type": "execute_result"
    },
    {
     "data": {
      "image/png": "[encoded data removed]",
      "text/plain": [
       "<Figure size 720x360 with 1 Axes>"
      ]
     },
     "metadata": {},
     "output_type": "display_data"
    }
   ],
   "source": [
    "df['GDP_per_Capita (thousand)'].hist(figsize=(10,5),bins=42,)\n",
    "plt.title(\"Figure 1a: The distribution of GDP per capita\", fontsize=15) \n",
    "plt.xlabel(\"GDP per capita (thousand)\", fontsize=12) \n",
    "plt.ylabel(\"Frequency\", fontsize=12)  "
   ]
  },
  {
   "cell_type": "markdown",
   "id": "92feaf48",
   "metadata": {},
   "source": [
    "<div class=\"alert alert-block alert-info\">\n",
    "    <b>The distribution of GDP per capita is skewed with a long right tail, Figure 1a shows its histogram. There are 6 countries with extremely high GDP per capita values. Let's see which countries are they.\n",
    "</b>\n",
    "    </div>"
   ]
  },
  {
   "cell_type": "code",
   "execution_count": 23,
   "id": "a290fbd8",
   "metadata": {
    "scrolled": true
   },
   "outputs": [
    {
     "data": {
      "text/html": [
       "<div>\n",
       "<style scoped>\n",
       "    .dataframe tbody tr th:only-of-type {\n",
       "        vertical-align: middle;\n",
       "    }\n",
       "\n",
       "    .dataframe tbody tr th {\n",
       "        vertical-align: top;\n",
       "    }\n",
       "\n",
       "    .dataframe thead th {\n",
       "        text-align: right;\n",
       "    }\n",
       "</style>\n",
       "<table border=\"1\" class=\"dataframe\">\n",
       "  <thead>\n",
       "    <tr style=\"text-align: right;\">\n",
       "      <th></th>\n",
       "      <th>Year</th>\n",
       "      <th>Country_Name</th>\n",
       "      <th>Life_Expectancy</th>\n",
       "      <th>Population (million)</th>\n",
       "      <th>GDP_per_Capita (thousand)</th>\n",
       "      <th>Log_GDP</th>\n",
       "    </tr>\n",
       "    <tr>\n",
       "      <th>Country_Code</th>\n",
       "      <th></th>\n",
       "      <th></th>\n",
       "      <th></th>\n",
       "      <th></th>\n",
       "      <th></th>\n",
       "      <th></th>\n",
       "    </tr>\n",
       "  </thead>\n",
       "  <tbody>\n",
       "    <tr>\n",
       "      <th>LUX</th>\n",
       "      <td>2020</td>\n",
       "      <td>Luxembourg</td>\n",
       "      <td>82.0</td>\n",
       "      <td>0.63</td>\n",
       "      <td>117.85</td>\n",
       "      <td>4.77</td>\n",
       "    </tr>\n",
       "    <tr>\n",
       "      <th>SGP</th>\n",
       "      <td>2020</td>\n",
       "      <td>Singapore</td>\n",
       "      <td>84.0</td>\n",
       "      <td>5.69</td>\n",
       "      <td>98.52</td>\n",
       "      <td>4.59</td>\n",
       "    </tr>\n",
       "    <tr>\n",
       "      <th>IRL</th>\n",
       "      <td>2020</td>\n",
       "      <td>Ireland</td>\n",
       "      <td>82.0</td>\n",
       "      <td>4.99</td>\n",
       "      <td>93.35</td>\n",
       "      <td>4.54</td>\n",
       "    </tr>\n",
       "    <tr>\n",
       "      <th>QAT</th>\n",
       "      <td>2020</td>\n",
       "      <td>Qatar</td>\n",
       "      <td>80.0</td>\n",
       "      <td>2.88</td>\n",
       "      <td>89.97</td>\n",
       "      <td>4.50</td>\n",
       "    </tr>\n",
       "    <tr>\n",
       "      <th>BMU</th>\n",
       "      <td>2020</td>\n",
       "      <td>Bermuda</td>\n",
       "      <td>82.0</td>\n",
       "      <td>0.06</td>\n",
       "      <td>80.83</td>\n",
       "      <td>4.39</td>\n",
       "    </tr>\n",
       "    <tr>\n",
       "      <th>CHE</th>\n",
       "      <td>2020</td>\n",
       "      <td>Switzerland</td>\n",
       "      <td>83.0</td>\n",
       "      <td>8.64</td>\n",
       "      <td>71.75</td>\n",
       "      <td>4.27</td>\n",
       "    </tr>\n",
       "  </tbody>\n",
       "</table>\n",
       "</div>"
      ],
      "text/plain": [
       "              Year Country_Name  Life_Expectancy  Population (million)  \\\n",
       "Country_Code                                                             \n",
       "LUX           2020   Luxembourg             82.0                  0.63   \n",
       "SGP           2020    Singapore             84.0                  5.69   \n",
       "IRL           2020      Ireland             82.0                  4.99   \n",
       "QAT           2020        Qatar             80.0                  2.88   \n",
       "BMU           2020      Bermuda             82.0                  0.06   \n",
       "CHE           2020  Switzerland             83.0                  8.64   \n",
       "\n",
       "              GDP_per_Capita (thousand)  Log_GDP  \n",
       "Country_Code                                      \n",
       "LUX                              117.85     4.77  \n",
       "SGP                               98.52     4.59  \n",
       "IRL                               93.35     4.54  \n",
       "QAT                               89.97     4.50  \n",
       "BMU                               80.83     4.39  \n",
       "CHE                               71.75     4.27  "
      ]
     },
     "execution_count": 23,
     "metadata": {},
     "output_type": "execute_result"
    }
   ],
   "source": [
    "sorted_by_gdppc = df.sort_values(by=['GDP_per_Capita (thousand)'],ascending=False)\n",
    "sorted_by_gdppc.head(6)"
   ]
  },
  {
   "cell_type": "markdown",
   "id": "da8cdcb7",
   "metadata": {},
   "source": [
    "\n",
    "<div class=\"alert alert-block alert-info\">\n",
    "    <b>There are 6 countries with extremely high GDP per capita: Luxembourg, Singapore, Ireland, Qatar,Bermuda and Switzerland.</b> \n",
    "    </div>"
   ]
  },
  {
   "cell_type": "code",
   "execution_count": 24,
   "id": "6786b75c",
   "metadata": {},
   "outputs": [
    {
     "data": {
      "text/html": [
       "<div>\n",
       "<style scoped>\n",
       "    .dataframe tbody tr th:only-of-type {\n",
       "        vertical-align: middle;\n",
       "    }\n",
       "\n",
       "    .dataframe tbody tr th {\n",
       "        vertical-align: top;\n",
       "    }\n",
       "\n",
       "    .dataframe thead th {\n",
       "        text-align: right;\n",
       "    }\n",
       "</style>\n",
       "<table border=\"1\" class=\"dataframe\">\n",
       "  <thead>\n",
       "    <tr style=\"text-align: right;\">\n",
       "      <th></th>\n",
       "      <th>Year</th>\n",
       "      <th>Life_Expectancy</th>\n",
       "      <th>Population (million)</th>\n",
       "      <th>GDP_per_Capita (thousand)</th>\n",
       "      <th>Log_GDP</th>\n",
       "    </tr>\n",
       "  </thead>\n",
       "  <tbody>\n",
       "    <tr>\n",
       "      <th>count</th>\n",
       "      <td>181.0</td>\n",
       "      <td>181.00</td>\n",
       "      <td>181.00</td>\n",
       "      <td>181.00</td>\n",
       "      <td>181.00</td>\n",
       "    </tr>\n",
       "    <tr>\n",
       "      <th>mean</th>\n",
       "      <td>2020.0</td>\n",
       "      <td>72.77</td>\n",
       "      <td>42.01</td>\n",
       "      <td>21.23</td>\n",
       "      <td>2.49</td>\n",
       "    </tr>\n",
       "    <tr>\n",
       "      <th>std</th>\n",
       "      <td>0.0</td>\n",
       "      <td>7.30</td>\n",
       "      <td>151.43</td>\n",
       "      <td>21.84</td>\n",
       "      <td>1.15</td>\n",
       "    </tr>\n",
       "    <tr>\n",
       "      <th>min</th>\n",
       "      <td>2020.0</td>\n",
       "      <td>54.00</td>\n",
       "      <td>0.06</td>\n",
       "      <td>0.77</td>\n",
       "      <td>-0.26</td>\n",
       "    </tr>\n",
       "    <tr>\n",
       "      <th>25%</th>\n",
       "      <td>2020.0</td>\n",
       "      <td>68.00</td>\n",
       "      <td>2.35</td>\n",
       "      <td>5.12</td>\n",
       "      <td>1.63</td>\n",
       "    </tr>\n",
       "    <tr>\n",
       "      <th>50%</th>\n",
       "      <td>2020.0</td>\n",
       "      <td>74.00</td>\n",
       "      <td>8.95</td>\n",
       "      <td>13.07</td>\n",
       "      <td>2.57</td>\n",
       "    </tr>\n",
       "    <tr>\n",
       "      <th>75%</th>\n",
       "      <td>2020.0</td>\n",
       "      <td>78.00</td>\n",
       "      <td>31.26</td>\n",
       "      <td>31.48</td>\n",
       "      <td>3.45</td>\n",
       "    </tr>\n",
       "    <tr>\n",
       "      <th>max</th>\n",
       "      <td>2020.0</td>\n",
       "      <td>85.00</td>\n",
       "      <td>1410.93</td>\n",
       "      <td>117.85</td>\n",
       "      <td>4.77</td>\n",
       "    </tr>\n",
       "  </tbody>\n",
       "</table>\n",
       "</div>"
      ],
      "text/plain": [
       "         Year  Life_Expectancy  Population (million)  \\\n",
       "count   181.0           181.00                181.00   \n",
       "mean   2020.0            72.77                 42.01   \n",
       "std       0.0             7.30                151.43   \n",
       "min    2020.0            54.00                  0.06   \n",
       "25%    2020.0            68.00                  2.35   \n",
       "50%    2020.0            74.00                  8.95   \n",
       "75%    2020.0            78.00                 31.26   \n",
       "max    2020.0            85.00               1410.93   \n",
       "\n",
       "       GDP_per_Capita (thousand)  Log_GDP  \n",
       "count                     181.00   181.00  \n",
       "mean                       21.23     2.49  \n",
       "std                        21.84     1.15  \n",
       "min                         0.77    -0.26  \n",
       "25%                         5.12     1.63  \n",
       "50%                        13.07     2.57  \n",
       "75%                        31.48     3.45  \n",
       "max                       117.85     4.77  "
      ]
     },
     "execution_count": 24,
     "metadata": {},
     "output_type": "execute_result"
    }
   ],
   "source": [
    "round(sorted_by_gdppc.describe(),2)"
   ]
  },
  {
   "cell_type": "markdown",
   "id": "7ec23a29",
   "metadata": {},
   "source": [
    "<div class=\"alert alert-block alert-info\">\n",
    "    <b>Average GDP per capita is 21k USD in this data, the median is 13k USD, which also shows the skewness of the distribution. The standard deviation is 22k USD, suggesting substantial spread.</b> \n",
    "    </div>"
   ]
  },
  {
   "cell_type": "markdown",
   "id": "cfb3f683",
   "metadata": {},
   "source": [
    "(b) Histogram of log (GDP per capita)"
   ]
  },
  {
   "cell_type": "code",
   "execution_count": 25,
   "id": "e37338ac",
   "metadata": {},
   "outputs": [
    {
     "data": {
      "text/plain": [
       "Text(0, 0.5, 'Frequency')"
      ]
     },
     "execution_count": 25,
     "metadata": {},
     "output_type": "execute_result"
    },
    {
     "data": {
      "image/png": "[encoded data removed]",
      "text/plain": [
       "<Figure size 720x360 with 1 Axes>"
      ]
     },
     "metadata": {},
     "output_type": "display_data"
    }
   ],
   "source": [
    "df['Log_GDP'].hist(figsize=(10,5),bins=30)\n",
    "plt.title(\"Figure 1b: The distribution of GDP per capita in log 10\", fontsize=15) \n",
    "plt.xlabel(\"ln GDP per capita (thousand)\", fontsize=12) \n",
    "plt.ylabel(\"Frequency\", fontsize=12)"
   ]
  },
  {
   "cell_type": "markdown",
   "id": "993023ca",
   "metadata": {},
   "source": [
    "<div class=\"alert alert-block alert-info\">\n",
    "    <b>When we take the natural log of GDP per capita, the distribution is close to symmetric (Figure 1b). There are two countries with less than one thousand dollars of GDP per capita (Burundi and the Central African Republic), their log GDP per capita value is less than zero. The average of log GDP per capita is 2.49 in this data, its median is 2.57, suggesting a fairly symmetric distribution. The standard deviation is 1.15.</b>\n",
    "    </div>"
   ]
  },
  {
   "cell_type": "code",
   "execution_count": 26,
   "id": "36576b49",
   "metadata": {},
   "outputs": [
    {
     "data": {
      "text/html": [
       "<div>\n",
       "<style scoped>\n",
       "    .dataframe tbody tr th:only-of-type {\n",
       "        vertical-align: middle;\n",
       "    }\n",
       "\n",
       "    .dataframe tbody tr th {\n",
       "        vertical-align: top;\n",
       "    }\n",
       "\n",
       "    .dataframe thead th {\n",
       "        text-align: right;\n",
       "    }\n",
       "</style>\n",
       "<table border=\"1\" class=\"dataframe\">\n",
       "  <thead>\n",
       "    <tr style=\"text-align: right;\">\n",
       "      <th></th>\n",
       "      <th>Year</th>\n",
       "      <th>Country_Name</th>\n",
       "      <th>Life_Expectancy</th>\n",
       "      <th>Population (million)</th>\n",
       "      <th>GDP_per_Capita (thousand)</th>\n",
       "      <th>Log_GDP</th>\n",
       "    </tr>\n",
       "    <tr>\n",
       "      <th>Country_Code</th>\n",
       "      <th></th>\n",
       "      <th></th>\n",
       "      <th></th>\n",
       "      <th></th>\n",
       "      <th></th>\n",
       "      <th></th>\n",
       "    </tr>\n",
       "  </thead>\n",
       "  <tbody>\n",
       "    <tr>\n",
       "      <th>NER</th>\n",
       "      <td>2020</td>\n",
       "      <td>Niger</td>\n",
       "      <td>63.0</td>\n",
       "      <td>24.21</td>\n",
       "      <td>1.29</td>\n",
       "      <td>0.25</td>\n",
       "    </tr>\n",
       "    <tr>\n",
       "      <th>SOM</th>\n",
       "      <td>2020</td>\n",
       "      <td>Somalia</td>\n",
       "      <td>58.0</td>\n",
       "      <td>15.89</td>\n",
       "      <td>1.25</td>\n",
       "      <td>0.22</td>\n",
       "    </tr>\n",
       "    <tr>\n",
       "      <th>COD</th>\n",
       "      <td>2020</td>\n",
       "      <td>Congo, Dem. Rep.</td>\n",
       "      <td>61.0</td>\n",
       "      <td>89.56</td>\n",
       "      <td>1.14</td>\n",
       "      <td>0.13</td>\n",
       "    </tr>\n",
       "    <tr>\n",
       "      <th>CAF</th>\n",
       "      <td>2020</td>\n",
       "      <td>Central African Republic</td>\n",
       "      <td>54.0</td>\n",
       "      <td>4.83</td>\n",
       "      <td>0.99</td>\n",
       "      <td>-0.01</td>\n",
       "    </tr>\n",
       "    <tr>\n",
       "      <th>BDI</th>\n",
       "      <td>2020</td>\n",
       "      <td>Burundi</td>\n",
       "      <td>62.0</td>\n",
       "      <td>11.89</td>\n",
       "      <td>0.77</td>\n",
       "      <td>-0.26</td>\n",
       "    </tr>\n",
       "  </tbody>\n",
       "</table>\n",
       "</div>"
      ],
      "text/plain": [
       "              Year              Country_Name  Life_Expectancy  \\\n",
       "Country_Code                                                    \n",
       "NER           2020                     Niger             63.0   \n",
       "SOM           2020                   Somalia             58.0   \n",
       "COD           2020          Congo, Dem. Rep.             61.0   \n",
       "CAF           2020  Central African Republic             54.0   \n",
       "BDI           2020                   Burundi             62.0   \n",
       "\n",
       "              Population (million)  GDP_per_Capita (thousand)  Log_GDP  \n",
       "Country_Code                                                            \n",
       "NER                          24.21                       1.29     0.25  \n",
       "SOM                          15.89                       1.25     0.22  \n",
       "COD                          89.56                       1.14     0.13  \n",
       "CAF                           4.83                       0.99    -0.01  \n",
       "BDI                          11.89                       0.77    -0.26  "
      ]
     },
     "execution_count": 26,
     "metadata": {},
     "output_type": "execute_result"
    }
   ],
   "source": [
    "sorted_by_gdppc.tail()"
   ]
  },
  {
   "cell_type": "markdown",
   "id": "548fae02",
   "metadata": {},
   "source": [
    "### Figure 2 Life expectancy and GDP per capita"
   ]
  },
  {
   "cell_type": "markdown",
   "id": "d8db02e9",
   "metadata": {},
   "source": [
    "(a) Life expectancy and (GDP per capita)"
   ]
  },
  {
   "cell_type": "code",
   "execution_count": 27,
   "id": "5e45f0ee",
   "metadata": {},
   "outputs": [
    {
     "data": {
      "text/plain": [
       "'The preceding screenshot shows a strong correlation between these two variables. However, there are some outliers that we can easily spot from the graph'"
      ]
     },
     "execution_count": 27,
     "metadata": {},
     "output_type": "execute_result"
    },
    {
     "data": {
      "image/png": "[encoded data removed]",
      "text/plain": [
       "<Figure size 504x360 with 1 Axes>"
      ]
     },
     "metadata": {},
     "output_type": "display_data"
    }
   ],
   "source": [
    "plt.figure(figsize=(7, 5))\n",
    "sns.regplot(df['GDP_per_Capita (thousand)'], df['Life_Expectancy'])\n",
    "plt.xlabel(\"GDP per capita (thousands dollar)\", fontsize=15) \n",
    "plt.ylabel(\"Life expectancy (years)\", fontsize=15) \n",
    "plt.axis([0, 120, 50, 100])\n",
    "\n",
    "\"The preceding screenshot shows a strong correlation between these two variables. However, there are some outliers that we can easily spot from the graph\""
   ]
  },
  {
   "cell_type": "markdown",
   "id": "01fd86e9",
   "metadata": {},
   "source": [
    "<div class=\"alert alert-block alert-info\">\n",
    "    <b>Figure 2a shows the results of a linear regression with life expectancy as the y variable, and GDP per capita as the x variable. This regression shows a positive slope, but the scatterplot implies that there are strong nonlinearities in the association that the linear regression doesn’t capture. In particular, the slope appears a lot steeper at lower levels of GDP per capita and a lot flatter at higher levels. Thus, the linear regression does not capture the shape of the pattern, and because of the skewed distribution of the x variable, it is not a very good approximation of the average of that nonlinear pattern either.</b> \n",
    "    </div>"
   ]
  },
  {
   "cell_type": "markdown",
   "id": "2caeecc9",
   "metadata": {},
   "source": [
    "(b) Life expectancy and ln (GDP per capita)"
   ]
  },
  {
   "cell_type": "code",
   "execution_count": 28,
   "id": "d08e402a",
   "metadata": {
    "scrolled": false
   },
   "outputs": [
    {
     "data": {
      "text/plain": [
       "(-0.5, 5.0, 50.0, 85.0)"
      ]
     },
     "execution_count": 28,
     "metadata": {},
     "output_type": "execute_result"
    },
    {
     "data": {
      "image/png": "[encoded data removed]",
      "text/plain": [
       "<Figure size 576x360 with 1 Axes>"
      ]
     },
     "metadata": {},
     "output_type": "display_data"
    }
   ],
   "source": [
    "plt.figure(figsize=(8, 5))\n",
    "sns.regplot(df['Log_GDP'],df['Life_Expectancy'])\n",
    "plt.xlabel(\"ln GDP per capita (thousands dollar)\", fontsize=15) \n",
    "plt.ylabel(\"Life expectancy (years)\", fontsize=15) \n",
    "plt.axis([-0.5, 5, 50, 85])"
   ]
  },
  {
   "cell_type": "markdown",
   "id": "5da7d318",
   "metadata": {},
   "source": [
    "<div class=\"alert alert-block alert-info\">\n",
    "    <b>Figure 2b shows the same regression with the natural log of GDP per capita as the x variable. In contrast with the \n",
    "regression without taking logs, the scatterplot with log GDP per capita suggests a remarkably linear pattern.\n",
    "For most of the range of log GDP per capita, the linear fit appears to be a good approximation\n",
    "of the conditional expectation.</b>\n",
    "    </div>"
   ]
  },
  {
   "cell_type": "markdown",
   "id": "b3392468",
   "metadata": {},
   "source": [
    "It is easier to inspect the chart if it is interactive, so let's make one."
   ]
  },
  {
   "cell_type": "code",
   "execution_count": 29,
   "id": "f8c2be9c",
   "metadata": {},
   "outputs": [
    {
     "data": {
      "text/plain": [
       "\"df.iplot(x='Log_GDP',y='Life_Expectancy', text='Country_Name',bestfit=True,bestfit_colors=['black'],mode='markers',xTitle='ln scale GDP per capita (thousands dollar)', yTitle='Life expectancy (years)',colors = 'blue',symbol='circle-dot', size=8)\""
      ]
     },
     "execution_count": 29,
     "metadata": {},
     "output_type": "execute_result"
    }
   ],
   "source": [
    "'''df.iplot(x='Log_GDP',y='Life_Expectancy', text='Country_Name',bestfit=True,bestfit_colors=['black'],mode='markers',xTitle='ln scale GDP per capita (thousands dollar)', yTitle='Life expectancy (years)',colors = 'blue',symbol='circle-dot', size=8)'''"
   ]
  },
  {
   "cell_type": "markdown",
   "id": "16412295",
   "metadata": {},
   "source": [
    "Running above command by uncomment will plot a chart that shows the equation for regression line y = 5.29x + 59.60 .\n",
    "From that we populate new data to display on chart for better visualization.\n",
    "The same interactive chart will displayed later instead to avoid redundancy."
   ]
  },
  {
   "cell_type": "code",
   "execution_count": 30,
   "id": "dd39de05",
   "metadata": {},
   "outputs": [
    {
     "data": {
      "text/html": [
       "<div>\n",
       "<style scoped>\n",
       "    .dataframe tbody tr th:only-of-type {\n",
       "        vertical-align: middle;\n",
       "    }\n",
       "\n",
       "    .dataframe tbody tr th {\n",
       "        vertical-align: top;\n",
       "    }\n",
       "\n",
       "    .dataframe thead th {\n",
       "        text-align: right;\n",
       "    }\n",
       "</style>\n",
       "<table border=\"1\" class=\"dataframe\">\n",
       "  <thead>\n",
       "    <tr style=\"text-align: right;\">\n",
       "      <th></th>\n",
       "      <th>Year</th>\n",
       "      <th>Country_Name</th>\n",
       "      <th>Life_Expectancy</th>\n",
       "      <th>Population (million)</th>\n",
       "      <th>GDP_per_Capita (thousand)</th>\n",
       "      <th>Log_GDP</th>\n",
       "      <th>Expected_Life</th>\n",
       "      <th>Result</th>\n",
       "      <th>Country_Result</th>\n",
       "    </tr>\n",
       "    <tr>\n",
       "      <th>Country_Code</th>\n",
       "      <th></th>\n",
       "      <th></th>\n",
       "      <th></th>\n",
       "      <th></th>\n",
       "      <th></th>\n",
       "      <th></th>\n",
       "      <th></th>\n",
       "      <th></th>\n",
       "      <th></th>\n",
       "    </tr>\n",
       "  </thead>\n",
       "  <tbody>\n",
       "    <tr>\n",
       "      <th>VUT</th>\n",
       "      <td>2020</td>\n",
       "      <td>Vanuatu</td>\n",
       "      <td>71.0</td>\n",
       "      <td>0.31</td>\n",
       "      <td>3.01</td>\n",
       "      <td>1.10</td>\n",
       "      <td>65.42</td>\n",
       "      <td>6.0</td>\n",
       "      <td>Expected Life Differences Vanuatu : 6.0</td>\n",
       "    </tr>\n",
       "    <tr>\n",
       "      <th>VNM</th>\n",
       "      <td>2020</td>\n",
       "      <td>Vietnam</td>\n",
       "      <td>75.0</td>\n",
       "      <td>97.34</td>\n",
       "      <td>8.65</td>\n",
       "      <td>2.16</td>\n",
       "      <td>71.03</td>\n",
       "      <td>4.0</td>\n",
       "      <td>Expected Life Differences Vietnam : 4.0</td>\n",
       "    </tr>\n",
       "    <tr>\n",
       "      <th>PSE</th>\n",
       "      <td>2020</td>\n",
       "      <td>West Bank and Gaza</td>\n",
       "      <td>74.0</td>\n",
       "      <td>4.80</td>\n",
       "      <td>5.69</td>\n",
       "      <td>1.74</td>\n",
       "      <td>68.80</td>\n",
       "      <td>5.0</td>\n",
       "      <td>Expected Life Differences West Bank and Gaza :...</td>\n",
       "    </tr>\n",
       "    <tr>\n",
       "      <th>ZMB</th>\n",
       "      <td>2020</td>\n",
       "      <td>Zambia</td>\n",
       "      <td>64.0</td>\n",
       "      <td>18.38</td>\n",
       "      <td>3.46</td>\n",
       "      <td>1.24</td>\n",
       "      <td>66.16</td>\n",
       "      <td>-2.0</td>\n",
       "      <td>Expected Life Differences Zambia : -2.0</td>\n",
       "    </tr>\n",
       "    <tr>\n",
       "      <th>ZWE</th>\n",
       "      <td>2020</td>\n",
       "      <td>Zimbabwe</td>\n",
       "      <td>62.0</td>\n",
       "      <td>14.86</td>\n",
       "      <td>3.54</td>\n",
       "      <td>1.26</td>\n",
       "      <td>66.27</td>\n",
       "      <td>-4.0</td>\n",
       "      <td>Expected Life Differences Zimbabwe : -4.0</td>\n",
       "    </tr>\n",
       "  </tbody>\n",
       "</table>\n",
       "</div>"
      ],
      "text/plain": [
       "              Year        Country_Name  Life_Expectancy  Population (million)  \\\n",
       "Country_Code                                                                    \n",
       "VUT           2020             Vanuatu             71.0                  0.31   \n",
       "VNM           2020             Vietnam             75.0                 97.34   \n",
       "PSE           2020  West Bank and Gaza             74.0                  4.80   \n",
       "ZMB           2020              Zambia             64.0                 18.38   \n",
       "ZWE           2020            Zimbabwe             62.0                 14.86   \n",
       "\n",
       "              GDP_per_Capita (thousand)  Log_GDP  Expected_Life  Result  \\\n",
       "Country_Code                                                              \n",
       "VUT                                3.01     1.10          65.42     6.0   \n",
       "VNM                                8.65     2.16          71.03     4.0   \n",
       "PSE                                5.69     1.74          68.80     5.0   \n",
       "ZMB                                3.46     1.24          66.16    -2.0   \n",
       "ZWE                                3.54     1.26          66.27    -4.0   \n",
       "\n",
       "                                                 Country_Result  \n",
       "Country_Code                                                     \n",
       "VUT                     Expected Life Differences Vanuatu : 6.0  \n",
       "VNM                     Expected Life Differences Vietnam : 4.0  \n",
       "PSE           Expected Life Differences West Bank and Gaza :...  \n",
       "ZMB                     Expected Life Differences Zambia : -2.0  \n",
       "ZWE                   Expected Life Differences Zimbabwe : -4.0  "
      ]
     },
     "execution_count": 30,
     "metadata": {},
     "output_type": "execute_result"
    }
   ],
   "source": [
    "df['Expected_Life'] =round( 5.29 * (df['Log_GDP']) + 59.60 ,2)\n",
    "df['Result'] =(round(df['Life_Expectancy'] - df['Expected_Life'],0))\n",
    "df['Country_Result'] = 'Expected Life Differences ' + df['Country_Name'] + ' : ' + df['Result'].astype(str)\n",
    "df.tail()"
   ]
  },
  {
   "cell_type": "code",
   "execution_count": 31,
   "id": "128c1539",
   "metadata": {
    "scrolled": false
   },
   "outputs": [
    {
     "data": {
      "application/vnd.plotly.v1+json": {
       "config": {
        "linkText": "Export to plot.ly",
        "plotlyServerURL": "https://plot.ly",
        "showLink": true
       },
       "data": [
        {
         "line": {
          "color": "rgba(55, 128, 191, 1.0)",
          "dash": "solid",
          "shape": "linear",
          "width": 1.3
         },
         "marker": {
          "size": 8,
          "symbol": "circle-dot"
         },
         "mode": "markers",
         "name": "Life_Expectancy",
         "text": [
          "Expected Life Differences Afghanistan : 2.0",
          "Expected Life Differences Albania : 6.0",
          "Expected Life Differences Algeria : 5.0",
          "Expected Life Differences Angola : -8.0",
          "Expected Life Differences Antigua and Barbuda : 2.0",
          "Expected Life Differences Argentina : 1.0",
          "Expected Life Differences Armenia : 2.0",
          "Expected Life Differences Australia : 2.0",
          "Expected Life Differences Austria : 0.0",
          "Expected Life Differences Azerbaijan : -1.0",
          "Expected Life Differences Bahamas, The : -4.0",
          "Expected Life Differences Bahrain : -3.0",
          "Expected Life Differences Bangladesh : 5.0",
          "Expected Life Differences Barbados : 6.0",
          "Expected Life Differences Belarus : -2.0",
          "Expected Life Differences Belgium : 0.0",
          "Expected Life Differences Belize : 6.0",
          "Expected Life Differences Benin : -4.0",
          "Expected Life Differences Bermuda : -1.0",
          "Expected Life Differences Bhutan : -0.0",
          "Expected Life Differences Bolivia : 1.0",
          "Expected Life Differences Bosnia and Herzegovina : 4.0",
          "Expected Life Differences Botswana : -4.0",
          "Expected Life Differences Brazil : 2.0",
          "Expected Life Differences Brunei Darussalam : -6.0",
          "Expected Life Differences Bulgaria : -3.0",
          "Expected Life Differences Burkina Faso : -2.0",
          "Expected Life Differences Burundi : 4.0",
          "Expected Life Differences Cabo Verde : 4.0",
          "Expected Life Differences Cambodia : 3.0",
          "Expected Life Differences Cameroon : -7.0",
          "Expected Life Differences Canada : 2.0",
          "Expected Life Differences Central African Republic : -6.0",
          "Expected Life Differences Chad : -7.0",
          "Expected Life Differences Chile : 3.0",
          "Expected Life Differences China : 2.0",
          "Expected Life Differences Colombia : 3.0",
          "Expected Life Differences Comoros : -1.0",
          "Expected Life Differences Congo, Dem. Rep. : 1.0",
          "Expected Life Differences Congo, Rep. : -1.0",
          "Expected Life Differences Costa Rica : 4.0",
          "Expected Life Differences Cote d'Ivoire : -11.0",
          "Expected Life Differences Croatia : 1.0",
          "Expected Life Differences Cyprus : 2.0",
          "Expected Life Differences Czech Republic : -1.0",
          "Expected Life Differences Denmark : 1.0",
          "Expected Life Differences Djibouti : -2.0",
          "Expected Life Differences Dominican Republic : -1.0",
          "Expected Life Differences Ecuador : 5.0",
          "Expected Life Differences Egypt, Arab Rep. : -1.0",
          "Expected Life Differences El Salvador : 3.0",
          "Expected Life Differences Equatorial Guinea : -16.0",
          "Expected Life Differences Estonia : -1.0",
          "Expected Life Differences Eswatini : -10.0",
          "Expected Life Differences Ethiopia : 3.0",
          "Expected Life Differences Fiji : -5.0",
          "Expected Life Differences Finland : 2.0",
          "Expected Life Differences France : 2.0",
          "Expected Life Differences Gabon : -7.0",
          "Expected Life Differences Gambia, The : -2.0",
          "Expected Life Differences Georgia : 0.0",
          "Expected Life Differences Germany : 0.0",
          "Expected Life Differences Ghana : -5.0",
          "Expected Life Differences Greece : 4.0",
          "Expected Life Differences Grenada : -2.0",
          "Expected Life Differences Guatemala : 4.0",
          "Expected Life Differences Guinea : -3.0",
          "Expected Life Differences Guinea-Bissau : -4.0",
          "Expected Life Differences Guyana : -5.0",
          "Expected Life Differences Haiti : -2.0",
          "Expected Life Differences Honduras : 6.0",
          "Expected Life Differences Hong Kong SAR, China : 4.0",
          "Expected Life Differences Hungary : -2.0",
          "Expected Life Differences Iceland : 2.0",
          "Expected Life Differences India : 1.0",
          "Expected Life Differences Indonesia : -1.0",
          "Expected Life Differences Iran, Islamic Rep. : 4.0",
          "Expected Life Differences Iraq : -0.0",
          "Expected Life Differences Ireland : -2.0",
          "Expected Life Differences Israel : 4.0",
          "Expected Life Differences Italy : 3.0",
          "Expected Life Differences Jamaica : 4.0",
          "Expected Life Differences Japan : 6.0",
          "Expected Life Differences Jordan : 3.0",
          "Expected Life Differences Kazakhstan : -6.0",
          "Expected Life Differences Kenya : -1.0",
          "Expected Life Differences Kiribati : 5.0",
          "Expected Life Differences Korea, Rep. : 3.0",
          "Expected Life Differences Kosovo : -1.0",
          "Expected Life Differences Kuwait : -4.0",
          "Expected Life Differences Kyrgyz Republic : 4.0",
          "Expected Life Differences Lao PDR : -3.0",
          "Expected Life Differences Latvia : -3.0",
          "Expected Life Differences Lebanon : 6.0",
          "Expected Life Differences Lesotho : -9.0",
          "Expected Life Differences Liberia : 2.0",
          "Expected Life Differences Libya : 1.0",
          "Expected Life Differences Lithuania : -4.0",
          "Expected Life Differences Luxembourg : -3.0",
          "Expected Life Differences Macao SAR, China : 3.0",
          "Expected Life Differences Madagascar : 5.0",
          "Expected Life Differences Malawi : 3.0",
          "Expected Life Differences Malaysia : -1.0",
          "Expected Life Differences Maldives : 6.0",
          "Expected Life Differences Mali : -4.0",
          "Expected Life Differences Malta : 4.0",
          "Expected Life Differences Mauritania : -3.0",
          "Expected Life Differences Mauritius : -2.0",
          "Expected Life Differences Mexico : 0.0",
          "Expected Life Differences Micronesia, Fed. Sts. : 2.0",
          "Expected Life Differences Moldova : -1.0",
          "Expected Life Differences Mongolia : -3.0",
          "Expected Life Differences Montenegro : 1.0",
          "Expected Life Differences Morocco : 7.0",
          "Expected Life Differences Mozambique : 0.0",
          "Expected Life Differences Myanmar : -1.0",
          "Expected Life Differences Namibia : -7.0",
          "Expected Life Differences Nepal : 4.0",
          "Expected Life Differences Netherlands : -0.0",
          "Expected Life Differences New Zealand : 2.0",
          "Expected Life Differences Nicaragua : 6.0",
          "Expected Life Differences Niger : 2.0",
          "Expected Life Differences Nigeria : -13.0",
          "Expected Life Differences North Macedonia : 1.0",
          "Expected Life Differences Norway : 2.0",
          "Expected Life Differences Oman : 0.0",
          "Expected Life Differences Pakistan : -1.0",
          "Expected Life Differences Panama : 2.0",
          "Expected Life Differences Papua New Guinea : -2.0",
          "Expected Life Differences Paraguay : 1.0",
          "Expected Life Differences Peru : 4.0",
          "Expected Life Differences Philippines : 0.0",
          "Expected Life Differences Poland : -1.0",
          "Expected Life Differences Portugal : 3.0",
          "Expected Life Differences Puerto Rico : 2.0",
          "Expected Life Differences Qatar : -3.0",
          "Expected Life Differences Romania : -4.0",
          "Expected Life Differences Russian Federation : -7.0",
          "Expected Life Differences Rwanda : 5.0",
          "Expected Life Differences Samoa : 3.0",
          "Expected Life Differences Sao Tome and Principe : 4.0",
          "Expected Life Differences Saudi Arabia : -5.0",
          "Expected Life Differences Senegal : 2.0",
          "Expected Life Differences Serbia : -1.0",
          "Expected Life Differences Seychelles : 0.0",
          "Expected Life Differences Sierra Leone : -8.0",
          "Expected Life Differences Singapore : 0.0",
          "Expected Life Differences Slovak Republic : -1.0",
          "Expected Life Differences Slovenia : 2.0",
          "Expected Life Differences Solomon Islands : 8.0",
          "Expected Life Differences Somalia : -3.0",
          "Expected Life Differences South Africa : -9.0",
          "Expected Life Differences Spain : 3.0",
          "Expected Life Differences Sri Lanka : 4.0",
          "Expected Life Differences St. Lucia : 3.0",
          "Expected Life Differences St. Vincent and the Grenadines : -0.0",
          "Expected Life Differences Sudan : -1.0",
          "Expected Life Differences Suriname : -3.0",
          "Expected Life Differences Sweden : 1.0",
          "Expected Life Differences Switzerland : 1.0",
          "Expected Life Differences Tajikistan : 4.0",
          "Expected Life Differences Tanzania : 1.0",
          "Expected Life Differences Thailand : 2.0",
          "Expected Life Differences Timor-Leste : 3.0",
          "Expected Life Differences Togo : -3.0",
          "Expected Life Differences Tonga : 1.0",
          "Expected Life Differences Trinidad and Tobago : -3.0",
          "Expected Life Differences Tunisia : 5.0",
          "Expected Life Differences Turkey : 1.0",
          "Expected Life Differences Uganda : 0.0",
          "Expected Life Differences Ukraine : -2.0",
          "Expected Life Differences United Arab Emirates : -4.0",
          "Expected Life Differences United Kingdom : 1.0",
          "Expected Life Differences United States : -5.0",
          "Expected Life Differences Uruguay : 2.0",
          "Expected Life Differences Uzbekistan : 2.0",
          "Expected Life Differences Vanuatu : 6.0",
          "Expected Life Differences Vietnam : 4.0",
          "Expected Life Differences West Bank and Gaza : 5.0",
          "Expected Life Differences Zambia : -2.0",
          "Expected Life Differences Zimbabwe : -4.0"
         ],
         "type": "scatter",
         "x": [
          0.73,
          2.6,
          2.43,
          1.86,
          2.9,
          3.03,
          2.59,
          3.98,
          4.02,
          2.67,
          3.48,
          3.78,
          1.64,
          2.59,
          3.01,
          3.97,
          1.87,
          1.26,
          4.39,
          2.41,
          2.11,
          2.75,
          2.74,
          2.7,
          4.18,
          3.2,
          0.82,
          -0.26,
          1.85,
          1.49,
          1.35,
          3.84,
          -0.01,
          0.47,
          3.22,
          2.85,
          2.7,
          1.15,
          0.13,
          1.29,
          3.1,
          1.7,
          3.36,
          3.67,
          3.73,
          4.1,
          1.75,
          2.89,
          2.39,
          2.53,
          2.13,
          2.89,
          3.63,
          2.18,
          0.88,
          2.49,
          3.92,
          3.85,
          2.72,
          0.82,
          2.69,
          4,
          1.75,
          3.33,
          2.73,
          2.18,
          1.04,
          0.67,
          2.98,
          1.13,
          1.69,
          4.08,
          3.5,
          3.98,
          1.87,
          2.49,
          2.59,
          2.25,
          4.54,
          3.68,
          3.74,
          2.22,
          3.75,
          2.34,
          3.29,
          1.52,
          0.87,
          3.81,
          2.42,
          3.86,
          1.6,
          2.11,
          3.45,
          2.49,
          0.89,
          0.39,
          2.38,
          3.66,
          4.77,
          4.11,
          0.43,
          0.46,
          3.33,
          2.6,
          0.85,
          3.75,
          1.68,
          3.02,
          2.91,
          1.27,
          2.56,
          2.52,
          3,
          2,
          0.26,
          1.63,
          2.23,
          1.39,
          4.08,
          3.8,
          1.72,
          0.25,
          1.65,
          2.83,
          4.14,
          3.44,
          1.57,
          3.29,
          1.46,
          2.57,
          2.47,
          2.13,
          3.53,
          3.53,
          3.54,
          4.5,
          3.47,
          3.39,
          0.79,
          1.91,
          1.45,
          3.85,
          1.25,
          2.95,
          3.25,
          0.55,
          4.59,
          3.45,
          3.68,
          0.96,
          0.22,
          2.59,
          3.63,
          2.58,
          2.54,
          2.54,
          1.42,
          2.82,
          4.01,
          4.27,
          1.35,
          1.02,
          2.9,
          1.42,
          0.8,
          1.9,
          3.22,
          2.38,
          3.3,
          0.83,
          2.57,
          4.2,
          3.84,
          4.15,
          3.13,
          2.05,
          1.1,
          2.16,
          1.74,
          1.24,
          1.26
         ],
         "y": [
          65,
          79,
          77,
          61,
          77,
          77,
          75,
          83,
          81,
          73,
          74,
          77,
          73,
          79,
          74,
          81,
          75,
          62,
          82,
          72,
          72,
          78,
          70,
          76,
          76,
          74,
          62,
          62,
          73,
          70,
          60,
          82,
          54,
          55,
          80,
          77,
          77,
          65,
          61,
          65,
          80,
          58,
          78,
          81,
          78,
          82,
          67,
          74,
          77,
          72,
          74,
          59,
          78,
          61,
          67,
          68,
          82,
          82,
          67,
          62,
          74,
          81,
          64,
          81,
          72,
          75,
          62,
          59,
          70,
          64,
          75,
          85,
          76,
          83,
          70,
          72,
          77,
          71,
          82,
          83,
          82,
          75,
          85,
          75,
          71,
          67,
          69,
          83,
          71,
          76,
          72,
          68,
          75,
          79,
          55,
          64,
          73,
          75,
          82,
          84,
          67,
          65,
          76,
          79,
          60,
          83,
          65,
          74,
          75,
          68,
          72,
          70,
          76,
          77,
          61,
          67,
          64,
          71,
          81,
          82,
          75,
          63,
          55,
          76,
          83,
          78,
          67,
          79,
          65,
          74,
          77,
          71,
          77,
          81,
          80,
          80,
          74,
          71,
          69,
          73,
          71,
          75,
          68,
          74,
          77,
          55,
          84,
          77,
          81,
          73,
          58,
          64,
          82,
          77,
          76,
          73,
          66,
          72,
          82,
          83,
          71,
          66,
          77,
          70,
          61,
          71,
          74,
          77,
          78,
          64,
          71,
          78,
          81,
          77,
          78,
          72,
          71,
          75,
          74,
          64,
          62
         ]
        },
        {
         "line": {
          "color": "rgba(0, 0, 0, 1.0)",
          "dash": "dash",
          "shape": "linear",
          "width": 3
         },
         "mode": "lines",
         "name": "5.29*x+59.60",
         "type": "scatter",
         "x": [
          0.73,
          2.6,
          2.43,
          1.86,
          2.9,
          3.03,
          2.59,
          3.98,
          4.02,
          2.67,
          3.48,
          3.78,
          1.64,
          2.59,
          3.01,
          3.97,
          1.87,
          1.26,
          4.39,
          2.41,
          2.11,
          2.75,
          2.74,
          2.7,
          4.18,
          3.2,
          0.82,
          -0.26,
          1.85,
          1.49,
          1.35,
          3.84,
          -0.01,
          0.47,
          3.22,
          2.85,
          2.7,
          1.15,
          0.13,
          1.29,
          3.1,
          1.7,
          3.36,
          3.67,
          3.73,
          4.1,
          1.75,
          2.89,
          2.39,
          2.53,
          2.13,
          2.89,
          3.63,
          2.18,
          0.88,
          2.49,
          3.92,
          3.85,
          2.72,
          0.82,
          2.69,
          4,
          1.75,
          3.33,
          2.73,
          2.18,
          1.04,
          0.67,
          2.98,
          1.13,
          1.69,
          4.08,
          3.5,
          3.98,
          1.87,
          2.49,
          2.59,
          2.25,
          4.54,
          3.68,
          3.74,
          2.22,
          3.75,
          2.34,
          3.29,
          1.52,
          0.87,
          3.81,
          2.42,
          3.86,
          1.6,
          2.11,
          3.45,
          2.49,
          0.89,
          0.39,
          2.38,
          3.66,
          4.77,
          4.11,
          0.43,
          0.46,
          3.33,
          2.6,
          0.85,
          3.75,
          1.68,
          3.02,
          2.91,
          1.27,
          2.56,
          2.52,
          3,
          2,
          0.26,
          1.63,
          2.23,
          1.39,
          4.08,
          3.8,
          1.72,
          0.25,
          1.65,
          2.83,
          4.14,
          3.44,
          1.57,
          3.29,
          1.46,
          2.57,
          2.47,
          2.13,
          3.53,
          3.53,
          3.54,
          4.5,
          3.47,
          3.39,
          0.79,
          1.91,
          1.45,
          3.85,
          1.25,
          2.95,
          3.25,
          0.55,
          4.59,
          3.45,
          3.68,
          0.96,
          0.22,
          2.59,
          3.63,
          2.58,
          2.54,
          2.54,
          1.42,
          2.82,
          4.01,
          4.27,
          1.35,
          1.02,
          2.9,
          1.42,
          0.8,
          1.9,
          3.22,
          2.38,
          3.3,
          0.83,
          2.57,
          4.2,
          3.84,
          4.15,
          3.13,
          2.05,
          1.1,
          2.16,
          1.74,
          1.24,
          1.26
         ],
         "y": [
          63.461313232504956,
          73.35676546821647,
          72.4571789013336,
          69.44091805943224,
          74.94427117448035,
          75.63219031386136,
          73.30384861134101,
          80.65929171703031,
          80.87095914453216,
          73.72718346634471,
          78.01344887325718,
          79.60095457952106,
          68.27674720817205,
          73.30384861134101,
          75.52635660011043,
          80.60637486015486,
          69.49383491630769,
          66.26590664690447,
          82.82888284892428,
          72.35134518758268,
          70.7638394813188,
          74.15051832134841,
          74.09760146447294,
          73.8859340369711,
          81.71762885453957,
          76.53177688074423,
          63.93756494438412,
          58.22254440183415,
          69.38800120255677,
          67.48299435504012,
          66.74215835878364,
          79.91845572077384,
          59.54546582372072,
          62.085474953742924,
          76.63761059449516,
          74.67968689010303,
          73.8859340369711,
          65.68382122127439,
          60.2863018199772,
          66.42465721753086,
          76.0026083119896,
          68.59424834942483,
          77.37844659075162,
          79.01886915389098,
          79.33637029514375,
          81.29429399953587,
          68.85883263380214,
          74.89135431760488,
          72.24551147383175,
          72.98634747008823,
          70.86967319506972,
          74.89135431760488,
          78.80720172638912,
          71.13425747944704,
          64.2550660856369,
          72.77468004258638,
          80.34179057577754,
          79.9713725776493,
          73.99176775072202,
          63.93756494438412,
          73.83301718009564,
          80.76512543078124,
          68.85883263380214,
          77.21969602012524,
          74.04468460759749,
          71.13425747944704,
          65.1017357956443,
          63.14381209125218,
          75.36760602948405,
          65.57798750752346,
          68.54133149254938,
          81.18846028578494,
          78.11928258700812,
          80.65929171703031,
          69.49383491630769,
          72.77468004258638,
          73.30384861134101,
          71.50467547757528,
          83.62263570205621,
          79.07178601076643,
          79.38928715201921,
          71.3459249069489,
          79.44220400889468,
          71.98092718945443,
          77.00802859262339,
          67.6417449256665,
          64.20214922876143,
          79.75970515014745,
          72.40426204445814,
          80.02428943452476,
          68.0650797806702,
          70.7638394813188,
          77.8546983026308,
          72.77468004258638,
          64.30798294251235,
          61.66214009873922,
          72.19259461695628,
          78.9659522970155,
          84.83972341019187,
          81.34721085641132,
          61.87380752624107,
          62.03255809686746,
          77.21969602012524,
          73.35676546821647,
          64.0963155150105,
          79.44220400889468,
          68.4884146356739,
          75.5792734569859,
          74.99718803135582,
          66.31882350377994,
          73.14509804071461,
          72.93343061321276,
          75.47343974323498,
          70.18175405568871,
          60.97422095935821,
          68.22383035129658,
          71.39884176382435,
          66.95382578628549,
          81.18846028578494,
          79.70678829327198,
          68.70008206317576,
          60.92130410248275,
          68.32966406504752,
          74.57385317635212,
          81.50596142703772,
          77.80178144575532,
          67.90632921004382,
          77.00802859262339,
          67.32424378441372,
          73.19801489759008,
          72.66884632883546,
          70.86967319506972,
          78.2780331576345,
          78.2780331576345,
          78.33095001450997,
          83.41096827455436,
          77.96053201638172,
          77.53719716137802,
          63.77881437375773,
          69.70550234380954,
          67.27132692753827,
          79.9713725776493,
          66.21298979002901,
          75.20885545885767,
          76.79636116512154,
          62.508809808746626,
          83.88721998643354,
          77.8546983026308,
          79.07178601076643,
          64.6784009406406,
          60.76255353185636,
          73.30384861134101,
          78.80720172638912,
          73.25093175446554,
          73.03926432696369,
          73.03926432696369,
          67.11257635691187,
          74.52093631947665,
          80.81804228765671,
          82.19388056641873,
          66.74215835878364,
          64.99590208189338,
          74.94427117448035,
          67.11257635691187,
          63.831731230633196,
          69.65258548693409,
          76.63761059449516,
          72.19259461695628,
          77.06094544949886,
          63.99048180125958,
          73.19801489759008,
          81.8234625682905,
          79.91845572077384,
          81.55887828391317,
          76.16135888261599,
          70.44633834006602,
          65.41923693689708,
          71.02842376569612,
          68.80591577692668,
          66.16007293315354,
          66.26590664690447
         ]
        }
       ],
       "layout": {
        "legend": {
         "bgcolor": "#F5F6F9",
         "font": {
          "color": "#4D5663"
         }
        },
        "paper_bgcolor": "#F5F6F9",
        "plot_bgcolor": "#F5F6F9",
        "template": {
         "data": {
          "bar": [
           {
            "error_x": {
             "color": "#2a3f5f"
            },
            "error_y": {
             "color": "#2a3f5f"
            },
            "marker": {
             "line": {
              "color": "#E5ECF6",
              "width": 0.5
             },
             "pattern": {
              "fillmode": "overlay",
              "size": 10,
              "solidity": 0.2
             }
            },
            "type": "bar"
           }
          ],
          "barpolar": [
           {
            "marker": {
             "line": {
              "color": "#E5ECF6",
              "width": 0.5
             },
             "pattern": {
              "fillmode": "overlay",
              "size": 10,
              "solidity": 0.2
             }
            },
            "type": "barpolar"
           }
          ],
          "carpet": [
           {
            "aaxis": {
             "endlinecolor": "#2a3f5f",
             "gridcolor": "white",
             "linecolor": "white",
             "minorgridcolor": "white",
             "startlinecolor": "#2a3f5f"
            },
            "baxis": {
             "endlinecolor": "#2a3f5f",
             "gridcolor": "white",
             "linecolor": "white",
             "minorgridcolor": "white",
             "startlinecolor": "#2a3f5f"
            },
            "type": "carpet"
           }
          ],
          "choropleth": [
           {
            "colorbar": {
             "outlinewidth": 0,
             "ticks": ""
            },
            "type": "choropleth"
           }
          ],
          "contour": [
           {
            "colorbar": {
             "outlinewidth": 0,
             "ticks": ""
            },
            "colorscale": [
             [
              0,
              "#0d0887"
             ],
             [
              0.1111111111111111,
              "#46039f"
             ],
             [
              0.2222222222222222,
              "#7201a8"
             ],
             [
              0.3333333333333333,
              "#9c179e"
             ],
             [
              0.4444444444444444,
              "#bd3786"
             ],
             [
              0.5555555555555556,
              "#d8576b"
             ],
             [
              0.6666666666666666,
              "#ed7953"
             ],
             [
              0.7777777777777778,
              "#fb9f3a"
             ],
             [
              0.8888888888888888,
              "#fdca26"
             ],
             [
              1,
              "#f0f921"
             ]
            ],
            "type": "contour"
           }
          ],
          "contourcarpet": [
           {
            "colorbar": {
             "outlinewidth": 0,
             "ticks": ""
            },
            "type": "contourcarpet"
           }
          ],
          "heatmap": [
           {
            "colorbar": {
             "outlinewidth": 0,
             "ticks": ""
            },
            "colorscale": [
             [
              0,
              "#0d0887"
             ],
             [
              0.1111111111111111,
              "#46039f"
             ],
             [
              0.2222222222222222,
              "#7201a8"
             ],
             [
              0.3333333333333333,
              "#9c179e"
             ],
             [
              0.4444444444444444,
              "#bd3786"
             ],
             [
              0.5555555555555556,
              "#d8576b"
             ],
             [
              0.6666666666666666,
              "#ed7953"
             ],
             [
              0.7777777777777778,
              "#fb9f3a"
             ],
             [
              0.8888888888888888,
              "#fdca26"
             ],
             [
              1,
              "#f0f921"
             ]
            ],
            "type": "heatmap"
           }
          ],
          "heatmapgl": [
           {
            "colorbar": {
             "outlinewidth": 0,
             "ticks": ""
            },
            "colorscale": [
             [
              0,
              "#0d0887"
             ],
             [
              0.1111111111111111,
              "#46039f"
             ],
             [
              0.2222222222222222,
              "#7201a8"
             ],
             [
              0.3333333333333333,
              "#9c179e"
             ],
             [
              0.4444444444444444,
              "#bd3786"
             ],
             [
              0.5555555555555556,
              "#d8576b"
             ],
             [
              0.6666666666666666,
              "#ed7953"
             ],
             [
              0.7777777777777778,
              "#fb9f3a"
             ],
             [
              0.8888888888888888,
              "#fdca26"
             ],
             [
              1,
              "#f0f921"
             ]
            ],
            "type": "heatmapgl"
           }
          ],
          "histogram": [
           {
            "marker": {
             "pattern": {
              "fillmode": "overlay",
              "size": 10,
              "solidity": 0.2
             }
            },
            "type": "histogram"
           }
          ],
          "histogram2d": [
           {
            "colorbar": {
             "outlinewidth": 0,
             "ticks": ""
            },
            "colorscale": [
             [
              0,
              "#0d0887"
             ],
             [
              0.1111111111111111,
              "#46039f"
             ],
             [
              0.2222222222222222,
              "#7201a8"
             ],
             [
              0.3333333333333333,
              "#9c179e"
             ],
             [
              0.4444444444444444,
              "#bd3786"
             ],
             [
              0.5555555555555556,
              "#d8576b"
             ],
             [
              0.6666666666666666,
              "#ed7953"
             ],
             [
              0.7777777777777778,
              "#fb9f3a"
             ],
             [
              0.8888888888888888,
              "#fdca26"
             ],
             [
              1,
              "#f0f921"
             ]
            ],
            "type": "histogram2d"
           }
          ],
          "histogram2dcontour": [
           {
            "colorbar": {
             "outlinewidth": 0,
             "ticks": ""
            },
            "colorscale": [
             [
              0,
              "#0d0887"
             ],
             [
              0.1111111111111111,
              "#46039f"
             ],
             [
              0.2222222222222222,
              "#7201a8"
             ],
             [
              0.3333333333333333,
              "#9c179e"
             ],
             [
              0.4444444444444444,
              "#bd3786"
             ],
             [
              0.5555555555555556,
              "#d8576b"
             ],
             [
              0.6666666666666666,
              "#ed7953"
             ],
             [
              0.7777777777777778,
              "#fb9f3a"
             ],
             [
              0.8888888888888888,
              "#fdca26"
             ],
             [
              1,
              "#f0f921"
             ]
            ],
            "type": "histogram2dcontour"
           }
          ],
          "mesh3d": [
           {
            "colorbar": {
             "outlinewidth": 0,
             "ticks": ""
            },
            "type": "mesh3d"
           }
          ],
          "parcoords": [
           {
            "line": {
             "colorbar": {
              "outlinewidth": 0,
              "ticks": ""
             }
            },
            "type": "parcoords"
           }
          ],
          "pie": [
           {
            "automargin": true,
            "type": "pie"
           }
          ],
          "scatter": [
           {
            "marker": {
             "colorbar": {
              "outlinewidth": 0,
              "ticks": ""
             }
            },
            "type": "scatter"
           }
          ],
          "scatter3d": [
           {
            "line": {
             "colorbar": {
              "outlinewidth": 0,
              "ticks": ""
             }
            },
            "marker": {
             "colorbar": {
              "outlinewidth": 0,
              "ticks": ""
             }
            },
            "type": "scatter3d"
           }
          ],
          "scattercarpet": [
           {
            "marker": {
             "colorbar": {
              "outlinewidth": 0,
              "ticks": ""
             }
            },
            "type": "scattercarpet"
           }
          ],
          "scattergeo": [
           {
            "marker": {
             "colorbar": {
              "outlinewidth": 0,
              "ticks": ""
             }
            },
            "type": "scattergeo"
           }
          ],
          "scattergl": [
           {
            "marker": {
             "colorbar": {
              "outlinewidth": 0,
              "ticks": ""
             }
            },
            "type": "scattergl"
           }
          ],
          "scattermapbox": [
           {
            "marker": {
             "colorbar": {
              "outlinewidth": 0,
              "ticks": ""
             }
            },
            "type": "scattermapbox"
           }
          ],
          "scatterpolar": [
           {
            "marker": {
             "colorbar": {
              "outlinewidth": 0,
              "ticks": ""
             }
            },
            "type": "scatterpolar"
           }
          ],
          "scatterpolargl": [
           {
            "marker": {
             "colorbar": {
              "outlinewidth": 0,
              "ticks": ""
             }
            },
            "type": "scatterpolargl"
           }
          ],
          "scatterternary": [
           {
            "marker": {
             "colorbar": {
              "outlinewidth": 0,
              "ticks": ""
             }
            },
            "type": "scatterternary"
           }
          ],
          "surface": [
           {
            "colorbar": {
             "outlinewidth": 0,
             "ticks": ""
            },
            "colorscale": [
             [
              0,
              "#0d0887"
             ],
             [
              0.1111111111111111,
              "#46039f"
             ],
             [
              0.2222222222222222,
              "#7201a8"
             ],
             [
              0.3333333333333333,
              "#9c179e"
             ],
             [
              0.4444444444444444,
              "#bd3786"
             ],
             [
              0.5555555555555556,
              "#d8576b"
             ],
             [
              0.6666666666666666,
              "#ed7953"
             ],
             [
              0.7777777777777778,
              "#fb9f3a"
             ],
             [
              0.8888888888888888,
              "#fdca26"
             ],
             [
              1,
              "#f0f921"
             ]
            ],
            "type": "surface"
           }
          ],
          "table": [
           {
            "cells": {
             "fill": {
              "color": "#EBF0F8"
             },
             "line": {
              "color": "white"
             }
            },
            "header": {
             "fill": {
              "color": "#C8D4E3"
             },
             "line": {
              "color": "white"
             }
            },
            "type": "table"
           }
          ]
         },
         "layout": {
          "annotationdefaults": {
           "arrowcolor": "#2a3f5f",
           "arrowhead": 0,
           "arrowwidth": 1
          },
          "autotypenumbers": "strict",
          "coloraxis": {
           "colorbar": {
            "outlinewidth": 0,
            "ticks": ""
           }
          },
          "colorscale": {
           "diverging": [
            [
             0,
             "#8e0152"
            ],
            [
             0.1,
             "#c51b7d"
            ],
            [
             0.2,
             "#de77ae"
            ],
            [
             0.3,
             "#f1b6da"
            ],
            [
             0.4,
             "#fde0ef"
            ],
            [
             0.5,
             "#f7f7f7"
            ],
            [
             0.6,
             "#e6f5d0"
            ],
            [
             0.7,
             "#b8e186"
            ],
            [
             0.8,
             "#7fbc41"
            ],
            [
             0.9,
             "#4d9221"
            ],
            [
             1,
             "#276419"
            ]
           ],
           "sequential": [
            [
             0,
             "#0d0887"
            ],
            [
             0.1111111111111111,
             "#46039f"
            ],
            [
             0.2222222222222222,
             "#7201a8"
            ],
            [
             0.3333333333333333,
             "#9c179e"
            ],
            [
             0.4444444444444444,
             "#bd3786"
            ],
            [
             0.5555555555555556,
             "#d8576b"
            ],
            [
             0.6666666666666666,
             "#ed7953"
            ],
            [
             0.7777777777777778,
             "#fb9f3a"
            ],
            [
             0.8888888888888888,
             "#fdca26"
            ],
            [
             1,
             "#f0f921"
            ]
           ],
           "sequentialminus": [
            [
             0,
             "#0d0887"
            ],
            [
             0.1111111111111111,
             "#46039f"
            ],
            [
             0.2222222222222222,
             "#7201a8"
            ],
            [
             0.3333333333333333,
             "#9c179e"
            ],
            [
             0.4444444444444444,
             "#bd3786"
            ],
            [
             0.5555555555555556,
             "#d8576b"
            ],
            [
             0.6666666666666666,
             "#ed7953"
            ],
            [
             0.7777777777777778,
             "#fb9f3a"
            ],
            [
             0.8888888888888888,
             "#fdca26"
            ],
            [
             1,
             "#f0f921"
            ]
           ]
          },
          "colorway": [
           "#636efa",
           "#EF553B",
           "#00cc96",
           "#ab63fa",
           "#FFA15A",
           "#19d3f3",
           "#FF6692",
           "#B6E880",
           "#FF97FF",
           "#FECB52"
          ],
          "font": {
           "color": "#2a3f5f"
          },
          "geo": {
           "bgcolor": "white",
           "lakecolor": "white",
           "landcolor": "#E5ECF6",
           "showlakes": true,
           "showland": true,
           "subunitcolor": "white"
          },
          "hoverlabel": {
           "align": "left"
          },
          "hovermode": "closest",
          "mapbox": {
           "style": "light"
          },
          "paper_bgcolor": "white",
          "plot_bgcolor": "#E5ECF6",
          "polar": {
           "angularaxis": {
            "gridcolor": "white",
            "linecolor": "white",
            "ticks": ""
           },
           "bgcolor": "#E5ECF6",
           "radialaxis": {
            "gridcolor": "white",
            "linecolor": "white",
            "ticks": ""
           }
          },
          "scene": {
           "xaxis": {
            "backgroundcolor": "#E5ECF6",
            "gridcolor": "white",
            "gridwidth": 2,
            "linecolor": "white",
            "showbackground": true,
            "ticks": "",
            "zerolinecolor": "white"
           },
           "yaxis": {
            "backgroundcolor": "#E5ECF6",
            "gridcolor": "white",
            "gridwidth": 2,
            "linecolor": "white",
            "showbackground": true,
            "ticks": "",
            "zerolinecolor": "white"
           },
           "zaxis": {
            "backgroundcolor": "#E5ECF6",
            "gridcolor": "white",
            "gridwidth": 2,
            "linecolor": "white",
            "showbackground": true,
            "ticks": "",
            "zerolinecolor": "white"
           }
          },
          "shapedefaults": {
           "line": {
            "color": "#2a3f5f"
           }
          },
          "ternary": {
           "aaxis": {
            "gridcolor": "white",
            "linecolor": "white",
            "ticks": ""
           },
           "baxis": {
            "gridcolor": "white",
            "linecolor": "white",
            "ticks": ""
           },
           "bgcolor": "#E5ECF6",
           "caxis": {
            "gridcolor": "white",
            "linecolor": "white",
            "ticks": ""
           }
          },
          "title": {
           "x": 0.05
          },
          "xaxis": {
           "automargin": true,
           "gridcolor": "white",
           "linecolor": "white",
           "ticks": "",
           "title": {
            "standoff": 15
           },
           "zerolinecolor": "white",
           "zerolinewidth": 2
          },
          "yaxis": {
           "automargin": true,
           "gridcolor": "white",
           "linecolor": "white",
           "ticks": "",
           "title": {
            "standoff": 15
           },
           "zerolinecolor": "white",
           "zerolinewidth": 2
          }
         }
        },
        "title": {
         "font": {
          "color": "#4D5663"
         },
         "text": "Relationship between  life expectancy and income"
        },
        "xaxis": {
         "gridcolor": "#E1E5ED",
         "range": [
          -0.5,
          5
         ],
         "showgrid": true,
         "tickfont": {
          "color": "#4D5663"
         },
         "title": {
          "font": {
           "color": "#4D5663"
          },
          "text": "ln GDP per capita (thousands dollar)"
         },
         "zerolinecolor": "#E1E5ED"
        },
        "yaxis": {
         "gridcolor": "#E1E5ED",
         "range": [
          50,
          90
         ],
         "showgrid": true,
         "tickfont": {
          "color": "#4D5663"
         },
         "title": {
          "font": {
           "color": "#4D5663"
          },
          "text": "Life expectancy (years)"
         },
         "zerolinecolor": "#E1E5ED"
        }
       }
      },
      "text/html": [
       "<div>                            <div id=\"1bd83333-5752-46c6-ad64-adb425dd03f7\" class=\"plotly-graph-div\" style=\"height:525px; width:100%;\"></div>            <script type=\"text/javascript\">                require([\"plotly\"], function(Plotly) {                    window.PLOTLYENV=window.PLOTLYENV || {};\n",
       "                    window.PLOTLYENV.BASE_URL='https://plot.ly';                                    if (document.getElementById(\"1bd83333-5752-46c6-ad64-adb425dd03f7\")) {                    Plotly.newPlot(                        \"1bd83333-5752-46c6-ad64-adb425dd03f7\",                        [{\"line\":{\"color\":\"rgba(55, 128, 191, 1.0)\",\"dash\":\"solid\",\"shape\":\"linear\",\"width\":1.3},\"marker\":{\"size\":8,\"symbol\":\"circle-dot\"},\"mode\":\"markers\",\"name\":\"Life_Expectancy\",\"text\":[\"Expected Life Differences Afghanistan : 2.0\",\"Expected Life Differences Albania : 6.0\",\"Expected Life Differences Algeria : 5.0\",\"Expected Life Differences Angola : -8.0\",\"Expected Life Differences Antigua and Barbuda : 2.0\",\"Expected Life Differences Argentina : 1.0\",\"Expected Life Differences Armenia : 2.0\",\"Expected Life Differences Australia : 2.0\",\"Expected Life Differences Austria : 0.0\",\"Expected Life Differences Azerbaijan : -1.0\",\"Expected Life Differences Bahamas, The : -4.0\",\"Expected Life Differences Bahrain : -3.0\",\"Expected Life Differences Bangladesh : 5.0\",\"Expected Life Differences Barbados : 6.0\",\"Expected Life Differences Belarus : -2.0\",\"Expected Life Differences Belgium : 0.0\",\"Expected Life Differences Belize : 6.0\",\"Expected Life Differences Benin : -4.0\",\"Expected Life Differences Bermuda : -1.0\",\"Expected Life Differences Bhutan : -0.0\",\"Expected Life Differences Bolivia : 1.0\",\"Expected Life Differences Bosnia and Herzegovina : 4.0\",\"Expected Life Differences Botswana : -4.0\",\"Expected Life Differences Brazil : 2.0\",\"Expected Life Differences Brunei Darussalam : -6.0\",\"Expected Life Differences Bulgaria : -3.0\",\"Expected Life Differences Burkina Faso : -2.0\",\"Expected Life Differences Burundi : 4.0\",\"Expected Life Differences Cabo Verde : 4.0\",\"Expected Life Differences Cambodia : 3.0\",\"Expected Life Differences Cameroon : -7.0\",\"Expected Life Differences Canada : 2.0\",\"Expected Life Differences Central African Republic : -6.0\",\"Expected Life Differences Chad : -7.0\",\"Expected Life Differences Chile : 3.0\",\"Expected Life Differences China : 2.0\",\"Expected Life Differences Colombia : 3.0\",\"Expected Life Differences Comoros : -1.0\",\"Expected Life Differences Congo, Dem. Rep. : 1.0\",\"Expected Life Differences Congo, Rep. : -1.0\",\"Expected Life Differences Costa Rica : 4.0\",\"Expected Life Differences Cote d'Ivoire : -11.0\",\"Expected Life Differences Croatia : 1.0\",\"Expected Life Differences Cyprus : 2.0\",\"Expected Life Differences Czech Republic : -1.0\",\"Expected Life Differences Denmark : 1.0\",\"Expected Life Differences Djibouti : -2.0\",\"Expected Life Differences Dominican Republic : -1.0\",\"Expected Life Differences Ecuador : 5.0\",\"Expected Life Differences Egypt, Arab Rep. : -1.0\",\"Expected Life Differences El Salvador : 3.0\",\"Expected Life Differences Equatorial Guinea : -16.0\",\"Expected Life Differences Estonia : -1.0\",\"Expected Life Differences Eswatini : -10.0\",\"Expected Life Differences Ethiopia : 3.0\",\"Expected Life Differences Fiji : -5.0\",\"Expected Life Differences Finland : 2.0\",\"Expected Life Differences France : 2.0\",\"Expected Life Differences Gabon : -7.0\",\"Expected Life Differences Gambia, The : -2.0\",\"Expected Life Differences Georgia : 0.0\",\"Expected Life Differences Germany : 0.0\",\"Expected Life Differences Ghana : -5.0\",\"Expected Life Differences Greece : 4.0\",\"Expected Life Differences Grenada : -2.0\",\"Expected Life Differences Guatemala : 4.0\",\"Expected Life Differences Guinea : -3.0\",\"Expected Life Differences Guinea-Bissau : -4.0\",\"Expected Life Differences Guyana : -5.0\",\"Expected Life Differences Haiti : -2.0\",\"Expected Life Differences Honduras : 6.0\",\"Expected Life Differences Hong Kong SAR, China : 4.0\",\"Expected Life Differences Hungary : -2.0\",\"Expected Life Differences Iceland : 2.0\",\"Expected Life Differences India : 1.0\",\"Expected Life Differences Indonesia : -1.0\",\"Expected Life Differences Iran, Islamic Rep. : 4.0\",\"Expected Life Differences Iraq : -0.0\",\"Expected Life Differences Ireland : -2.0\",\"Expected Life Differences Israel : 4.0\",\"Expected Life Differences Italy : 3.0\",\"Expected Life Differences Jamaica : 4.0\",\"Expected Life Differences Japan : 6.0\",\"Expected Life Differences Jordan : 3.0\",\"Expected Life Differences Kazakhstan : -6.0\",\"Expected Life Differences Kenya : -1.0\",\"Expected Life Differences Kiribati : 5.0\",\"Expected Life Differences Korea, Rep. : 3.0\",\"Expected Life Differences Kosovo : -1.0\",\"Expected Life Differences Kuwait : -4.0\",\"Expected Life Differences Kyrgyz Republic : 4.0\",\"Expected Life Differences Lao PDR : -3.0\",\"Expected Life Differences Latvia : -3.0\",\"Expected Life Differences Lebanon : 6.0\",\"Expected Life Differences Lesotho : -9.0\",\"Expected Life Differences Liberia : 2.0\",\"Expected Life Differences Libya : 1.0\",\"Expected Life Differences Lithuania : -4.0\",\"Expected Life Differences Luxembourg : -3.0\",\"Expected Life Differences Macao SAR, China : 3.0\",\"Expected Life Differences Madagascar : 5.0\",\"Expected Life Differences Malawi : 3.0\",\"Expected Life Differences Malaysia : -1.0\",\"Expected Life Differences Maldives : 6.0\",\"Expected Life Differences Mali : -4.0\",\"Expected Life Differences Malta : 4.0\",\"Expected Life Differences Mauritania : -3.0\",\"Expected Life Differences Mauritius : -2.0\",\"Expected Life Differences Mexico : 0.0\",\"Expected Life Differences Micronesia, Fed. Sts. : 2.0\",\"Expected Life Differences Moldova : -1.0\",\"Expected Life Differences Mongolia : -3.0\",\"Expected Life Differences Montenegro : 1.0\",\"Expected Life Differences Morocco : 7.0\",\"Expected Life Differences Mozambique : 0.0\",\"Expected Life Differences Myanmar : -1.0\",\"Expected Life Differences Namibia : -7.0\",\"Expected Life Differences Nepal : 4.0\",\"Expected Life Differences Netherlands : -0.0\",\"Expected Life Differences New Zealand : 2.0\",\"Expected Life Differences Nicaragua : 6.0\",\"Expected Life Differences Niger : 2.0\",\"Expected Life Differences Nigeria : -13.0\",\"Expected Life Differences North Macedonia : 1.0\",\"Expected Life Differences Norway : 2.0\",\"Expected Life Differences Oman : 0.0\",\"Expected Life Differences Pakistan : -1.0\",\"Expected Life Differences Panama : 2.0\",\"Expected Life Differences Papua New Guinea : -2.0\",\"Expected Life Differences Paraguay : 1.0\",\"Expected Life Differences Peru : 4.0\",\"Expected Life Differences Philippines : 0.0\",\"Expected Life Differences Poland : -1.0\",\"Expected Life Differences Portugal : 3.0\",\"Expected Life Differences Puerto Rico : 2.0\",\"Expected Life Differences Qatar : -3.0\",\"Expected Life Differences Romania : -4.0\",\"Expected Life Differences Russian Federation : -7.0\",\"Expected Life Differences Rwanda : 5.0\",\"Expected Life Differences Samoa : 3.0\",\"Expected Life Differences Sao Tome and Principe : 4.0\",\"Expected Life Differences Saudi Arabia : -5.0\",\"Expected Life Differences Senegal : 2.0\",\"Expected Life Differences Serbia : -1.0\",\"Expected Life Differences Seychelles : 0.0\",\"Expected Life Differences Sierra Leone : -8.0\",\"Expected Life Differences Singapore : 0.0\",\"Expected Life Differences Slovak Republic : -1.0\",\"Expected Life Differences Slovenia : 2.0\",\"Expected Life Differences Solomon Islands : 8.0\",\"Expected Life Differences Somalia : -3.0\",\"Expected Life Differences South Africa : -9.0\",\"Expected Life Differences Spain : 3.0\",\"Expected Life Differences Sri Lanka : 4.0\",\"Expected Life Differences St. Lucia : 3.0\",\"Expected Life Differences St. Vincent and the Grenadines : -0.0\",\"Expected Life Differences Sudan : -1.0\",\"Expected Life Differences Suriname : -3.0\",\"Expected Life Differences Sweden : 1.0\",\"Expected Life Differences Switzerland : 1.0\",\"Expected Life Differences Tajikistan : 4.0\",\"Expected Life Differences Tanzania : 1.0\",\"Expected Life Differences Thailand : 2.0\",\"Expected Life Differences Timor-Leste : 3.0\",\"Expected Life Differences Togo : -3.0\",\"Expected Life Differences Tonga : 1.0\",\"Expected Life Differences Trinidad and Tobago : -3.0\",\"Expected Life Differences Tunisia : 5.0\",\"Expected Life Differences Turkey : 1.0\",\"Expected Life Differences Uganda : 0.0\",\"Expected Life Differences Ukraine : -2.0\",\"Expected Life Differences United Arab Emirates : -4.0\",\"Expected Life Differences United Kingdom : 1.0\",\"Expected Life Differences United States : -5.0\",\"Expected Life Differences Uruguay : 2.0\",\"Expected Life Differences Uzbekistan : 2.0\",\"Expected Life Differences Vanuatu : 6.0\",\"Expected Life Differences Vietnam : 4.0\",\"Expected Life Differences West Bank and Gaza : 5.0\",\"Expected Life Differences Zambia : -2.0\",\"Expected Life Differences Zimbabwe : -4.0\"],\"type\":\"scatter\",\"x\":[0.73,2.6,2.43,1.86,2.9,3.03,2.59,3.98,4.02,2.67,3.48,3.78,1.64,2.59,3.01,3.97,1.87,1.26,4.39,2.41,2.11,2.75,2.74,2.7,4.18,3.2,0.82,-0.26,1.85,1.49,1.35,3.84,-0.01,0.47,3.22,2.85,2.7,1.15,0.13,1.29,3.1,1.7,3.36,3.67,3.73,4.1,1.75,2.89,2.39,2.53,2.13,2.89,3.63,2.18,0.88,2.49,3.92,3.85,2.72,0.82,2.69,4.0,1.75,3.33,2.73,2.18,1.04,0.67,2.98,1.13,1.69,4.08,3.5,3.98,1.87,2.49,2.59,2.25,4.54,3.68,3.74,2.22,3.75,2.34,3.29,1.52,0.87,3.81,2.42,3.86,1.6,2.11,3.45,2.49,0.89,0.39,2.38,3.66,4.77,4.11,0.43,0.46,3.33,2.6,0.85,3.75,1.68,3.02,2.91,1.27,2.56,2.52,3.0,2.0,0.26,1.63,2.23,1.39,4.08,3.8,1.72,0.25,1.65,2.83,4.14,3.44,1.57,3.29,1.46,2.57,2.47,2.13,3.53,3.53,3.54,4.5,3.47,3.39,0.79,1.91,1.45,3.85,1.25,2.95,3.25,0.55,4.59,3.45,3.68,0.96,0.22,2.59,3.63,2.58,2.54,2.54,1.42,2.82,4.01,4.27,1.35,1.02,2.9,1.42,0.8,1.9,3.22,2.38,3.3,0.83,2.57,4.2,3.84,4.15,3.13,2.05,1.1,2.16,1.74,1.24,1.26],\"y\":[65.0,79.0,77.0,61.0,77.0,77.0,75.0,83.0,81.0,73.0,74.0,77.0,73.0,79.0,74.0,81.0,75.0,62.0,82.0,72.0,72.0,78.0,70.0,76.0,76.0,74.0,62.0,62.0,73.0,70.0,60.0,82.0,54.0,55.0,80.0,77.0,77.0,65.0,61.0,65.0,80.0,58.0,78.0,81.0,78.0,82.0,67.0,74.0,77.0,72.0,74.0,59.0,78.0,61.0,67.0,68.0,82.0,82.0,67.0,62.0,74.0,81.0,64.0,81.0,72.0,75.0,62.0,59.0,70.0,64.0,75.0,85.0,76.0,83.0,70.0,72.0,77.0,71.0,82.0,83.0,82.0,75.0,85.0,75.0,71.0,67.0,69.0,83.0,71.0,76.0,72.0,68.0,75.0,79.0,55.0,64.0,73.0,75.0,82.0,84.0,67.0,65.0,76.0,79.0,60.0,83.0,65.0,74.0,75.0,68.0,72.0,70.0,76.0,77.0,61.0,67.0,64.0,71.0,81.0,82.0,75.0,63.0,55.0,76.0,83.0,78.0,67.0,79.0,65.0,74.0,77.0,71.0,77.0,81.0,80.0,80.0,74.0,71.0,69.0,73.0,71.0,75.0,68.0,74.0,77.0,55.0,84.0,77.0,81.0,73.0,58.0,64.0,82.0,77.0,76.0,73.0,66.0,72.0,82.0,83.0,71.0,66.0,77.0,70.0,61.0,71.0,74.0,77.0,78.0,64.0,71.0,78.0,81.0,77.0,78.0,72.0,71.0,75.0,74.0,64.0,62.0]},{\"line\":{\"color\":\"rgba(0, 0, 0, 1.0)\",\"dash\":\"dash\",\"shape\":\"linear\",\"width\":3},\"mode\":\"lines\",\"name\":\"5.29*x+59.60\",\"type\":\"scatter\",\"x\":[0.73,2.6,2.43,1.86,2.9,3.03,2.59,3.98,4.02,2.67,3.48,3.78,1.64,2.59,3.01,3.97,1.87,1.26,4.39,2.41,2.11,2.75,2.74,2.7,4.18,3.2,0.82,-0.26,1.85,1.49,1.35,3.84,-0.01,0.47,3.22,2.85,2.7,1.15,0.13,1.29,3.1,1.7,3.36,3.67,3.73,4.1,1.75,2.89,2.39,2.53,2.13,2.89,3.63,2.18,0.88,2.49,3.92,3.85,2.72,0.82,2.69,4.0,1.75,3.33,2.73,2.18,1.04,0.67,2.98,1.13,1.69,4.08,3.5,3.98,1.87,2.49,2.59,2.25,4.54,3.68,3.74,2.22,3.75,2.34,3.29,1.52,0.87,3.81,2.42,3.86,1.6,2.11,3.45,2.49,0.89,0.39,2.38,3.66,4.77,4.11,0.43,0.46,3.33,2.6,0.85,3.75,1.68,3.02,2.91,1.27,2.56,2.52,3.0,2.0,0.26,1.63,2.23,1.39,4.08,3.8,1.72,0.25,1.65,2.83,4.14,3.44,1.57,3.29,1.46,2.57,2.47,2.13,3.53,3.53,3.54,4.5,3.47,3.39,0.79,1.91,1.45,3.85,1.25,2.95,3.25,0.55,4.59,3.45,3.68,0.96,0.22,2.59,3.63,2.58,2.54,2.54,1.42,2.82,4.01,4.27,1.35,1.02,2.9,1.42,0.8,1.9,3.22,2.38,3.3,0.83,2.57,4.2,3.84,4.15,3.13,2.05,1.1,2.16,1.74,1.24,1.26],\"y\":[63.461313232504956,73.35676546821647,72.4571789013336,69.44091805943224,74.94427117448035,75.63219031386136,73.30384861134101,80.65929171703031,80.87095914453216,73.72718346634471,78.01344887325718,79.60095457952106,68.27674720817205,73.30384861134101,75.52635660011043,80.60637486015486,69.49383491630769,66.26590664690447,82.82888284892428,72.35134518758268,70.7638394813188,74.15051832134841,74.09760146447294,73.8859340369711,81.71762885453957,76.53177688074423,63.93756494438412,58.22254440183415,69.38800120255677,67.48299435504012,66.74215835878364,79.91845572077384,59.54546582372072,62.085474953742924,76.63761059449516,74.67968689010303,73.8859340369711,65.68382122127439,60.2863018199772,66.42465721753086,76.0026083119896,68.59424834942483,77.37844659075162,79.01886915389098,79.33637029514375,81.29429399953587,68.85883263380214,74.89135431760488,72.24551147383175,72.98634747008823,70.86967319506972,74.89135431760488,78.80720172638912,71.13425747944704,64.2550660856369,72.77468004258638,80.34179057577754,79.9713725776493,73.99176775072202,63.93756494438412,73.83301718009564,80.76512543078124,68.85883263380214,77.21969602012524,74.04468460759749,71.13425747944704,65.1017357956443,63.14381209125218,75.36760602948405,65.57798750752346,68.54133149254938,81.18846028578494,78.11928258700812,80.65929171703031,69.49383491630769,72.77468004258638,73.30384861134101,71.50467547757528,83.62263570205621,79.07178601076643,79.38928715201921,71.3459249069489,79.44220400889468,71.98092718945443,77.00802859262339,67.6417449256665,64.20214922876143,79.75970515014745,72.40426204445814,80.02428943452476,68.0650797806702,70.7638394813188,77.8546983026308,72.77468004258638,64.30798294251235,61.66214009873922,72.19259461695628,78.9659522970155,84.83972341019187,81.34721085641132,61.87380752624107,62.03255809686746,77.21969602012524,73.35676546821647,64.0963155150105,79.44220400889468,68.4884146356739,75.5792734569859,74.99718803135582,66.31882350377994,73.14509804071461,72.93343061321276,75.47343974323498,70.18175405568871,60.97422095935821,68.22383035129658,71.39884176382435,66.95382578628549,81.18846028578494,79.70678829327198,68.70008206317576,60.92130410248275,68.32966406504752,74.57385317635212,81.50596142703772,77.80178144575532,67.90632921004382,77.00802859262339,67.32424378441372,73.19801489759008,72.66884632883546,70.86967319506972,78.2780331576345,78.2780331576345,78.33095001450997,83.41096827455436,77.96053201638172,77.53719716137802,63.77881437375773,69.70550234380954,67.27132692753827,79.9713725776493,66.21298979002901,75.20885545885767,76.79636116512154,62.508809808746626,83.88721998643354,77.8546983026308,79.07178601076643,64.6784009406406,60.76255353185636,73.30384861134101,78.80720172638912,73.25093175446554,73.03926432696369,73.03926432696369,67.11257635691187,74.52093631947665,80.81804228765671,82.19388056641873,66.74215835878364,64.99590208189338,74.94427117448035,67.11257635691187,63.831731230633196,69.65258548693409,76.63761059449516,72.19259461695628,77.06094544949886,63.99048180125958,73.19801489759008,81.8234625682905,79.91845572077384,81.55887828391317,76.16135888261599,70.44633834006602,65.41923693689708,71.02842376569612,68.80591577692668,66.16007293315354,66.26590664690447]}],                        {\"legend\":{\"bgcolor\":\"#F5F6F9\",\"font\":{\"color\":\"#4D5663\"}},\"paper_bgcolor\":\"#F5F6F9\",\"plot_bgcolor\":\"#F5F6F9\",\"template\":{\"data\":{\"bar\":[{\"error_x\":{\"color\":\"#2a3f5f\"},\"error_y\":{\"color\":\"#2a3f5f\"},\"marker\":{\"line\":{\"color\":\"#E5ECF6\",\"width\":0.5},\"pattern\":{\"fillmode\":\"overlay\",\"size\":10,\"solidity\":0.2}},\"type\":\"bar\"}],\"barpolar\":[{\"marker\":{\"line\":{\"color\":\"#E5ECF6\",\"width\":0.5},\"pattern\":{\"fillmode\":\"overlay\",\"size\":10,\"solidity\":0.2}},\"type\":\"barpolar\"}],\"carpet\":[{\"aaxis\":{\"endlinecolor\":\"#2a3f5f\",\"gridcolor\":\"white\",\"linecolor\":\"white\",\"minorgridcolor\":\"white\",\"startlinecolor\":\"#2a3f5f\"},\"baxis\":{\"endlinecolor\":\"#2a3f5f\",\"gridcolor\":\"white\",\"linecolor\":\"white\",\"minorgridcolor\":\"white\",\"startlinecolor\":\"#2a3f5f\"},\"type\":\"carpet\"}],\"choropleth\":[{\"colorbar\":{\"outlinewidth\":0,\"ticks\":\"\"},\"type\":\"choropleth\"}],\"contour\":[{\"colorbar\":{\"outlinewidth\":0,\"ticks\":\"\"},\"colorscale\":[[0.0,\"#0d0887\"],[0.1111111111111111,\"#46039f\"],[0.2222222222222222,\"#7201a8\"],[0.3333333333333333,\"#9c179e\"],[0.4444444444444444,\"#bd3786\"],[0.5555555555555556,\"#d8576b\"],[0.6666666666666666,\"#ed7953\"],[0.7777777777777778,\"#fb9f3a\"],[0.8888888888888888,\"#fdca26\"],[1.0,\"#f0f921\"]],\"type\":\"contour\"}],\"contourcarpet\":[{\"colorbar\":{\"outlinewidth\":0,\"ticks\":\"\"},\"type\":\"contourcarpet\"}],\"heatmap\":[{\"colorbar\":{\"outlinewidth\":0,\"ticks\":\"\"},\"colorscale\":[[0.0,\"#0d0887\"],[0.1111111111111111,\"#46039f\"],[0.2222222222222222,\"#7201a8\"],[0.3333333333333333,\"#9c179e\"],[0.4444444444444444,\"#bd3786\"],[0.5555555555555556,\"#d8576b\"],[0.6666666666666666,\"#ed7953\"],[0.7777777777777778,\"#fb9f3a\"],[0.8888888888888888,\"#fdca26\"],[1.0,\"#f0f921\"]],\"type\":\"heatmap\"}],\"heatmapgl\":[{\"colorbar\":{\"outlinewidth\":0,\"ticks\":\"\"},\"colorscale\":[[0.0,\"#0d0887\"],[0.1111111111111111,\"#46039f\"],[0.2222222222222222,\"#7201a8\"],[0.3333333333333333,\"#9c179e\"],[0.4444444444444444,\"#bd3786\"],[0.5555555555555556,\"#d8576b\"],[0.6666666666666666,\"#ed7953\"],[0.7777777777777778,\"#fb9f3a\"],[0.8888888888888888,\"#fdca26\"],[1.0,\"#f0f921\"]],\"type\":\"heatmapgl\"}],\"histogram\":[{\"marker\":{\"pattern\":{\"fillmode\":\"overlay\",\"size\":10,\"solidity\":0.2}},\"type\":\"histogram\"}],\"histogram2d\":[{\"colorbar\":{\"outlinewidth\":0,\"ticks\":\"\"},\"colorscale\":[[0.0,\"#0d0887\"],[0.1111111111111111,\"#46039f\"],[0.2222222222222222,\"#7201a8\"],[0.3333333333333333,\"#9c179e\"],[0.4444444444444444,\"#bd3786\"],[0.5555555555555556,\"#d8576b\"],[0.6666666666666666,\"#ed7953\"],[0.7777777777777778,\"#fb9f3a\"],[0.8888888888888888,\"#fdca26\"],[1.0,\"#f0f921\"]],\"type\":\"histogram2d\"}],\"histogram2dcontour\":[{\"colorbar\":{\"outlinewidth\":0,\"ticks\":\"\"},\"colorscale\":[[0.0,\"#0d0887\"],[0.1111111111111111,\"#46039f\"],[0.2222222222222222,\"#7201a8\"],[0.3333333333333333,\"#9c179e\"],[0.4444444444444444,\"#bd3786\"],[0.5555555555555556,\"#d8576b\"],[0.6666666666666666,\"#ed7953\"],[0.7777777777777778,\"#fb9f3a\"],[0.8888888888888888,\"#fdca26\"],[1.0,\"#f0f921\"]],\"type\":\"histogram2dcontour\"}],\"mesh3d\":[{\"colorbar\":{\"outlinewidth\":0,\"ticks\":\"\"},\"type\":\"mesh3d\"}],\"parcoords\":[{\"line\":{\"colorbar\":{\"outlinewidth\":0,\"ticks\":\"\"}},\"type\":\"parcoords\"}],\"pie\":[{\"automargin\":true,\"type\":\"pie\"}],\"scatter\":[{\"marker\":{\"colorbar\":{\"outlinewidth\":0,\"ticks\":\"\"}},\"type\":\"scatter\"}],\"scatter3d\":[{\"line\":{\"colorbar\":{\"outlinewidth\":0,\"ticks\":\"\"}},\"marker\":{\"colorbar\":{\"outlinewidth\":0,\"ticks\":\"\"}},\"type\":\"scatter3d\"}],\"scattercarpet\":[{\"marker\":{\"colorbar\":{\"outlinewidth\":0,\"ticks\":\"\"}},\"type\":\"scattercarpet\"}],\"scattergeo\":[{\"marker\":{\"colorbar\":{\"outlinewidth\":0,\"ticks\":\"\"}},\"type\":\"scattergeo\"}],\"scattergl\":[{\"marker\":{\"colorbar\":{\"outlinewidth\":0,\"ticks\":\"\"}},\"type\":\"scattergl\"}],\"scattermapbox\":[{\"marker\":{\"colorbar\":{\"outlinewidth\":0,\"ticks\":\"\"}},\"type\":\"scattermapbox\"}],\"scatterpolar\":[{\"marker\":{\"colorbar\":{\"outlinewidth\":0,\"ticks\":\"\"}},\"type\":\"scatterpolar\"}],\"scatterpolargl\":[{\"marker\":{\"colorbar\":{\"outlinewidth\":0,\"ticks\":\"\"}},\"type\":\"scatterpolargl\"}],\"scatterternary\":[{\"marker\":{\"colorbar\":{\"outlinewidth\":0,\"ticks\":\"\"}},\"type\":\"scatterternary\"}],\"surface\":[{\"colorbar\":{\"outlinewidth\":0,\"ticks\":\"\"},\"colorscale\":[[0.0,\"#0d0887\"],[0.1111111111111111,\"#46039f\"],[0.2222222222222222,\"#7201a8\"],[0.3333333333333333,\"#9c179e\"],[0.4444444444444444,\"#bd3786\"],[0.5555555555555556,\"#d8576b\"],[0.6666666666666666,\"#ed7953\"],[0.7777777777777778,\"#fb9f3a\"],[0.8888888888888888,\"#fdca26\"],[1.0,\"#f0f921\"]],\"type\":\"surface\"}],\"table\":[{\"cells\":{\"fill\":{\"color\":\"#EBF0F8\"},\"line\":{\"color\":\"white\"}},\"header\":{\"fill\":{\"color\":\"#C8D4E3\"},\"line\":{\"color\":\"white\"}},\"type\":\"table\"}]},\"layout\":{\"annotationdefaults\":{\"arrowcolor\":\"#2a3f5f\",\"arrowhead\":0,\"arrowwidth\":1},\"autotypenumbers\":\"strict\",\"coloraxis\":{\"colorbar\":{\"outlinewidth\":0,\"ticks\":\"\"}},\"colorscale\":{\"diverging\":[[0,\"#8e0152\"],[0.1,\"#c51b7d\"],[0.2,\"#de77ae\"],[0.3,\"#f1b6da\"],[0.4,\"#fde0ef\"],[0.5,\"#f7f7f7\"],[0.6,\"#e6f5d0\"],[0.7,\"#b8e186\"],[0.8,\"#7fbc41\"],[0.9,\"#4d9221\"],[1,\"#276419\"]],\"sequential\":[[0.0,\"#0d0887\"],[0.1111111111111111,\"#46039f\"],[0.2222222222222222,\"#7201a8\"],[0.3333333333333333,\"#9c179e\"],[0.4444444444444444,\"#bd3786\"],[0.5555555555555556,\"#d8576b\"],[0.6666666666666666,\"#ed7953\"],[0.7777777777777778,\"#fb9f3a\"],[0.8888888888888888,\"#fdca26\"],[1.0,\"#f0f921\"]],\"sequentialminus\":[[0.0,\"#0d0887\"],[0.1111111111111111,\"#46039f\"],[0.2222222222222222,\"#7201a8\"],[0.3333333333333333,\"#9c179e\"],[0.4444444444444444,\"#bd3786\"],[0.5555555555555556,\"#d8576b\"],[0.6666666666666666,\"#ed7953\"],[0.7777777777777778,\"#fb9f3a\"],[0.8888888888888888,\"#fdca26\"],[1.0,\"#f0f921\"]]},\"colorway\":[\"#636efa\",\"#EF553B\",\"#00cc96\",\"#ab63fa\",\"#FFA15A\",\"#19d3f3\",\"#FF6692\",\"#B6E880\",\"#FF97FF\",\"#FECB52\"],\"font\":{\"color\":\"#2a3f5f\"},\"geo\":{\"bgcolor\":\"white\",\"lakecolor\":\"white\",\"landcolor\":\"#E5ECF6\",\"showlakes\":true,\"showland\":true,\"subunitcolor\":\"white\"},\"hoverlabel\":{\"align\":\"left\"},\"hovermode\":\"closest\",\"mapbox\":{\"style\":\"light\"},\"paper_bgcolor\":\"white\",\"plot_bgcolor\":\"#E5ECF6\",\"polar\":{\"angularaxis\":{\"gridcolor\":\"white\",\"linecolor\":\"white\",\"ticks\":\"\"},\"bgcolor\":\"#E5ECF6\",\"radialaxis\":{\"gridcolor\":\"white\",\"linecolor\":\"white\",\"ticks\":\"\"}},\"scene\":{\"xaxis\":{\"backgroundcolor\":\"#E5ECF6\",\"gridcolor\":\"white\",\"gridwidth\":2,\"linecolor\":\"white\",\"showbackground\":true,\"ticks\":\"\",\"zerolinecolor\":\"white\"},\"yaxis\":{\"backgroundcolor\":\"#E5ECF6\",\"gridcolor\":\"white\",\"gridwidth\":2,\"linecolor\":\"white\",\"showbackground\":true,\"ticks\":\"\",\"zerolinecolor\":\"white\"},\"zaxis\":{\"backgroundcolor\":\"#E5ECF6\",\"gridcolor\":\"white\",\"gridwidth\":2,\"linecolor\":\"white\",\"showbackground\":true,\"ticks\":\"\",\"zerolinecolor\":\"white\"}},\"shapedefaults\":{\"line\":{\"color\":\"#2a3f5f\"}},\"ternary\":{\"aaxis\":{\"gridcolor\":\"white\",\"linecolor\":\"white\",\"ticks\":\"\"},\"baxis\":{\"gridcolor\":\"white\",\"linecolor\":\"white\",\"ticks\":\"\"},\"bgcolor\":\"#E5ECF6\",\"caxis\":{\"gridcolor\":\"white\",\"linecolor\":\"white\",\"ticks\":\"\"}},\"title\":{\"x\":0.05},\"xaxis\":{\"automargin\":true,\"gridcolor\":\"white\",\"linecolor\":\"white\",\"ticks\":\"\",\"title\":{\"standoff\":15},\"zerolinecolor\":\"white\",\"zerolinewidth\":2},\"yaxis\":{\"automargin\":true,\"gridcolor\":\"white\",\"linecolor\":\"white\",\"ticks\":\"\",\"title\":{\"standoff\":15},\"zerolinecolor\":\"white\",\"zerolinewidth\":2}}},\"title\":{\"font\":{\"color\":\"#4D5663\"},\"text\":\"Relationship between  life expectancy and income\"},\"xaxis\":{\"gridcolor\":\"#E1E5ED\",\"range\":[-0.5,5],\"showgrid\":true,\"tickfont\":{\"color\":\"#4D5663\"},\"title\":{\"font\":{\"color\":\"#4D5663\"},\"text\":\"ln GDP per capita (thousands dollar)\"},\"zerolinecolor\":\"#E1E5ED\"},\"yaxis\":{\"gridcolor\":\"#E1E5ED\",\"range\":[50,90],\"showgrid\":true,\"tickfont\":{\"color\":\"#4D5663\"},\"title\":{\"font\":{\"color\":\"#4D5663\"},\"text\":\"Life expectancy (years)\"},\"zerolinecolor\":\"#E1E5ED\"}},                        {\"showLink\": true, \"linkText\": \"Export to plot.ly\", \"plotlyServerURL\": \"https://plot.ly\", \"responsive\": true}                    ).then(function(){\n",
       "                            \n",
       "var gd = document.getElementById('1bd83333-5752-46c6-ad64-adb425dd03f7');\n",
       "var x = new MutationObserver(function (mutations, observer) {{\n",
       "        var display = window.getComputedStyle(gd).display;\n",
       "        if (!display || display === 'none') {{\n",
       "            console.log([gd, 'removed!']);\n",
       "            Plotly.purge(gd);\n",
       "            observer.disconnect();\n",
       "        }}\n",
       "}});\n",
       "\n",
       "// Listen for the removal of the full notebook cells\n",
       "var notebookContainer = gd.closest('#notebook-container');\n",
       "if (notebookContainer) {{\n",
       "    x.observe(notebookContainer, {childList: true});\n",
       "}}\n",
       "\n",
       "// Listen for the clearing of the current output cell\n",
       "var outputEl = gd.closest('.output');\n",
       "if (outputEl) {{\n",
       "    x.observe(outputEl, {childList: true});\n",
       "}}\n",
       "\n",
       "                        })                };                });            </script>        </div>"
      ]
     },
     "metadata": {},
     "output_type": "display_data"
    }
   ],
   "source": [
    "#plot interactive chart, hover around mouse on dot\n",
    "\n",
    "df.iplot(x='Log_GDP',\n",
    "         y='Life_Expectancy',\n",
    "         text='Country_Result',\n",
    "         bestfit=True,\n",
    "         bestfit_colors=['black'],\n",
    "         mode='markers',\n",
    "         title='Relationship between  life expectancy and income',\n",
    "         xTitle='ln GDP per capita (thousands dollar)',\n",
    "         yTitle='Life expectancy (years)',\n",
    "         colors = 'blue',\n",
    "        xrange=[-0.5, 5],\n",
    "        yrange=[ 50, 90],\n",
    "         dash='solid',\n",
    "         interpolation='linear',\n",
    "         symbol='circle-dot',\n",
    "         size=8)"
   ]
  },
  {
   "cell_type": "markdown",
   "id": "5a883e65",
   "metadata": {},
   "source": [
    "level–log regression: y = α + β ln x  \n",
    "y is β% units higher on average for observations having 1% higher x.  \n",
    "\n",
    "<div class=\"alert alert-block alert-info\">\n",
    "    <b>The association between life expectancy and average GDP is best captured with a regression that has log GDP per capita as the x variable. The slope of this regression is 5.29.  It shows that countries with a 100% higher GDP per capita have life expectancy higher by 5.29 years.\n",
    "\n",
    "Standard deviation of log GDP per capita is 1.15 or 115% so that typical cross-country differences are very high.\n",
    "\n",
    "The countries with the shortest lives given their average income include Equatorial Guinea, Nigeria, and Cote d’Ivoire\n",
    "where the average age at death is 16, 13 and 11 years shorter than what we could expect given their GDP per capita. \n",
    "\n",
    "The countries with the longest lives given their income include Morocco (7 years), Solomon Islands (8 years), where the average age at death is a little more than what we could expect given their GDP per capita. \n",
    "\n",
    "Other interesting results include that lives are more than 5 years shorter than expected in the USA, 2 years longer than expected in China, and 6 years longer than expected in Japan. Looking at the rich countries, lives are 3 years shorter than expected in Qatar and 3 year shorter than expected in Luxembourg.</b> \n",
    "    </div>"
   ]
  },
  {
   "cell_type": "code",
   "execution_count": 32,
   "id": "7c803bf2",
   "metadata": {
    "scrolled": false
   },
   "outputs": [
    {
     "data": {
      "text/html": [
       "<div>\n",
       "<style scoped>\n",
       "    .dataframe tbody tr th:only-of-type {\n",
       "        vertical-align: middle;\n",
       "    }\n",
       "\n",
       "    .dataframe tbody tr th {\n",
       "        vertical-align: top;\n",
       "    }\n",
       "\n",
       "    .dataframe thead th {\n",
       "        text-align: right;\n",
       "    }\n",
       "</style>\n",
       "<table border=\"1\" class=\"dataframe\">\n",
       "  <thead>\n",
       "    <tr style=\"text-align: right;\">\n",
       "      <th></th>\n",
       "      <th>Country_Name</th>\n",
       "      <th>Result</th>\n",
       "    </tr>\n",
       "    <tr>\n",
       "      <th>Country_Code</th>\n",
       "      <th></th>\n",
       "      <th></th>\n",
       "    </tr>\n",
       "  </thead>\n",
       "  <tbody>\n",
       "    <tr>\n",
       "      <th>MYS</th>\n",
       "      <td>Malaysia</td>\n",
       "      <td>-1.0</td>\n",
       "    </tr>\n",
       "  </tbody>\n",
       "</table>\n",
       "</div>"
      ],
      "text/plain": [
       "             Country_Name  Result\n",
       "Country_Code                     \n",
       "MYS              Malaysia    -1.0"
      ]
     },
     "execution_count": 32,
     "metadata": {},
     "output_type": "execute_result"
    }
   ],
   "source": [
    "df[(df['Country_Name']  ==  'Malaysia')][['Country_Name','Result']]"
   ]
  },
  {
   "cell_type": "markdown",
   "id": "408c3a33",
   "metadata": {},
   "source": [
    "Malaysia (my country) residents live 1 year shorter than expected."
   ]
  },
  {
   "cell_type": "code",
   "execution_count": 33,
   "id": "bac73cd9",
   "metadata": {},
   "outputs": [
    {
     "name": "stdout",
     "output_type": "stream",
     "text": [
      "Country_Name    7\n",
      "dtype: int64\n"
     ]
    },
    {
     "data": {
      "text/html": [
       "<div>\n",
       "<style scoped>\n",
       "    .dataframe tbody tr th:only-of-type {\n",
       "        vertical-align: middle;\n",
       "    }\n",
       "\n",
       "    .dataframe tbody tr th {\n",
       "        vertical-align: top;\n",
       "    }\n",
       "\n",
       "    .dataframe thead th {\n",
       "        text-align: right;\n",
       "    }\n",
       "</style>\n",
       "<table border=\"1\" class=\"dataframe\">\n",
       "  <thead>\n",
       "    <tr style=\"text-align: right;\">\n",
       "      <th>Country_Code</th>\n",
       "      <th>BMU</th>\n",
       "      <th>BRN</th>\n",
       "      <th>IRL</th>\n",
       "      <th>LUX</th>\n",
       "      <th>QAT</th>\n",
       "      <th>ARE</th>\n",
       "      <th>USA</th>\n",
       "    </tr>\n",
       "  </thead>\n",
       "  <tbody>\n",
       "    <tr>\n",
       "      <th>Country_Name</th>\n",
       "      <td>Bermuda</td>\n",
       "      <td>Brunei Darussalam</td>\n",
       "      <td>Ireland</td>\n",
       "      <td>Luxembourg</td>\n",
       "      <td>Qatar</td>\n",
       "      <td>United Arab Emirates</td>\n",
       "      <td>United States</td>\n",
       "    </tr>\n",
       "    <tr>\n",
       "      <th>Result</th>\n",
       "      <td>-1.0</td>\n",
       "      <td>-6.0</td>\n",
       "      <td>-2.0</td>\n",
       "      <td>-3.0</td>\n",
       "      <td>-3.0</td>\n",
       "      <td>-4.0</td>\n",
       "      <td>-5.0</td>\n",
       "    </tr>\n",
       "  </tbody>\n",
       "</table>\n",
       "</div>"
      ],
      "text/plain": [
       "Country_Code      BMU                BRN      IRL         LUX    QAT  \\\n",
       "Country_Name  Bermuda  Brunei Darussalam  Ireland  Luxembourg  Qatar   \n",
       "Result           -1.0               -6.0     -2.0        -3.0   -3.0   \n",
       "\n",
       "Country_Code                   ARE            USA  \n",
       "Country_Name  United Arab Emirates  United States  \n",
       "Result                        -4.0           -5.0  "
      ]
     },
     "execution_count": 33,
     "metadata": {},
     "output_type": "execute_result"
    }
   ],
   "source": [
    "print(df.query(\"Log_GDP >= 4 and Result < 0 \" )[['Country_Name']].count())\n",
    "df.query(\"Log_GDP >= 4 and Result < 0\" )[['Country_Name','Result']].T"
   ]
  },
  {
   "cell_type": "markdown",
   "id": "d6e81160",
   "metadata": {},
   "source": [
    "\n",
    "<div class=\"alert alert-block alert-info\">\n",
    "    <b>7 countries with very high levels of GDP per capita (log gdp more than or equal to 4) have lower life expectancy than predicted\n",
    "by the linear regression. These countries are a mix of Bermuda, US , oil-rich countries (Brunei, United Arab Emirates, Qatar), \n",
    "and well-off small Western European countries (Ireland, Luxembourg).</b> \n",
    "    </div>"
   ]
  }
 ],
 "metadata": {
  "kernelspec": {
   "display_name": "Python 3 (ipykernel)",
   "language": "python",
   "name": "python3"
  },
  "language_info": {
   "codemirror_mode": {
    "name": "ipython",
    "version": 3
   },
   "file_extension": ".py",
   "mimetype": "text/x-python",
   "name": "python",
   "nbconvert_exporter": "python",
   "pygments_lexer": "ipython3",
   "version": "3.9.7"
  },
  "varInspector": {
   "cols": {
    "lenName": 16,
    "lenType": 16,
    "lenVar": 40
   },
   "kernels_config": {
    "python": {
     "delete_cmd_postfix": "",
     "delete_cmd_prefix": "del ",
     "library": "var_list.py",
     "varRefreshCmd": "print(var_dic_list())"
    },
    "r": {
     "delete_cmd_postfix": ") ",
     "delete_cmd_prefix": "rm(",
     "library": "var_list.r",
     "varRefreshCmd": "cat(var_dic_list()) "
    }
   },
   "types_to_exclude": [
    "module",
    "function",
    "builtin_function_or_method",
    "instance",
    "_Feature"
   ],
   "window_display": false
  }
 },
 "nbformat": 4,
 "nbformat_minor": 5
}
